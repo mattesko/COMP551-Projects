{
 "cells": [
  {
   "cell_type": "code",
   "execution_count": 1,
   "metadata": {
    "_cell_guid": "b1076dfc-b9ad-4769-8c92-a6c4dae69d19",
    "_uuid": "8f2839f25d086af736a60e9eeb907d3b93b6e0e5"
   },
   "outputs": [],
   "source": [
    "# This Python 3 environment comes with many helpful analytics libraries installed\n",
    "# It is defined by the kaggle/python docker image: https://github.com/kaggle/docker-python\n",
    "# For example, here's several helpful packages to load in \n",
    "\n",
    "import numpy as np # linear algebra\n",
    "import pandas as pd # data processing, CSV file I/O (e.g. pd.read_csv)\n",
    "import matplotlib.pyplot as plt\n",
    "import pickle\n",
    "\n",
    "import torch\n",
    "import torch.nn as nn\n",
    "import torch.optim as optim\n",
    "from torchvision import transforms\n",
    "from torch.utils.data import Dataset\n",
    "# Any results you write to the current directory are saved as output."
   ]
  },
  {
   "cell_type": "markdown",
   "metadata": {
    "_uuid": "65517b6e93f43dbd6332236e94d36a7e0eab5a6d"
   },
   "source": [
    "# Loading and Preparing Dataset"
   ]
  },
  {
   "cell_type": "code",
   "execution_count": 2,
   "metadata": {
    "_cell_guid": "79c7e3d0-c299-4dcb-8224-4455121ee9b0",
    "_uuid": "d629ff2d2480ee46fbb7e2d37f6b5fab8052498a"
   },
   "outputs": [],
   "source": [
    "device = torch.device('cuda:0' if torch.cuda.is_available() else 'cpu')\n",
    "class MNIST_Dataset(Dataset):\n",
    "    \n",
    "    def __init__(self, X, y, transform = transforms.Compose(\n",
    "                     [transforms.ToPILImage(), \n",
    "                      transforms.ToTensor(), \n",
    "                      transforms.Normalize(mean=(0.5,), std=(0.5,))])):\n",
    "            \n",
    "        self.transform = transform\n",
    "        self.X = X.reshape((-1,64,64)).astype(np.uint8)[:,:,:,None]\n",
    "        self.y = y\n",
    "        \n",
    "    @classmethod\n",
    "    def from_train(cls, file_path_images, file_path_labels):\n",
    "        train_images = pd.read_pickle(file_path_images)\n",
    "        train_labels = pd.read_csv(file_path_labels)\n",
    "        \n",
    "#         one_hot_encoded_labels = pd.get_dummies(train_labels['Category']).values # Is one hot encoding necessary??\n",
    "        return cls(X=train_images, y=torch.from_numpy(train_labels['Category'].values))\n",
    "        \n",
    "    @classmethod\n",
    "    def from_test(cls, file_path_images):\n",
    "        test_images = pd.read_pickle(file_path_images)\n",
    "        \n",
    "        return cls(X=test_images, y=None)\n",
    "    \n",
    "    def __len__(self):\n",
    "        return len(self.X)\n",
    "\n",
    "    def __getitem__(self, idx):\n",
    "        X = self.transform(self.X[idx])\n",
    "        X = X.to(device)\n",
    "        if self.y is not None:\n",
    "            return X, self.y[idx].to(device)\n",
    "        else:\n",
    "            return X"
   ]
  },
  {
   "cell_type": "code",
   "execution_count": 3,
   "metadata": {
    "_uuid": "4b3182901d77646f991009dc5979d3bdd0a5e77e"
   },
   "outputs": [],
   "source": [
    "batch_size = 64\n",
    "\n",
    "train_dataset = MNIST_Dataset.from_train('../input/train_images.pkl', '../input/train_labels.csv')\n",
    "test_dataset = MNIST_Dataset.from_test('../input/test_images.pkl')\n",
    "\n",
    "train_loader = torch.utils.data.DataLoader(dataset=train_dataset,\n",
    "                                           batch_size=batch_size, \n",
    "                                           shuffle=True)\n",
    "test_loader = torch.utils.data.DataLoader(dataset=test_dataset,\n",
    "                                           batch_size=batch_size, \n",
    "                                           shuffle=False)"
   ]
  },
  {
   "cell_type": "markdown",
   "metadata": {
    "_uuid": "a869daacc8c0b963567ef32824b5f0518d9633c8"
   },
   "source": [
    "# Neural Network Architecture, and Optimizer, and Loss Functions"
   ]
  },
  {
   "cell_type": "code",
   "execution_count": 4,
   "metadata": {
    "_uuid": "0c8644b6824cca1746ad2702d389fc6dcd7fc278"
   },
   "outputs": [],
   "source": [
    "class ConvNet(nn.Module):\n",
    "    def __init__(self, input_dim, output_dim):\n",
    "        super(ConvNet, self).__init__()\n",
    "        self.layer1 = nn.Sequential(\n",
    "            nn.Conv2d(1, 32, 3),\n",
    "            nn.ReLU(),\n",
    "            nn.Conv2d(32, 32, 3),\n",
    "            nn.BatchNorm2d(32),\n",
    "            nn.ReLU(),\n",
    "            nn.MaxPool2d(2),\n",
    "            nn.Dropout(0.2))\n",
    "        self.layer2 = nn.Sequential(\n",
    "            nn.Conv2d(32, 64, 4),\n",
    "            nn.ReLU(),\n",
    "            nn.Conv2d(64, 64, 4),\n",
    "            nn.BatchNorm2d(64),\n",
    "            nn.ReLU(),\n",
    "            nn.MaxPool2d(2, stride=2),\n",
    "            nn.Dropout(0.2))\n",
    "        self.layer3 = nn.Sequential(\n",
    "            nn.Conv2d(64, 64, 5),\n",
    "            nn.ReLU(),\n",
    "            nn.Conv2d(64, 64, 5),\n",
    "            nn.BatchNorm2d(64),\n",
    "            nn.ReLU(),\n",
    "            nn.MaxPool2d(2),\n",
    "            nn.Dropout(0.2))\n",
    "        self.fc = nn.Linear(256, output_dim)\n",
    "    \n",
    "    def forward(self, x):\n",
    "        out = self.layer1(x)\n",
    "        out = self.layer2(out)\n",
    "        out = self.layer3(out)\n",
    "        out = out.reshape(out.size(0), -1)\n",
    "        out = self.fc(out)\n",
    "        return out\n",
    "\n",
    "input_dim = 64 * 64\n",
    "output_dim = 10\n",
    "conv_net = ConvNet(input_dim, output_dim).to(device)\n",
    "\n",
    "criterion = nn.CrossEntropyLoss()\n",
    "optimizer = optim.Adam(conv_net.parameters(), lr=1e-3)"
   ]
  },
  {
   "cell_type": "markdown",
   "metadata": {
    "_uuid": "4c80ba04480db4a370a40ed1c32b27c8c35dde76"
   },
   "source": [
    "# Training Loop"
   ]
  },
  {
   "cell_type": "code",
   "execution_count": 5,
   "metadata": {
    "_uuid": "2bc54b13fa452f5ff7254fd1a5d656a04de52bd9"
   },
   "outputs": [
    {
     "name": "stdout",
     "output_type": "stream",
     "text": [
      "[1] Loss: 1.320\n",
      "[2] Loss: 0.643\n",
      "[3] Loss: 0.577\n",
      "[4] Loss: 0.345\n",
      "[5] Loss: 0.211\n",
      "[6] Loss: 0.387\n",
      "[7] Loss: 0.254\n",
      "[8] Loss: 0.373\n",
      "[9] Loss: 0.327\n",
      "[10] Loss: 0.286\n",
      "[11] Loss: 0.115\n",
      "[12] Loss: 0.225\n",
      "[13] Loss: 0.180\n",
      "[14] Loss: 0.499\n",
      "[15] Loss: 0.092\n",
      "[16] Loss: 0.214\n",
      "[17] Loss: 0.043\n",
      "[18] Loss: 0.245\n",
      "[19] Loss: 0.097\n",
      "[20] Loss: 0.096\n",
      "[21] Loss: 0.064\n",
      "[22] Loss: 0.008\n",
      "[23] Loss: 0.033\n",
      "[24] Loss: 0.043\n",
      "[25] Loss: 0.105\n",
      "[26] Loss: 0.058\n",
      "[27] Loss: 0.158\n",
      "[28] Loss: 0.121\n",
      "[29] Loss: 0.086\n",
      "[30] Loss: 0.239\n",
      "[31] Loss: 0.206\n",
      "[32] Loss: 0.039\n",
      "[33] Loss: 0.119\n",
      "[34] Loss: 0.078\n",
      "[35] Loss: 0.100\n",
      "[36] Loss: 0.053\n",
      "[37] Loss: 0.096\n",
      "[38] Loss: 0.049\n",
      "[39] Loss: 0.057\n",
      "[40] Loss: 0.019\n",
      "[41] Loss: 0.051\n",
      "[42] Loss: 0.166\n",
      "[43] Loss: 0.031\n",
      "[44] Loss: 0.108\n",
      "[45] Loss: 0.046\n",
      "[46] Loss: 0.140\n",
      "[47] Loss: 0.090\n",
      "[48] Loss: 0.018\n",
      "[49] Loss: 0.028\n",
      "[50] Loss: 0.040\n",
      "Finished Training\n"
     ]
    }
   ],
   "source": [
    "losses_per_epoch = []\n",
    "for epoch in range(50):\n",
    "    \n",
    "    for i, data in enumerate(train_loader, 0):\n",
    "        inputs, labels = data\n",
    "        labels = labels.to(dtype=torch.long)\n",
    "        optimizer.zero_grad()\n",
    "        \n",
    "        outputs = conv_net(inputs)        \n",
    "        loss = criterion(outputs, labels)\n",
    "        loss.backward()\n",
    "        optimizer.step()\n",
    "        \n",
    "    print('[%d] Loss: %.3f' % (epoch + 1, loss))\n",
    "    losses_per_epoch.append(loss)\n",
    "print('Finished Training')"
   ]
  },
  {
   "cell_type": "code",
   "execution_count": 6,
   "metadata": {
    "_uuid": "f7847593cbb64294f829c8d99b9017967f777650"
   },
   "outputs": [
    {
     "data": {
      "image/png": "[encoded data removed]",
      "text/plain": [
       "<Figure size 432x288 with 1 Axes>"
      ]
     },
     "metadata": {},
     "output_type": "display_data"
    }
   ],
   "source": [
    "plt.plot(losses_per_epoch)\n",
    "plt.ylabel('Loss'), plt.xlabel('Epoch')\n",
    "plt.show();"
   ]
  },
  {
   "cell_type": "code",
   "execution_count": 7,
   "metadata": {
    "_uuid": "cd7611c44267898e5b4d55c2540e0a1ce978d305"
   },
   "outputs": [],
   "source": [
    "def predict(data_loader):\n",
    "    conv_net.eval()\n",
    "    test_pred = torch.LongTensor()\n",
    "    \n",
    "    for i, data in enumerate(data_loader):\n",
    "        output = conv_net(data)\n",
    "        \n",
    "        pred = output.cpu().data.max(1, keepdim=True)[1]\n",
    "        test_pred = torch.cat((test_pred, pred), dim=0)\n",
    "        \n",
    "    return test_pred"
   ]
  },
  {
   "cell_type": "code",
   "execution_count": 8,
   "metadata": {
    "_uuid": "28a02aab8d9b085e550bcc06df1d63d960d4c72c"
   },
   "outputs": [],
   "source": [
    "test_predictions = predict(test_loader)\n",
    "test_predictions = test_predictions.numpy()"
   ]
  },
  {
   "cell_type": "code",
   "execution_count": 9,
   "metadata": {
    "_uuid": "dfbac03015b804bc437d4b03a109367770b17802"
   },
   "outputs": [],
   "source": [
    "d = {'Id' : [x for x in range(0, len(test_predictions))], 'Category' : test_predictions.flatten().tolist()}\n",
    "submission = pd.DataFrame(d)\n",
    "submission.to_csv(path_or_buf='submission.csv', index=False)"
   ]
  }
 ],
 "metadata": {
  "kernelspec": {
   "display_name": "Python 3",
   "language": "python",
   "name": "python3"
  },
  "language_info": {
   "codemirror_mode": {
    "name": "ipython",
    "version": 3
   },
   "file_extension": ".py",
   "mimetype": "text/x-python",
   "name": "python",
   "nbconvert_exporter": "python",
   "pygments_lexer": "ipython3",
   "version": "3.6.6"
  }
 },
 "nbformat": 4,
 "nbformat_minor": 1
}
