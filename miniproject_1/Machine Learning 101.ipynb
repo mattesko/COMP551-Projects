{
 "cells": [
  {
   "cell_type": "markdown",
   "metadata": {},
   "source": [
    "# COMP 551 Mini Project #1: Machine Learning 101"
   ]
  },
  {
   "cell_type": "code",
   "execution_count": 1,
   "metadata": {},
   "outputs": [],
   "source": [
    "import json\n",
    "import project_utilities as utils\n",
    "from project_utilities import pd, np\n",
    "\n",
    "import seaborn as sns\n",
    "import matplotlib.pyplot as plt\n",
    "\n",
    "with open('proj1_data.json') as fp:\n",
    "    data = json.load(fp)"
   ]
  },
  {
   "cell_type": "markdown",
   "metadata": {},
   "source": [
    "## Task 1: Construct the Dataset and Extract Features"
   ]
  },
  {
   "cell_type": "code",
   "execution_count": 2,
   "metadata": {},
   "outputs": [],
   "source": [
    "X = utils.process_data(data)"
   ]
  },
  {
   "cell_type": "markdown",
   "metadata": {},
   "source": [
    "### Split Data into Training, Validation, and Test Sets"
   ]
  },
  {
   "cell_type": "code",
   "execution_count": 3,
   "metadata": {},
   "outputs": [],
   "source": [
    "X_train = X[0:10000]\n",
    "X_validation = X[10000:11000]\n",
    "X_test = X[11000:]\n",
    "\n",
    "assert len(X_train) == 10000 , 'Expected 10000. Got %d' % len(X_train)\n",
    "assert len(X_validation) == 1000 , 'Expected 1000. Got %d' % len(X_validation)\n",
    "assert len(X_test) == 1000 , 'Expected 1000. Got %d' % len(X_test)"
   ]
  },
  {
   "cell_type": "markdown",
   "metadata": {},
   "source": [
    "### Word Count Features"
   ]
  },
  {
   "cell_type": "code",
   "execution_count": 4,
   "metadata": {},
   "outputs": [],
   "source": [
    "top_words_train = utils.get_top_words(X_train)\n",
    "assert len(top_words_train) == 160, 'Expected 160. Got %d' % len(top_words_train)\n",
    "\n",
    "X_train = utils.insert_top_words_count(X_train, top_words_train)\n",
    "X_validation = utils.insert_top_words_count(X_validation, top_words_train)\n",
    "X_test = utils.insert_top_words_count(X_test, top_words_train)"
   ]
  },
  {
   "cell_type": "code",
   "execution_count": 5,
   "metadata": {},
   "outputs": [],
   "source": [
    "with open('words.txt', 'w') as fd:\n",
    "    fd.write(' '.join(top_words_train))"
   ]
  },
  {
   "cell_type": "markdown",
   "metadata": {},
   "source": [
    "### Convert to Pandas Dataframe for Ease of Handling"
   ]
  },
  {
   "cell_type": "code",
   "execution_count": 6,
   "metadata": {},
   "outputs": [],
   "source": [
    "X_train = pd.DataFrame(X_train)\n",
    "X_validation = pd.DataFrame(X_validation)\n",
    "X_test = pd.DataFrame(X_test)"
   ]
  },
  {
   "cell_type": "markdown",
   "metadata": {},
   "source": [
    "### New Features\n",
    "New Feature #1: Children ^ 2<br>\n",
    "New Feature #2: Children ^ 3<br>\n",
    "__Note:__ The has_exclamation feature was included in the data processing step."
   ]
  },
  {
   "cell_type": "code",
   "execution_count": 7,
   "metadata": {},
   "outputs": [],
   "source": [
    "X_train['children_squared'] = X_train['children']**2\n",
    "X_validation['children_squared'] = X_validation['children']**2\n",
    "X_test['children_squared'] = X_test['children']**2\n",
    "\n",
    "X_train['children_cubed'] = X_train['children']**3\n",
    "X_validation['children_cubed'] = X_validation['children']**3\n",
    "X_test['children_cubed'] = X_test['children']**3"
   ]
  },
  {
   "cell_type": "code",
   "execution_count": 8,
   "metadata": {},
   "outputs": [
    {
     "data": {
      "text/html": [
       "<div>\n",
       "<style scoped>\n",
       "    .dataframe tbody tr th:only-of-type {\n",
       "        vertical-align: middle;\n",
       "    }\n",
       "\n",
       "    .dataframe tbody tr th {\n",
       "        vertical-align: top;\n",
       "    }\n",
       "\n",
       "    .dataframe thead th {\n",
       "        text-align: right;\n",
       "    }\n",
       "</style>\n",
       "<table border=\"1\" class=\"dataframe\">\n",
       "  <thead>\n",
       "    <tr style=\"text-align: right;\">\n",
       "      <th></th>\n",
       "      <th>children_squared</th>\n",
       "      <th>children_cubed</th>\n",
       "    </tr>\n",
       "  </thead>\n",
       "  <tbody>\n",
       "    <tr>\n",
       "      <th>count</th>\n",
       "      <td>10000.000000</td>\n",
       "      <td>10000.000000</td>\n",
       "    </tr>\n",
       "    <tr>\n",
       "      <th>mean</th>\n",
       "      <td>1.960800</td>\n",
       "      <td>38.140000</td>\n",
       "    </tr>\n",
       "    <tr>\n",
       "      <th>std</th>\n",
       "      <td>34.018686</td>\n",
       "      <td>1215.634661</td>\n",
       "    </tr>\n",
       "    <tr>\n",
       "      <th>min</th>\n",
       "      <td>0.000000</td>\n",
       "      <td>0.000000</td>\n",
       "    </tr>\n",
       "    <tr>\n",
       "      <th>25%</th>\n",
       "      <td>0.000000</td>\n",
       "      <td>0.000000</td>\n",
       "    </tr>\n",
       "    <tr>\n",
       "      <th>50%</th>\n",
       "      <td>0.000000</td>\n",
       "      <td>0.000000</td>\n",
       "    </tr>\n",
       "    <tr>\n",
       "      <th>75%</th>\n",
       "      <td>1.000000</td>\n",
       "      <td>1.000000</td>\n",
       "    </tr>\n",
       "    <tr>\n",
       "      <th>max</th>\n",
       "      <td>1849.000000</td>\n",
       "      <td>79507.000000</td>\n",
       "    </tr>\n",
       "  </tbody>\n",
       "</table>\n",
       "</div>"
      ],
      "text/plain": [
       "       children_squared  children_cubed\n",
       "count      10000.000000    10000.000000\n",
       "mean           1.960800       38.140000\n",
       "std           34.018686     1215.634661\n",
       "min            0.000000        0.000000\n",
       "25%            0.000000        0.000000\n",
       "50%            0.000000        0.000000\n",
       "75%            1.000000        1.000000\n",
       "max         1849.000000    79507.000000"
      ]
     },
     "execution_count": 8,
     "metadata": {},
     "output_type": "execute_result"
    }
   ],
   "source": [
    "X_train[['children_squared', 'children_cubed']].describe()"
   ]
  },
  {
   "cell_type": "code",
   "execution_count": 9,
   "metadata": {},
   "outputs": [
    {
     "data": {
      "image/png": "[encoded data removed]",
      "text/plain": [
       "<matplotlib.figure.Figure at 0x14e2bf74be0>"
      ]
     },
     "metadata": {},
     "output_type": "display_data"
    }
   ],
   "source": [
    "nb_top_corr = 10\n",
    "cols = X_train.corr().nlargest(nb_top_corr, 'popularity_score')['popularity_score'].index\n",
    "cm = np.corrcoef(X_train[cols].values.T)\n",
    "sns.set(font_scale=1.25)\n",
    "hm = sns.heatmap(cm, cbar=True, annot=True, square=True, fmt='.2f', annot_kws={'size': 10}, yticklabels=cols.values, xticklabels=cols.values)\n",
    "plt.show();"
   ]
  },
  {
   "cell_type": "markdown",
   "metadata": {},
   "source": [
    "## Task 2: Implement Linear Regression"
   ]
  },
  {
   "cell_type": "markdown",
   "metadata": {},
   "source": [
    "A bias must be included. We will also run experiments to predict the popularity score of reddit comments. Therefore, we have remove that feature from our dataset as well."
   ]
  },
  {
   "cell_type": "code",
   "execution_count": 10,
   "metadata": {},
   "outputs": [],
   "source": [
    "X_train['bias'] = pd.Series(np.ones(X_train.shape[0]), index=X_train.index)\n",
    "X_validation['bias'] = pd.Series(np.ones(X_validation.shape[0]), index=X_validation.index)\n",
    "X_test['bias'] = pd.Series(np.ones(X_test.shape[0]), index=X_test.index)\n",
    "\n",
    "y_train = X_train['popularity_score']\n",
    "y_validation = X_validation['popularity_score']\n",
    "y_test = X_test['popularity_score']\n",
    "\n",
    "X_train.drop(columns=['text', 'popularity_score'], inplace=True)\n",
    "X_validation.drop(columns=['text', 'popularity_score'], inplace=True)\n",
    "X_test.drop(columns=['text', 'popularity_score'], inplace=True)"
   ]
  },
  {
   "cell_type": "markdown",
   "metadata": {},
   "source": [
    "### 1. Using the Closed Form Solution"
   ]
  },
  {
   "cell_type": "code",
   "execution_count": 11,
   "metadata": {},
   "outputs": [
    {
     "name": "stdout",
     "output_type": "stream",
     "text": [
      "Time Elapsed: 0.031972 seconds\n"
     ]
    }
   ],
   "source": [
    "utils.LinearRegressionModel().fit_closed_form(X_train.values, y_train.values);"
   ]
  },
  {
   "cell_type": "markdown",
   "metadata": {},
   "source": [
    "### 2. Using Gradient Descent"
   ]
  },
  {
   "cell_type": "code",
   "execution_count": 12,
   "metadata": {},
   "outputs": [
    {
     "name": "stdout",
     "output_type": "stream",
     "text": [
      "Time Elapsed: 0.005984 seconds\n"
     ]
    }
   ],
   "source": [
    "utils.LinearRegressionModel().fit_gradient_descent(X_train.values, y_train.values, step_size=0.00000001, decay_factor=10, error_threshold=0.0001);"
   ]
  },
  {
   "cell_type": "markdown",
   "metadata": {},
   "source": [
    "## Task 3: Run Experiments"
   ]
  },
  {
   "cell_type": "markdown",
   "metadata": {},
   "source": [
    "### 1. Compare the runtime, stability, and performance of the closed-form linear regression and gradient descent approaches.\n",
    "__Note:__ For this substask, the models will train and predict using the 3 simple features provided."
   ]
  },
  {
   "cell_type": "code",
   "execution_count": 13,
   "metadata": {},
   "outputs": [],
   "source": [
    "X_train_compare = X_train[['children', 'controversiality', 'is_root']]\n",
    "X_validation_compare = X_validation[['children', 'controversiality', 'is_root']]"
   ]
  },
  {
   "cell_type": "markdown",
   "metadata": {},
   "source": [
    "#### i) Closed Form Solution Runtime, Stability, and Performance"
   ]
  },
  {
   "cell_type": "code",
   "execution_count": 14,
   "metadata": {},
   "outputs": [
    {
     "name": "stdout",
     "output_type": "stream",
     "text": [
      "Time Elapsed: 0.000958 seconds\n",
      "MSE: 1.416295\n"
     ]
    }
   ],
   "source": [
    "model_cf = utils.LinearRegressionModel().fit_closed_form(X_train_compare.values, y_train.values)\n",
    "\n",
    "print('MSE: %f' % (utils.mse(y_validation.values, model_cf.predict(X_validation_compare.values))))"
   ]
  },
  {
   "cell_type": "markdown",
   "metadata": {},
   "source": [
    "#### ii) Gradient Descent Runtime, Stability, and Performance"
   ]
  },
  {
   "cell_type": "markdown",
   "metadata": {},
   "source": [
    "##### a. (Initial Step Size = 0.001, Decay Factor = 10, Error Threshold = 0.0001)"
   ]
  },
  {
   "cell_type": "code",
   "execution_count": 15,
   "metadata": {},
   "outputs": [
    {
     "name": "stdout",
     "output_type": "stream",
     "text": [
      "Time Elapsed: 0.006981 seconds\n",
      "MSE: 1.435591\n"
     ]
    }
   ],
   "source": [
    "model_gd = utils.LinearRegressionModel().fit_gradient_descent(X_train_compare.values, y_train.values, step_size=0.001, decay_factor=10, error_threshold=0.0001)\n",
    "\n",
    "print('MSE: %f' % (utils.mse(y_validation.values, model_gd.predict(X_validation_compare.values))))"
   ]
  },
  {
   "cell_type": "markdown",
   "metadata": {},
   "source": [
    "##### b. (Initial Step Size = 0.00001, Decay Factor = 10, Error Threshold = 0.0001)"
   ]
  },
  {
   "cell_type": "code",
   "execution_count": 16,
   "metadata": {},
   "outputs": [
    {
     "name": "stdout",
     "output_type": "stream",
     "text": [
      "Time Elapsed: 0.004552 seconds\n",
      "MSE: 1.937220\n"
     ]
    }
   ],
   "source": [
    "model_gradient_descent_1 = utils.LinearRegressionModel().fit_gradient_descent(X_train_compare.values, y_train.values, step_size=0.00001, decay_factor=10, error_threshold=0.0001)\n",
    "\n",
    "print('MSE: %f' % (utils.mse(y_validation.values, model_gradient_descent_1.predict(X_validation_compare.values))))"
   ]
  },
  {
   "cell_type": "markdown",
   "metadata": {},
   "source": [
    "##### c. (Initial Step Size = 0.001, Decay Factor = 5, Error Threshold = 0.0001)"
   ]
  },
  {
   "cell_type": "code",
   "execution_count": 17,
   "metadata": {},
   "outputs": [
    {
     "name": "stdout",
     "output_type": "stream",
     "text": [
      "Time Elapsed: 0.011247 seconds\n",
      "MSE: 1.430775\n"
     ]
    }
   ],
   "source": [
    "model_gradient_descent_2 = utils.LinearRegressionModel().fit_gradient_descent(X_train_compare.values, y_train.values, step_size=0.001, decay_factor=5, error_threshold=0.0001)\n",
    "\n",
    "print('MSE: %f' % (utils.mse(y_validation.values, model_gradient_descent_2.predict(X_validation_compare.values))))"
   ]
  },
  {
   "cell_type": "markdown",
   "metadata": {},
   "source": [
    "##### d. (Initial Step Size = 0.001, Decay Factor = 10, Error Threshold = 0.000001)"
   ]
  },
  {
   "cell_type": "code",
   "execution_count": 18,
   "metadata": {},
   "outputs": [
    {
     "name": "stdout",
     "output_type": "stream",
     "text": [
      "Time Elapsed: 0.351063 seconds\n",
      "MSE: 1.432335\n"
     ]
    }
   ],
   "source": [
    "model_gradient_descent_3 = utils.LinearRegressionModel().fit_gradient_descent(X_train_compare.values, y_train.values, step_size=0.001, decay_factor=10, error_threshold=0.000001)\n",
    "\n",
    "print('MSE: %f' % (utils.mse(y_validation.values, model_gradient_descent_3.predict(X_validation_compare.values))))"
   ]
  },
  {
   "cell_type": "markdown",
   "metadata": {},
   "source": [
    "##### e. (Initial Step Size = 0.001, Decay Factor = 5, Error Threshold = 0.000001)\n",
    "This model is trained with a set of parameters that have previously demonstrated (in steps a to d) to lower MSE."
   ]
  },
  {
   "cell_type": "code",
   "execution_count": 19,
   "metadata": {},
   "outputs": [
    {
     "name": "stdout",
     "output_type": "stream",
     "text": [
      "Time Elapsed: 0.453821 seconds\n",
      "MSE: 1.426481\n"
     ]
    }
   ],
   "source": [
    "model_gradient_descent_4 = utils.LinearRegressionModel().fit_gradient_descent(X_train_compare.values, y_train.values, step_size=0.001, decay_factor=5, error_threshold=0.000001)\n",
    "\n",
    "print('MSE: %f' % (utils.mse(y_validation.values, model_gradient_descent_4.predict(X_validation_compare.values))))"
   ]
  },
  {
   "cell_type": "markdown",
   "metadata": {},
   "source": [
    "As we can see with the experimentations in steps *a* through *e*, out of all the gradient descent models, the one with the following parameters: Initial Step Size = 0.001, Decay Factor = 5, and Error Threshold = 0.000001 had the best performance. It had an MSE of 1.426481. However, it also had the longest training time."
   ]
  },
  {
   "cell_type": "markdown",
   "metadata": {},
   "source": [
    "### 2. Comparison of Models with No Text Features, Top 60 Words, and Full 160 Word Occurrence Features"
   ]
  },
  {
   "cell_type": "markdown",
   "metadata": {},
   "source": [
    "For the following experiments, we will be using the closed-form approach, due to it's fastest runtime and highest performance as demonstrated in the previous section."
   ]
  },
  {
   "cell_type": "code",
   "execution_count": 20,
   "metadata": {},
   "outputs": [],
   "source": [
    "columns = ['children', 'controversiality', 'is_root']\n",
    "for i in range(1, 61):\n",
    "    columns.append('top_word_' + str(i).zfill(3))\n",
    "\n",
    "X_train_60 = X_train[columns]\n",
    "X_validation_60 = X_validation[columns]"
   ]
  },
  {
   "cell_type": "code",
   "execution_count": 21,
   "metadata": {},
   "outputs": [],
   "source": [
    "X_train_160 = X_train.drop(columns=['children_squared', 'children_cubed'])\n",
    "X_validation_160 = X_validation.drop(columns=['children_squared', 'children_cubed'])"
   ]
  },
  {
   "cell_type": "markdown",
   "metadata": {},
   "source": [
    "#### i) No Text Features"
   ]
  },
  {
   "cell_type": "code",
   "execution_count": 22,
   "metadata": {},
   "outputs": [
    {
     "name": "stdout",
     "output_type": "stream",
     "text": [
      "Time Elapsed: 0.000000 seconds\n",
      "MSE: 1.416295\n"
     ]
    }
   ],
   "source": [
    "model_cf = utils.LinearRegressionModel().fit_closed_form(X_train_compare.values, y_train.values)\n",
    "print('MSE: %f' % (utils.mse(y_validation.values, model_cf.predict(X_validation_compare.values))))"
   ]
  },
  {
   "cell_type": "markdown",
   "metadata": {},
   "source": [
    "#### ii) Top-60-Words"
   ]
  },
  {
   "cell_type": "code",
   "execution_count": 23,
   "metadata": {},
   "outputs": [
    {
     "name": "stdout",
     "output_type": "stream",
     "text": [
      "Time Elapsed: 0.023936 seconds\n",
      "MSE: 1.355151\n"
     ]
    }
   ],
   "source": [
    "model_cf_top_60 = utils.LinearRegressionModel().fit_closed_form(X_train_60.values, y_train.values)\n",
    "print('MSE: %f' % (utils.mse(y_validation.values, model_cf_top_60.predict(X_validation_60.values))))"
   ]
  },
  {
   "cell_type": "markdown",
   "metadata": {},
   "source": [
    "#### iii) Top-160-Words"
   ]
  },
  {
   "cell_type": "code",
   "execution_count": 24,
   "metadata": {},
   "outputs": [
    {
     "name": "stdout",
     "output_type": "stream",
     "text": [
      "Time Elapsed: 0.004960 seconds\n",
      "MSE: 0.989536\n"
     ]
    }
   ],
   "source": [
    "model_cf_top_160 = utils.LinearRegressionModel().fit_closed_form(X_train_160.values, y_train.values)\n",
    "\n",
    "mse_top_160 = utils.mse(y_validation.values, model_cf_top_160.predict(X_validation_160.values))\n",
    "\n",
    "print('MSE: %f' % mse_top_160)"
   ]
  },
  {
   "cell_type": "markdown",
   "metadata": {},
   "source": [
    "### 3. Demonstrate the Two New Features Improve Performance on the Validation Set"
   ]
  },
  {
   "cell_type": "markdown",
   "metadata": {},
   "source": [
    "#### i) New Feature #1: Children Squared"
   ]
  },
  {
   "cell_type": "code",
   "execution_count": 25,
   "metadata": {},
   "outputs": [],
   "source": [
    "X_train_feature_1 = X_train.drop(columns=['children_cubed'])\n",
    "X_validation_feature_1 = X_validation.drop(columns=['children_cubed'])"
   ]
  },
  {
   "cell_type": "code",
   "execution_count": 26,
   "metadata": {},
   "outputs": [
    {
     "name": "stdout",
     "output_type": "stream",
     "text": [
      "Time Elapsed: 0.004420 seconds\n",
      "MSE: 0.967395\n",
      "Improvement in MSE of: 0.022141\n"
     ]
    }
   ],
   "source": [
    "model_cf_feature_1 = utils.LinearRegressionModel().fit_closed_form(X_train_feature_1.values, y_train.values)\n",
    "\n",
    "mse_feature_1 = utils.mse(y_validation.values, model_cf_feature_1.predict(X_validation_feature_1.values))\n",
    "\n",
    "print('MSE: %f' % mse_feature_1)\n",
    "print('Improvement in MSE of: %f' % (mse_top_160 - mse_feature_1))"
   ]
  },
  {
   "cell_type": "markdown",
   "metadata": {},
   "source": [
    "#### ii) New Feature #2: Children Cubed"
   ]
  },
  {
   "cell_type": "code",
   "execution_count": 27,
   "metadata": {},
   "outputs": [],
   "source": [
    "X_train_feature_2 = X_train.drop(columns=['children_squared'])\n",
    "X_validation_feature_2 = X_validation.drop(columns=['children_squared'])"
   ]
  },
  {
   "cell_type": "code",
   "execution_count": 28,
   "metadata": {},
   "outputs": [
    {
     "name": "stdout",
     "output_type": "stream",
     "text": [
      "Time Elapsed: 0.005984 seconds\n",
      "MSE: 0.967954\n",
      "Improvement in MSE of: 0.021582\n"
     ]
    }
   ],
   "source": [
    "model_cf_feature_2 = utils.LinearRegressionModel().fit_closed_form(X_train_feature_2.values, y_train.values)\n",
    "\n",
    "mse_feature_2 = utils.mse(y_validation.values, model_cf_feature_2.predict(X_validation_feature_2.values))\n",
    "\n",
    "print('MSE: %f' % mse_feature_2)\n",
    "print('Improvement in MSE of: %f' % (mse_top_160 - mse_feature_2))"
   ]
  },
  {
   "cell_type": "markdown",
   "metadata": {},
   "source": [
    "#### iii) Using Both Features"
   ]
  },
  {
   "cell_type": "code",
   "execution_count": 29,
   "metadata": {},
   "outputs": [
    {
     "name": "stdout",
     "output_type": "stream",
     "text": [
      "Time Elapsed: 0.007506 seconds\n",
      "MSE: 0.967704\n",
      "Improvement in MSE of: 0.021832\n"
     ]
    }
   ],
   "source": [
    "model_cf_both_features = utils.LinearRegressionModel().fit_closed_form(X_train.values, y_train.values)\n",
    "\n",
    "mse_both_features = utils.mse(y_validation.values, model_cf_both_features.predict(X_validation.values))\n",
    "\n",
    "print('MSE: %f' % mse_both_features)\n",
    "print('Improvement in MSE of: %f' % (mse_top_160 - mse_both_features))"
   ]
  },
  {
   "cell_type": "markdown",
   "metadata": {},
   "source": [
    "We can conclude that the best performing model is the one using the top 160 words with the first new feature: children squared. The model has an MSE of 0.967395"
   ]
  },
  {
   "cell_type": "markdown",
   "metadata": {},
   "source": [
    "### 4. Run Your Best Model on the Test Set"
   ]
  },
  {
   "cell_type": "code",
   "execution_count": 30,
   "metadata": {},
   "outputs": [
    {
     "name": "stdout",
     "output_type": "stream",
     "text": [
      "MSE: 1.292811\n"
     ]
    }
   ],
   "source": [
    "y_predictions = model_cf_feature_1.predict(X_test.drop(columns=['children_cubed']).values)\n",
    "\n",
    "print('MSE: %f' % (utils.mse(y_test, y_predictions)))"
   ]
  },
  {
   "cell_type": "code",
   "execution_count": 31,
   "metadata": {},
   "outputs": [
    {
     "data": {
      "image/png": "[encoded data removed]",
      "text/plain": [
       "<matplotlib.figure.Figure at 0x14e2c300cf8>"
      ]
     },
     "metadata": {},
     "output_type": "display_data"
    }
   ],
   "source": [
    "plt.figure(figsize=(10,10))\n",
    "plt.plot(y_test, \"bo\", y_predictions, 'ro')\n",
    "plt.title('Test VS Closed Form Predictions')\n",
    "plt.show()"
   ]
  }
 ],
 "metadata": {
  "kernelspec": {
   "display_name": "Python 3",
   "language": "python",
   "name": "python3"
  },
  "language_info": {
   "codemirror_mode": {
    "name": "ipython",
    "version": 3
   },
   "file_extension": ".py",
   "mimetype": "text/x-python",
   "name": "python",
   "nbconvert_exporter": "python",
   "pygments_lexer": "ipython3",
   "version": "3.6.4"
  }
 },
 "nbformat": 4,
 "nbformat_minor": 2
}
