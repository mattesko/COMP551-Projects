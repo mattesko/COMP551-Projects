{
 "cells": [
  {
   "cell_type": "code",
   "execution_count": 1,
   "metadata": {},
   "outputs": [],
   "source": [
    "from comet_ml import Experiment\n",
    "import re\n",
    "import numpy as np\n",
    "import os\n",
    "import time\n",
    "import datetime\n",
    "import data_helpers\n",
    "import nltk\n",
    "from collections import defaultdict\n",
    "\n",
    "import tensorflow as tf\n",
    "from tensorflow.keras.preprocessing.text import Tokenizer\n",
    "from tensorflow.keras.preprocessing.sequence import pad_sequences\n",
    "from tensorflow.keras.utils import to_categorical\n",
    "from tensorflow.keras.layers import Dense, Input, GlobalMaxPooling1D, Conv1D, MaxPooling1D, Embedding\n",
    "from tensorflow.keras.models import Model\n",
    "from tensorflow.keras.initializers import Constant\n",
    "\n",
    "from nltk.corpus import stopwords\n",
    "from nltk.stem import WordNetLemmatizer\n",
    "from nltk import word_tokenize\n",
    "\n",
    "from sklearn.model_selection import train_test_split"
   ]
  },
  {
   "cell_type": "code",
   "execution_count": 2,
   "metadata": {},
   "outputs": [
    {
     "name": "stderr",
     "output_type": "stream",
     "text": [
      "[nltk_data] Downloading package stopwords to\n",
      "[nltk_data]     C:\\Users\\matth\\AppData\\Roaming\\nltk_data...\n",
      "[nltk_data]   Package stopwords is already up-to-date!\n",
      "[nltk_data] Downloading package punkt to\n",
      "[nltk_data]     C:\\Users\\matth\\AppData\\Roaming\\nltk_data...\n",
      "[nltk_data]   Package punkt is already up-to-date!\n",
      "[nltk_data] Downloading package wordnet to\n",
      "[nltk_data]     C:\\Users\\matth\\AppData\\Roaming\\nltk_data...\n",
      "[nltk_data]   Package wordnet is already up-to-date!\n"
     ]
    }
   ],
   "source": [
    "nltk.download('stopwords')\n",
    "nltk.download('punkt')\n",
    "nltk.download('wordnet');"
   ]
  },
  {
   "cell_type": "code",
   "execution_count": 3,
   "metadata": {},
   "outputs": [],
   "source": [
    "# use nltk to remove stopwords and lemmatize\n",
    "# you might need to run: nltk.download() to fetch the stopword package in \"all packages\"\n",
    "# you might also need to run ntlk.download(\"punkt\")\n",
    "\n",
    "english_stopwords = set(stopwords.words(\"english\"))\n",
    "wordnet_lemmatizer = WordNetLemmatizer()"
   ]
  },
  {
   "cell_type": "code",
   "execution_count": 4,
   "metadata": {},
   "outputs": [],
   "source": [
    "def clean_str(string):\n",
    "    \"\"\"\n",
    "    Tokenization/string cleaning for all datasets except for SST.\n",
    "    Original taken from https://github.com/yoonkim/CNN_sentence/blob/master/process_data.py\n",
    "    \"\"\"\n",
    "    string = re.sub(r\"[^A-Za-z0-9(),!?\\'\\`]\", \" \", string)\n",
    "    string = re.sub(r\"\\'s\", \" \\'s\", string)\n",
    "    string = re.sub(r\"\\'ve\", \" \\'ve\", string)\n",
    "    string = re.sub(r\"n\\'t\", \" n\\'t\", string)\n",
    "    string = re.sub(r\"\\'re\", \" \\'re\", string)\n",
    "    string = re.sub(r\"\\'d\", \" \\'d\", string)\n",
    "    string = re.sub(r\"\\'ll\", \" \\'ll\", string)\n",
    "    string = re.sub(r\",\", \" , \", string)\n",
    "    string = re.sub(r\"!\", \" ! \", string)\n",
    "    string = re.sub(r\"\\(\", \" \\( \", string)\n",
    "    string = re.sub(r\"\\)\", \" \\) \", string)\n",
    "    string = re.sub(r\"\\?\", \" \\? \", string)\n",
    "    string = re.sub(r\"\\s{2,}\", \" \", string)\n",
    "    return string.strip().lower()"
   ]
  },
  {
   "cell_type": "code",
   "execution_count": 5,
   "metadata": {},
   "outputs": [],
   "source": [
    "def clean_input_text(text):\n",
    "    clean_text = []\n",
    "    for sent in text:\n",
    "        clean_sent = \"\"\n",
    "        sent_tokens = word_tokenize(sent)\n",
    "        for token in sent_tokens:\n",
    "            clean_sent += wordnet_lemmatizer.lemmatize(token) + \" \" if token not in english_stopwords else \"\"\n",
    "        clean_text.append(clean_sent)\n",
    "    return clean_text"
   ]
  },
  {
   "cell_type": "code",
   "execution_count": 6,
   "metadata": {},
   "outputs": [],
   "source": [
    "def load_reviews_dataset():\n",
    "    base_path = \"./data/customer_reviews/\"\n",
    "    products = [base_path +\"Apex AD2600 Progressive-scan DVD player.txt\"\n",
    "    , base_path +\"Canon G3.txt\"\n",
    "    , base_path + \"Creative Labs Nomad Jukebox Zen Xtra 40GB.txt\"\n",
    "    , base_path + \"Nikon coolpix 4300.txt\", base_path +\"Nokia 6610.txt\"]\n",
    "    examples = []\n",
    "    for product in products:\n",
    "        examples += list(open(product, \"r\", encoding=\"utf-8\").readlines())\n",
    "    \n",
    "    # for every examples, keep the one starting with a ranking\n",
    "    x_text, y = [],[]\n",
    "    for example in examples:\n",
    "        final_label = 0\n",
    "        temp_split = example.split(\"##\")\n",
    "        # don't consider unlabeled sentences\n",
    "        if len(temp_split) <= 1:\n",
    "            continue\n",
    "        temp_label, temp_sentence = temp_split\n",
    "        # parse the temp_label to find positive or negative\n",
    "        positive_label = temp_label.split(\"+\")\n",
    "        #print(\"len positive label: {}\".format(len(positive_label)))\n",
    "        if len(positive_label) > 1:\n",
    "            final_label = 1\n",
    "        \n",
    "        # so the final_label is either 0 or 1, 0 if negative, 1 if positive\n",
    "        final_sentence = clean_str(temp_sentence.strip())\n",
    "        x_text.append(final_sentence)\n",
    "        y.append(final_label)\n",
    "    return x_text, y\n",
    "        \n",
    "        \n",
    "x_text, y = load_reviews_dataset()\n",
    "x_text = clean_input_text(x_text)"
   ]
  },
  {
   "cell_type": "code",
   "execution_count": 7,
   "metadata": {},
   "outputs": [],
   "source": [
    "# hyperparameters for the cnn dealing with the movie dataset\n",
    "MAX_SEQUENCE_LENGTH = 1000\n",
    "MAX_NUM_WORDS = 20000\n",
    "EMBEDDING_DIM = 300\n",
    "VALIDATION_SPLIT = 0.2\n",
    "TEST_SPLIT = 0.2\n",
    "NUMBER_DIFFERENT_OUTPUTS =2"
   ]
  },
  {
   "cell_type": "code",
   "execution_count": 8,
   "metadata": {},
   "outputs": [
    {
     "name": "stdout",
     "output_type": "stream",
     "text": [
      "Indexing word vectors.\n",
      "Found 400000 word vectors.\n"
     ]
    }
   ],
   "source": [
    "# load pretrain glove word2vec instance for preprocessing\n",
    "filename = './data/glove.6B.300d.txt'\n",
    "\n",
    "print('Indexing word vectors.')\n",
    "\n",
    "embeddings_index = {}\n",
    "with open(filename, encoding=\"utf-8\") as f:\n",
    "    for line in f:\n",
    "        values = line.split()\n",
    "        word = values[0]\n",
    "        coefs = np.asarray(values[1:], dtype='float32')\n",
    "        embeddings_index[word] = coefs\n",
    "\n",
    "print('Found %s word vectors.' % len(embeddings_index))"
   ]
  },
  {
   "cell_type": "code",
   "execution_count": 9,
   "metadata": {},
   "outputs": [
    {
     "name": "stdout",
     "output_type": "stream",
     "text": [
      "4572\n",
      "Shape of data tensor: (3944, 1000)\n",
      "Shape of label tensor: (3944, 2)\n"
     ]
    },
    {
     "data": {
      "text/plain": [
       "array([1., 0.], dtype=float32)"
      ]
     },
     "execution_count": 9,
     "metadata": {},
     "output_type": "execute_result"
    }
   ],
   "source": [
    "# vectorize the input text (both negative and positive )\n",
    "tokenizer = Tokenizer(num_words=MAX_NUM_WORDS)\n",
    "tokenizer.fit_on_texts(x_text)\n",
    "sequences = tokenizer.texts_to_sequences(x_text)\n",
    "word_index = tokenizer.word_index\n",
    "print(len(word_index))\n",
    "\n",
    "data = pad_sequences(sequences, maxlen=MAX_SEQUENCE_LENGTH)\n",
    "\n",
    "labels = to_categorical(np.asarray(y))\n",
    "print('Shape of data tensor:', data.shape)\n",
    "print('Shape of label tensor:', labels.shape)\n",
    "labels[0]"
   ]
  },
  {
   "cell_type": "code",
   "execution_count": 10,
   "metadata": {},
   "outputs": [
    {
     "data": {
      "text/plain": [
       "788"
      ]
     },
     "execution_count": 10,
     "metadata": {},
     "output_type": "execute_result"
    }
   ],
   "source": [
    "# split the data into a training set and a validation set\n",
    "indices = np.arange(data.shape[0])\n",
    "np.random.shuffle(indices)\n",
    "data = data[indices]\n",
    "labels = labels[indices]\n",
    "num_validation_samples = int(VALIDATION_SPLIT * data.shape[0])\n",
    "\n",
    "x_train = data[:-num_validation_samples]\n",
    "y_train = labels[:-num_validation_samples]\n",
    "x_val = data[-num_validation_samples:]\n",
    "y_val = labels[-num_validation_samples:]\n",
    "len(y_val)"
   ]
  },
  {
   "cell_type": "code",
   "execution_count": 11,
   "metadata": {},
   "outputs": [],
   "source": [
    "# prepare embedding matrix\n",
    "num_words = min(MAX_NUM_WORDS, len(word_index)) + 1\n",
    "embedding_matrix = np.zeros((num_words, EMBEDDING_DIM))\n",
    "for word, i in word_index.items():\n",
    "    if i > MAX_NUM_WORDS:\n",
    "        continue\n",
    "    embedding_vector = embeddings_index.get(word)\n",
    "    if embedding_vector is not None:\n",
    "        # words not found in embedding index will be all-zeros.\n",
    "        embedding_matrix[i] = embedding_vector"
   ]
  },
  {
   "cell_type": "code",
   "execution_count": 12,
   "metadata": {},
   "outputs": [],
   "source": [
    "# load pre-trained word embeddings into an Embedding layer\n",
    "# note that we set trainable = False so as to keep the embeddings fixed\n",
    "embedding_layer = Embedding(num_words,\n",
    "                            EMBEDDING_DIM,\n",
    "                            embeddings_initializer=Constant(embedding_matrix),\n",
    "                            input_length=MAX_SEQUENCE_LENGTH,\n",
    "                            trainable=False)"
   ]
  },
  {
   "cell_type": "code",
   "execution_count": 13,
   "metadata": {},
   "outputs": [
    {
     "name": "stderr",
     "output_type": "stream",
     "text": [
      "COMET INFO: Experiment is live on comet.ml https://www.comet.ml/mattesko/comp-551/46b352ef78f346c580f0925113499588\n",
      "\n"
     ]
    },
    {
     "name": "stdout",
     "output_type": "stream",
     "text": [
      "WARNING:tensorflow:From C:\\Users\\matth\\Anaconda3\\lib\\site-packages\\tensorflow\\python\\ops\\resource_variable_ops.py:435: colocate_with (from tensorflow.python.framework.ops) is deprecated and will be removed in a future version.\n",
      "Instructions for updating:\n",
      "Colocations handled automatically by placer.\n",
      "Train on 3156 samples, validate on 788 samples\n",
      "WARNING:tensorflow:From C:\\Users\\matth\\Anaconda3\\lib\\site-packages\\tensorflow\\python\\ops\\math_ops.py:3066: to_int32 (from tensorflow.python.ops.math_ops) is deprecated and will be removed in a future version.\n",
      "Instructions for updating:\n",
      "Use tf.cast instead.\n",
      "WARNING:tensorflow:From C:\\Users\\matth\\Anaconda3\\lib\\site-packages\\tensorflow\\python\\ops\\math_grad.py:102: div (from tensorflow.python.ops.math_ops) is deprecated and will be removed in a future version.\n",
      "Instructions for updating:\n",
      "Deprecated in favor of operator or tf.math.divide.\n",
      "Epoch 1/10\n",
      "3156/3156 [==============================] - 63s 20ms/sample - loss: 0.5848 - acc: 0.7231 - val_loss: 0.5752 - val_acc: 0.7386\n",
      "Epoch 2/10\n",
      "3156/3156 [==============================] - 61s 19ms/sample - loss: 0.4695 - acc: 0.7944 - val_loss: 0.5421 - val_acc: 0.7868\n",
      "Epoch 3/10\n",
      "3156/3156 [==============================] - 60s 19ms/sample - loss: 0.3878 - acc: 0.8365 - val_loss: 0.4704 - val_acc: 0.7881\n",
      "Epoch 4/10\n",
      "3156/3156 [==============================] - 62s 20ms/sample - loss: 0.3129 - acc: 0.8729 - val_loss: 0.4957 - val_acc: 0.8020\n",
      "Epoch 5/10\n",
      "3156/3156 [==============================] - 65s 21ms/sample - loss: 0.2189 - acc: 0.9246 - val_loss: 0.5826 - val_acc: 0.8033\n",
      "Epoch 6/10\n",
      "3156/3156 [==============================] - 61s 19ms/sample - loss: 0.1887 - acc: 0.9347 - val_loss: 0.5993 - val_acc: 0.7919\n",
      "Epoch 7/10\n",
      "3156/3156 [==============================] - 60s 19ms/sample - loss: 0.1839 - acc: 0.9484 - val_loss: 0.6097 - val_acc: 0.7944\n",
      "Epoch 8/10\n",
      "3156/3156 [==============================] - 61s 19ms/sample - loss: 0.1767 - acc: 0.9604 - val_loss: 0.6887 - val_acc: 0.8058\n",
      "Epoch 9/10\n",
      "3156/3156 [==============================] - 61s 19ms/sample - loss: 0.0466 - acc: 0.9867 - val_loss: 0.8348 - val_acc: 0.8046\n",
      "Epoch 10/10\n",
      "3156/3156 [==============================] - 63s 20ms/sample - loss: 0.1790 - acc: 0.9575 - val_loss: 0.7738 - val_acc: 0.7995\n"
     ]
    },
    {
     "data": {
      "text/plain": [
       "<tensorflow.python.keras.callbacks.History at 0x1bc2e2a8b70>"
      ]
     },
     "execution_count": 13,
     "metadata": {},
     "output_type": "execute_result"
    }
   ],
   "source": [
    "experiment = Experiment(api_key=\"PqrK4iPuQntpHwzb6SvJuXbdh\",\n",
    "                        project_name=\"COMP 551\", workspace=\"mattesko\")\n",
    "\n",
    "# train a 1D convnet with global maxpooling\n",
    "sequence_input = Input(shape=(MAX_SEQUENCE_LENGTH,), dtype='int32')\n",
    "embedded_sequences = embedding_layer(sequence_input)\n",
    "x = Conv1D(128, 5, activation='relu')(embedded_sequences)\n",
    "x = MaxPooling1D(5)(x)\n",
    "x = Conv1D(128, 5, activation='relu')(x)\n",
    "x = MaxPooling1D(5)(x)\n",
    "x = Conv1D(128, 5, activation='relu')(x)\n",
    "x = GlobalMaxPooling1D()(x)\n",
    "x = Dense(128, activation='relu')(x)\n",
    "preds = Dense(NUMBER_DIFFERENT_OUTPUTS, activation='softmax')(x)\n",
    "\n",
    "model = Model(sequence_input, preds)\n",
    "model.compile(loss='categorical_crossentropy',\n",
    "              optimizer='rmsprop',\n",
    "              metrics=['acc'])\n",
    "\n",
    "model.fit(x_train, y_train,\n",
    "          batch_size=128,\n",
    "          epochs=10,\n",
    "          validation_data=(x_val, y_val))"
   ]
  },
  {
   "cell_type": "code",
   "execution_count": 14,
   "metadata": {},
   "outputs": [],
   "source": [
    "from tensorflow.keras.utils import plot_model\n",
    "plot_model(model, to_file='model.png')"
   ]
  },
  {
   "cell_type": "markdown",
   "metadata": {},
   "source": [
    "# NB"
   ]
  },
  {
   "cell_type": "code",
   "execution_count": 30,
   "metadata": {},
   "outputs": [],
   "source": [
    "y_train_nb = y_train[:,0]"
   ]
  },
  {
   "cell_type": "code",
   "execution_count": 54,
   "metadata": {},
   "outputs": [
    {
     "name": "stderr",
     "output_type": "stream",
     "text": [
      "c:\\users\\thars\\appdata\\local\\programs\\python\\python36\\lib\\site-packages\\sklearn\\model_selection\\_split.py:2053: FutureWarning: You should specify a value for 'cv' instead of relying on the default value. The default value will change from 3 to 5 in version 0.22.\n",
      "  warnings.warn(CV_WARNING, FutureWarning)\n",
      "[Parallel(n_jobs=-1)]: Using backend LokyBackend with 8 concurrent workers.\n"
     ]
    },
    {
     "name": "stdout",
     "output_type": "stream",
     "text": [
      "Fitting 3 folds for each of 12 candidates, totalling 36 fits\n"
     ]
    },
    {
     "name": "stderr",
     "output_type": "stream",
     "text": [
      "[Parallel(n_jobs=-1)]: Done  36 out of  36 | elapsed:    0.9s finished\n"
     ]
    }
   ],
   "source": [
    "from sklearn.naive_bayes import MultinomialNB\n",
    "from sklearn.metrics import f1_score\n",
    "from sklearn.model_selection import GridSearchCV\n",
    "from sklearn.pipeline import Pipeline  \n",
    "\n",
    "pipeline = Pipeline([('clf',       MultinomialNB())])\n",
    "parameters = { \n",
    "    'clf__alpha': (1, 0.1, 0.01, 0.001, 0.0001, 0.00001) ,\n",
    "    'clf__fit_prior': (True, False)\n",
    "}\n",
    "grid_search_nb = GridSearchCV(pipeline, parameters, n_jobs=-1, verbose=2)  \n",
    "grid_search_nb.fit(x_train, y_train_nb)\n",
    "best_parameters = grid_search_nb.best_estimator_.get_params()"
   ]
  },
  {
   "cell_type": "code",
   "execution_count": 47,
   "metadata": {
    "scrolled": true
   },
   "outputs": [
    {
     "data": {
      "text/plain": [
       "{'memory': None,\n",
       " 'steps': [('clf', MultinomialNB(alpha=1, class_prior=None, fit_prior=True))],\n",
       " 'clf': MultinomialNB(alpha=1, class_prior=None, fit_prior=True),\n",
       " 'clf__alpha': 1,\n",
       " 'clf__class_prior': None,\n",
       " 'clf__fit_prior': True}"
      ]
     },
     "execution_count": 47,
     "metadata": {},
     "output_type": "execute_result"
    }
   ],
   "source": [
    "best_parameters"
   ]
  },
  {
   "cell_type": "code",
   "execution_count": 53,
   "metadata": {},
   "outputs": [
    {
     "name": "stdout",
     "output_type": "stream",
     "text": [
      "Accuracy: 0.5685279187817259 \tF1 Score: 0.6792452830188679\n"
     ]
    }
   ],
   "source": [
    "predicted = grid_search_nb.predict(x_val)\n",
    "accuracy = np.mean(predicted == y_val[:,0])\n",
    "f1 = f1_score(y_val[:,0], predicted)\n",
    "print('Accuracy:', accuracy, '\\tF1 Score:', f1)"
   ]
  },
  {
   "cell_type": "markdown",
   "metadata": {},
   "source": [
    "# SVM"
   ]
  },
  {
   "cell_type": "code",
   "execution_count": 64,
   "metadata": {},
   "outputs": [
    {
     "name": "stderr",
     "output_type": "stream",
     "text": [
      "c:\\users\\thars\\appdata\\local\\programs\\python\\python36\\lib\\site-packages\\sklearn\\model_selection\\_split.py:2053: FutureWarning: You should specify a value for 'cv' instead of relying on the default value. The default value will change from 3 to 5 in version 0.22.\n",
      "  warnings.warn(CV_WARNING, FutureWarning)\n",
      "[Parallel(n_jobs=-1)]: Using backend LokyBackend with 8 concurrent workers.\n"
     ]
    },
    {
     "name": "stdout",
     "output_type": "stream",
     "text": [
      "Fitting 3 folds for each of 704 candidates, totalling 2112 fits\n"
     ]
    },
    {
     "name": "stderr",
     "output_type": "stream",
     "text": [
      "[Parallel(n_jobs=-1)]: Done  25 tasks      | elapsed:    2.2s\n",
      "[Parallel(n_jobs=-1)]: Done 146 tasks      | elapsed:    7.1s\n",
      "[Parallel(n_jobs=-1)]: Done 349 tasks      | elapsed:   15.6s\n",
      "[Parallel(n_jobs=-1)]: Done 632 tasks      | elapsed:   27.4s\n",
      "[Parallel(n_jobs=-1)]: Done 997 tasks      | elapsed:   42.8s\n",
      "[Parallel(n_jobs=-1)]: Done 1442 tasks      | elapsed:  1.0min\n",
      "[Parallel(n_jobs=-1)]: Done 1969 tasks      | elapsed:  1.3min\n",
      "[Parallel(n_jobs=-1)]: Done 2112 out of 2112 | elapsed:  1.4min finished\n"
     ]
    }
   ],
   "source": [
    "from sklearn.svm import LinearSVC\n",
    "\n",
    "penalty=['l2']\n",
    "loss=['hinge', 'squared_hinge']\n",
    "dual=[True]\n",
    "class_weight=[None, 'balanced']\n",
    "tol=np.array([1, 0.1, 0.01, 0.001, 0.0001, 0.00001, 0.0000001, 0.00000001])\n",
    "max_iter =[1000]\n",
    "C=[1000, 100, 10, 1, 0.1, 0.01, 0.001, 0.0001, 0.00001, 0.0000001, 0.00000001]\n",
    "fit_intercept=[True,False]\n",
    "parameters = {'C': C, 'penalty': penalty, 'loss':loss, 'dual':dual,\n",
    "              'class_weight':class_weight, 'tol':tol, 'max_iter':max_iter,\n",
    "              'fit_intercept':fit_intercept}\n",
    "grid_search = GridSearchCV(LinearSVC(), parameters, n_jobs=-1, verbose=2)  \n",
    "grid_search.fit(x_train, y_train_nb)\n",
    "best_parameters = grid_search.best_estimator_.get_params()"
   ]
  },
  {
   "cell_type": "code",
   "execution_count": 65,
   "metadata": {},
   "outputs": [
    {
     "name": "stdout",
     "output_type": "stream",
     "text": [
      "Accuracy: 0.7411167512690355 \tF1 Score: 0.8513119533527697\n",
      "Best Parameters: {'C': 1e-08, 'class_weight': None, 'dual': True, 'fit_intercept': True, 'intercept_scaling': 1, 'loss': 'hinge', 'max_iter': 1000, 'multi_class': 'ovr', 'penalty': 'l2', 'random_state': None, 'tol': 1.0, 'verbose': 0}\n"
     ]
    }
   ],
   "source": [
    "predicted = grid_search.predict(x_val)\n",
    "accuracy = np.mean(predicted == y_val[:,0])\n",
    "f1 = f1_score(y_val[:,0], predicted)\n",
    "print('Accuracy:', accuracy, '\\tF1 Score:', f1)\n",
    "print('Best Parameters:', best_parameters)"
   ]
  },
  {
   "cell_type": "code",
   "execution_count": 68,
   "metadata": {},
   "outputs": [
    {
     "name": "stderr",
     "output_type": "stream",
     "text": [
      "c:\\users\\thars\\appdata\\local\\programs\\python\\python36\\lib\\site-packages\\sklearn\\model_selection\\_split.py:2053: FutureWarning: You should specify a value for 'cv' instead of relying on the default value. The default value will change from 3 to 5 in version 0.22.\n",
      "  warnings.warn(CV_WARNING, FutureWarning)\n",
      "[Parallel(n_jobs=-1)]: Using backend LokyBackend with 8 concurrent workers.\n"
     ]
    },
    {
     "name": "stdout",
     "output_type": "stream",
     "text": [
      "Fitting 3 folds for each of 722 candidates, totalling 2166 fits\n"
     ]
    },
    {
     "name": "stderr",
     "output_type": "stream",
     "text": [
      "[Parallel(n_jobs=-1)]: Done  25 tasks      | elapsed:    1.5s\n",
      "[Parallel(n_jobs=-1)]: Done 146 tasks      | elapsed:    4.2s\n",
      "[Parallel(n_jobs=-1)]: Done 349 tasks      | elapsed:    8.8s\n",
      "[Parallel(n_jobs=-1)]: Done 632 tasks      | elapsed:   15.2s\n",
      "[Parallel(n_jobs=-1)]: Done 997 tasks      | elapsed:   23.5s\n",
      "[Parallel(n_jobs=-1)]: Done 1442 tasks      | elapsed:   33.5s\n",
      "[Parallel(n_jobs=-1)]: Done 1969 tasks      | elapsed:   45.6s\n",
      "[Parallel(n_jobs=-1)]: Done 2166 out of 2166 | elapsed:   50.0s finished\n"
     ]
    }
   ],
   "source": [
    "penalty=['l2']\n",
    "loss=['hinge']\n",
    "dual=[True]\n",
    "class_weight=[None]\n",
    "tol=np.array([10,9,8,7,6,5,4,3,2,1,0.9,0.8,0.7,0.6,0.5,0.4,0.3,0.2,0.1])\n",
    "max_iter =[1000,10000]\n",
    "C=[10e-8,9e-8,8e-8,7e-8,6e-8,5e-8,4e-8,3e-8,2e-8,1e-8,9e-9,8e-9,7e-9,6e-9,5e-9,4e-9,3e-9,2e-9,1e-9]\n",
    "fit_intercept=[True]\n",
    "parameters = {'C': C, 'penalty': penalty, 'loss':loss, 'dual':dual,\n",
    "              'class_weight':class_weight, 'tol':tol, 'max_iter':max_iter,\n",
    "              'fit_intercept':fit_intercept}\n",
    "grid_search = GridSearchCV(LinearSVC(), parameters, n_jobs=-1, verbose=2)  \n",
    "grid_search.fit(x_train, y_train_nb)\n",
    "best_parameters = grid_search.best_estimator_.get_params()"
   ]
  },
  {
   "cell_type": "code",
   "execution_count": 69,
   "metadata": {},
   "outputs": [
    {
     "name": "stdout",
     "output_type": "stream",
     "text": [
      "Accuracy: 0.7411167512690355 \tF1 Score: 0.8513119533527697\n",
      "Best Parameters: {'C': 5e-09, 'class_weight': None, 'dual': True, 'fit_intercept': True, 'intercept_scaling': 1, 'loss': 'hinge', 'max_iter': 1000, 'multi_class': 'ovr', 'penalty': 'l2', 'random_state': None, 'tol': 6.0, 'verbose': 0}\n"
     ]
    }
   ],
   "source": [
    "predicted = grid_search.predict(x_val)\n",
    "accuracy = np.mean(predicted == y_val[:,0])\n",
    "f1 = f1_score(y_val[:,0], predicted)\n",
    "print('Accuracy:', accuracy, '\\tF1 Score:', f1)\n",
    "print('Best Parameters:', best_parameters)"
   ]
  },
  {
   "cell_type": "code",
   "execution_count": 73,
   "metadata": {},
   "outputs": [
    {
     "name": "stderr",
     "output_type": "stream",
     "text": [
      "c:\\users\\thars\\appdata\\local\\programs\\python\\python36\\lib\\site-packages\\sklearn\\model_selection\\_split.py:2053: FutureWarning: You should specify a value for 'cv' instead of relying on the default value. The default value will change from 3 to 5 in version 0.22.\n",
      "  warnings.warn(CV_WARNING, FutureWarning)\n",
      "[Parallel(n_jobs=-1)]: Using backend LokyBackend with 8 concurrent workers.\n"
     ]
    },
    {
     "name": "stdout",
     "output_type": "stream",
     "text": [
      "Fitting 3 folds for each of 1408 candidates, totalling 4224 fits\n"
     ]
    },
    {
     "name": "stderr",
     "output_type": "stream",
     "text": [
      "[Parallel(n_jobs=-1)]: Done  25 tasks      | elapsed:   29.7s\n",
      "[Parallel(n_jobs=-1)]: Done 146 tasks      | elapsed:  4.0min\n",
      "[Parallel(n_jobs=-1)]: Done 349 tasks      | elapsed:  8.9min\n",
      "[Parallel(n_jobs=-1)]: Done 632 tasks      | elapsed: 17.0min\n",
      "[Parallel(n_jobs=-1)]: Done 997 tasks      | elapsed: 28.5min\n",
      "[Parallel(n_jobs=-1)]: Done 1442 tasks      | elapsed: 43.8min\n",
      "[Parallel(n_jobs=-1)]: Done 1969 tasks      | elapsed: 61.0min\n",
      "[Parallel(n_jobs=-1)]: Done 2576 tasks      | elapsed: 83.1min\n",
      "[Parallel(n_jobs=-1)]: Done 3265 tasks      | elapsed: 109.5min\n",
      "[Parallel(n_jobs=-1)]: Done 4034 tasks      | elapsed: 143.2min\n",
      "[Parallel(n_jobs=-1)]: Done 4224 out of 4224 | elapsed: 151.5min finished\n",
      "c:\\users\\thars\\appdata\\local\\programs\\python\\python36\\lib\\site-packages\\sklearn\\svm\\base.py:244: ConvergenceWarning: Solver terminated early (max_iter=1000).  Consider pre-processing your data with StandardScaler or MinMaxScaler.\n",
      "  % self.max_iter, ConvergenceWarning)\n"
     ]
    }
   ],
   "source": [
    "from sklearn.svm import SVC\n",
    "\n",
    "gamma=['auto','scale']\n",
    "kernel=['linear', 'poly', 'rbf', 'sigmoid']\n",
    "class_weight=[None, 'balanced']\n",
    "tol=np.array([1, 0.1, 0.01, 0.001, 0.0001, 0.00001, 0.0000001, 0.00000001])\n",
    "max_iter =[1000]\n",
    "C=[1000, 100, 10, 1, 0.1, 0.01, 0.001, 0.0001, 0.00001, 0.0000001, 0.00000001]\n",
    "shrinking=[True]\n",
    "probability=[False]\n",
    "parameters = {'C': C, 'gamma': gamma, 'kernel':kernel, 'class_weight':class_weight, 'tol':tol, 'max_iter':max_iter,\n",
    "              'shrinking':shrinking, 'probability':probability}\n",
    "grid_search = GridSearchCV(SVC(), parameters, n_jobs=-1, verbose=2)  \n",
    "grid_search.fit(x_train, y_train_nb)\n",
    "best_parameters = grid_search.best_estimator_.get_params()"
   ]
  },
  {
   "cell_type": "code",
   "execution_count": 74,
   "metadata": {},
   "outputs": [
    {
     "name": "stdout",
     "output_type": "stream",
     "text": [
      "Accuracy: 0.7449238578680203 \tF1 Score: 0.8525311812179016\n",
      "Best Parameters: {'C': 1, 'cache_size': 200, 'class_weight': None, 'coef0': 0.0, 'decision_function_shape': 'ovr', 'degree': 3, 'gamma': 'auto', 'kernel': 'rbf', 'max_iter': 1000, 'probability': False, 'random_state': None, 'shrinking': True, 'tol': 1.0, 'verbose': False}\n"
     ]
    }
   ],
   "source": [
    "predicted = grid_search.predict(x_val)\n",
    "accuracy = np.mean(predicted == y_val[:,0])\n",
    "f1 = f1_score(y_val[:,0], predicted)\n",
    "print('Accuracy:', accuracy, '\\tF1 Score:', f1)\n",
    "print('Best Parameters:', best_parameters)"
   ]
  },
  {
   "cell_type": "code",
   "execution_count": null,
   "metadata": {},
   "outputs": [],
   "source": []
  }
 ],
 "metadata": {
  "kernelspec": {
   "display_name": "Python 3",
   "language": "python",
   "name": "python3"
  },
  "language_info": {
   "codemirror_mode": {
    "name": "ipython",
    "version": 3
   },
   "file_extension": ".py",
   "mimetype": "text/x-python",
   "name": "python",
   "nbconvert_exporter": "python",
   "pygments_lexer": "ipython3",
   "version": "3.7.1"
  }
 },
 "nbformat": 4,
 "nbformat_minor": 2
}
