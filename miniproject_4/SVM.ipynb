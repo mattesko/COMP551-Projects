{
 "cells": [
  {
   "cell_type": "code",
   "execution_count": 1,
   "metadata": {},
   "outputs": [],
   "source": [
    "import os\n",
    "import sklearn\n",
    "import numpy as np\n",
    "import re\n",
    "from sklearn.model_selection import train_test_split\n",
    "from sklearn import decomposition\n",
    "from glob import glob\n",
    "from nltk.corpus import stopwords\n",
    "from nltk.stem import WordNetLemmatizer\n",
    "from nltk import word_tokenize\n",
    "from sklearn.decomposition import PCA"
   ]
  },
  {
   "cell_type": "code",
   "execution_count": 2,
   "metadata": {},
   "outputs": [],
   "source": [
    "# use nltk to remove stopwords and lemmatize\n",
    "# you might need to run: nltk.download() to fetch the stopword package in \"all packages\"\n",
    "# you might also need to run ntlk.download(\"punkt\")\n",
    "english_stopwords = set(stopwords.words(\"english\"))\n",
    "wordnet_lemmatizer = WordNetLemmatizer()"
   ]
  },
  {
   "cell_type": "code",
   "execution_count": 3,
   "metadata": {},
   "outputs": [],
   "source": [
    "def clean_str(string):\n",
    "    \"\"\"\n",
    "    Tokenization/string cleaning for all datasets except for SST.\n",
    "    Original taken from https://github.com/yoonkim/CNN_sentence/blob/master/process_data.py\n",
    "    \"\"\"\n",
    "    string = re.sub(r\"[^A-Za-z0-9(),!?\\'\\`]\", \" \", string)\n",
    "    string = re.sub(r\"\\'s\", \" \\'s\", string)\n",
    "    string = re.sub(r\"\\'ve\", \" \\'ve\", string)\n",
    "    string = re.sub(r\"n\\'t\", \" n\\'t\", string)\n",
    "    string = re.sub(r\"\\'re\", \" \\'re\", string)\n",
    "    string = re.sub(r\"\\'d\", \" \\'d\", string)\n",
    "    string = re.sub(r\"\\'ll\", \" \\'ll\", string)\n",
    "    string = re.sub(r\",\", \" , \", string)\n",
    "    string = re.sub(r\"!\", \" ! \", string)\n",
    "    string = re.sub(r\"\\(\", \" \\( \", string)\n",
    "    string = re.sub(r\"\\)\", \" \\) \", string)\n",
    "    string = re.sub(r\"\\?\", \" \\? \", string)\n",
    "    string = re.sub(r\"\\s{2,}\", \" \", string)\n",
    "    return string.strip().lower()\n"
   ]
  },
  {
   "cell_type": "code",
   "execution_count": 4,
   "metadata": {},
   "outputs": [],
   "source": [
    "def get_data(filepath, label):\n",
    "    data = []\n",
    "    labels = []\n",
    "    with open('./data/' + filepath, 'r') as f:\n",
    "        for line in f.readlines():\n",
    "            data.append(clean_str(line))\n",
    "            labels.append(label)\n",
    "    return data, labels"
   ]
  },
  {
   "cell_type": "code",
   "execution_count": 5,
   "metadata": {},
   "outputs": [],
   "source": [
    "def clean_input_text(text):\n",
    "    clean_text = []\n",
    "    for sent in text:\n",
    "        clean_sent = \"\"\n",
    "        sent_tokens = word_tokenize(sent)\n",
    "        for token in sent_tokens:\n",
    "            clean_sent += wordnet_lemmatizer.lemmatize(token) + \" \" if token not in english_stopwords else \"\"\n",
    "        clean_text.append(clean_sent)\n",
    "    return clean_text"
   ]
  },
  {
   "cell_type": "code",
   "execution_count": 6,
   "metadata": {},
   "outputs": [],
   "source": [
    "from sklearn.feature_extraction.text import CountVectorizer\n",
    "from sklearn.feature_extraction.text import HashingVectorizer\n",
    "from sklearn.feature_extraction.text import TfidfVectorizer\n",
    "from sklearn.feature_extraction.text import TfidfTransformer\n",
    "from sklearn.naive_bayes import MultinomialNB\n",
    "from sklearn.preprocessing import Normalizer\n",
    "from sklearn.svm import LinearSVC\n",
    "from sklearn.linear_model import SGDClassifier\n",
    "import nltk\n",
    "from nltk import word_tokenize          \n",
    "from nltk.stem import WordNetLemmatizer\n",
    "\n",
    "import six\n",
    "from abc import ABCMeta\n",
    "import numpy as np\n",
    "from scipy import sparse\n",
    "from scipy.sparse import issparse\n",
    "from sklearn.base import BaseEstimator, ClassifierMixin\n",
    "from sklearn.utils import check_X_y, check_array\n",
    "from sklearn.utils.extmath import safe_sparse_dot\n",
    "from sklearn.preprocessing import normalize, binarize, LabelBinarizer\n",
    "\n",
    "\n",
    "class NBSVM(six.with_metaclass(ABCMeta, BaseEstimator, ClassifierMixin)):\n",
    "\n",
    "    def __init__(self, alpha=1.0, C=1.0, max_iter=10000, penalty = 'l2', loss = 'squared_hinge'):\n",
    "        self.alpha = alpha\n",
    "        self.max_iter = max_iter\n",
    "        self.C = C\n",
    "        self.svm_ = []\n",
    "        self.penalty = penalty\n",
    "        self.loss = loss\n",
    "\n",
    "    def fit(self, X, y):\n",
    "        X, y = check_X_y(X, y, 'csr')\n",
    "        _, n_features = X.shape\n",
    "\n",
    "        labelbin = LabelBinarizer()\n",
    "        Y = labelbin.fit_transform(y)\n",
    "        self.classes_ = labelbin.classes_\n",
    "        if Y.shape[1] == 1:\n",
    "            Y = np.concatenate((1 - Y, Y), axis=1)\n",
    "\n",
    "        # LabelBinarizer().fit_transform() returns arrays with dtype=np.int64.\n",
    "        # so we don't have to cast X to floating point\n",
    "        Y = Y.astype(np.float64)\n",
    "\n",
    "        # Count raw events from data\n",
    "        n_effective_classes = Y.shape[1]\n",
    "        self.class_count_ = np.zeros(n_effective_classes, dtype=np.float64)\n",
    "        self.ratios_ = np.full((n_effective_classes, n_features), self.alpha,\n",
    "                                 dtype=np.float64)\n",
    "        self._compute_ratios(X, Y)\n",
    "\n",
    "        for i in range(n_effective_classes):\n",
    "            X_i = X.multiply(self.ratios_[i])\n",
    "            svm = LinearSVC(C=self.C, max_iter=self.max_iter, penalty = self.penalty, loss = self.loss)\n",
    "            Y_i = Y[:,i]\n",
    "            svm.fit(X_i, Y_i)\n",
    "            self.svm_.append(svm) \n",
    "\n",
    "        return self\n",
    "\n",
    "    def predict(self, X):\n",
    "        n_effective_classes = self.class_count_.shape[0]\n",
    "        n_examples = X.shape[0]\n",
    "\n",
    "        D = np.zeros((n_effective_classes, n_examples))\n",
    "\n",
    "        for i in range(n_effective_classes):\n",
    "            X_i = X.multiply(self.ratios_[i])\n",
    "            D[i] = self.svm_[i].decision_function(X_i)\n",
    "        \n",
    "        return self.classes_[np.argmax(D, axis=0)]\n",
    "        \n",
    "    def _compute_ratios(self, X, Y):\n",
    "        \"\"\"Count feature occurrences and compute ratios.\"\"\"\n",
    "        if np.any((X.data if issparse(X) else X) < 0):\n",
    "            raise ValueError(\"Input X must be non-negative\")\n",
    "\n",
    "        self.ratios_ += safe_sparse_dot(Y.T, X)  # ratio + feature_occurrance_c\n",
    "        normalize(self.ratios_, norm='l1', axis=1, copy=False)\n",
    "        row_calc = lambda r: np.log(np.divide(r, (1 - r)))\n",
    "        self.ratios_ = np.apply_along_axis(row_calc, axis=1, arr=self.ratios_)\n",
    "        check_array(self.ratios_)\n",
    "        self.ratios_ = sparse.csr_matrix(self.ratios_)\n",
    "        \n",
    "class Features:\n",
    "\n",
    "\tdef transform_bag_of_words(self, X_train):\n",
    "\t\tX_train_counts = self.count_transformer.transform(X_train)\n",
    "\t\treturn self.transform_tfidf(X_train_counts)\n",
    "\n",
    "\tdef transform_tfidf(self, unmodified_set):\n",
    "\t\tmodified_set = self.tfidf_transformer.transform(unmodified_set)\n",
    "\t\treturn modified_set\n",
    "\tdef pipelined_features(self, with_random_search = True, with_nb_features = True):\n",
    "\t\tfrom sklearn.pipeline import Pipeline\n",
    "\t\tstop_words = ['', ' ', 'a', 'this', 'of', 'if', 'is', 'are']\n",
    "\t\tif with_nb_features:\n",
    "\t\t\tmodel = NBSVM()\n",
    "\t\telse:\n",
    "\t\t\tmodel = LinearSVC()\n",
    "            \n",
    "            \n",
    "\t\tpclf = Pipeline([\n",
    "\t\t    ('vect', CountVectorizer(ngram_range = (1,2), token_pattern = r'\\b(?:\\d+(?:,\\d{3,3})+(?:\\.\\d+)?)\\b|(?:\\b(?:([a-zA-Z]{2,}|\\d+)(?::?\\d{0,2}(?:am|pm)?|\\'?\\w?))\\b)', stop_words = stop_words, binary = False)),\n",
    "\t\t    ('tfidf', TfidfTransformer()),\n",
    "\t\t    ('norm', Normalizer()),\n",
    "            ('clf', model),\n",
    "\t\t])\n",
    "\n",
    "\t\tfrom sklearn.model_selection import RandomizedSearchCV\n",
    "\t\tfrom scipy.stats import randint as randint\n",
    "\t\tfrom scipy.stats import uniform\n",
    "\n",
    "\t\talpha = [0.001, 0.01, 0.1, 1, 10, 100, 1000]\n",
    "\t\tmax_iter = [5000, 4000, 6000, 7000, 3500, 10000, 9000, 11000]\n",
    "\t\tC = [1000, 100, 10, 1]\n",
    "\t\tpenalty = ['l2']\n",
    "\t\tloss = ['hinge', 'squared_hinge']\n",
    "\t\tif with_nb_features:\n",
    "\t\t\tparameters = {'clf__C': C, 'clf__alpha': alpha, 'clf__max_iter':max_iter, 'clf__loss': loss, 'clf__penalty': penalty}\n",
    "\t\telse:\n",
    "\t\t\tparameters = {'clf__C': C,'clf__max_iter':max_iter, 'clf__loss': loss, 'clf__penalty': penalty}\n",
    "\t\tseed = 50\n",
    "\t\tif with_random_search: \n",
    "\t\t\trandom_search = RandomizedSearchCV(pclf, param_distributions = parameters, cv=2, verbose = 10, random_state = seed, n_iter = 50)\n",
    "\t\t\treturn random_search\n",
    "\t\t\n",
    "\t\treturn pclf"
   ]
  },
  {
   "cell_type": "code",
   "execution_count": 7,
   "metadata": {},
   "outputs": [],
   "source": [
    "f = Features()"
   ]
  },
  {
   "cell_type": "markdown",
   "metadata": {},
   "source": [
    "## MR Polarity Dataset with NB-SVM\n"
   ]
  },
  {
   "cell_type": "code",
   "execution_count": 8,
   "metadata": {},
   "outputs": [],
   "source": [
    "pclf = f.pipelined_features()\n",
    "data = {}\n",
    "neg_values = get_data('rt-polaritydata/rt-polarity.neg', 'neg')\n",
    "pos_values = get_data('rt-polaritydata/rt-polarity.pos', 'pos')\n",
    "data['neg'] = neg_values[0]\n",
    "data['pos'] = pos_values[0]\n",
    "train_docs = []\n",
    "train_docs.extend(data['neg'])\n",
    "train_docs.extend(data['pos'])\n",
    "train_labels = []\n",
    "train_labels.extend(neg_values[1])\n",
    "train_labels.extend(pos_values[1])\n",
    "X_train, X_test, y_train, y_test = train_test_split(train_docs, train_labels, test_size=0.1, random_state=42)"
   ]
  },
  {
   "cell_type": "code",
   "execution_count": 9,
   "metadata": {
    "scrolled": true
   },
   "outputs": [
    {
     "name": "stdout",
     "output_type": "stream",
     "text": [
      "Fitting 2 folds for each of 50 candidates, totalling 100 fits\n",
      "[CV] clf__penalty=l2, clf__max_iter=3500, clf__loss=squared_hinge, clf__alpha=1000, clf__C=1 \n"
     ]
    },
    {
     "name": "stderr",
     "output_type": "stream",
     "text": [
      "[Parallel(n_jobs=1)]: Using backend SequentialBackend with 1 concurrent workers.\n"
     ]
    },
    {
     "name": "stdout",
     "output_type": "stream",
     "text": [
      "[CV]  clf__penalty=l2, clf__max_iter=3500, clf__loss=squared_hinge, clf__alpha=1000, clf__C=1, score=0.7594831179658191, total=   3.8s\n",
      "[CV] clf__penalty=l2, clf__max_iter=3500, clf__loss=squared_hinge, clf__alpha=1000, clf__C=1 \n"
     ]
    },
    {
     "name": "stderr",
     "output_type": "stream",
     "text": [
      "[Parallel(n_jobs=1)]: Done   1 out of   1 | elapsed:    4.5s remaining:    0.0s\n"
     ]
    },
    {
     "name": "stdout",
     "output_type": "stream",
     "text": [
      "[CV]  clf__penalty=l2, clf__max_iter=3500, clf__loss=squared_hinge, clf__alpha=1000, clf__C=1, score=0.7488013341671879, total=   1.6s\n",
      "[CV] clf__penalty=l2, clf__max_iter=4000, clf__loss=squared_hinge, clf__alpha=10, clf__C=10 \n"
     ]
    },
    {
     "name": "stderr",
     "output_type": "stream",
     "text": [
      "[Parallel(n_jobs=1)]: Done   2 out of   2 | elapsed:    6.7s remaining:    0.0s\n"
     ]
    },
    {
     "name": "stdout",
     "output_type": "stream",
     "text": [
      "[CV]  clf__penalty=l2, clf__max_iter=4000, clf__loss=squared_hinge, clf__alpha=10, clf__C=10, score=0.7596915381408921, total=   9.3s\n",
      "[CV] clf__penalty=l2, clf__max_iter=4000, clf__loss=squared_hinge, clf__alpha=10, clf__C=10 \n"
     ]
    },
    {
     "name": "stderr",
     "output_type": "stream",
     "text": [
      "[Parallel(n_jobs=1)]: Done   3 out of   3 | elapsed:   16.7s remaining:    0.0s\n"
     ]
    },
    {
     "name": "stdout",
     "output_type": "stream",
     "text": [
      "[CV]  clf__penalty=l2, clf__max_iter=4000, clf__loss=squared_hinge, clf__alpha=10, clf__C=10, score=0.7490097977902856, total=   1.5s\n",
      "[CV] clf__penalty=l2, clf__max_iter=5000, clf__loss=hinge, clf__alpha=0.1, clf__C=100 \n"
     ]
    },
    {
     "name": "stderr",
     "output_type": "stream",
     "text": [
      "[Parallel(n_jobs=1)]: Done   4 out of   4 | elapsed:   18.8s remaining:    0.0s\n"
     ]
    },
    {
     "name": "stdout",
     "output_type": "stream",
     "text": [
      "[CV]  clf__penalty=l2, clf__max_iter=5000, clf__loss=hinge, clf__alpha=0.1, clf__C=100, score=0.763443101292205, total=   1.6s\n",
      "[CV] clf__penalty=l2, clf__max_iter=5000, clf__loss=hinge, clf__alpha=0.1, clf__C=100 \n"
     ]
    },
    {
     "name": "stderr",
     "output_type": "stream",
     "text": [
      "[Parallel(n_jobs=1)]: Done   5 out of   5 | elapsed:   21.1s remaining:    0.0s\n"
     ]
    },
    {
     "name": "stdout",
     "output_type": "stream",
     "text": [
      "[CV]  clf__penalty=l2, clf__max_iter=5000, clf__loss=hinge, clf__alpha=0.1, clf__C=100, score=0.7540129247446321, total=   1.3s\n",
      "[CV] clf__penalty=l2, clf__max_iter=3500, clf__loss=squared_hinge, clf__alpha=1, clf__C=100 \n"
     ]
    },
    {
     "name": "stderr",
     "output_type": "stream",
     "text": [
      "[Parallel(n_jobs=1)]: Done   6 out of   6 | elapsed:   22.9s remaining:    0.0s\n"
     ]
    },
    {
     "name": "stdout",
     "output_type": "stream",
     "text": [
      "[CV]  clf__penalty=l2, clf__max_iter=3500, clf__loss=squared_hinge, clf__alpha=1, clf__C=100, score=0.7613588995414756, total=   1.6s\n",
      "[CV] clf__penalty=l2, clf__max_iter=3500, clf__loss=squared_hinge, clf__alpha=1, clf__C=100 \n"
     ]
    },
    {
     "name": "stderr",
     "output_type": "stream",
     "text": [
      "[Parallel(n_jobs=1)]: Done   7 out of   7 | elapsed:   25.3s remaining:    0.0s\n"
     ]
    },
    {
     "name": "stdout",
     "output_type": "stream",
     "text": [
      "[CV]  clf__penalty=l2, clf__max_iter=3500, clf__loss=squared_hinge, clf__alpha=1, clf__C=100, score=0.7510944340212633, total=   1.6s\n",
      "[CV] clf__penalty=l2, clf__max_iter=4000, clf__loss=hinge, clf__alpha=10, clf__C=1 \n"
     ]
    },
    {
     "name": "stderr",
     "output_type": "stream",
     "text": [
      "[Parallel(n_jobs=1)]: Done   8 out of   8 | elapsed:   27.6s remaining:    0.0s\n"
     ]
    },
    {
     "name": "stdout",
     "output_type": "stream",
     "text": [
      "[CV]  clf__penalty=l2, clf__max_iter=4000, clf__loss=hinge, clf__alpha=10, clf__C=1, score=0.7596915381408921, total=   1.4s\n",
      "[CV] clf__penalty=l2, clf__max_iter=4000, clf__loss=hinge, clf__alpha=10, clf__C=1 \n"
     ]
    },
    {
     "name": "stderr",
     "output_type": "stream",
     "text": [
      "[Parallel(n_jobs=1)]: Done   9 out of   9 | elapsed:   29.6s remaining:    0.0s\n"
     ]
    },
    {
     "name": "stdout",
     "output_type": "stream",
     "text": [
      "[CV]  clf__penalty=l2, clf__max_iter=4000, clf__loss=hinge, clf__alpha=10, clf__C=1, score=0.7490097977902856, total=   1.6s\n",
      "[CV] clf__penalty=l2, clf__max_iter=7000, clf__loss=hinge, clf__alpha=10, clf__C=1000 \n",
      "[CV]  clf__penalty=l2, clf__max_iter=7000, clf__loss=hinge, clf__alpha=10, clf__C=1000, score=0.7596915381408921, total=   1.4s\n",
      "[CV] clf__penalty=l2, clf__max_iter=7000, clf__loss=hinge, clf__alpha=10, clf__C=1000 \n",
      "[CV]  clf__penalty=l2, clf__max_iter=7000, clf__loss=hinge, clf__alpha=10, clf__C=1000, score=0.7490097977902856, total=   1.7s\n",
      "[CV] clf__penalty=l2, clf__max_iter=7000, clf__loss=hinge, clf__alpha=0.001, clf__C=10 \n",
      "[CV]  clf__penalty=l2, clf__max_iter=7000, clf__loss=hinge, clf__alpha=0.001, clf__C=10, score=0.7701125468945393, total=   1.7s\n",
      "[CV] clf__penalty=l2, clf__max_iter=7000, clf__loss=hinge, clf__alpha=0.001, clf__C=10 \n",
      "[CV]  clf__penalty=l2, clf__max_iter=7000, clf__loss=hinge, clf__alpha=0.001, clf__C=10, score=0.7550552428601209, total=   1.7s\n",
      "[CV] clf__penalty=l2, clf__max_iter=11000, clf__loss=hinge, clf__alpha=0.1, clf__C=10 \n",
      "[CV]  clf__penalty=l2, clf__max_iter=11000, clf__loss=hinge, clf__alpha=0.1, clf__C=10, score=0.763443101292205, total=   1.7s\n",
      "[CV] clf__penalty=l2, clf__max_iter=11000, clf__loss=hinge, clf__alpha=0.1, clf__C=10 \n",
      "[CV]  clf__penalty=l2, clf__max_iter=11000, clf__loss=hinge, clf__alpha=0.1, clf__C=10, score=0.7540129247446321, total=   1.6s\n",
      "[CV] clf__penalty=l2, clf__max_iter=3500, clf__loss=hinge, clf__alpha=0.001, clf__C=100 \n",
      "[CV]  clf__penalty=l2, clf__max_iter=3500, clf__loss=hinge, clf__alpha=0.001, clf__C=100, score=0.7701125468945393, total=   1.7s\n",
      "[CV] clf__penalty=l2, clf__max_iter=3500, clf__loss=hinge, clf__alpha=0.001, clf__C=100 \n",
      "[CV]  clf__penalty=l2, clf__max_iter=3500, clf__loss=hinge, clf__alpha=0.001, clf__C=100, score=0.7550552428601209, total=   1.5s\n",
      "[CV] clf__penalty=l2, clf__max_iter=6000, clf__loss=hinge, clf__alpha=0.1, clf__C=1000 \n",
      "[CV]  clf__penalty=l2, clf__max_iter=6000, clf__loss=hinge, clf__alpha=0.1, clf__C=1000, score=0.763443101292205, total=   1.7s\n",
      "[CV] clf__penalty=l2, clf__max_iter=6000, clf__loss=hinge, clf__alpha=0.1, clf__C=1000 \n",
      "[CV]  clf__penalty=l2, clf__max_iter=6000, clf__loss=hinge, clf__alpha=0.1, clf__C=1000, score=0.7540129247446321, total=   1.5s\n",
      "[CV] clf__penalty=l2, clf__max_iter=5000, clf__loss=squared_hinge, clf__alpha=0.01, clf__C=1000 \n",
      "[CV]  clf__penalty=l2, clf__max_iter=5000, clf__loss=squared_hinge, clf__alpha=0.01, clf__C=1000, score=0.7671946644435181, total=   1.4s\n",
      "[CV] clf__penalty=l2, clf__max_iter=5000, clf__loss=squared_hinge, clf__alpha=0.01, clf__C=1000 \n",
      "[CV]  clf__penalty=l2, clf__max_iter=5000, clf__loss=squared_hinge, clf__alpha=0.01, clf__C=1000, score=0.7554721701063164, total=   1.6s\n",
      "[CV] clf__penalty=l2, clf__max_iter=5000, clf__loss=squared_hinge, clf__alpha=1000, clf__C=100 \n",
      "[CV]  clf__penalty=l2, clf__max_iter=5000, clf__loss=squared_hinge, clf__alpha=1000, clf__C=100, score=0.7596915381408921, total=   1.7s\n",
      "[CV] clf__penalty=l2, clf__max_iter=5000, clf__loss=squared_hinge, clf__alpha=1000, clf__C=100 \n",
      "[CV]  clf__penalty=l2, clf__max_iter=5000, clf__loss=squared_hinge, clf__alpha=1000, clf__C=100, score=0.7488013341671879, total=   1.5s\n",
      "[CV] clf__penalty=l2, clf__max_iter=4000, clf__loss=hinge, clf__alpha=1000, clf__C=100 \n",
      "[CV]  clf__penalty=l2, clf__max_iter=4000, clf__loss=hinge, clf__alpha=1000, clf__C=100, score=0.7596915381408921, total=   1.8s\n",
      "[CV] clf__penalty=l2, clf__max_iter=4000, clf__loss=hinge, clf__alpha=1000, clf__C=100 \n",
      "[CV]  clf__penalty=l2, clf__max_iter=4000, clf__loss=hinge, clf__alpha=1000, clf__C=100, score=0.7488013341671879, total=   1.6s\n",
      "[CV] clf__penalty=l2, clf__max_iter=5000, clf__loss=squared_hinge, clf__alpha=10, clf__C=10 \n",
      "[CV]  clf__penalty=l2, clf__max_iter=5000, clf__loss=squared_hinge, clf__alpha=10, clf__C=10, score=0.7596915381408921, total=   9.0s\n",
      "[CV] clf__penalty=l2, clf__max_iter=5000, clf__loss=squared_hinge, clf__alpha=10, clf__C=10 \n",
      "[CV]  clf__penalty=l2, clf__max_iter=5000, clf__loss=squared_hinge, clf__alpha=10, clf__C=10, score=0.7490097977902856, total=   1.4s\n",
      "[CV] clf__penalty=l2, clf__max_iter=5000, clf__loss=squared_hinge, clf__alpha=0.01, clf__C=100 \n",
      "[CV]  clf__penalty=l2, clf__max_iter=5000, clf__loss=squared_hinge, clf__alpha=0.01, clf__C=100, score=0.7671946644435181, total=   1.5s\n",
      "[CV] clf__penalty=l2, clf__max_iter=5000, clf__loss=squared_hinge, clf__alpha=0.01, clf__C=100 \n",
      "[CV]  clf__penalty=l2, clf__max_iter=5000, clf__loss=squared_hinge, clf__alpha=0.01, clf__C=100, score=0.7554721701063164, total=   1.7s\n",
      "[CV] clf__penalty=l2, clf__max_iter=11000, clf__loss=squared_hinge, clf__alpha=1000, clf__C=100 \n",
      "[CV]  clf__penalty=l2, clf__max_iter=11000, clf__loss=squared_hinge, clf__alpha=1000, clf__C=100, score=0.7596915381408921, total=   1.3s\n",
      "[CV] clf__penalty=l2, clf__max_iter=11000, clf__loss=squared_hinge, clf__alpha=1000, clf__C=100 \n",
      "[CV]  clf__penalty=l2, clf__max_iter=11000, clf__loss=squared_hinge, clf__alpha=1000, clf__C=100, score=0.7488013341671879, total=   1.4s\n",
      "[CV] clf__penalty=l2, clf__max_iter=3500, clf__loss=squared_hinge, clf__alpha=0.1, clf__C=10 \n",
      "[CV]  clf__penalty=l2, clf__max_iter=3500, clf__loss=squared_hinge, clf__alpha=0.1, clf__C=10, score=0.763443101292205, total=  11.7s\n",
      "[CV] clf__penalty=l2, clf__max_iter=3500, clf__loss=squared_hinge, clf__alpha=0.1, clf__C=10 \n",
      "[CV]  clf__penalty=l2, clf__max_iter=3500, clf__loss=squared_hinge, clf__alpha=0.1, clf__C=10, score=0.7538044611215343, total=   1.4s\n",
      "[CV] clf__penalty=l2, clf__max_iter=10000, clf__loss=hinge, clf__alpha=10, clf__C=1 \n",
      "[CV]  clf__penalty=l2, clf__max_iter=10000, clf__loss=hinge, clf__alpha=10, clf__C=1, score=0.7596915381408921, total=   1.4s\n",
      "[CV] clf__penalty=l2, clf__max_iter=10000, clf__loss=hinge, clf__alpha=10, clf__C=1 \n",
      "[CV]  clf__penalty=l2, clf__max_iter=10000, clf__loss=hinge, clf__alpha=10, clf__C=1, score=0.7490097977902856, total=   1.6s\n",
      "[CV] clf__penalty=l2, clf__max_iter=9000, clf__loss=hinge, clf__alpha=100, clf__C=100 \n",
      "[CV]  clf__penalty=l2, clf__max_iter=9000, clf__loss=hinge, clf__alpha=100, clf__C=100, score=0.7594831179658191, total=   1.4s\n",
      "[CV] clf__penalty=l2, clf__max_iter=9000, clf__loss=hinge, clf__alpha=100, clf__C=100 \n",
      "[CV]  clf__penalty=l2, clf__max_iter=9000, clf__loss=hinge, clf__alpha=100, clf__C=100, score=0.7488013341671879, total=   1.5s\n",
      "[CV] clf__penalty=l2, clf__max_iter=9000, clf__loss=squared_hinge, clf__alpha=0.001, clf__C=100 \n",
      "[CV]  clf__penalty=l2, clf__max_iter=9000, clf__loss=squared_hinge, clf__alpha=0.001, clf__C=100, score=0.7701125468945393, total=   1.6s\n",
      "[CV] clf__penalty=l2, clf__max_iter=9000, clf__loss=squared_hinge, clf__alpha=0.001, clf__C=100 \n",
      "[CV]  clf__penalty=l2, clf__max_iter=9000, clf__loss=squared_hinge, clf__alpha=0.001, clf__C=100, score=0.7550552428601209, total=   1.4s\n",
      "[CV] clf__penalty=l2, clf__max_iter=6000, clf__loss=hinge, clf__alpha=0.001, clf__C=10 \n",
      "[CV]  clf__penalty=l2, clf__max_iter=6000, clf__loss=hinge, clf__alpha=0.001, clf__C=10, score=0.7701125468945393, total=   1.4s\n",
      "[CV] clf__penalty=l2, clf__max_iter=6000, clf__loss=hinge, clf__alpha=0.001, clf__C=10 \n",
      "[CV]  clf__penalty=l2, clf__max_iter=6000, clf__loss=hinge, clf__alpha=0.001, clf__C=10, score=0.7550552428601209, total=   1.3s\n",
      "[CV] clf__penalty=l2, clf__max_iter=9000, clf__loss=squared_hinge, clf__alpha=0.1, clf__C=100 \n",
      "[CV]  clf__penalty=l2, clf__max_iter=9000, clf__loss=squared_hinge, clf__alpha=0.1, clf__C=100, score=0.763443101292205, total=   1.4s\n",
      "[CV] clf__penalty=l2, clf__max_iter=9000, clf__loss=squared_hinge, clf__alpha=0.1, clf__C=100 \n",
      "[CV]  clf__penalty=l2, clf__max_iter=9000, clf__loss=squared_hinge, clf__alpha=0.1, clf__C=100, score=0.7540129247446321, total=   1.3s\n",
      "[CV] clf__penalty=l2, clf__max_iter=10000, clf__loss=hinge, clf__alpha=10, clf__C=10 \n",
      "[CV]  clf__penalty=l2, clf__max_iter=10000, clf__loss=hinge, clf__alpha=10, clf__C=10, score=0.7596915381408921, total=   1.3s\n",
      "[CV] clf__penalty=l2, clf__max_iter=10000, clf__loss=hinge, clf__alpha=10, clf__C=10 \n",
      "[CV]  clf__penalty=l2, clf__max_iter=10000, clf__loss=hinge, clf__alpha=10, clf__C=10, score=0.7490097977902856, total=   1.3s\n",
      "[CV] clf__penalty=l2, clf__max_iter=6000, clf__loss=hinge, clf__alpha=0.01, clf__C=10 \n"
     ]
    },
    {
     "name": "stdout",
     "output_type": "stream",
     "text": [
      "[CV]  clf__penalty=l2, clf__max_iter=6000, clf__loss=hinge, clf__alpha=0.01, clf__C=10, score=0.7671946644435181, total=   1.3s\n",
      "[CV] clf__penalty=l2, clf__max_iter=6000, clf__loss=hinge, clf__alpha=0.01, clf__C=10 \n",
      "[CV]  clf__penalty=l2, clf__max_iter=6000, clf__loss=hinge, clf__alpha=0.01, clf__C=10, score=0.7554721701063164, total=   1.2s\n",
      "[CV] clf__penalty=l2, clf__max_iter=6000, clf__loss=hinge, clf__alpha=0.001, clf__C=100 \n",
      "[CV]  clf__penalty=l2, clf__max_iter=6000, clf__loss=hinge, clf__alpha=0.001, clf__C=100, score=0.7701125468945393, total=   1.5s\n",
      "[CV] clf__penalty=l2, clf__max_iter=6000, clf__loss=hinge, clf__alpha=0.001, clf__C=100 \n",
      "[CV]  clf__penalty=l2, clf__max_iter=6000, clf__loss=hinge, clf__alpha=0.001, clf__C=100, score=0.7550552428601209, total=   1.4s\n",
      "[CV] clf__penalty=l2, clf__max_iter=11000, clf__loss=hinge, clf__alpha=10, clf__C=1 \n",
      "[CV]  clf__penalty=l2, clf__max_iter=11000, clf__loss=hinge, clf__alpha=10, clf__C=1, score=0.7596915381408921, total=   1.5s\n",
      "[CV] clf__penalty=l2, clf__max_iter=11000, clf__loss=hinge, clf__alpha=10, clf__C=1 \n",
      "[CV]  clf__penalty=l2, clf__max_iter=11000, clf__loss=hinge, clf__alpha=10, clf__C=1, score=0.7490097977902856, total=   1.4s\n",
      "[CV] clf__penalty=l2, clf__max_iter=11000, clf__loss=hinge, clf__alpha=100, clf__C=1000 \n",
      "[CV]  clf__penalty=l2, clf__max_iter=11000, clf__loss=hinge, clf__alpha=100, clf__C=1000, score=0.7594831179658191, total=   1.3s\n",
      "[CV] clf__penalty=l2, clf__max_iter=11000, clf__loss=hinge, clf__alpha=100, clf__C=1000 \n",
      "[CV]  clf__penalty=l2, clf__max_iter=11000, clf__loss=hinge, clf__alpha=100, clf__C=1000, score=0.7488013341671879, total=   1.3s\n",
      "[CV] clf__penalty=l2, clf__max_iter=11000, clf__loss=hinge, clf__alpha=1000, clf__C=100 \n",
      "[CV]  clf__penalty=l2, clf__max_iter=11000, clf__loss=hinge, clf__alpha=1000, clf__C=100, score=0.7596915381408921, total=   1.3s\n",
      "[CV] clf__penalty=l2, clf__max_iter=11000, clf__loss=hinge, clf__alpha=1000, clf__C=100 \n",
      "[CV]  clf__penalty=l2, clf__max_iter=11000, clf__loss=hinge, clf__alpha=1000, clf__C=100, score=0.7488013341671879, total=   1.2s\n",
      "[CV] clf__penalty=l2, clf__max_iter=5000, clf__loss=squared_hinge, clf__alpha=0.001, clf__C=1000 \n",
      "[CV]  clf__penalty=l2, clf__max_iter=5000, clf__loss=squared_hinge, clf__alpha=0.001, clf__C=1000, score=0.7701125468945393, total=   1.5s\n",
      "[CV] clf__penalty=l2, clf__max_iter=5000, clf__loss=squared_hinge, clf__alpha=0.001, clf__C=1000 \n",
      "[CV]  clf__penalty=l2, clf__max_iter=5000, clf__loss=squared_hinge, clf__alpha=0.001, clf__C=1000, score=0.7550552428601209, total=   1.2s\n",
      "[CV] clf__penalty=l2, clf__max_iter=9000, clf__loss=squared_hinge, clf__alpha=0.001, clf__C=10 \n",
      "[CV]  clf__penalty=l2, clf__max_iter=9000, clf__loss=squared_hinge, clf__alpha=0.001, clf__C=10, score=0.7701125468945393, total=   7.2s\n",
      "[CV] clf__penalty=l2, clf__max_iter=9000, clf__loss=squared_hinge, clf__alpha=0.001, clf__C=10 \n",
      "[CV]  clf__penalty=l2, clf__max_iter=9000, clf__loss=squared_hinge, clf__alpha=0.001, clf__C=10, score=0.7550552428601209, total=   1.3s\n",
      "[CV] clf__penalty=l2, clf__max_iter=3500, clf__loss=squared_hinge, clf__alpha=0.001, clf__C=100 \n",
      "[CV]  clf__penalty=l2, clf__max_iter=3500, clf__loss=squared_hinge, clf__alpha=0.001, clf__C=100, score=0.7701125468945393, total=   1.4s\n",
      "[CV] clf__penalty=l2, clf__max_iter=3500, clf__loss=squared_hinge, clf__alpha=0.001, clf__C=100 \n",
      "[CV]  clf__penalty=l2, clf__max_iter=3500, clf__loss=squared_hinge, clf__alpha=0.001, clf__C=100, score=0.7550552428601209, total=   1.6s\n",
      "[CV] clf__penalty=l2, clf__max_iter=6000, clf__loss=squared_hinge, clf__alpha=0.1, clf__C=1000 \n",
      "[CV]  clf__penalty=l2, clf__max_iter=6000, clf__loss=squared_hinge, clf__alpha=0.1, clf__C=1000, score=0.763443101292205, total=   1.4s\n",
      "[CV] clf__penalty=l2, clf__max_iter=6000, clf__loss=squared_hinge, clf__alpha=0.1, clf__C=1000 \n",
      "[CV]  clf__penalty=l2, clf__max_iter=6000, clf__loss=squared_hinge, clf__alpha=0.1, clf__C=1000, score=0.7540129247446321, total=   1.3s\n",
      "[CV] clf__penalty=l2, clf__max_iter=5000, clf__loss=squared_hinge, clf__alpha=10, clf__C=1 \n",
      "[CV]  clf__penalty=l2, clf__max_iter=5000, clf__loss=squared_hinge, clf__alpha=10, clf__C=1, score=0.759899958315965, total=   3.7s\n",
      "[CV] clf__penalty=l2, clf__max_iter=5000, clf__loss=squared_hinge, clf__alpha=10, clf__C=1 \n",
      "[CV]  clf__penalty=l2, clf__max_iter=5000, clf__loss=squared_hinge, clf__alpha=10, clf__C=1, score=0.7490097977902856, total=   1.3s\n",
      "[CV] clf__penalty=l2, clf__max_iter=9000, clf__loss=hinge, clf__alpha=0.1, clf__C=1000 \n",
      "[CV]  clf__penalty=l2, clf__max_iter=9000, clf__loss=hinge, clf__alpha=0.1, clf__C=1000, score=0.763443101292205, total=   1.3s\n",
      "[CV] clf__penalty=l2, clf__max_iter=9000, clf__loss=hinge, clf__alpha=0.1, clf__C=1000 \n",
      "[CV]  clf__penalty=l2, clf__max_iter=9000, clf__loss=hinge, clf__alpha=0.1, clf__C=1000, score=0.7540129247446321, total=   1.3s\n",
      "[CV] clf__penalty=l2, clf__max_iter=7000, clf__loss=squared_hinge, clf__alpha=0.1, clf__C=1 \n",
      "[CV]  clf__penalty=l2, clf__max_iter=7000, clf__loss=squared_hinge, clf__alpha=0.1, clf__C=1, score=0.7626094205919133, total=   4.1s\n",
      "[CV] clf__penalty=l2, clf__max_iter=7000, clf__loss=squared_hinge, clf__alpha=0.1, clf__C=1 \n",
      "[CV]  clf__penalty=l2, clf__max_iter=7000, clf__loss=squared_hinge, clf__alpha=0.1, clf__C=1, score=0.7535959974984365, total=   1.4s\n",
      "[CV] clf__penalty=l2, clf__max_iter=7000, clf__loss=hinge, clf__alpha=0.01, clf__C=10 \n",
      "[CV]  clf__penalty=l2, clf__max_iter=7000, clf__loss=hinge, clf__alpha=0.01, clf__C=10, score=0.7671946644435181, total=   1.4s\n",
      "[CV] clf__penalty=l2, clf__max_iter=7000, clf__loss=hinge, clf__alpha=0.01, clf__C=10 \n",
      "[CV]  clf__penalty=l2, clf__max_iter=7000, clf__loss=hinge, clf__alpha=0.01, clf__C=10, score=0.7554721701063164, total=   1.4s\n",
      "[CV] clf__penalty=l2, clf__max_iter=6000, clf__loss=squared_hinge, clf__alpha=0.001, clf__C=10 \n",
      "[CV]  clf__penalty=l2, clf__max_iter=6000, clf__loss=squared_hinge, clf__alpha=0.001, clf__C=10, score=0.7701125468945393, total=  11.2s\n",
      "[CV] clf__penalty=l2, clf__max_iter=6000, clf__loss=squared_hinge, clf__alpha=0.001, clf__C=10 \n",
      "[CV]  clf__penalty=l2, clf__max_iter=6000, clf__loss=squared_hinge, clf__alpha=0.001, clf__C=10, score=0.7550552428601209, total=   1.2s\n",
      "[CV] clf__penalty=l2, clf__max_iter=10000, clf__loss=hinge, clf__alpha=100, clf__C=1 \n",
      "[CV]  clf__penalty=l2, clf__max_iter=10000, clf__loss=hinge, clf__alpha=100, clf__C=1, score=0.7594831179658191, total=   1.2s\n",
      "[CV] clf__penalty=l2, clf__max_iter=10000, clf__loss=hinge, clf__alpha=100, clf__C=1 \n",
      "[CV]  clf__penalty=l2, clf__max_iter=10000, clf__loss=hinge, clf__alpha=100, clf__C=1, score=0.7488013341671879, total=   1.2s\n",
      "[CV] clf__penalty=l2, clf__max_iter=10000, clf__loss=squared_hinge, clf__alpha=0.01, clf__C=1000 \n",
      "[CV]  clf__penalty=l2, clf__max_iter=10000, clf__loss=squared_hinge, clf__alpha=0.01, clf__C=1000, score=0.7671946644435181, total=   1.2s\n",
      "[CV] clf__penalty=l2, clf__max_iter=10000, clf__loss=squared_hinge, clf__alpha=0.01, clf__C=1000 \n",
      "[CV]  clf__penalty=l2, clf__max_iter=10000, clf__loss=squared_hinge, clf__alpha=0.01, clf__C=1000, score=0.7554721701063164, total=   1.2s\n",
      "[CV] clf__penalty=l2, clf__max_iter=10000, clf__loss=hinge, clf__alpha=1000, clf__C=1 \n",
      "[CV]  clf__penalty=l2, clf__max_iter=10000, clf__loss=hinge, clf__alpha=1000, clf__C=1, score=0.7596915381408921, total=   1.7s\n",
      "[CV] clf__penalty=l2, clf__max_iter=10000, clf__loss=hinge, clf__alpha=1000, clf__C=1 \n",
      "[CV]  clf__penalty=l2, clf__max_iter=10000, clf__loss=hinge, clf__alpha=1000, clf__C=1, score=0.7488013341671879, total=   1.4s\n",
      "[CV] clf__penalty=l2, clf__max_iter=6000, clf__loss=hinge, clf__alpha=1000, clf__C=1000 \n",
      "[CV]  clf__penalty=l2, clf__max_iter=6000, clf__loss=hinge, clf__alpha=1000, clf__C=1000, score=0.7596915381408921, total=   1.4s\n",
      "[CV] clf__penalty=l2, clf__max_iter=6000, clf__loss=hinge, clf__alpha=1000, clf__C=1000 \n",
      "[CV]  clf__penalty=l2, clf__max_iter=6000, clf__loss=hinge, clf__alpha=1000, clf__C=1000, score=0.7488013341671879, total=   1.3s\n",
      "[CV] clf__penalty=l2, clf__max_iter=11000, clf__loss=hinge, clf__alpha=0.01, clf__C=10 \n",
      "[CV]  clf__penalty=l2, clf__max_iter=11000, clf__loss=hinge, clf__alpha=0.01, clf__C=10, score=0.7671946644435181, total=   1.5s\n",
      "[CV] clf__penalty=l2, clf__max_iter=11000, clf__loss=hinge, clf__alpha=0.01, clf__C=10 \n"
     ]
    },
    {
     "name": "stdout",
     "output_type": "stream",
     "text": [
      "[CV]  clf__penalty=l2, clf__max_iter=11000, clf__loss=hinge, clf__alpha=0.01, clf__C=10, score=0.7554721701063164, total=   1.3s\n",
      "[CV] clf__penalty=l2, clf__max_iter=7000, clf__loss=hinge, clf__alpha=1000, clf__C=1 \n",
      "[CV]  clf__penalty=l2, clf__max_iter=7000, clf__loss=hinge, clf__alpha=1000, clf__C=1, score=0.7596915381408921, total=   1.4s\n",
      "[CV] clf__penalty=l2, clf__max_iter=7000, clf__loss=hinge, clf__alpha=1000, clf__C=1 \n",
      "[CV]  clf__penalty=l2, clf__max_iter=7000, clf__loss=hinge, clf__alpha=1000, clf__C=1, score=0.7488013341671879, total=   1.5s\n",
      "[CV] clf__penalty=l2, clf__max_iter=3500, clf__loss=squared_hinge, clf__alpha=0.01, clf__C=100 \n",
      "[CV]  clf__penalty=l2, clf__max_iter=3500, clf__loss=squared_hinge, clf__alpha=0.01, clf__C=100, score=0.7671946644435181, total=   1.5s\n",
      "[CV] clf__penalty=l2, clf__max_iter=3500, clf__loss=squared_hinge, clf__alpha=0.01, clf__C=100 \n",
      "[CV]  clf__penalty=l2, clf__max_iter=3500, clf__loss=squared_hinge, clf__alpha=0.01, clf__C=100, score=0.7554721701063164, total=   1.5s\n",
      "[CV] clf__penalty=l2, clf__max_iter=10000, clf__loss=hinge, clf__alpha=1000, clf__C=100 \n",
      "[CV]  clf__penalty=l2, clf__max_iter=10000, clf__loss=hinge, clf__alpha=1000, clf__C=100, score=0.7596915381408921, total=   1.4s\n",
      "[CV] clf__penalty=l2, clf__max_iter=10000, clf__loss=hinge, clf__alpha=1000, clf__C=100 \n",
      "[CV]  clf__penalty=l2, clf__max_iter=10000, clf__loss=hinge, clf__alpha=1000, clf__C=100, score=0.7488013341671879, total=   1.3s\n",
      "[CV] clf__penalty=l2, clf__max_iter=5000, clf__loss=squared_hinge, clf__alpha=100, clf__C=1000 \n",
      "[CV]  clf__penalty=l2, clf__max_iter=5000, clf__loss=squared_hinge, clf__alpha=100, clf__C=1000, score=0.7594831179658191, total=   1.4s\n",
      "[CV] clf__penalty=l2, clf__max_iter=5000, clf__loss=squared_hinge, clf__alpha=100, clf__C=1000 \n",
      "[CV]  clf__penalty=l2, clf__max_iter=5000, clf__loss=squared_hinge, clf__alpha=100, clf__C=1000, score=0.7488013341671879, total=   1.3s\n",
      "[CV] clf__penalty=l2, clf__max_iter=4000, clf__loss=squared_hinge, clf__alpha=0.01, clf__C=10 \n",
      "[CV]  clf__penalty=l2, clf__max_iter=4000, clf__loss=squared_hinge, clf__alpha=0.01, clf__C=10, score=0.7671946644435181, total=  10.2s\n",
      "[CV] clf__penalty=l2, clf__max_iter=4000, clf__loss=squared_hinge, clf__alpha=0.01, clf__C=10 \n",
      "[CV]  clf__penalty=l2, clf__max_iter=4000, clf__loss=squared_hinge, clf__alpha=0.01, clf__C=10, score=0.7554721701063164, total=   1.3s\n",
      "[CV] clf__penalty=l2, clf__max_iter=7000, clf__loss=hinge, clf__alpha=0.001, clf__C=100 \n",
      "[CV]  clf__penalty=l2, clf__max_iter=7000, clf__loss=hinge, clf__alpha=0.001, clf__C=100, score=0.7701125468945393, total=   1.3s\n",
      "[CV] clf__penalty=l2, clf__max_iter=7000, clf__loss=hinge, clf__alpha=0.001, clf__C=100 \n",
      "[CV]  clf__penalty=l2, clf__max_iter=7000, clf__loss=hinge, clf__alpha=0.001, clf__C=100, score=0.7550552428601209, total=   1.3s\n",
      "[CV] clf__penalty=l2, clf__max_iter=10000, clf__loss=squared_hinge, clf__alpha=1, clf__C=1 \n",
      "[CV]  clf__penalty=l2, clf__max_iter=10000, clf__loss=squared_hinge, clf__alpha=1, clf__C=1, score=0.7613588995414756, total=   3.6s\n",
      "[CV] clf__penalty=l2, clf__max_iter=10000, clf__loss=squared_hinge, clf__alpha=1, clf__C=1 \n",
      "[CV]  clf__penalty=l2, clf__max_iter=10000, clf__loss=squared_hinge, clf__alpha=1, clf__C=1, score=0.7510944340212633, total=   1.4s\n",
      "[CV] clf__penalty=l2, clf__max_iter=6000, clf__loss=hinge, clf__alpha=0.001, clf__C=1 \n",
      "[CV]  clf__penalty=l2, clf__max_iter=6000, clf__loss=hinge, clf__alpha=0.001, clf__C=1, score=0.7701125468945393, total=   1.4s\n",
      "[CV] clf__penalty=l2, clf__max_iter=6000, clf__loss=hinge, clf__alpha=0.001, clf__C=1 \n",
      "[CV]  clf__penalty=l2, clf__max_iter=6000, clf__loss=hinge, clf__alpha=0.001, clf__C=1, score=0.7550552428601209, total=   1.4s\n"
     ]
    },
    {
     "name": "stderr",
     "output_type": "stream",
     "text": [
      "[Parallel(n_jobs=1)]: Done 100 out of 100 | elapsed:  4.5min finished\n"
     ]
    },
    {
     "data": {
      "text/plain": [
       "RandomizedSearchCV(cv=2, error_score='raise-deprecating',\n",
       "          estimator=Pipeline(memory=None,\n",
       "     steps=[('vect', CountVectorizer(analyzer='word', binary=False, decode_error='strict',\n",
       "        dtype=<class 'numpy.int64'>, encoding='utf-8', input='content',\n",
       "        lowercase=True, max_df=1.0, max_features=None, min_df=1,\n",
       "        ngram_range=(1, 2), preprocessor=None,\n",
       "        stop_words=['', ' ', '..., norm='l2')), ('clf', NBSVM(C=1.0, alpha=1.0, loss='squared_hinge', max_iter=10000, penalty='l2'))]),\n",
       "          fit_params=None, iid='warn', n_iter=50, n_jobs=None,\n",
       "          param_distributions={'clf__C': [1000, 100, 10, 1], 'clf__alpha': [0.001, 0.01, 0.1, 1, 10, 100, 1000], 'clf__max_iter': [5000, 4000, 6000, 7000, 3500, 10000, 9000, 11000], 'clf__loss': ['hinge', 'squared_hinge'], 'clf__penalty': ['l2']},\n",
       "          pre_dispatch='2*n_jobs', random_state=50, refit=True,\n",
       "          return_train_score='warn', scoring=None, verbose=10)"
      ]
     },
     "execution_count": 9,
     "metadata": {},
     "output_type": "execute_result"
    }
   ],
   "source": [
    "pclf.fit(X_train, y_train)"
   ]
  },
  {
   "cell_type": "code",
   "execution_count": 10,
   "metadata": {},
   "outputs": [
    {
     "name": "stdout",
     "output_type": "stream",
     "text": [
      "              precision    recall  f1-score   support\n",
      "\n",
      "         neg       0.82      0.81      0.81       518\n",
      "         pos       0.82      0.83      0.82       549\n",
      "\n",
      "   micro avg       0.82      0.82      0.82      1067\n",
      "   macro avg       0.82      0.82      0.82      1067\n",
      "weighted avg       0.82      0.82      0.82      1067\n",
      "\n"
     ]
    }
   ],
   "source": [
    "from sklearn import metrics\n",
    "y_pred_val = pclf.predict(X_test)\n",
    "print(metrics.classification_report(y_test, y_pred_val))\n",
    "accuracy = np.mean(y_pred_val == y_test)"
   ]
  },
  {
   "cell_type": "code",
   "execution_count": 11,
   "metadata": {},
   "outputs": [
    {
     "name": "stdout",
     "output_type": "stream",
     "text": [
      "Accuracy of model =  0.8191190253045924\n"
     ]
    }
   ],
   "source": [
    "print(\"Accuracy of model = \", accuracy)"
   ]
  },
  {
   "cell_type": "markdown",
   "metadata": {},
   "source": [
    "## Customer Review Dataset with NB-SVM"
   ]
  },
  {
   "cell_type": "code",
   "execution_count": 12,
   "metadata": {},
   "outputs": [],
   "source": [
    "def load_reviews_dataset():\n",
    "    #src = list(files.upload().values())[0]\n",
    "    #open('customer review data','wb').write(src)\n",
    "\n",
    "    products = [\"Apex AD2600 Progressive-scan DVD player.txt\"\n",
    "    ,\"Canon G3.txt\"\n",
    "    ,\"Creative Labs Nomad Jukebox Zen Xtra 40GB.txt\"\n",
    "    ,\"Nikon coolpix 4300.txt\"\n",
    "    ,\"Nokia 6610.txt\"]\n",
    "    examples = []\n",
    "    for product in products:\n",
    "        examples += list(open('./data/customer_reviews/' + product, \"r\", encoding=\"utf-8\").readlines())\n",
    "    \n",
    "    # for every examples, keep the one starting with a ranking\n",
    "    x_text, y = [],[]\n",
    "    for example in examples:\n",
    "        final_label = 0\n",
    "        temp_split = example.split(\"##\")\n",
    "        # don't consider unlabeled sentences\n",
    "        if len(temp_split) <= 1:\n",
    "            continue\n",
    "        temp_label, temp_sentence = temp_split\n",
    "        # parse the temp_label to find positive or negative\n",
    "        positive_label = temp_label.split(\"+\")\n",
    "        #print(\"len positive label: {}\".format(len(positive_label)))\n",
    "        if len(positive_label) > 1:\n",
    "            final_label = 1\n",
    "        \n",
    "        # so the final_label is either 0 or 1, 0 if negative, 1 if positive\n",
    "        final_sentence = clean_str(temp_sentence.strip())\n",
    "        x_text.append(final_sentence)\n",
    "        y.append(final_label)\n",
    "    return x_text, y\n",
    "        \n",
    "        \n",
    "x_text, y = load_reviews_dataset()\n",
    "x_text = clean_input_text(x_text)\n",
    "X_train, X_test, y_train, y_test = train_test_split(x_text, y, test_size=0.1, random_state=42)"
   ]
  },
  {
   "cell_type": "code",
   "execution_count": 13,
   "metadata": {},
   "outputs": [
    {
     "name": "stdout",
     "output_type": "stream",
     "text": [
      "Fitting 2 folds for each of 50 candidates, totalling 100 fits\n",
      "[CV] clf__penalty=l2, clf__max_iter=3500, clf__loss=squared_hinge, clf__alpha=1000, clf__C=1 \n"
     ]
    },
    {
     "name": "stderr",
     "output_type": "stream",
     "text": [
      "[Parallel(n_jobs=1)]: Using backend SequentialBackend with 1 concurrent workers.\n"
     ]
    },
    {
     "name": "stdout",
     "output_type": "stream",
     "text": [
      "[CV]  clf__penalty=l2, clf__max_iter=3500, clf__loss=squared_hinge, clf__alpha=1000, clf__C=1, score=0.7729577464788733, total=   1.2s\n",
      "[CV] clf__penalty=l2, clf__max_iter=3500, clf__loss=squared_hinge, clf__alpha=1000, clf__C=1 \n"
     ]
    },
    {
     "name": "stderr",
     "output_type": "stream",
     "text": [
      "[Parallel(n_jobs=1)]: Done   1 out of   1 | elapsed:    1.3s remaining:    0.0s\n"
     ]
    },
    {
     "name": "stdout",
     "output_type": "stream",
     "text": [
      "[CV]  clf__penalty=l2, clf__max_iter=3500, clf__loss=squared_hinge, clf__alpha=1000, clf__C=1, score=0.7491544532130778, total=   0.7s\n",
      "[CV] clf__penalty=l2, clf__max_iter=4000, clf__loss=squared_hinge, clf__alpha=10, clf__C=10 \n"
     ]
    },
    {
     "name": "stderr",
     "output_type": "stream",
     "text": [
      "[Parallel(n_jobs=1)]: Done   2 out of   2 | elapsed:    2.2s remaining:    0.0s\n",
      "C:\\Users\\Sam Cleland\\Anaconda3\\lib\\site-packages\\sklearn\\svm\\base.py:931: ConvergenceWarning: Liblinear failed to converge, increase the number of iterations.\n",
      "  \"the number of iterations.\", ConvergenceWarning)\n"
     ]
    },
    {
     "name": "stdout",
     "output_type": "stream",
     "text": [
      "[CV]  clf__penalty=l2, clf__max_iter=4000, clf__loss=squared_hinge, clf__alpha=10, clf__C=10, score=0.7695774647887323, total=   3.0s\n",
      "[CV] clf__penalty=l2, clf__max_iter=4000, clf__loss=squared_hinge, clf__alpha=10, clf__C=10 \n"
     ]
    },
    {
     "name": "stderr",
     "output_type": "stream",
     "text": [
      "[Parallel(n_jobs=1)]: Done   3 out of   3 | elapsed:    5.4s remaining:    0.0s\n"
     ]
    },
    {
     "name": "stdout",
     "output_type": "stream",
     "text": [
      "[CV]  clf__penalty=l2, clf__max_iter=4000, clf__loss=squared_hinge, clf__alpha=10, clf__C=10, score=0.7446448703494927, total=   2.3s\n",
      "[CV] clf__penalty=l2, clf__max_iter=5000, clf__loss=hinge, clf__alpha=0.1, clf__C=100 \n"
     ]
    },
    {
     "name": "stderr",
     "output_type": "stream",
     "text": [
      "[Parallel(n_jobs=1)]: Done   4 out of   4 | elapsed:    7.9s remaining:    0.0s\n"
     ]
    },
    {
     "name": "stdout",
     "output_type": "stream",
     "text": [
      "[CV]  clf__penalty=l2, clf__max_iter=5000, clf__loss=hinge, clf__alpha=0.1, clf__C=100, score=0.7791549295774648, total=   3.0s\n",
      "[CV] clf__penalty=l2, clf__max_iter=5000, clf__loss=hinge, clf__alpha=0.1, clf__C=100 \n"
     ]
    },
    {
     "name": "stderr",
     "output_type": "stream",
     "text": [
      "[Parallel(n_jobs=1)]: Done   5 out of   5 | elapsed:   11.1s remaining:    0.0s\n"
     ]
    },
    {
     "name": "stdout",
     "output_type": "stream",
     "text": [
      "[CV]  clf__penalty=l2, clf__max_iter=5000, clf__loss=hinge, clf__alpha=0.1, clf__C=100, score=0.7587373167981961, total=   0.2s\n",
      "[CV] clf__penalty=l2, clf__max_iter=3500, clf__loss=squared_hinge, clf__alpha=1, clf__C=100 \n"
     ]
    },
    {
     "name": "stderr",
     "output_type": "stream",
     "text": [
      "[Parallel(n_jobs=1)]: Done   6 out of   6 | elapsed:   11.5s remaining:    0.0s\n",
      "C:\\Users\\Sam Cleland\\Anaconda3\\lib\\site-packages\\sklearn\\svm\\base.py:931: ConvergenceWarning: Liblinear failed to converge, increase the number of iterations.\n",
      "  \"the number of iterations.\", ConvergenceWarning)\n"
     ]
    },
    {
     "name": "stdout",
     "output_type": "stream",
     "text": [
      "[CV]  clf__penalty=l2, clf__max_iter=3500, clf__loss=squared_hinge, clf__alpha=1, clf__C=100, score=0.7746478873239436, total=   2.5s\n",
      "[CV] clf__penalty=l2, clf__max_iter=3500, clf__loss=squared_hinge, clf__alpha=1, clf__C=100 \n"
     ]
    },
    {
     "name": "stderr",
     "output_type": "stream",
     "text": [
      "[Parallel(n_jobs=1)]: Done   7 out of   7 | elapsed:   14.2s remaining:    0.0s\n"
     ]
    },
    {
     "name": "stdout",
     "output_type": "stream",
     "text": [
      "[CV]  clf__penalty=l2, clf__max_iter=3500, clf__loss=squared_hinge, clf__alpha=1, clf__C=100, score=0.7519729425028185, total=   0.7s\n",
      "[CV] clf__penalty=l2, clf__max_iter=4000, clf__loss=hinge, clf__alpha=10, clf__C=1 \n"
     ]
    },
    {
     "name": "stderr",
     "output_type": "stream",
     "text": [
      "[Parallel(n_jobs=1)]: Done   8 out of   8 | elapsed:   15.1s remaining:    0.0s\n"
     ]
    },
    {
     "name": "stdout",
     "output_type": "stream",
     "text": [
      "[CV]  clf__penalty=l2, clf__max_iter=4000, clf__loss=hinge, clf__alpha=10, clf__C=1, score=0.7712676056338028, total=   0.2s\n",
      "[CV] clf__penalty=l2, clf__max_iter=4000, clf__loss=hinge, clf__alpha=10, clf__C=1 \n"
     ]
    },
    {
     "name": "stderr",
     "output_type": "stream",
     "text": [
      "[Parallel(n_jobs=1)]: Done   9 out of   9 | elapsed:   15.5s remaining:    0.0s\n"
     ]
    },
    {
     "name": "stdout",
     "output_type": "stream",
     "text": [
      "[CV]  clf__penalty=l2, clf__max_iter=4000, clf__loss=hinge, clf__alpha=10, clf__C=1, score=0.7435174746335964, total=   0.2s\n",
      "[CV] clf__penalty=l2, clf__max_iter=7000, clf__loss=hinge, clf__alpha=10, clf__C=1000 \n"
     ]
    },
    {
     "name": "stderr",
     "output_type": "stream",
     "text": [
      "C:\\Users\\Sam Cleland\\Anaconda3\\lib\\site-packages\\sklearn\\svm\\base.py:931: ConvergenceWarning: Liblinear failed to converge, increase the number of iterations.\n",
      "  \"the number of iterations.\", ConvergenceWarning)\n"
     ]
    },
    {
     "name": "stdout",
     "output_type": "stream",
     "text": [
      "[CV]  clf__penalty=l2, clf__max_iter=7000, clf__loss=hinge, clf__alpha=10, clf__C=1000, score=0.7690140845070422, total=   4.9s\n",
      "[CV] clf__penalty=l2, clf__max_iter=7000, clf__loss=hinge, clf__alpha=10, clf__C=1000 \n",
      "[CV]  clf__penalty=l2, clf__max_iter=7000, clf__loss=hinge, clf__alpha=10, clf__C=1000, score=0.7435174746335964, total=   0.2s\n",
      "[CV] clf__penalty=l2, clf__max_iter=7000, clf__loss=hinge, clf__alpha=0.001, clf__C=10 \n",
      "[CV]  clf__penalty=l2, clf__max_iter=7000, clf__loss=hinge, clf__alpha=0.001, clf__C=10, score=0.7752112676056339, total=   0.4s\n",
      "[CV] clf__penalty=l2, clf__max_iter=7000, clf__loss=hinge, clf__alpha=0.001, clf__C=10 \n",
      "[CV]  clf__penalty=l2, clf__max_iter=7000, clf__loss=hinge, clf__alpha=0.001, clf__C=10, score=0.762119503945885, total=   0.2s\n",
      "[CV] clf__penalty=l2, clf__max_iter=11000, clf__loss=hinge, clf__alpha=0.1, clf__C=10 \n",
      "[CV]  clf__penalty=l2, clf__max_iter=11000, clf__loss=hinge, clf__alpha=0.1, clf__C=10, score=0.7791549295774648, total=   0.6s\n",
      "[CV] clf__penalty=l2, clf__max_iter=11000, clf__loss=hinge, clf__alpha=0.1, clf__C=10 \n",
      "[CV]  clf__penalty=l2, clf__max_iter=11000, clf__loss=hinge, clf__alpha=0.1, clf__C=10, score=0.7587373167981961, total=   0.2s\n",
      "[CV] clf__penalty=l2, clf__max_iter=3500, clf__loss=hinge, clf__alpha=0.001, clf__C=100 \n"
     ]
    },
    {
     "name": "stderr",
     "output_type": "stream",
     "text": [
      "C:\\Users\\Sam Cleland\\Anaconda3\\lib\\site-packages\\sklearn\\svm\\base.py:931: ConvergenceWarning: Liblinear failed to converge, increase the number of iterations.\n",
      "  \"the number of iterations.\", ConvergenceWarning)\n"
     ]
    },
    {
     "name": "stdout",
     "output_type": "stream",
     "text": [
      "[CV]  clf__penalty=l2, clf__max_iter=3500, clf__loss=hinge, clf__alpha=0.001, clf__C=100, score=0.7729577464788733, total=   2.7s\n",
      "[CV] clf__penalty=l2, clf__max_iter=3500, clf__loss=hinge, clf__alpha=0.001, clf__C=100 \n",
      "[CV]  clf__penalty=l2, clf__max_iter=3500, clf__loss=hinge, clf__alpha=0.001, clf__C=100, score=0.762119503945885, total=   0.2s\n",
      "[CV] clf__penalty=l2, clf__max_iter=6000, clf__loss=hinge, clf__alpha=0.1, clf__C=1000 \n"
     ]
    },
    {
     "name": "stderr",
     "output_type": "stream",
     "text": [
      "C:\\Users\\Sam Cleland\\Anaconda3\\lib\\site-packages\\sklearn\\svm\\base.py:931: ConvergenceWarning: Liblinear failed to converge, increase the number of iterations.\n",
      "  \"the number of iterations.\", ConvergenceWarning)\n"
     ]
    },
    {
     "name": "stdout",
     "output_type": "stream",
     "text": [
      "[CV]  clf__penalty=l2, clf__max_iter=6000, clf__loss=hinge, clf__alpha=0.1, clf__C=1000, score=0.7769014084507042, total=   4.3s\n",
      "[CV] clf__penalty=l2, clf__max_iter=6000, clf__loss=hinge, clf__alpha=0.1, clf__C=1000 \n",
      "[CV]  clf__penalty=l2, clf__max_iter=6000, clf__loss=hinge, clf__alpha=0.1, clf__C=1000, score=0.7587373167981961, total=   0.2s\n",
      "[CV] clf__penalty=l2, clf__max_iter=5000, clf__loss=squared_hinge, clf__alpha=0.01, clf__C=1000 \n"
     ]
    },
    {
     "name": "stderr",
     "output_type": "stream",
     "text": [
      "C:\\Users\\Sam Cleland\\Anaconda3\\lib\\site-packages\\sklearn\\svm\\base.py:931: ConvergenceWarning: Liblinear failed to converge, increase the number of iterations.\n",
      "  \"the number of iterations.\", ConvergenceWarning)\n"
     ]
    },
    {
     "name": "stdout",
     "output_type": "stream",
     "text": [
      "[CV]  clf__penalty=l2, clf__max_iter=5000, clf__loss=squared_hinge, clf__alpha=0.01, clf__C=1000, score=0.7774647887323943, total=   3.6s\n",
      "[CV] clf__penalty=l2, clf__max_iter=5000, clf__loss=squared_hinge, clf__alpha=0.01, clf__C=1000 \n",
      "[CV]  clf__penalty=l2, clf__max_iter=5000, clf__loss=squared_hinge, clf__alpha=0.01, clf__C=1000, score=0.7638105975197295, total=   2.3s\n",
      "[CV] clf__penalty=l2, clf__max_iter=5000, clf__loss=squared_hinge, clf__alpha=1000, clf__C=100 \n"
     ]
    },
    {
     "name": "stderr",
     "output_type": "stream",
     "text": [
      "C:\\Users\\Sam Cleland\\Anaconda3\\lib\\site-packages\\sklearn\\svm\\base.py:931: ConvergenceWarning: Liblinear failed to converge, increase the number of iterations.\n",
      "  \"the number of iterations.\", ConvergenceWarning)\n"
     ]
    },
    {
     "name": "stdout",
     "output_type": "stream",
     "text": [
      "[CV]  clf__penalty=l2, clf__max_iter=5000, clf__loss=squared_hinge, clf__alpha=1000, clf__C=100, score=0.7690140845070422, total=   3.2s\n",
      "[CV] clf__penalty=l2, clf__max_iter=5000, clf__loss=squared_hinge, clf__alpha=1000, clf__C=100 \n",
      "[CV]  clf__penalty=l2, clf__max_iter=5000, clf__loss=squared_hinge, clf__alpha=1000, clf__C=100, score=0.7423900789177001, total=   0.6s\n",
      "[CV] clf__penalty=l2, clf__max_iter=4000, clf__loss=hinge, clf__alpha=1000, clf__C=100 \n"
     ]
    },
    {
     "name": "stderr",
     "output_type": "stream",
     "text": [
      "C:\\Users\\Sam Cleland\\Anaconda3\\lib\\site-packages\\sklearn\\svm\\base.py:931: ConvergenceWarning: Liblinear failed to converge, increase the number of iterations.\n",
      "  \"the number of iterations.\", ConvergenceWarning)\n"
     ]
    },
    {
     "name": "stdout",
     "output_type": "stream",
     "text": [
      "[CV]  clf__penalty=l2, clf__max_iter=4000, clf__loss=hinge, clf__alpha=1000, clf__C=100, score=0.7661971830985915, total=   2.9s\n",
      "[CV] clf__penalty=l2, clf__max_iter=4000, clf__loss=hinge, clf__alpha=1000, clf__C=100 \n",
      "[CV]  clf__penalty=l2, clf__max_iter=4000, clf__loss=hinge, clf__alpha=1000, clf__C=100, score=0.7423900789177001, total=   0.3s\n",
      "[CV] clf__penalty=l2, clf__max_iter=5000, clf__loss=squared_hinge, clf__alpha=10, clf__C=10 \n"
     ]
    },
    {
     "name": "stderr",
     "output_type": "stream",
     "text": [
      "C:\\Users\\Sam Cleland\\Anaconda3\\lib\\site-packages\\sklearn\\svm\\base.py:931: ConvergenceWarning: Liblinear failed to converge, increase the number of iterations.\n",
      "  \"the number of iterations.\", ConvergenceWarning)\n"
     ]
    },
    {
     "name": "stdout",
     "output_type": "stream",
     "text": [
      "[CV]  clf__penalty=l2, clf__max_iter=5000, clf__loss=squared_hinge, clf__alpha=10, clf__C=10, score=0.7701408450704226, total=   4.7s\n",
      "[CV] clf__penalty=l2, clf__max_iter=5000, clf__loss=squared_hinge, clf__alpha=10, clf__C=10 \n",
      "[CV]  clf__penalty=l2, clf__max_iter=5000, clf__loss=squared_hinge, clf__alpha=10, clf__C=10, score=0.7446448703494927, total=   2.0s\n",
      "[CV] clf__penalty=l2, clf__max_iter=5000, clf__loss=squared_hinge, clf__alpha=0.01, clf__C=100 \n"
     ]
    },
    {
     "name": "stderr",
     "output_type": "stream",
     "text": [
      "C:\\Users\\Sam Cleland\\Anaconda3\\lib\\site-packages\\sklearn\\svm\\base.py:931: ConvergenceWarning: Liblinear failed to converge, increase the number of iterations.\n",
      "  \"the number of iterations.\", ConvergenceWarning)\n"
     ]
    },
    {
     "name": "stdout",
     "output_type": "stream",
     "text": [
      "[CV]  clf__penalty=l2, clf__max_iter=5000, clf__loss=squared_hinge, clf__alpha=0.01, clf__C=100, score=0.7769014084507042, total=   3.8s\n",
      "[CV] clf__penalty=l2, clf__max_iter=5000, clf__loss=squared_hinge, clf__alpha=0.01, clf__C=100 \n",
      "[CV]  clf__penalty=l2, clf__max_iter=5000, clf__loss=squared_hinge, clf__alpha=0.01, clf__C=100, score=0.7638105975197295, total=   0.9s\n",
      "[CV] clf__penalty=l2, clf__max_iter=11000, clf__loss=squared_hinge, clf__alpha=1000, clf__C=100 \n"
     ]
    },
    {
     "name": "stderr",
     "output_type": "stream",
     "text": [
      "C:\\Users\\Sam Cleland\\Anaconda3\\lib\\site-packages\\sklearn\\svm\\base.py:931: ConvergenceWarning: Liblinear failed to converge, increase the number of iterations.\n",
      "  \"the number of iterations.\", ConvergenceWarning)\n"
     ]
    },
    {
     "name": "stdout",
     "output_type": "stream",
     "text": [
      "[CV]  clf__penalty=l2, clf__max_iter=11000, clf__loss=squared_hinge, clf__alpha=1000, clf__C=100, score=0.767887323943662, total=   7.0s\n",
      "[CV] clf__penalty=l2, clf__max_iter=11000, clf__loss=squared_hinge, clf__alpha=1000, clf__C=100 \n",
      "[CV]  clf__penalty=l2, clf__max_iter=11000, clf__loss=squared_hinge, clf__alpha=1000, clf__C=100, score=0.7423900789177001, total=   0.7s\n",
      "[CV] clf__penalty=l2, clf__max_iter=3500, clf__loss=squared_hinge, clf__alpha=0.1, clf__C=10 \n"
     ]
    },
    {
     "name": "stderr",
     "output_type": "stream",
     "text": [
      "C:\\Users\\Sam Cleland\\Anaconda3\\lib\\site-packages\\sklearn\\svm\\base.py:931: ConvergenceWarning: Liblinear failed to converge, increase the number of iterations.\n",
      "  \"the number of iterations.\", ConvergenceWarning)\n"
     ]
    },
    {
     "name": "stdout",
     "output_type": "stream",
     "text": [
      "[CV]  clf__penalty=l2, clf__max_iter=3500, clf__loss=squared_hinge, clf__alpha=0.1, clf__C=10, score=0.7769014084507042, total=   2.3s\n",
      "[CV] clf__penalty=l2, clf__max_iter=3500, clf__loss=squared_hinge, clf__alpha=0.1, clf__C=10 \n",
      "[CV]  clf__penalty=l2, clf__max_iter=3500, clf__loss=squared_hinge, clf__alpha=0.1, clf__C=10, score=0.762119503945885, total=   1.4s\n",
      "[CV] clf__penalty=l2, clf__max_iter=10000, clf__loss=hinge, clf__alpha=10, clf__C=1 \n",
      "[CV]  clf__penalty=l2, clf__max_iter=10000, clf__loss=hinge, clf__alpha=10, clf__C=1, score=0.7712676056338028, total=   0.3s\n",
      "[CV] clf__penalty=l2, clf__max_iter=10000, clf__loss=hinge, clf__alpha=10, clf__C=1 \n",
      "[CV]  clf__penalty=l2, clf__max_iter=10000, clf__loss=hinge, clf__alpha=10, clf__C=1, score=0.7435174746335964, total=   0.3s\n",
      "[CV] clf__penalty=l2, clf__max_iter=9000, clf__loss=hinge, clf__alpha=100, clf__C=100 \n",
      "[CV]  clf__penalty=l2, clf__max_iter=9000, clf__loss=hinge, clf__alpha=100, clf__C=100, score=0.7707042253521127, total=   4.8s\n",
      "[CV] clf__penalty=l2, clf__max_iter=9000, clf__loss=hinge, clf__alpha=100, clf__C=100 \n",
      "[CV]  clf__penalty=l2, clf__max_iter=9000, clf__loss=hinge, clf__alpha=100, clf__C=100, score=0.7423900789177001, total=   0.2s\n",
      "[CV] clf__penalty=l2, clf__max_iter=9000, clf__loss=squared_hinge, clf__alpha=0.001, clf__C=100 \n"
     ]
    },
    {
     "name": "stderr",
     "output_type": "stream",
     "text": [
      "C:\\Users\\Sam Cleland\\Anaconda3\\lib\\site-packages\\sklearn\\svm\\base.py:931: ConvergenceWarning: Liblinear failed to converge, increase the number of iterations.\n",
      "  \"the number of iterations.\", ConvergenceWarning)\n"
     ]
    },
    {
     "name": "stdout",
     "output_type": "stream",
     "text": [
      "[CV]  clf__penalty=l2, clf__max_iter=9000, clf__loss=squared_hinge, clf__alpha=0.001, clf__C=100, score=0.7735211267605634, total=   6.2s\n",
      "[CV] clf__penalty=l2, clf__max_iter=9000, clf__loss=squared_hinge, clf__alpha=0.001, clf__C=100 \n",
      "[CV]  clf__penalty=l2, clf__max_iter=9000, clf__loss=squared_hinge, clf__alpha=0.001, clf__C=100, score=0.762119503945885, total=   2.3s\n",
      "[CV] clf__penalty=l2, clf__max_iter=6000, clf__loss=hinge, clf__alpha=0.001, clf__C=10 \n",
      "[CV]  clf__penalty=l2, clf__max_iter=6000, clf__loss=hinge, clf__alpha=0.001, clf__C=10, score=0.7752112676056339, total=   0.4s\n",
      "[CV] clf__penalty=l2, clf__max_iter=6000, clf__loss=hinge, clf__alpha=0.001, clf__C=10 \n",
      "[CV]  clf__penalty=l2, clf__max_iter=6000, clf__loss=hinge, clf__alpha=0.001, clf__C=10, score=0.762119503945885, total=   0.2s\n",
      "[CV] clf__penalty=l2, clf__max_iter=9000, clf__loss=squared_hinge, clf__alpha=0.1, clf__C=100 \n"
     ]
    },
    {
     "name": "stderr",
     "output_type": "stream",
     "text": [
      "C:\\Users\\Sam Cleland\\Anaconda3\\lib\\site-packages\\sklearn\\svm\\base.py:931: ConvergenceWarning: Liblinear failed to converge, increase the number of iterations.\n",
      "  \"the number of iterations.\", ConvergenceWarning)\n"
     ]
    },
    {
     "name": "stdout",
     "output_type": "stream",
     "text": [
      "[CV]  clf__penalty=l2, clf__max_iter=9000, clf__loss=squared_hinge, clf__alpha=0.1, clf__C=100, score=0.7769014084507042, total=   6.1s\n",
      "[CV] clf__penalty=l2, clf__max_iter=9000, clf__loss=squared_hinge, clf__alpha=0.1, clf__C=100 \n",
      "[CV]  clf__penalty=l2, clf__max_iter=9000, clf__loss=squared_hinge, clf__alpha=0.1, clf__C=100, score=0.758173618940248, total=   0.8s\n",
      "[CV] clf__penalty=l2, clf__max_iter=10000, clf__loss=hinge, clf__alpha=10, clf__C=10 \n",
      "[CV]  clf__penalty=l2, clf__max_iter=10000, clf__loss=hinge, clf__alpha=10, clf__C=10, score=0.7712676056338028, total=   0.5s\n",
      "[CV] clf__penalty=l2, clf__max_iter=10000, clf__loss=hinge, clf__alpha=10, clf__C=10 \n",
      "[CV]  clf__penalty=l2, clf__max_iter=10000, clf__loss=hinge, clf__alpha=10, clf__C=10, score=0.7435174746335964, total=   0.2s\n",
      "[CV] clf__penalty=l2, clf__max_iter=6000, clf__loss=hinge, clf__alpha=0.01, clf__C=10 \n",
      "[CV]  clf__penalty=l2, clf__max_iter=6000, clf__loss=hinge, clf__alpha=0.01, clf__C=10, score=0.7797183098591549, total=   0.4s\n",
      "[CV] clf__penalty=l2, clf__max_iter=6000, clf__loss=hinge, clf__alpha=0.01, clf__C=10 \n",
      "[CV]  clf__penalty=l2, clf__max_iter=6000, clf__loss=hinge, clf__alpha=0.01, clf__C=10, score=0.7638105975197295, total=   0.2s\n",
      "[CV] clf__penalty=l2, clf__max_iter=6000, clf__loss=hinge, clf__alpha=0.001, clf__C=100 \n",
      "[CV]  clf__penalty=l2, clf__max_iter=6000, clf__loss=hinge, clf__alpha=0.001, clf__C=100, score=0.7752112676056339, total=   3.0s\n",
      "[CV] clf__penalty=l2, clf__max_iter=6000, clf__loss=hinge, clf__alpha=0.001, clf__C=100 \n",
      "[CV]  clf__penalty=l2, clf__max_iter=6000, clf__loss=hinge, clf__alpha=0.001, clf__C=100, score=0.762119503945885, total=   0.2s\n",
      "[CV] clf__penalty=l2, clf__max_iter=11000, clf__loss=hinge, clf__alpha=10, clf__C=1 \n",
      "[CV]  clf__penalty=l2, clf__max_iter=11000, clf__loss=hinge, clf__alpha=10, clf__C=1, score=0.7712676056338028, total=   0.2s\n",
      "[CV] clf__penalty=l2, clf__max_iter=11000, clf__loss=hinge, clf__alpha=10, clf__C=1 \n",
      "[CV]  clf__penalty=l2, clf__max_iter=11000, clf__loss=hinge, clf__alpha=10, clf__C=1, score=0.7435174746335964, total=   0.2s\n",
      "[CV] clf__penalty=l2, clf__max_iter=11000, clf__loss=hinge, clf__alpha=100, clf__C=1000 \n"
     ]
    },
    {
     "name": "stderr",
     "output_type": "stream",
     "text": [
      "C:\\Users\\Sam Cleland\\Anaconda3\\lib\\site-packages\\sklearn\\svm\\base.py:931: ConvergenceWarning: Liblinear failed to converge, increase the number of iterations.\n",
      "  \"the number of iterations.\", ConvergenceWarning)\n"
     ]
    },
    {
     "name": "stdout",
     "output_type": "stream",
     "text": [
      "[CV]  clf__penalty=l2, clf__max_iter=11000, clf__loss=hinge, clf__alpha=100, clf__C=1000, score=0.7695774647887323, total=   7.6s\n",
      "[CV] clf__penalty=l2, clf__max_iter=11000, clf__loss=hinge, clf__alpha=100, clf__C=1000 \n",
      "[CV]  clf__penalty=l2, clf__max_iter=11000, clf__loss=hinge, clf__alpha=100, clf__C=1000, score=0.7423900789177001, total=   0.2s\n",
      "[CV] clf__penalty=l2, clf__max_iter=11000, clf__loss=hinge, clf__alpha=1000, clf__C=100 \n",
      "[CV]  clf__penalty=l2, clf__max_iter=11000, clf__loss=hinge, clf__alpha=1000, clf__C=100, score=0.7701408450704226, total=   4.6s\n",
      "[CV] clf__penalty=l2, clf__max_iter=11000, clf__loss=hinge, clf__alpha=1000, clf__C=100 \n",
      "[CV]  clf__penalty=l2, clf__max_iter=11000, clf__loss=hinge, clf__alpha=1000, clf__C=100, score=0.7423900789177001, total=   0.2s\n",
      "[CV] clf__penalty=l2, clf__max_iter=5000, clf__loss=squared_hinge, clf__alpha=0.001, clf__C=1000 \n"
     ]
    },
    {
     "name": "stderr",
     "output_type": "stream",
     "text": [
      "C:\\Users\\Sam Cleland\\Anaconda3\\lib\\site-packages\\sklearn\\svm\\base.py:931: ConvergenceWarning: Liblinear failed to converge, increase the number of iterations.\n",
      "  \"the number of iterations.\", ConvergenceWarning)\n"
     ]
    },
    {
     "name": "stdout",
     "output_type": "stream",
     "text": [
      "[CV]  clf__penalty=l2, clf__max_iter=5000, clf__loss=squared_hinge, clf__alpha=0.001, clf__C=1000, score=0.7740845070422535, total=   3.8s\n",
      "[CV] clf__penalty=l2, clf__max_iter=5000, clf__loss=squared_hinge, clf__alpha=0.001, clf__C=1000 \n",
      "[CV]  clf__penalty=l2, clf__max_iter=5000, clf__loss=squared_hinge, clf__alpha=0.001, clf__C=1000, score=0.762119503945885, total=   2.4s\n",
      "[CV] clf__penalty=l2, clf__max_iter=9000, clf__loss=squared_hinge, clf__alpha=0.001, clf__C=10 \n",
      "[CV]  clf__penalty=l2, clf__max_iter=9000, clf__loss=squared_hinge, clf__alpha=0.001, clf__C=10, score=0.7746478873239436, total=   5.8s\n",
      "[CV] clf__penalty=l2, clf__max_iter=9000, clf__loss=squared_hinge, clf__alpha=0.001, clf__C=10 \n",
      "[CV]  clf__penalty=l2, clf__max_iter=9000, clf__loss=squared_hinge, clf__alpha=0.001, clf__C=10, score=0.7626832018038332, total=   1.4s\n",
      "[CV] clf__penalty=l2, clf__max_iter=3500, clf__loss=squared_hinge, clf__alpha=0.001, clf__C=100 \n"
     ]
    },
    {
     "name": "stderr",
     "output_type": "stream",
     "text": [
      "C:\\Users\\Sam Cleland\\Anaconda3\\lib\\site-packages\\sklearn\\svm\\base.py:931: ConvergenceWarning: Liblinear failed to converge, increase the number of iterations.\n",
      "  \"the number of iterations.\", ConvergenceWarning)\n"
     ]
    },
    {
     "name": "stdout",
     "output_type": "stream",
     "text": [
      "[CV]  clf__penalty=l2, clf__max_iter=3500, clf__loss=squared_hinge, clf__alpha=0.001, clf__C=100, score=0.7740845070422535, total=   2.7s\n",
      "[CV] clf__penalty=l2, clf__max_iter=3500, clf__loss=squared_hinge, clf__alpha=0.001, clf__C=100 \n"
     ]
    },
    {
     "name": "stderr",
     "output_type": "stream",
     "text": [
      "C:\\Users\\Sam Cleland\\Anaconda3\\lib\\site-packages\\sklearn\\svm\\base.py:931: ConvergenceWarning: Liblinear failed to converge, increase the number of iterations.\n",
      "  \"the number of iterations.\", ConvergenceWarning)\n"
     ]
    },
    {
     "name": "stdout",
     "output_type": "stream",
     "text": [
      "[CV]  clf__penalty=l2, clf__max_iter=3500, clf__loss=squared_hinge, clf__alpha=0.001, clf__C=100, score=0.762119503945885, total=   1.9s\n",
      "[CV] clf__penalty=l2, clf__max_iter=6000, clf__loss=squared_hinge, clf__alpha=0.1, clf__C=1000 \n"
     ]
    },
    {
     "name": "stderr",
     "output_type": "stream",
     "text": [
      "C:\\Users\\Sam Cleland\\Anaconda3\\lib\\site-packages\\sklearn\\svm\\base.py:931: ConvergenceWarning: Liblinear failed to converge, increase the number of iterations.\n",
      "  \"the number of iterations.\", ConvergenceWarning)\n"
     ]
    },
    {
     "name": "stdout",
     "output_type": "stream",
     "text": [
      "[CV]  clf__penalty=l2, clf__max_iter=6000, clf__loss=squared_hinge, clf__alpha=0.1, clf__C=1000, score=0.7774647887323943, total=   4.5s\n",
      "[CV] clf__penalty=l2, clf__max_iter=6000, clf__loss=squared_hinge, clf__alpha=0.1, clf__C=1000 \n",
      "[CV]  clf__penalty=l2, clf__max_iter=6000, clf__loss=squared_hinge, clf__alpha=0.1, clf__C=1000, score=0.7587373167981961, total=   2.1s\n",
      "[CV] clf__penalty=l2, clf__max_iter=5000, clf__loss=squared_hinge, clf__alpha=10, clf__C=1 \n",
      "[CV]  clf__penalty=l2, clf__max_iter=5000, clf__loss=squared_hinge, clf__alpha=10, clf__C=1, score=0.772394366197183, total=   1.1s\n",
      "[CV] clf__penalty=l2, clf__max_iter=5000, clf__loss=squared_hinge, clf__alpha=10, clf__C=1 \n",
      "[CV]  clf__penalty=l2, clf__max_iter=5000, clf__loss=squared_hinge, clf__alpha=10, clf__C=1, score=0.7480270574971815, total=   0.7s\n",
      "[CV] clf__penalty=l2, clf__max_iter=9000, clf__loss=hinge, clf__alpha=0.1, clf__C=1000 \n"
     ]
    },
    {
     "name": "stderr",
     "output_type": "stream",
     "text": [
      "C:\\Users\\Sam Cleland\\Anaconda3\\lib\\site-packages\\sklearn\\svm\\base.py:931: ConvergenceWarning: Liblinear failed to converge, increase the number of iterations.\n",
      "  \"the number of iterations.\", ConvergenceWarning)\n"
     ]
    },
    {
     "name": "stdout",
     "output_type": "stream",
     "text": [
      "[CV]  clf__penalty=l2, clf__max_iter=9000, clf__loss=hinge, clf__alpha=0.1, clf__C=1000, score=0.775774647887324, total=   7.1s\n",
      "[CV] clf__penalty=l2, clf__max_iter=9000, clf__loss=hinge, clf__alpha=0.1, clf__C=1000 \n",
      "[CV]  clf__penalty=l2, clf__max_iter=9000, clf__loss=hinge, clf__alpha=0.1, clf__C=1000, score=0.7587373167981961, total=   0.2s\n",
      "[CV] clf__penalty=l2, clf__max_iter=7000, clf__loss=squared_hinge, clf__alpha=0.1, clf__C=1 \n",
      "[CV]  clf__penalty=l2, clf__max_iter=7000, clf__loss=squared_hinge, clf__alpha=0.1, clf__C=1, score=0.7808450704225353, total=   0.9s\n",
      "[CV] clf__penalty=l2, clf__max_iter=7000, clf__loss=squared_hinge, clf__alpha=0.1, clf__C=1 \n",
      "[CV]  clf__penalty=l2, clf__max_iter=7000, clf__loss=squared_hinge, clf__alpha=0.1, clf__C=1, score=0.7694475760992108, total=   0.5s\n",
      "[CV] clf__penalty=l2, clf__max_iter=7000, clf__loss=hinge, clf__alpha=0.01, clf__C=10 \n",
      "[CV]  clf__penalty=l2, clf__max_iter=7000, clf__loss=hinge, clf__alpha=0.01, clf__C=10, score=0.7797183098591549, total=   0.4s\n",
      "[CV] clf__penalty=l2, clf__max_iter=7000, clf__loss=hinge, clf__alpha=0.01, clf__C=10 \n",
      "[CV]  clf__penalty=l2, clf__max_iter=7000, clf__loss=hinge, clf__alpha=0.01, clf__C=10, score=0.7638105975197295, total=   0.2s\n",
      "[CV] clf__penalty=l2, clf__max_iter=6000, clf__loss=squared_hinge, clf__alpha=0.001, clf__C=10 \n"
     ]
    },
    {
     "name": "stderr",
     "output_type": "stream",
     "text": [
      "C:\\Users\\Sam Cleland\\Anaconda3\\lib\\site-packages\\sklearn\\svm\\base.py:931: ConvergenceWarning: Liblinear failed to converge, increase the number of iterations.\n",
      "  \"the number of iterations.\", ConvergenceWarning)\n"
     ]
    },
    {
     "name": "stdout",
     "output_type": "stream",
     "text": [
      "[CV]  clf__penalty=l2, clf__max_iter=6000, clf__loss=squared_hinge, clf__alpha=0.001, clf__C=10, score=0.7746478873239436, total=   4.1s\n",
      "[CV] clf__penalty=l2, clf__max_iter=6000, clf__loss=squared_hinge, clf__alpha=0.001, clf__C=10 \n",
      "[CV]  clf__penalty=l2, clf__max_iter=6000, clf__loss=squared_hinge, clf__alpha=0.001, clf__C=10, score=0.7626832018038332, total=   2.3s\n",
      "[CV] clf__penalty=l2, clf__max_iter=10000, clf__loss=hinge, clf__alpha=100, clf__C=1 \n",
      "[CV]  clf__penalty=l2, clf__max_iter=10000, clf__loss=hinge, clf__alpha=100, clf__C=1, score=0.7707042253521127, total=   0.2s\n",
      "[CV] clf__penalty=l2, clf__max_iter=10000, clf__loss=hinge, clf__alpha=100, clf__C=1 \n",
      "[CV]  clf__penalty=l2, clf__max_iter=10000, clf__loss=hinge, clf__alpha=100, clf__C=1, score=0.7423900789177001, total=   0.3s\n",
      "[CV] clf__penalty=l2, clf__max_iter=10000, clf__loss=squared_hinge, clf__alpha=0.01, clf__C=1000 \n"
     ]
    },
    {
     "name": "stderr",
     "output_type": "stream",
     "text": [
      "C:\\Users\\Sam Cleland\\Anaconda3\\lib\\site-packages\\sklearn\\svm\\base.py:931: ConvergenceWarning: Liblinear failed to converge, increase the number of iterations.\n",
      "  \"the number of iterations.\", ConvergenceWarning)\n"
     ]
    },
    {
     "name": "stdout",
     "output_type": "stream",
     "text": [
      "[CV]  clf__penalty=l2, clf__max_iter=10000, clf__loss=squared_hinge, clf__alpha=0.01, clf__C=1000, score=0.7769014084507042, total=   7.4s\n",
      "[CV] clf__penalty=l2, clf__max_iter=10000, clf__loss=squared_hinge, clf__alpha=0.01, clf__C=1000 \n",
      "[CV]  clf__penalty=l2, clf__max_iter=10000, clf__loss=squared_hinge, clf__alpha=0.01, clf__C=1000, score=0.7638105975197295, total=   2.0s\n",
      "[CV] clf__penalty=l2, clf__max_iter=10000, clf__loss=hinge, clf__alpha=1000, clf__C=1 \n",
      "[CV]  clf__penalty=l2, clf__max_iter=10000, clf__loss=hinge, clf__alpha=1000, clf__C=1, score=0.7701408450704226, total=   0.2s\n",
      "[CV] clf__penalty=l2, clf__max_iter=10000, clf__loss=hinge, clf__alpha=1000, clf__C=1 \n",
      "[CV]  clf__penalty=l2, clf__max_iter=10000, clf__loss=hinge, clf__alpha=1000, clf__C=1, score=0.7423900789177001, total=   0.2s\n",
      "[CV] clf__penalty=l2, clf__max_iter=6000, clf__loss=hinge, clf__alpha=1000, clf__C=1000 \n"
     ]
    },
    {
     "name": "stderr",
     "output_type": "stream",
     "text": [
      "C:\\Users\\Sam Cleland\\Anaconda3\\lib\\site-packages\\sklearn\\svm\\base.py:931: ConvergenceWarning: Liblinear failed to converge, increase the number of iterations.\n",
      "  \"the number of iterations.\", ConvergenceWarning)\n"
     ]
    },
    {
     "name": "stdout",
     "output_type": "stream",
     "text": [
      "[CV]  clf__penalty=l2, clf__max_iter=6000, clf__loss=hinge, clf__alpha=1000, clf__C=1000, score=0.7673239436619719, total=   4.2s\n",
      "[CV] clf__penalty=l2, clf__max_iter=6000, clf__loss=hinge, clf__alpha=1000, clf__C=1000 \n",
      "[CV]  clf__penalty=l2, clf__max_iter=6000, clf__loss=hinge, clf__alpha=1000, clf__C=1000, score=0.7423900789177001, total=   0.2s\n",
      "[CV] clf__penalty=l2, clf__max_iter=11000, clf__loss=hinge, clf__alpha=0.01, clf__C=10 \n",
      "[CV]  clf__penalty=l2, clf__max_iter=11000, clf__loss=hinge, clf__alpha=0.01, clf__C=10, score=0.7797183098591549, total=   0.5s\n",
      "[CV] clf__penalty=l2, clf__max_iter=11000, clf__loss=hinge, clf__alpha=0.01, clf__C=10 \n",
      "[CV]  clf__penalty=l2, clf__max_iter=11000, clf__loss=hinge, clf__alpha=0.01, clf__C=10, score=0.7638105975197295, total=   0.2s\n",
      "[CV] clf__penalty=l2, clf__max_iter=7000, clf__loss=hinge, clf__alpha=1000, clf__C=1 \n",
      "[CV]  clf__penalty=l2, clf__max_iter=7000, clf__loss=hinge, clf__alpha=1000, clf__C=1, score=0.7701408450704226, total=   0.2s\n",
      "[CV] clf__penalty=l2, clf__max_iter=7000, clf__loss=hinge, clf__alpha=1000, clf__C=1 \n",
      "[CV]  clf__penalty=l2, clf__max_iter=7000, clf__loss=hinge, clf__alpha=1000, clf__C=1, score=0.7423900789177001, total=   0.2s\n",
      "[CV] clf__penalty=l2, clf__max_iter=3500, clf__loss=squared_hinge, clf__alpha=0.01, clf__C=100 \n"
     ]
    },
    {
     "name": "stderr",
     "output_type": "stream",
     "text": [
      "C:\\Users\\Sam Cleland\\Anaconda3\\lib\\site-packages\\sklearn\\svm\\base.py:931: ConvergenceWarning: Liblinear failed to converge, increase the number of iterations.\n",
      "  \"the number of iterations.\", ConvergenceWarning)\n"
     ]
    },
    {
     "name": "stdout",
     "output_type": "stream",
     "text": [
      "[CV]  clf__penalty=l2, clf__max_iter=3500, clf__loss=squared_hinge, clf__alpha=0.01, clf__C=100, score=0.7791549295774648, total=   2.5s\n",
      "[CV] clf__penalty=l2, clf__max_iter=3500, clf__loss=squared_hinge, clf__alpha=0.01, clf__C=100 \n",
      "[CV]  clf__penalty=l2, clf__max_iter=3500, clf__loss=squared_hinge, clf__alpha=0.01, clf__C=100, score=0.7638105975197295, total=   0.9s\n",
      "[CV] clf__penalty=l2, clf__max_iter=10000, clf__loss=hinge, clf__alpha=1000, clf__C=100 \n",
      "[CV]  clf__penalty=l2, clf__max_iter=10000, clf__loss=hinge, clf__alpha=1000, clf__C=100, score=0.7701408450704226, total=   4.2s\n",
      "[CV] clf__penalty=l2, clf__max_iter=10000, clf__loss=hinge, clf__alpha=1000, clf__C=100 \n",
      "[CV]  clf__penalty=l2, clf__max_iter=10000, clf__loss=hinge, clf__alpha=1000, clf__C=100, score=0.7423900789177001, total=   0.2s\n",
      "[CV] clf__penalty=l2, clf__max_iter=5000, clf__loss=squared_hinge, clf__alpha=100, clf__C=1000 \n"
     ]
    },
    {
     "name": "stderr",
     "output_type": "stream",
     "text": [
      "C:\\Users\\Sam Cleland\\Anaconda3\\lib\\site-packages\\sklearn\\svm\\base.py:931: ConvergenceWarning: Liblinear failed to converge, increase the number of iterations.\n",
      "  \"the number of iterations.\", ConvergenceWarning)\n"
     ]
    },
    {
     "name": "stdout",
     "output_type": "stream",
     "text": [
      "[CV]  clf__penalty=l2, clf__max_iter=5000, clf__loss=squared_hinge, clf__alpha=100, clf__C=1000, score=0.7673239436619719, total=   3.4s\n",
      "[CV] clf__penalty=l2, clf__max_iter=5000, clf__loss=squared_hinge, clf__alpha=100, clf__C=1000 \n",
      "[CV]  clf__penalty=l2, clf__max_iter=5000, clf__loss=squared_hinge, clf__alpha=100, clf__C=1000, score=0.7423900789177001, total=   1.9s\n",
      "[CV] clf__penalty=l2, clf__max_iter=4000, clf__loss=squared_hinge, clf__alpha=0.01, clf__C=10 \n"
     ]
    },
    {
     "name": "stderr",
     "output_type": "stream",
     "text": [
      "C:\\Users\\Sam Cleland\\Anaconda3\\lib\\site-packages\\sklearn\\svm\\base.py:931: ConvergenceWarning: Liblinear failed to converge, increase the number of iterations.\n",
      "  \"the number of iterations.\", ConvergenceWarning)\n"
     ]
    },
    {
     "name": "stdout",
     "output_type": "stream",
     "text": [
      "[CV]  clf__penalty=l2, clf__max_iter=4000, clf__loss=squared_hinge, clf__alpha=0.01, clf__C=10, score=0.7785915492957747, total=   3.3s\n",
      "[CV] clf__penalty=l2, clf__max_iter=4000, clf__loss=squared_hinge, clf__alpha=0.01, clf__C=10 \n",
      "[CV]  clf__penalty=l2, clf__max_iter=4000, clf__loss=squared_hinge, clf__alpha=0.01, clf__C=10, score=0.7649379932356257, total=   1.3s\n",
      "[CV] clf__penalty=l2, clf__max_iter=7000, clf__loss=hinge, clf__alpha=0.001, clf__C=100 \n",
      "[CV]  clf__penalty=l2, clf__max_iter=7000, clf__loss=hinge, clf__alpha=0.001, clf__C=100, score=0.7752112676056339, total=   3.3s\n",
      "[CV] clf__penalty=l2, clf__max_iter=7000, clf__loss=hinge, clf__alpha=0.001, clf__C=100 \n",
      "[CV]  clf__penalty=l2, clf__max_iter=7000, clf__loss=hinge, clf__alpha=0.001, clf__C=100, score=0.762119503945885, total=   0.3s\n",
      "[CV] clf__penalty=l2, clf__max_iter=10000, clf__loss=squared_hinge, clf__alpha=1, clf__C=1 \n",
      "[CV]  clf__penalty=l2, clf__max_iter=10000, clf__loss=squared_hinge, clf__alpha=1, clf__C=1, score=0.7774647887323943, total=   1.0s\n",
      "[CV] clf__penalty=l2, clf__max_iter=10000, clf__loss=squared_hinge, clf__alpha=1, clf__C=1 \n",
      "[CV]  clf__penalty=l2, clf__max_iter=10000, clf__loss=squared_hinge, clf__alpha=1, clf__C=1, score=0.7559188275084555, total=   0.6s\n",
      "[CV] clf__penalty=l2, clf__max_iter=6000, clf__loss=hinge, clf__alpha=0.001, clf__C=1 \n",
      "[CV]  clf__penalty=l2, clf__max_iter=6000, clf__loss=hinge, clf__alpha=0.001, clf__C=1, score=0.7797183098591549, total=   0.2s\n",
      "[CV] clf__penalty=l2, clf__max_iter=6000, clf__loss=hinge, clf__alpha=0.001, clf__C=1 \n",
      "[CV]  clf__penalty=l2, clf__max_iter=6000, clf__loss=hinge, clf__alpha=0.001, clf__C=1, score=0.762119503945885, total=   0.2s\n"
     ]
    },
    {
     "name": "stderr",
     "output_type": "stream",
     "text": [
      "[Parallel(n_jobs=1)]: Done 100 out of 100 | elapsed:  3.4min finished\n"
     ]
    },
    {
     "data": {
      "text/plain": [
       "RandomizedSearchCV(cv=2, error_score='raise-deprecating',\n",
       "          estimator=Pipeline(memory=None,\n",
       "     steps=[('vect', CountVectorizer(analyzer='word', binary=False, decode_error='strict',\n",
       "        dtype=<class 'numpy.int64'>, encoding='utf-8', input='content',\n",
       "        lowercase=True, max_df=1.0, max_features=None, min_df=1,\n",
       "        ngram_range=(1, 2), preprocessor=None,\n",
       "        stop_words=['', ' ', '..., norm='l2')), ('clf', NBSVM(C=1.0, alpha=1.0, loss='squared_hinge', max_iter=10000, penalty='l2'))]),\n",
       "          fit_params=None, iid='warn', n_iter=50, n_jobs=None,\n",
       "          param_distributions={'clf__C': [1000, 100, 10, 1], 'clf__alpha': [0.001, 0.01, 0.1, 1, 10, 100, 1000], 'clf__max_iter': [5000, 4000, 6000, 7000, 3500, 10000, 9000, 11000], 'clf__loss': ['hinge', 'squared_hinge'], 'clf__penalty': ['l2']},\n",
       "          pre_dispatch='2*n_jobs', random_state=50, refit=True,\n",
       "          return_train_score='warn', scoring=None, verbose=10)"
      ]
     },
     "execution_count": 13,
     "metadata": {},
     "output_type": "execute_result"
    }
   ],
   "source": [
    "pclf = f.pipelined_features()\n",
    "pclf.fit(X_train, y_train)"
   ]
  },
  {
   "cell_type": "code",
   "execution_count": 14,
   "metadata": {
    "scrolled": true
   },
   "outputs": [
    {
     "name": "stdout",
     "output_type": "stream",
     "text": [
      "              precision    recall  f1-score   support\n",
      "\n",
      "           0       0.83      0.88      0.86       292\n",
      "           1       0.60      0.50      0.55       103\n",
      "\n",
      "   micro avg       0.78      0.78      0.78       395\n",
      "   macro avg       0.72      0.69      0.70       395\n",
      "weighted avg       0.77      0.78      0.78       395\n",
      "\n",
      "Accuracy of model =  0.7848101265822784\n"
     ]
    }
   ],
   "source": [
    "from sklearn import metrics\n",
    "y_pred_val = pclf.predict(X_test)\n",
    "print(metrics.classification_report(y_test, y_pred_val))\n",
    "accuracy = np.mean(y_pred_val == y_test)\n",
    "print(\"Accuracy of model = \", accuracy)"
   ]
  },
  {
   "cell_type": "code",
   "execution_count": 44,
   "metadata": {
    "scrolled": true
   },
   "outputs": [
    {
     "data": {
      "text/plain": [
       "Pipeline(memory=None,\n",
       "     steps=[('vect', CountVectorizer(analyzer='word', binary=False, decode_error='strict',\n",
       "        dtype=<class 'numpy.int64'>, encoding='utf-8', input='content',\n",
       "        lowercase=True, max_df=1.0, max_features=None, min_df=1,\n",
       "        ngram_range=(1, 2), preprocessor=None,\n",
       "        stop_words=['', ' ', '..., norm='l2')), ('clf', NBSVM(C=1.0, alpha=1.0, loss='squared_hinge', max_iter=10000, penalty='l2'))])"
      ]
     },
     "execution_count": 44,
     "metadata": {},
     "output_type": "execute_result"
    }
   ],
   "source": [
    "pclf = f.pipelined_features(with_random_search = False)\n",
    "pclf.fit(x_text1, y_train1)"
   ]
  },
  {
   "cell_type": "code",
   "execution_count": 55,
   "metadata": {},
   "outputs": [
    {
     "name": "stdout",
     "output_type": "stream",
     "text": [
      "              precision    recall  f1-score   support\n",
      "\n",
      "           0       0.46      0.29      0.35      2008\n",
      "           1       0.59      0.46      0.52      9255\n",
      "           2       0.86      0.92      0.89     56548\n",
      "           3       0.57      0.55      0.56     10998\n",
      "           4       0.59      0.44      0.50      3791\n",
      "\n",
      "   micro avg       0.78      0.78      0.78     82600\n",
      "   macro avg       0.61      0.53      0.56     82600\n",
      "weighted avg       0.77      0.78      0.77     82600\n",
      "\n",
      "Accuracy of model =  0.781731234866828\n"
     ]
    }
   ],
   "source": [
    "from sklearn import metrics\n",
    "y_pred_val = pclf.predict(x_text2)\n",
    "print(metrics.classification_report(y_train2, y_pred_val))\n",
    "accuracy = np.mean(y_pred_val == y_train2)\n",
    "print(\"Accuracy of model = \", accuracy)"
   ]
  },
  {
   "cell_type": "markdown",
   "metadata": {},
   "source": [
    "## SST-2 Dataset NBSVM"
   ]
  },
  {
   "cell_type": "code",
   "execution_count": 20,
   "metadata": {},
   "outputs": [],
   "source": [
    "def get_data_sst2(filepath):\n",
    "    data = []\n",
    "    labels = []\n",
    "    with open('./data/' + filepath, 'r') as f:\n",
    "        for line in f.readlines():\n",
    "            words = line.split(' ')\n",
    "            if(words[0] == '1'):\n",
    "                labels.append('pos')\n",
    "            else:\n",
    "                labels.append('neg')\n",
    "            del words[0]\n",
    "            data.append(\" \".join(words))\n",
    "    return data, labels"
   ]
  },
  {
   "cell_type": "code",
   "execution_count": 21,
   "metadata": {},
   "outputs": [],
   "source": [
    "f = Features()\n",
    "pclf = f.pipelined_features()\n",
    "train = get_data_sst2('stanfordSentimentTreeBank/stsa.binary.train')\n",
    "test = get_data_sst2('stanfordSentimentTreeBank/stsa.binary.test')"
   ]
  },
  {
   "cell_type": "code",
   "execution_count": 22,
   "metadata": {},
   "outputs": [
    {
     "name": "stdout",
     "output_type": "stream",
     "text": [
      "Fitting 2 folds for each of 50 candidates, totalling 100 fits\n",
      "[CV] clf__penalty=l2, clf__max_iter=3500, clf__loss=squared_hinge, clf__alpha=1000, clf__C=1 \n"
     ]
    },
    {
     "name": "stderr",
     "output_type": "stream",
     "text": [
      "[Parallel(n_jobs=1)]: Using backend SequentialBackend with 1 concurrent workers.\n"
     ]
    },
    {
     "name": "stdout",
     "output_type": "stream",
     "text": [
      "[CV]  clf__penalty=l2, clf__max_iter=3500, clf__loss=squared_hinge, clf__alpha=1000, clf__C=1, score=0.7826589595375723, total=   2.7s\n",
      "[CV] clf__penalty=l2, clf__max_iter=3500, clf__loss=squared_hinge, clf__alpha=1000, clf__C=1 \n"
     ]
    },
    {
     "name": "stderr",
     "output_type": "stream",
     "text": [
      "[Parallel(n_jobs=1)]: Done   1 out of   1 | elapsed:    3.0s remaining:    0.0s\n"
     ]
    },
    {
     "name": "stdout",
     "output_type": "stream",
     "text": [
      "[CV]  clf__penalty=l2, clf__max_iter=3500, clf__loss=squared_hinge, clf__alpha=1000, clf__C=1, score=0.7757225433526012, total=   2.0s\n",
      "[CV] clf__penalty=l2, clf__max_iter=4000, clf__loss=squared_hinge, clf__alpha=10, clf__C=10 \n"
     ]
    },
    {
     "name": "stderr",
     "output_type": "stream",
     "text": [
      "[Parallel(n_jobs=1)]: Done   2 out of   2 | elapsed:    5.6s remaining:    0.0s\n"
     ]
    },
    {
     "name": "stdout",
     "output_type": "stream",
     "text": [
      "[CV]  clf__penalty=l2, clf__max_iter=4000, clf__loss=squared_hinge, clf__alpha=10, clf__C=10, score=0.7826589595375723, total=   7.6s\n",
      "[CV] clf__penalty=l2, clf__max_iter=4000, clf__loss=squared_hinge, clf__alpha=10, clf__C=10 \n"
     ]
    },
    {
     "name": "stderr",
     "output_type": "stream",
     "text": [
      "[Parallel(n_jobs=1)]: Done   3 out of   3 | elapsed:   13.7s remaining:    0.0s\n"
     ]
    },
    {
     "name": "stdout",
     "output_type": "stream",
     "text": [
      "[CV]  clf__penalty=l2, clf__max_iter=4000, clf__loss=squared_hinge, clf__alpha=10, clf__C=10, score=0.7780346820809249, total=   1.4s\n",
      "[CV] clf__penalty=l2, clf__max_iter=5000, clf__loss=hinge, clf__alpha=0.1, clf__C=100 \n"
     ]
    },
    {
     "name": "stderr",
     "output_type": "stream",
     "text": [
      "[Parallel(n_jobs=1)]: Done   4 out of   4 | elapsed:   15.6s remaining:    0.0s\n"
     ]
    },
    {
     "name": "stdout",
     "output_type": "stream",
     "text": [
      "[CV]  clf__penalty=l2, clf__max_iter=5000, clf__loss=hinge, clf__alpha=0.1, clf__C=100, score=0.7846820809248555, total=   1.1s\n",
      "[CV] clf__penalty=l2, clf__max_iter=5000, clf__loss=hinge, clf__alpha=0.1, clf__C=100 \n"
     ]
    },
    {
     "name": "stderr",
     "output_type": "stream",
     "text": [
      "[Parallel(n_jobs=1)]: Done   5 out of   5 | elapsed:   17.1s remaining:    0.0s\n"
     ]
    },
    {
     "name": "stdout",
     "output_type": "stream",
     "text": [
      "[CV]  clf__penalty=l2, clf__max_iter=5000, clf__loss=hinge, clf__alpha=0.1, clf__C=100, score=0.7800578034682081, total=   1.0s\n",
      "[CV] clf__penalty=l2, clf__max_iter=3500, clf__loss=squared_hinge, clf__alpha=1, clf__C=100 \n"
     ]
    },
    {
     "name": "stderr",
     "output_type": "stream",
     "text": [
      "[Parallel(n_jobs=1)]: Done   6 out of   6 | elapsed:   18.8s remaining:    0.0s\n"
     ]
    },
    {
     "name": "stdout",
     "output_type": "stream",
     "text": [
      "[CV]  clf__penalty=l2, clf__max_iter=3500, clf__loss=squared_hinge, clf__alpha=1, clf__C=100, score=0.7826589595375723, total=   1.2s\n",
      "[CV] clf__penalty=l2, clf__max_iter=3500, clf__loss=squared_hinge, clf__alpha=1, clf__C=100 \n"
     ]
    },
    {
     "name": "stderr",
     "output_type": "stream",
     "text": [
      "[Parallel(n_jobs=1)]: Done   7 out of   7 | elapsed:   20.6s remaining:    0.0s\n"
     ]
    },
    {
     "name": "stdout",
     "output_type": "stream",
     "text": [
      "[CV]  clf__penalty=l2, clf__max_iter=3500, clf__loss=squared_hinge, clf__alpha=1, clf__C=100, score=0.7823699421965318, total=   1.1s\n",
      "[CV] clf__penalty=l2, clf__max_iter=4000, clf__loss=hinge, clf__alpha=10, clf__C=1 \n"
     ]
    },
    {
     "name": "stderr",
     "output_type": "stream",
     "text": [
      "[Parallel(n_jobs=1)]: Done   8 out of   8 | elapsed:   22.2s remaining:    0.0s\n"
     ]
    },
    {
     "name": "stdout",
     "output_type": "stream",
     "text": [
      "[CV]  clf__penalty=l2, clf__max_iter=4000, clf__loss=hinge, clf__alpha=10, clf__C=1, score=0.7826589595375723, total=   0.9s\n",
      "[CV] clf__penalty=l2, clf__max_iter=4000, clf__loss=hinge, clf__alpha=10, clf__C=1 \n"
     ]
    },
    {
     "name": "stderr",
     "output_type": "stream",
     "text": [
      "[Parallel(n_jobs=1)]: Done   9 out of   9 | elapsed:   23.6s remaining:    0.0s\n"
     ]
    },
    {
     "name": "stdout",
     "output_type": "stream",
     "text": [
      "[CV]  clf__penalty=l2, clf__max_iter=4000, clf__loss=hinge, clf__alpha=10, clf__C=1, score=0.7780346820809249, total=   1.0s\n",
      "[CV] clf__penalty=l2, clf__max_iter=7000, clf__loss=hinge, clf__alpha=10, clf__C=1000 \n",
      "[CV]  clf__penalty=l2, clf__max_iter=7000, clf__loss=hinge, clf__alpha=10, clf__C=1000, score=0.7826589595375723, total=   0.9s\n",
      "[CV] clf__penalty=l2, clf__max_iter=7000, clf__loss=hinge, clf__alpha=10, clf__C=1000 \n",
      "[CV]  clf__penalty=l2, clf__max_iter=7000, clf__loss=hinge, clf__alpha=10, clf__C=1000, score=0.7780346820809249, total=   0.9s\n",
      "[CV] clf__penalty=l2, clf__max_iter=7000, clf__loss=hinge, clf__alpha=0.001, clf__C=10 \n",
      "[CV]  clf__penalty=l2, clf__max_iter=7000, clf__loss=hinge, clf__alpha=0.001, clf__C=10, score=0.784971098265896, total=   0.8s\n",
      "[CV] clf__penalty=l2, clf__max_iter=7000, clf__loss=hinge, clf__alpha=0.001, clf__C=10 \n",
      "[CV]  clf__penalty=l2, clf__max_iter=7000, clf__loss=hinge, clf__alpha=0.001, clf__C=10, score=0.7823699421965318, total=   1.0s\n",
      "[CV] clf__penalty=l2, clf__max_iter=11000, clf__loss=hinge, clf__alpha=0.1, clf__C=10 \n",
      "[CV]  clf__penalty=l2, clf__max_iter=11000, clf__loss=hinge, clf__alpha=0.1, clf__C=10, score=0.7846820809248555, total=   0.9s\n",
      "[CV] clf__penalty=l2, clf__max_iter=11000, clf__loss=hinge, clf__alpha=0.1, clf__C=10 \n",
      "[CV]  clf__penalty=l2, clf__max_iter=11000, clf__loss=hinge, clf__alpha=0.1, clf__C=10, score=0.7800578034682081, total=   0.9s\n",
      "[CV] clf__penalty=l2, clf__max_iter=3500, clf__loss=hinge, clf__alpha=0.001, clf__C=100 \n",
      "[CV]  clf__penalty=l2, clf__max_iter=3500, clf__loss=hinge, clf__alpha=0.001, clf__C=100, score=0.784971098265896, total=   1.1s\n",
      "[CV] clf__penalty=l2, clf__max_iter=3500, clf__loss=hinge, clf__alpha=0.001, clf__C=100 \n",
      "[CV]  clf__penalty=l2, clf__max_iter=3500, clf__loss=hinge, clf__alpha=0.001, clf__C=100, score=0.7823699421965318, total=   1.4s\n",
      "[CV] clf__penalty=l2, clf__max_iter=6000, clf__loss=hinge, clf__alpha=0.1, clf__C=1000 \n",
      "[CV]  clf__penalty=l2, clf__max_iter=6000, clf__loss=hinge, clf__alpha=0.1, clf__C=1000, score=0.7846820809248555, total=   1.1s\n",
      "[CV] clf__penalty=l2, clf__max_iter=6000, clf__loss=hinge, clf__alpha=0.1, clf__C=1000 \n",
      "[CV]  clf__penalty=l2, clf__max_iter=6000, clf__loss=hinge, clf__alpha=0.1, clf__C=1000, score=0.7800578034682081, total=   1.1s\n",
      "[CV] clf__penalty=l2, clf__max_iter=5000, clf__loss=squared_hinge, clf__alpha=0.01, clf__C=1000 \n",
      "[CV]  clf__penalty=l2, clf__max_iter=5000, clf__loss=squared_hinge, clf__alpha=0.01, clf__C=1000, score=0.7858381502890174, total=   1.0s\n",
      "[CV] clf__penalty=l2, clf__max_iter=5000, clf__loss=squared_hinge, clf__alpha=0.01, clf__C=1000 \n",
      "[CV]  clf__penalty=l2, clf__max_iter=5000, clf__loss=squared_hinge, clf__alpha=0.01, clf__C=1000, score=0.7817919075144508, total=   1.2s\n",
      "[CV] clf__penalty=l2, clf__max_iter=5000, clf__loss=squared_hinge, clf__alpha=1000, clf__C=100 \n",
      "[CV]  clf__penalty=l2, clf__max_iter=5000, clf__loss=squared_hinge, clf__alpha=1000, clf__C=100, score=0.7829479768786127, total=   1.0s\n",
      "[CV] clf__penalty=l2, clf__max_iter=5000, clf__loss=squared_hinge, clf__alpha=1000, clf__C=100 \n",
      "[CV]  clf__penalty=l2, clf__max_iter=5000, clf__loss=squared_hinge, clf__alpha=1000, clf__C=100, score=0.7754335260115607, total=   1.0s\n",
      "[CV] clf__penalty=l2, clf__max_iter=4000, clf__loss=hinge, clf__alpha=1000, clf__C=100 \n",
      "[CV]  clf__penalty=l2, clf__max_iter=4000, clf__loss=hinge, clf__alpha=1000, clf__C=100, score=0.7829479768786127, total=   1.1s\n",
      "[CV] clf__penalty=l2, clf__max_iter=4000, clf__loss=hinge, clf__alpha=1000, clf__C=100 \n",
      "[CV]  clf__penalty=l2, clf__max_iter=4000, clf__loss=hinge, clf__alpha=1000, clf__C=100, score=0.7754335260115607, total=   1.1s\n",
      "[CV] clf__penalty=l2, clf__max_iter=5000, clf__loss=squared_hinge, clf__alpha=10, clf__C=10 \n",
      "[CV]  clf__penalty=l2, clf__max_iter=5000, clf__loss=squared_hinge, clf__alpha=10, clf__C=10, score=0.7826589595375723, total=   7.4s\n",
      "[CV] clf__penalty=l2, clf__max_iter=5000, clf__loss=squared_hinge, clf__alpha=10, clf__C=10 \n",
      "[CV]  clf__penalty=l2, clf__max_iter=5000, clf__loss=squared_hinge, clf__alpha=10, clf__C=10, score=0.7780346820809249, total=   1.9s\n",
      "[CV] clf__penalty=l2, clf__max_iter=5000, clf__loss=squared_hinge, clf__alpha=0.01, clf__C=100 \n",
      "[CV]  clf__penalty=l2, clf__max_iter=5000, clf__loss=squared_hinge, clf__alpha=0.01, clf__C=100, score=0.7858381502890174, total=   1.0s\n",
      "[CV] clf__penalty=l2, clf__max_iter=5000, clf__loss=squared_hinge, clf__alpha=0.01, clf__C=100 \n",
      "[CV]  clf__penalty=l2, clf__max_iter=5000, clf__loss=squared_hinge, clf__alpha=0.01, clf__C=100, score=0.7817919075144508, total=   1.2s\n",
      "[CV] clf__penalty=l2, clf__max_iter=11000, clf__loss=squared_hinge, clf__alpha=1000, clf__C=100 \n",
      "[CV]  clf__penalty=l2, clf__max_iter=11000, clf__loss=squared_hinge, clf__alpha=1000, clf__C=100, score=0.7829479768786127, total=   1.1s\n",
      "[CV] clf__penalty=l2, clf__max_iter=11000, clf__loss=squared_hinge, clf__alpha=1000, clf__C=100 \n",
      "[CV]  clf__penalty=l2, clf__max_iter=11000, clf__loss=squared_hinge, clf__alpha=1000, clf__C=100, score=0.7754335260115607, total=   1.0s\n",
      "[CV] clf__penalty=l2, clf__max_iter=3500, clf__loss=squared_hinge, clf__alpha=0.1, clf__C=10 \n",
      "[CV]  clf__penalty=l2, clf__max_iter=3500, clf__loss=squared_hinge, clf__alpha=0.1, clf__C=10, score=0.7846820809248555, total=   5.2s\n",
      "[CV] clf__penalty=l2, clf__max_iter=3500, clf__loss=squared_hinge, clf__alpha=0.1, clf__C=10 \n",
      "[CV]  clf__penalty=l2, clf__max_iter=3500, clf__loss=squared_hinge, clf__alpha=0.1, clf__C=10, score=0.7800578034682081, total=   4.5s\n",
      "[CV] clf__penalty=l2, clf__max_iter=10000, clf__loss=hinge, clf__alpha=10, clf__C=1 \n",
      "[CV]  clf__penalty=l2, clf__max_iter=10000, clf__loss=hinge, clf__alpha=10, clf__C=1, score=0.7826589595375723, total=   0.8s\n",
      "[CV] clf__penalty=l2, clf__max_iter=10000, clf__loss=hinge, clf__alpha=10, clf__C=1 \n",
      "[CV]  clf__penalty=l2, clf__max_iter=10000, clf__loss=hinge, clf__alpha=10, clf__C=1, score=0.7780346820809249, total=   0.9s\n",
      "[CV] clf__penalty=l2, clf__max_iter=9000, clf__loss=hinge, clf__alpha=100, clf__C=100 \n",
      "[CV]  clf__penalty=l2, clf__max_iter=9000, clf__loss=hinge, clf__alpha=100, clf__C=100, score=0.7835260115606937, total=   0.8s\n",
      "[CV] clf__penalty=l2, clf__max_iter=9000, clf__loss=hinge, clf__alpha=100, clf__C=100 \n",
      "[CV]  clf__penalty=l2, clf__max_iter=9000, clf__loss=hinge, clf__alpha=100, clf__C=100, score=0.7757225433526012, total=   0.9s\n",
      "[CV] clf__penalty=l2, clf__max_iter=9000, clf__loss=squared_hinge, clf__alpha=0.001, clf__C=100 \n",
      "[CV]  clf__penalty=l2, clf__max_iter=9000, clf__loss=squared_hinge, clf__alpha=0.001, clf__C=100, score=0.784971098265896, total=   0.8s\n",
      "[CV] clf__penalty=l2, clf__max_iter=9000, clf__loss=squared_hinge, clf__alpha=0.001, clf__C=100 \n",
      "[CV]  clf__penalty=l2, clf__max_iter=9000, clf__loss=squared_hinge, clf__alpha=0.001, clf__C=100, score=0.7823699421965318, total=   1.0s\n",
      "[CV] clf__penalty=l2, clf__max_iter=6000, clf__loss=hinge, clf__alpha=0.001, clf__C=10 \n",
      "[CV]  clf__penalty=l2, clf__max_iter=6000, clf__loss=hinge, clf__alpha=0.001, clf__C=10, score=0.784971098265896, total=   0.9s\n",
      "[CV] clf__penalty=l2, clf__max_iter=6000, clf__loss=hinge, clf__alpha=0.001, clf__C=10 \n",
      "[CV]  clf__penalty=l2, clf__max_iter=6000, clf__loss=hinge, clf__alpha=0.001, clf__C=10, score=0.7823699421965318, total=   1.0s\n",
      "[CV] clf__penalty=l2, clf__max_iter=9000, clf__loss=squared_hinge, clf__alpha=0.1, clf__C=100 \n",
      "[CV]  clf__penalty=l2, clf__max_iter=9000, clf__loss=squared_hinge, clf__alpha=0.1, clf__C=100, score=0.7846820809248555, total=   1.1s\n",
      "[CV] clf__penalty=l2, clf__max_iter=9000, clf__loss=squared_hinge, clf__alpha=0.1, clf__C=100 \n",
      "[CV]  clf__penalty=l2, clf__max_iter=9000, clf__loss=squared_hinge, clf__alpha=0.1, clf__C=100, score=0.7800578034682081, total=   0.9s\n",
      "[CV] clf__penalty=l2, clf__max_iter=10000, clf__loss=hinge, clf__alpha=10, clf__C=10 \n",
      "[CV]  clf__penalty=l2, clf__max_iter=10000, clf__loss=hinge, clf__alpha=10, clf__C=10, score=0.7826589595375723, total=   0.8s\n",
      "[CV] clf__penalty=l2, clf__max_iter=10000, clf__loss=hinge, clf__alpha=10, clf__C=10 \n",
      "[CV]  clf__penalty=l2, clf__max_iter=10000, clf__loss=hinge, clf__alpha=10, clf__C=10, score=0.7780346820809249, total=   1.0s\n",
      "[CV] clf__penalty=l2, clf__max_iter=6000, clf__loss=hinge, clf__alpha=0.01, clf__C=10 \n"
     ]
    },
    {
     "name": "stdout",
     "output_type": "stream",
     "text": [
      "[CV]  clf__penalty=l2, clf__max_iter=6000, clf__loss=hinge, clf__alpha=0.01, clf__C=10, score=0.7858381502890174, total=   0.8s\n",
      "[CV] clf__penalty=l2, clf__max_iter=6000, clf__loss=hinge, clf__alpha=0.01, clf__C=10 \n",
      "[CV]  clf__penalty=l2, clf__max_iter=6000, clf__loss=hinge, clf__alpha=0.01, clf__C=10, score=0.7817919075144508, total=   1.1s\n",
      "[CV] clf__penalty=l2, clf__max_iter=6000, clf__loss=hinge, clf__alpha=0.001, clf__C=100 \n",
      "[CV]  clf__penalty=l2, clf__max_iter=6000, clf__loss=hinge, clf__alpha=0.001, clf__C=100, score=0.784971098265896, total=   1.0s\n",
      "[CV] clf__penalty=l2, clf__max_iter=6000, clf__loss=hinge, clf__alpha=0.001, clf__C=100 \n",
      "[CV]  clf__penalty=l2, clf__max_iter=6000, clf__loss=hinge, clf__alpha=0.001, clf__C=100, score=0.7823699421965318, total=   1.0s\n",
      "[CV] clf__penalty=l2, clf__max_iter=11000, clf__loss=hinge, clf__alpha=10, clf__C=1 \n",
      "[CV]  clf__penalty=l2, clf__max_iter=11000, clf__loss=hinge, clf__alpha=10, clf__C=1, score=0.7826589595375723, total=   1.0s\n",
      "[CV] clf__penalty=l2, clf__max_iter=11000, clf__loss=hinge, clf__alpha=10, clf__C=1 \n",
      "[CV]  clf__penalty=l2, clf__max_iter=11000, clf__loss=hinge, clf__alpha=10, clf__C=1, score=0.7780346820809249, total=   1.5s\n",
      "[CV] clf__penalty=l2, clf__max_iter=11000, clf__loss=hinge, clf__alpha=100, clf__C=1000 \n",
      "[CV]  clf__penalty=l2, clf__max_iter=11000, clf__loss=hinge, clf__alpha=100, clf__C=1000, score=0.7835260115606937, total=   0.9s\n",
      "[CV] clf__penalty=l2, clf__max_iter=11000, clf__loss=hinge, clf__alpha=100, clf__C=1000 \n",
      "[CV]  clf__penalty=l2, clf__max_iter=11000, clf__loss=hinge, clf__alpha=100, clf__C=1000, score=0.7757225433526012, total=   0.9s\n",
      "[CV] clf__penalty=l2, clf__max_iter=11000, clf__loss=hinge, clf__alpha=1000, clf__C=100 \n",
      "[CV]  clf__penalty=l2, clf__max_iter=11000, clf__loss=hinge, clf__alpha=1000, clf__C=100, score=0.7829479768786127, total=   0.8s\n",
      "[CV] clf__penalty=l2, clf__max_iter=11000, clf__loss=hinge, clf__alpha=1000, clf__C=100 \n",
      "[CV]  clf__penalty=l2, clf__max_iter=11000, clf__loss=hinge, clf__alpha=1000, clf__C=100, score=0.7754335260115607, total=   0.9s\n",
      "[CV] clf__penalty=l2, clf__max_iter=5000, clf__loss=squared_hinge, clf__alpha=0.001, clf__C=1000 \n",
      "[CV]  clf__penalty=l2, clf__max_iter=5000, clf__loss=squared_hinge, clf__alpha=0.001, clf__C=1000, score=0.784971098265896, total=   0.8s\n",
      "[CV] clf__penalty=l2, clf__max_iter=5000, clf__loss=squared_hinge, clf__alpha=0.001, clf__C=1000 \n",
      "[CV]  clf__penalty=l2, clf__max_iter=5000, clf__loss=squared_hinge, clf__alpha=0.001, clf__C=1000, score=0.7823699421965318, total=   0.8s\n",
      "[CV] clf__penalty=l2, clf__max_iter=9000, clf__loss=squared_hinge, clf__alpha=0.001, clf__C=10 \n",
      "[CV]  clf__penalty=l2, clf__max_iter=9000, clf__loss=squared_hinge, clf__alpha=0.001, clf__C=10, score=0.784971098265896, total=   6.4s\n",
      "[CV] clf__penalty=l2, clf__max_iter=9000, clf__loss=squared_hinge, clf__alpha=0.001, clf__C=10 \n",
      "[CV]  clf__penalty=l2, clf__max_iter=9000, clf__loss=squared_hinge, clf__alpha=0.001, clf__C=10, score=0.7823699421965318, total=   5.2s\n",
      "[CV] clf__penalty=l2, clf__max_iter=3500, clf__loss=squared_hinge, clf__alpha=0.001, clf__C=100 \n",
      "[CV]  clf__penalty=l2, clf__max_iter=3500, clf__loss=squared_hinge, clf__alpha=0.001, clf__C=100, score=0.784971098265896, total=   0.9s\n",
      "[CV] clf__penalty=l2, clf__max_iter=3500, clf__loss=squared_hinge, clf__alpha=0.001, clf__C=100 \n",
      "[CV]  clf__penalty=l2, clf__max_iter=3500, clf__loss=squared_hinge, clf__alpha=0.001, clf__C=100, score=0.7823699421965318, total=   1.0s\n",
      "[CV] clf__penalty=l2, clf__max_iter=6000, clf__loss=squared_hinge, clf__alpha=0.1, clf__C=1000 \n",
      "[CV]  clf__penalty=l2, clf__max_iter=6000, clf__loss=squared_hinge, clf__alpha=0.1, clf__C=1000, score=0.7846820809248555, total=   1.1s\n",
      "[CV] clf__penalty=l2, clf__max_iter=6000, clf__loss=squared_hinge, clf__alpha=0.1, clf__C=1000 \n",
      "[CV]  clf__penalty=l2, clf__max_iter=6000, clf__loss=squared_hinge, clf__alpha=0.1, clf__C=1000, score=0.7800578034682081, total=   1.2s\n",
      "[CV] clf__penalty=l2, clf__max_iter=5000, clf__loss=squared_hinge, clf__alpha=10, clf__C=1 \n",
      "[CV]  clf__penalty=l2, clf__max_iter=5000, clf__loss=squared_hinge, clf__alpha=10, clf__C=1, score=0.7826589595375723, total=   3.0s\n",
      "[CV] clf__penalty=l2, clf__max_iter=5000, clf__loss=squared_hinge, clf__alpha=10, clf__C=1 \n",
      "[CV]  clf__penalty=l2, clf__max_iter=5000, clf__loss=squared_hinge, clf__alpha=10, clf__C=1, score=0.7777456647398844, total=   2.1s\n",
      "[CV] clf__penalty=l2, clf__max_iter=9000, clf__loss=hinge, clf__alpha=0.1, clf__C=1000 \n",
      "[CV]  clf__penalty=l2, clf__max_iter=9000, clf__loss=hinge, clf__alpha=0.1, clf__C=1000, score=0.7846820809248555, total=   0.8s\n",
      "[CV] clf__penalty=l2, clf__max_iter=9000, clf__loss=hinge, clf__alpha=0.1, clf__C=1000 \n",
      "[CV]  clf__penalty=l2, clf__max_iter=9000, clf__loss=hinge, clf__alpha=0.1, clf__C=1000, score=0.7800578034682081, total=   0.9s\n",
      "[CV] clf__penalty=l2, clf__max_iter=7000, clf__loss=squared_hinge, clf__alpha=0.1, clf__C=1 \n",
      "[CV]  clf__penalty=l2, clf__max_iter=7000, clf__loss=squared_hinge, clf__alpha=0.1, clf__C=1, score=0.7846820809248555, total=   1.8s\n",
      "[CV] clf__penalty=l2, clf__max_iter=7000, clf__loss=squared_hinge, clf__alpha=0.1, clf__C=1 \n",
      "[CV]  clf__penalty=l2, clf__max_iter=7000, clf__loss=squared_hinge, clf__alpha=0.1, clf__C=1, score=0.7800578034682081, total=   1.3s\n",
      "[CV] clf__penalty=l2, clf__max_iter=7000, clf__loss=hinge, clf__alpha=0.01, clf__C=10 \n",
      "[CV]  clf__penalty=l2, clf__max_iter=7000, clf__loss=hinge, clf__alpha=0.01, clf__C=10, score=0.7858381502890174, total=   0.8s\n",
      "[CV] clf__penalty=l2, clf__max_iter=7000, clf__loss=hinge, clf__alpha=0.01, clf__C=10 \n",
      "[CV]  clf__penalty=l2, clf__max_iter=7000, clf__loss=hinge, clf__alpha=0.01, clf__C=10, score=0.7817919075144508, total=   0.8s\n",
      "[CV] clf__penalty=l2, clf__max_iter=6000, clf__loss=squared_hinge, clf__alpha=0.001, clf__C=10 \n",
      "[CV]  clf__penalty=l2, clf__max_iter=6000, clf__loss=squared_hinge, clf__alpha=0.001, clf__C=10, score=0.784971098265896, total=   6.6s\n",
      "[CV] clf__penalty=l2, clf__max_iter=6000, clf__loss=squared_hinge, clf__alpha=0.001, clf__C=10 \n",
      "[CV]  clf__penalty=l2, clf__max_iter=6000, clf__loss=squared_hinge, clf__alpha=0.001, clf__C=10, score=0.7823699421965318, total=   1.5s\n",
      "[CV] clf__penalty=l2, clf__max_iter=10000, clf__loss=hinge, clf__alpha=100, clf__C=1 \n",
      "[CV]  clf__penalty=l2, clf__max_iter=10000, clf__loss=hinge, clf__alpha=100, clf__C=1, score=0.7835260115606937, total=   0.9s\n",
      "[CV] clf__penalty=l2, clf__max_iter=10000, clf__loss=hinge, clf__alpha=100, clf__C=1 \n",
      "[CV]  clf__penalty=l2, clf__max_iter=10000, clf__loss=hinge, clf__alpha=100, clf__C=1, score=0.7757225433526012, total=   1.1s\n",
      "[CV] clf__penalty=l2, clf__max_iter=10000, clf__loss=squared_hinge, clf__alpha=0.01, clf__C=1000 \n",
      "[CV]  clf__penalty=l2, clf__max_iter=10000, clf__loss=squared_hinge, clf__alpha=0.01, clf__C=1000, score=0.7858381502890174, total=   1.1s\n",
      "[CV] clf__penalty=l2, clf__max_iter=10000, clf__loss=squared_hinge, clf__alpha=0.01, clf__C=1000 \n",
      "[CV]  clf__penalty=l2, clf__max_iter=10000, clf__loss=squared_hinge, clf__alpha=0.01, clf__C=1000, score=0.7817919075144508, total=   1.1s\n",
      "[CV] clf__penalty=l2, clf__max_iter=10000, clf__loss=hinge, clf__alpha=1000, clf__C=1 \n",
      "[CV]  clf__penalty=l2, clf__max_iter=10000, clf__loss=hinge, clf__alpha=1000, clf__C=1, score=0.7829479768786127, total=   1.1s\n",
      "[CV] clf__penalty=l2, clf__max_iter=10000, clf__loss=hinge, clf__alpha=1000, clf__C=1 \n",
      "[CV]  clf__penalty=l2, clf__max_iter=10000, clf__loss=hinge, clf__alpha=1000, clf__C=1, score=0.7754335260115607, total=   1.1s\n",
      "[CV] clf__penalty=l2, clf__max_iter=6000, clf__loss=hinge, clf__alpha=1000, clf__C=1000 \n",
      "[CV]  clf__penalty=l2, clf__max_iter=6000, clf__loss=hinge, clf__alpha=1000, clf__C=1000, score=0.7829479768786127, total=   0.9s\n",
      "[CV] clf__penalty=l2, clf__max_iter=6000, clf__loss=hinge, clf__alpha=1000, clf__C=1000 \n",
      "[CV]  clf__penalty=l2, clf__max_iter=6000, clf__loss=hinge, clf__alpha=1000, clf__C=1000, score=0.7754335260115607, total=   1.0s\n",
      "[CV] clf__penalty=l2, clf__max_iter=11000, clf__loss=hinge, clf__alpha=0.01, clf__C=10 \n",
      "[CV]  clf__penalty=l2, clf__max_iter=11000, clf__loss=hinge, clf__alpha=0.01, clf__C=10, score=0.7858381502890174, total=   1.4s\n",
      "[CV] clf__penalty=l2, clf__max_iter=11000, clf__loss=hinge, clf__alpha=0.01, clf__C=10 \n"
     ]
    },
    {
     "name": "stdout",
     "output_type": "stream",
     "text": [
      "[CV]  clf__penalty=l2, clf__max_iter=11000, clf__loss=hinge, clf__alpha=0.01, clf__C=10, score=0.7817919075144508, total=   1.1s\n",
      "[CV] clf__penalty=l2, clf__max_iter=7000, clf__loss=hinge, clf__alpha=1000, clf__C=1 \n",
      "[CV]  clf__penalty=l2, clf__max_iter=7000, clf__loss=hinge, clf__alpha=1000, clf__C=1, score=0.7829479768786127, total=   1.0s\n",
      "[CV] clf__penalty=l2, clf__max_iter=7000, clf__loss=hinge, clf__alpha=1000, clf__C=1 \n",
      "[CV]  clf__penalty=l2, clf__max_iter=7000, clf__loss=hinge, clf__alpha=1000, clf__C=1, score=0.7754335260115607, total=   1.3s\n",
      "[CV] clf__penalty=l2, clf__max_iter=3500, clf__loss=squared_hinge, clf__alpha=0.01, clf__C=100 \n",
      "[CV]  clf__penalty=l2, clf__max_iter=3500, clf__loss=squared_hinge, clf__alpha=0.01, clf__C=100, score=0.7858381502890174, total=   0.9s\n",
      "[CV] clf__penalty=l2, clf__max_iter=3500, clf__loss=squared_hinge, clf__alpha=0.01, clf__C=100 \n",
      "[CV]  clf__penalty=l2, clf__max_iter=3500, clf__loss=squared_hinge, clf__alpha=0.01, clf__C=100, score=0.7817919075144508, total=   1.0s\n",
      "[CV] clf__penalty=l2, clf__max_iter=10000, clf__loss=hinge, clf__alpha=1000, clf__C=100 \n",
      "[CV]  clf__penalty=l2, clf__max_iter=10000, clf__loss=hinge, clf__alpha=1000, clf__C=100, score=0.7829479768786127, total=   1.1s\n",
      "[CV] clf__penalty=l2, clf__max_iter=10000, clf__loss=hinge, clf__alpha=1000, clf__C=100 \n",
      "[CV]  clf__penalty=l2, clf__max_iter=10000, clf__loss=hinge, clf__alpha=1000, clf__C=100, score=0.7754335260115607, total=   1.1s\n",
      "[CV] clf__penalty=l2, clf__max_iter=5000, clf__loss=squared_hinge, clf__alpha=100, clf__C=1000 \n",
      "[CV]  clf__penalty=l2, clf__max_iter=5000, clf__loss=squared_hinge, clf__alpha=100, clf__C=1000, score=0.7835260115606937, total=   0.8s\n",
      "[CV] clf__penalty=l2, clf__max_iter=5000, clf__loss=squared_hinge, clf__alpha=100, clf__C=1000 \n",
      "[CV]  clf__penalty=l2, clf__max_iter=5000, clf__loss=squared_hinge, clf__alpha=100, clf__C=1000, score=0.7757225433526012, total=   0.9s\n",
      "[CV] clf__penalty=l2, clf__max_iter=4000, clf__loss=squared_hinge, clf__alpha=0.01, clf__C=10 \n",
      "[CV]  clf__penalty=l2, clf__max_iter=4000, clf__loss=squared_hinge, clf__alpha=0.01, clf__C=10, score=0.7861271676300579, total=   6.3s\n",
      "[CV] clf__penalty=l2, clf__max_iter=4000, clf__loss=squared_hinge, clf__alpha=0.01, clf__C=10 \n",
      "[CV]  clf__penalty=l2, clf__max_iter=4000, clf__loss=squared_hinge, clf__alpha=0.01, clf__C=10, score=0.7817919075144508, total=   4.9s\n",
      "[CV] clf__penalty=l2, clf__max_iter=7000, clf__loss=hinge, clf__alpha=0.001, clf__C=100 \n",
      "[CV]  clf__penalty=l2, clf__max_iter=7000, clf__loss=hinge, clf__alpha=0.001, clf__C=100, score=0.784971098265896, total=   1.0s\n",
      "[CV] clf__penalty=l2, clf__max_iter=7000, clf__loss=hinge, clf__alpha=0.001, clf__C=100 \n",
      "[CV]  clf__penalty=l2, clf__max_iter=7000, clf__loss=hinge, clf__alpha=0.001, clf__C=100, score=0.7823699421965318, total=   0.9s\n",
      "[CV] clf__penalty=l2, clf__max_iter=10000, clf__loss=squared_hinge, clf__alpha=1, clf__C=1 \n",
      "[CV]  clf__penalty=l2, clf__max_iter=10000, clf__loss=squared_hinge, clf__alpha=1, clf__C=1, score=0.7826589595375723, total=   2.4s\n",
      "[CV] clf__penalty=l2, clf__max_iter=10000, clf__loss=squared_hinge, clf__alpha=1, clf__C=1 \n",
      "[CV]  clf__penalty=l2, clf__max_iter=10000, clf__loss=squared_hinge, clf__alpha=1, clf__C=1, score=0.7820809248554913, total=   1.5s\n",
      "[CV] clf__penalty=l2, clf__max_iter=6000, clf__loss=hinge, clf__alpha=0.001, clf__C=1 \n",
      "[CV]  clf__penalty=l2, clf__max_iter=6000, clf__loss=hinge, clf__alpha=0.001, clf__C=1, score=0.784971098265896, total=   0.8s\n",
      "[CV] clf__penalty=l2, clf__max_iter=6000, clf__loss=hinge, clf__alpha=0.001, clf__C=1 \n",
      "[CV]  clf__penalty=l2, clf__max_iter=6000, clf__loss=hinge, clf__alpha=0.001, clf__C=1, score=0.7823699421965318, total=   0.9s\n"
     ]
    },
    {
     "name": "stderr",
     "output_type": "stream",
     "text": [
      "[Parallel(n_jobs=1)]: Done 100 out of 100 | elapsed:  3.4min finished\n"
     ]
    },
    {
     "data": {
      "text/plain": [
       "RandomizedSearchCV(cv=2, error_score='raise-deprecating',\n",
       "          estimator=Pipeline(memory=None,\n",
       "     steps=[('vect', CountVectorizer(analyzer='word', binary=False, decode_error='strict',\n",
       "        dtype=<class 'numpy.int64'>, encoding='utf-8', input='content',\n",
       "        lowercase=True, max_df=1.0, max_features=None, min_df=1,\n",
       "        ngram_range=(1, 2), preprocessor=None,\n",
       "        stop_words=['', ' ', '..., norm='l2')), ('clf', NBSVM(C=1.0, alpha=1.0, loss='squared_hinge', max_iter=10000, penalty='l2'))]),\n",
       "          fit_params=None, iid='warn', n_iter=50, n_jobs=None,\n",
       "          param_distributions={'clf__C': [1000, 100, 10, 1], 'clf__alpha': [0.001, 0.01, 0.1, 1, 10, 100, 1000], 'clf__max_iter': [5000, 4000, 6000, 7000, 3500, 10000, 9000, 11000], 'clf__loss': ['hinge', 'squared_hinge'], 'clf__penalty': ['l2']},\n",
       "          pre_dispatch='2*n_jobs', random_state=50, refit=True,\n",
       "          return_train_score='warn', scoring=None, verbose=10)"
      ]
     },
     "execution_count": 22,
     "metadata": {},
     "output_type": "execute_result"
    }
   ],
   "source": [
    "pclf.fit(train[0], train[1])"
   ]
  },
  {
   "cell_type": "code",
   "execution_count": 23,
   "metadata": {},
   "outputs": [
    {
     "name": "stdout",
     "output_type": "stream",
     "text": [
      "              precision    recall  f1-score   support\n",
      "\n",
      "         neg       0.83      0.79      0.81       912\n",
      "         pos       0.80      0.84      0.82       909\n",
      "\n",
      "   micro avg       0.82      0.82      0.82      1821\n",
      "   macro avg       0.82      0.82      0.82      1821\n",
      "weighted avg       0.82      0.82      0.82      1821\n",
      "\n",
      "Accuracy of model =  0.8154859967051071\n"
     ]
    }
   ],
   "source": [
    "from sklearn import metrics\n",
    "y_pred_val = pclf.predict(test[0])\n",
    "print(metrics.classification_report(test[1], y_pred_val))\n",
    "accuracy = np.mean(y_pred_val == test[1])\n",
    "print(\"Accuracy of model = \", accuracy)\n"
   ]
  },
  {
   "cell_type": "markdown",
   "metadata": {},
   "source": [
    "# LinearSVC Implementation"
   ]
  },
  {
   "cell_type": "markdown",
   "metadata": {},
   "source": [
    "## MR Dataset LinearSVC"
   ]
  },
  {
   "cell_type": "code",
   "execution_count": 24,
   "metadata": {},
   "outputs": [],
   "source": [
    "f = Features()\n",
    "pclf = f.pipelined_features(with_nb_features = False)\n",
    "data = {}\n",
    "neg_values = get_data('rt-polaritydata/rt-polarity.neg', 'neg')\n",
    "pos_values = get_data('rt-polaritydata/rt-polarity.pos', 'pos')\n",
    "data['neg'] = neg_values[0]\n",
    "data['pos'] = pos_values[0]\n",
    "train_docs = []\n",
    "train_docs.extend(data['neg'])\n",
    "train_docs.extend(data['pos'])\n",
    "train_labels = []\n",
    "train_labels.extend(neg_values[1])\n",
    "train_labels.extend(pos_values[1])\n",
    "X_train, X_test, y_train, y_test = train_test_split(train_docs, train_labels, test_size=0.1, random_state=42)"
   ]
  },
  {
   "cell_type": "code",
   "execution_count": 25,
   "metadata": {},
   "outputs": [
    {
     "name": "stdout",
     "output_type": "stream",
     "text": [
      "Fitting 2 folds for each of 50 candidates, totalling 100 fits\n",
      "[CV] clf__penalty=l2, clf__max_iter=4000, clf__loss=hinge, clf__C=1000 \n"
     ]
    },
    {
     "name": "stderr",
     "output_type": "stream",
     "text": [
      "[Parallel(n_jobs=1)]: Using backend SequentialBackend with 1 concurrent workers.\n"
     ]
    },
    {
     "name": "stdout",
     "output_type": "stream",
     "text": [
      "[CV]  clf__penalty=l2, clf__max_iter=4000, clf__loss=hinge, clf__C=1000, score=0.759899958315965, total=   1.4s\n",
      "[CV] clf__penalty=l2, clf__max_iter=4000, clf__loss=hinge, clf__C=1000 \n"
     ]
    },
    {
     "name": "stderr",
     "output_type": "stream",
     "text": [
      "[Parallel(n_jobs=1)]: Done   1 out of   1 | elapsed:    1.9s remaining:    0.0s\n"
     ]
    },
    {
     "name": "stdout",
     "output_type": "stream",
     "text": [
      "[CV]  clf__penalty=l2, clf__max_iter=4000, clf__loss=hinge, clf__C=1000, score=0.7485928705440901, total=   1.4s\n",
      "[CV] clf__penalty=l2, clf__max_iter=9000, clf__loss=hinge, clf__C=10 .\n"
     ]
    },
    {
     "name": "stderr",
     "output_type": "stream",
     "text": [
      "[Parallel(n_jobs=1)]: Done   2 out of   2 | elapsed:    3.9s remaining:    0.0s\n"
     ]
    },
    {
     "name": "stdout",
     "output_type": "stream",
     "text": [
      "[CV]  clf__penalty=l2, clf__max_iter=9000, clf__loss=hinge, clf__C=10, score=0.759899958315965, total=   1.6s\n",
      "[CV] clf__penalty=l2, clf__max_iter=9000, clf__loss=hinge, clf__C=10 .\n"
     ]
    },
    {
     "name": "stderr",
     "output_type": "stream",
     "text": [
      "[Parallel(n_jobs=1)]: Done   3 out of   3 | elapsed:    6.2s remaining:    0.0s\n"
     ]
    },
    {
     "name": "stdout",
     "output_type": "stream",
     "text": [
      "[CV]  clf__penalty=l2, clf__max_iter=9000, clf__loss=hinge, clf__C=10, score=0.7485928705440901, total=   1.2s\n",
      "[CV] clf__penalty=l2, clf__max_iter=11000, clf__loss=hinge, clf__C=100 \n"
     ]
    },
    {
     "name": "stderr",
     "output_type": "stream",
     "text": [
      "[Parallel(n_jobs=1)]: Done   4 out of   4 | elapsed:    8.0s remaining:    0.0s\n"
     ]
    },
    {
     "name": "stdout",
     "output_type": "stream",
     "text": [
      "[CV]  clf__penalty=l2, clf__max_iter=11000, clf__loss=hinge, clf__C=100, score=0.759899958315965, total=   1.4s\n",
      "[CV] clf__penalty=l2, clf__max_iter=11000, clf__loss=hinge, clf__C=100 \n"
     ]
    },
    {
     "name": "stderr",
     "output_type": "stream",
     "text": [
      "[Parallel(n_jobs=1)]: Done   5 out of   5 | elapsed:   10.0s remaining:    0.0s\n"
     ]
    },
    {
     "name": "stdout",
     "output_type": "stream",
     "text": [
      "[CV]  clf__penalty=l2, clf__max_iter=11000, clf__loss=hinge, clf__C=100, score=0.7485928705440901, total=   1.3s\n",
      "[CV] clf__penalty=l2, clf__max_iter=4000, clf__loss=hinge, clf__C=100 \n"
     ]
    },
    {
     "name": "stderr",
     "output_type": "stream",
     "text": [
      "[Parallel(n_jobs=1)]: Done   6 out of   6 | elapsed:   11.8s remaining:    0.0s\n"
     ]
    },
    {
     "name": "stdout",
     "output_type": "stream",
     "text": [
      "[CV]  clf__penalty=l2, clf__max_iter=4000, clf__loss=hinge, clf__C=100, score=0.759899958315965, total=   1.2s\n",
      "[CV] clf__penalty=l2, clf__max_iter=4000, clf__loss=hinge, clf__C=100 \n"
     ]
    },
    {
     "name": "stderr",
     "output_type": "stream",
     "text": [
      "[Parallel(n_jobs=1)]: Done   7 out of   7 | elapsed:   13.6s remaining:    0.0s\n"
     ]
    },
    {
     "name": "stdout",
     "output_type": "stream",
     "text": [
      "[CV]  clf__penalty=l2, clf__max_iter=4000, clf__loss=hinge, clf__C=100, score=0.7485928705440901, total=   1.5s\n",
      "[CV] clf__penalty=l2, clf__max_iter=9000, clf__loss=squared_hinge, clf__C=10 \n"
     ]
    },
    {
     "name": "stderr",
     "output_type": "stream",
     "text": [
      "[Parallel(n_jobs=1)]: Done   8 out of   8 | elapsed:   15.7s remaining:    0.0s\n"
     ]
    },
    {
     "name": "stdout",
     "output_type": "stream",
     "text": [
      "[CV]  clf__penalty=l2, clf__max_iter=9000, clf__loss=squared_hinge, clf__C=10, score=0.760108378491038, total=   1.8s\n",
      "[CV] clf__penalty=l2, clf__max_iter=9000, clf__loss=squared_hinge, clf__C=10 \n"
     ]
    },
    {
     "name": "stderr",
     "output_type": "stream",
     "text": [
      "[Parallel(n_jobs=1)]: Done   9 out of   9 | elapsed:   18.2s remaining:    0.0s\n"
     ]
    },
    {
     "name": "stdout",
     "output_type": "stream",
     "text": [
      "[CV]  clf__penalty=l2, clf__max_iter=9000, clf__loss=squared_hinge, clf__C=10, score=0.7502605795288723, total=   1.2s\n",
      "[CV] clf__penalty=l2, clf__max_iter=7000, clf__loss=hinge, clf__C=1 ..\n",
      "[CV]  clf__penalty=l2, clf__max_iter=7000, clf__loss=hinge, clf__C=1, score=0.7611504793664027, total=   1.4s\n",
      "[CV] clf__penalty=l2, clf__max_iter=7000, clf__loss=hinge, clf__C=1 ..\n",
      "[CV]  clf__penalty=l2, clf__max_iter=7000, clf__loss=hinge, clf__C=1, score=0.7440066708359391, total=   1.2s\n",
      "[CV] clf__penalty=l2, clf__max_iter=6000, clf__loss=hinge, clf__C=10 .\n",
      "[CV]  clf__penalty=l2, clf__max_iter=6000, clf__loss=hinge, clf__C=10, score=0.759899958315965, total=   1.4s\n",
      "[CV] clf__penalty=l2, clf__max_iter=6000, clf__loss=hinge, clf__C=10 .\n",
      "[CV]  clf__penalty=l2, clf__max_iter=6000, clf__loss=hinge, clf__C=10, score=0.7485928705440901, total=   1.7s\n",
      "[CV] clf__penalty=l2, clf__max_iter=10000, clf__loss=squared_hinge, clf__C=100 \n",
      "[CV]  clf__penalty=l2, clf__max_iter=10000, clf__loss=squared_hinge, clf__C=100, score=0.7603167986661109, total=   4.2s\n",
      "[CV] clf__penalty=l2, clf__max_iter=10000, clf__loss=squared_hinge, clf__C=100 \n",
      "[CV]  clf__penalty=l2, clf__max_iter=10000, clf__loss=squared_hinge, clf__C=100, score=0.7483844069209923, total=   1.4s\n",
      "[CV] clf__penalty=l2, clf__max_iter=5000, clf__loss=squared_hinge, clf__C=1000 \n",
      "[CV]  clf__penalty=l2, clf__max_iter=5000, clf__loss=squared_hinge, clf__C=1000, score=0.760108378491038, total=   9.9s\n",
      "[CV] clf__penalty=l2, clf__max_iter=5000, clf__loss=squared_hinge, clf__C=1000 \n",
      "[CV]  clf__penalty=l2, clf__max_iter=5000, clf__loss=squared_hinge, clf__C=1000, score=0.7485928705440901, total=   1.3s\n",
      "[CV] clf__penalty=l2, clf__max_iter=3500, clf__loss=hinge, clf__C=10 .\n",
      "[CV]  clf__penalty=l2, clf__max_iter=3500, clf__loss=hinge, clf__C=10, score=0.759899958315965, total=   1.4s\n",
      "[CV] clf__penalty=l2, clf__max_iter=3500, clf__loss=hinge, clf__C=10 .\n",
      "[CV]  clf__penalty=l2, clf__max_iter=3500, clf__loss=hinge, clf__C=10, score=0.7485928705440901, total=   1.4s\n",
      "[CV] clf__penalty=l2, clf__max_iter=11000, clf__loss=squared_hinge, clf__C=1 \n",
      "[CV]  clf__penalty=l2, clf__max_iter=11000, clf__loss=squared_hinge, clf__C=1, score=0.7586494372655272, total=   1.6s\n",
      "[CV] clf__penalty=l2, clf__max_iter=11000, clf__loss=squared_hinge, clf__C=1 \n",
      "[CV]  clf__penalty=l2, clf__max_iter=11000, clf__loss=squared_hinge, clf__C=1, score=0.747759016051699, total=   1.4s\n",
      "[CV] clf__penalty=l2, clf__max_iter=4000, clf__loss=squared_hinge, clf__C=100 \n",
      "[CV]  clf__penalty=l2, clf__max_iter=4000, clf__loss=squared_hinge, clf__C=100, score=0.7603167986661109, total=   4.0s\n",
      "[CV] clf__penalty=l2, clf__max_iter=4000, clf__loss=squared_hinge, clf__C=100 \n",
      "[CV]  clf__penalty=l2, clf__max_iter=4000, clf__loss=squared_hinge, clf__C=100, score=0.7483844069209923, total=   1.2s\n",
      "[CV] clf__penalty=l2, clf__max_iter=10000, clf__loss=squared_hinge, clf__C=1 \n",
      "[CV]  clf__penalty=l2, clf__max_iter=10000, clf__loss=squared_hinge, clf__C=1, score=0.7586494372655272, total=   1.2s\n",
      "[CV] clf__penalty=l2, clf__max_iter=10000, clf__loss=squared_hinge, clf__C=1 \n",
      "[CV]  clf__penalty=l2, clf__max_iter=10000, clf__loss=squared_hinge, clf__C=1, score=0.747759016051699, total=   1.2s\n",
      "[CV] clf__penalty=l2, clf__max_iter=6000, clf__loss=hinge, clf__C=100 \n",
      "[CV]  clf__penalty=l2, clf__max_iter=6000, clf__loss=hinge, clf__C=100, score=0.759899958315965, total=   1.6s\n",
      "[CV] clf__penalty=l2, clf__max_iter=6000, clf__loss=hinge, clf__C=100 \n",
      "[CV]  clf__penalty=l2, clf__max_iter=6000, clf__loss=hinge, clf__C=100, score=0.7485928705440901, total=   1.6s\n",
      "[CV] clf__penalty=l2, clf__max_iter=11000, clf__loss=hinge, clf__C=1 .\n",
      "[CV]  clf__penalty=l2, clf__max_iter=11000, clf__loss=hinge, clf__C=1, score=0.7611504793664027, total=   1.4s\n",
      "[CV] clf__penalty=l2, clf__max_iter=11000, clf__loss=hinge, clf__C=1 .\n",
      "[CV]  clf__penalty=l2, clf__max_iter=11000, clf__loss=hinge, clf__C=1, score=0.7440066708359391, total=   1.4s\n",
      "[CV] clf__penalty=l2, clf__max_iter=10000, clf__loss=squared_hinge, clf__C=1000 \n",
      "[CV]  clf__penalty=l2, clf__max_iter=10000, clf__loss=squared_hinge, clf__C=1000, score=0.760108378491038, total=   6.2s\n",
      "[CV] clf__penalty=l2, clf__max_iter=10000, clf__loss=squared_hinge, clf__C=1000 \n",
      "[CV]  clf__penalty=l2, clf__max_iter=10000, clf__loss=squared_hinge, clf__C=1000, score=0.7485928705440901, total=   1.4s\n",
      "[CV] clf__penalty=l2, clf__max_iter=10000, clf__loss=hinge, clf__C=1 .\n",
      "[CV]  clf__penalty=l2, clf__max_iter=10000, clf__loss=hinge, clf__C=1, score=0.7611504793664027, total=   1.4s\n",
      "[CV] clf__penalty=l2, clf__max_iter=10000, clf__loss=hinge, clf__C=1 .\n",
      "[CV]  clf__penalty=l2, clf__max_iter=10000, clf__loss=hinge, clf__C=1, score=0.7440066708359391, total=   1.5s\n",
      "[CV] clf__penalty=l2, clf__max_iter=3500, clf__loss=hinge, clf__C=1 ..\n",
      "[CV]  clf__penalty=l2, clf__max_iter=3500, clf__loss=hinge, clf__C=1, score=0.7611504793664027, total=   1.3s\n",
      "[CV] clf__penalty=l2, clf__max_iter=3500, clf__loss=hinge, clf__C=1 ..\n",
      "[CV]  clf__penalty=l2, clf__max_iter=3500, clf__loss=hinge, clf__C=1, score=0.7440066708359391, total=   1.4s\n",
      "[CV] clf__penalty=l2, clf__max_iter=5000, clf__loss=hinge, clf__C=100 \n",
      "[CV]  clf__penalty=l2, clf__max_iter=5000, clf__loss=hinge, clf__C=100, score=0.759899958315965, total=   1.4s\n",
      "[CV] clf__penalty=l2, clf__max_iter=5000, clf__loss=hinge, clf__C=100 \n",
      "[CV]  clf__penalty=l2, clf__max_iter=5000, clf__loss=hinge, clf__C=100, score=0.7485928705440901, total=   1.7s\n",
      "[CV] clf__penalty=l2, clf__max_iter=6000, clf__loss=squared_hinge, clf__C=1000 \n",
      "[CV]  clf__penalty=l2, clf__max_iter=6000, clf__loss=squared_hinge, clf__C=1000, score=0.760108378491038, total=  12.9s\n",
      "[CV] clf__penalty=l2, clf__max_iter=6000, clf__loss=squared_hinge, clf__C=1000 \n",
      "[CV]  clf__penalty=l2, clf__max_iter=6000, clf__loss=squared_hinge, clf__C=1000, score=0.7485928705440901, total=   1.3s\n",
      "[CV] clf__penalty=l2, clf__max_iter=5000, clf__loss=squared_hinge, clf__C=100 \n",
      "[CV]  clf__penalty=l2, clf__max_iter=5000, clf__loss=squared_hinge, clf__C=100, score=0.7603167986661109, total=   3.6s\n",
      "[CV] clf__penalty=l2, clf__max_iter=5000, clf__loss=squared_hinge, clf__C=100 \n",
      "[CV]  clf__penalty=l2, clf__max_iter=5000, clf__loss=squared_hinge, clf__C=100, score=0.7483844069209923, total=   2.0s\n",
      "[CV] clf__penalty=l2, clf__max_iter=7000, clf__loss=squared_hinge, clf__C=10 \n",
      "[CV]  clf__penalty=l2, clf__max_iter=7000, clf__loss=squared_hinge, clf__C=10, score=0.760108378491038, total=   2.2s\n",
      "[CV] clf__penalty=l2, clf__max_iter=7000, clf__loss=squared_hinge, clf__C=10 \n",
      "[CV]  clf__penalty=l2, clf__max_iter=7000, clf__loss=squared_hinge, clf__C=10, score=0.7502605795288723, total=   1.6s\n",
      "[CV] clf__penalty=l2, clf__max_iter=3500, clf__loss=squared_hinge, clf__C=10 \n",
      "[CV]  clf__penalty=l2, clf__max_iter=3500, clf__loss=squared_hinge, clf__C=10, score=0.760108378491038, total=   1.9s\n",
      "[CV] clf__penalty=l2, clf__max_iter=3500, clf__loss=squared_hinge, clf__C=10 \n",
      "[CV]  clf__penalty=l2, clf__max_iter=3500, clf__loss=squared_hinge, clf__C=10, score=0.7502605795288723, total=   1.5s\n",
      "[CV] clf__penalty=l2, clf__max_iter=3500, clf__loss=squared_hinge, clf__C=1000 \n"
     ]
    },
    {
     "name": "stderr",
     "output_type": "stream",
     "text": [
      "C:\\Users\\Sam Cleland\\Anaconda3\\lib\\site-packages\\sklearn\\svm\\base.py:931: ConvergenceWarning: Liblinear failed to converge, increase the number of iterations.\n",
      "  \"the number of iterations.\", ConvergenceWarning)\n"
     ]
    },
    {
     "name": "stdout",
     "output_type": "stream",
     "text": [
      "[CV]  clf__penalty=l2, clf__max_iter=3500, clf__loss=squared_hinge, clf__C=1000, score=0.760108378491038, total=   9.2s\n",
      "[CV] clf__penalty=l2, clf__max_iter=3500, clf__loss=squared_hinge, clf__C=1000 \n",
      "[CV]  clf__penalty=l2, clf__max_iter=3500, clf__loss=squared_hinge, clf__C=1000, score=0.7485928705440901, total=   1.6s\n",
      "[CV] clf__penalty=l2, clf__max_iter=9000, clf__loss=squared_hinge, clf__C=1 \n",
      "[CV]  clf__penalty=l2, clf__max_iter=9000, clf__loss=squared_hinge, clf__C=1, score=0.7586494372655272, total=   1.6s\n",
      "[CV] clf__penalty=l2, clf__max_iter=9000, clf__loss=squared_hinge, clf__C=1 \n",
      "[CV]  clf__penalty=l2, clf__max_iter=9000, clf__loss=squared_hinge, clf__C=1, score=0.747759016051699, total=   1.2s\n",
      "[CV] clf__penalty=l2, clf__max_iter=6000, clf__loss=squared_hinge, clf__C=10 \n",
      "[CV]  clf__penalty=l2, clf__max_iter=6000, clf__loss=squared_hinge, clf__C=10, score=0.760108378491038, total=   1.6s\n",
      "[CV] clf__penalty=l2, clf__max_iter=6000, clf__loss=squared_hinge, clf__C=10 \n",
      "[CV]  clf__penalty=l2, clf__max_iter=6000, clf__loss=squared_hinge, clf__C=10, score=0.7502605795288723, total=   1.5s\n",
      "[CV] clf__penalty=l2, clf__max_iter=5000, clf__loss=squared_hinge, clf__C=10 \n",
      "[CV]  clf__penalty=l2, clf__max_iter=5000, clf__loss=squared_hinge, clf__C=10, score=0.760108378491038, total=   1.7s\n",
      "[CV] clf__penalty=l2, clf__max_iter=5000, clf__loss=squared_hinge, clf__C=10 \n",
      "[CV]  clf__penalty=l2, clf__max_iter=5000, clf__loss=squared_hinge, clf__C=10, score=0.7502605795288723, total=   1.3s\n",
      "[CV] clf__penalty=l2, clf__max_iter=7000, clf__loss=squared_hinge, clf__C=1 \n",
      "[CV]  clf__penalty=l2, clf__max_iter=7000, clf__loss=squared_hinge, clf__C=1, score=0.7586494372655272, total=   1.3s\n",
      "[CV] clf__penalty=l2, clf__max_iter=7000, clf__loss=squared_hinge, clf__C=1 \n",
      "[CV]  clf__penalty=l2, clf__max_iter=7000, clf__loss=squared_hinge, clf__C=1, score=0.747759016051699, total=   1.7s\n",
      "[CV] clf__penalty=l2, clf__max_iter=7000, clf__loss=hinge, clf__C=1000 \n",
      "[CV]  clf__penalty=l2, clf__max_iter=7000, clf__loss=hinge, clf__C=1000, score=0.759899958315965, total=   1.5s\n",
      "[CV] clf__penalty=l2, clf__max_iter=7000, clf__loss=hinge, clf__C=1000 \n",
      "[CV]  clf__penalty=l2, clf__max_iter=7000, clf__loss=hinge, clf__C=1000, score=0.7485928705440901, total=   1.3s\n",
      "[CV] clf__penalty=l2, clf__max_iter=4000, clf__loss=squared_hinge, clf__C=1000 \n",
      "[CV]  clf__penalty=l2, clf__max_iter=4000, clf__loss=squared_hinge, clf__C=1000, score=0.760108378491038, total=  10.5s\n",
      "[CV] clf__penalty=l2, clf__max_iter=4000, clf__loss=squared_hinge, clf__C=1000 \n",
      "[CV]  clf__penalty=l2, clf__max_iter=4000, clf__loss=squared_hinge, clf__C=1000, score=0.7485928705440901, total=   1.7s\n",
      "[CV] clf__penalty=l2, clf__max_iter=6000, clf__loss=squared_hinge, clf__C=1 \n",
      "[CV]  clf__penalty=l2, clf__max_iter=6000, clf__loss=squared_hinge, clf__C=1, score=0.7586494372655272, total=   1.7s\n",
      "[CV] clf__penalty=l2, clf__max_iter=6000, clf__loss=squared_hinge, clf__C=1 \n",
      "[CV]  clf__penalty=l2, clf__max_iter=6000, clf__loss=squared_hinge, clf__C=1, score=0.747759016051699, total=   1.6s\n",
      "[CV] clf__penalty=l2, clf__max_iter=11000, clf__loss=squared_hinge, clf__C=1000 \n",
      "[CV]  clf__penalty=l2, clf__max_iter=11000, clf__loss=squared_hinge, clf__C=1000, score=0.760108378491038, total=  11.1s\n",
      "[CV] clf__penalty=l2, clf__max_iter=11000, clf__loss=squared_hinge, clf__C=1000 \n",
      "[CV]  clf__penalty=l2, clf__max_iter=11000, clf__loss=squared_hinge, clf__C=1000, score=0.7485928705440901, total=   1.3s\n",
      "[CV] clf__penalty=l2, clf__max_iter=6000, clf__loss=hinge, clf__C=1 ..\n",
      "[CV]  clf__penalty=l2, clf__max_iter=6000, clf__loss=hinge, clf__C=1, score=0.7611504793664027, total=   1.2s\n",
      "[CV] clf__penalty=l2, clf__max_iter=6000, clf__loss=hinge, clf__C=1 ..\n",
      "[CV]  clf__penalty=l2, clf__max_iter=6000, clf__loss=hinge, clf__C=1, score=0.7440066708359391, total=   1.7s\n",
      "[CV] clf__penalty=l2, clf__max_iter=7000, clf__loss=hinge, clf__C=100 \n",
      "[CV]  clf__penalty=l2, clf__max_iter=7000, clf__loss=hinge, clf__C=100, score=0.759899958315965, total=   1.6s\n",
      "[CV] clf__penalty=l2, clf__max_iter=7000, clf__loss=hinge, clf__C=100 \n",
      "[CV]  clf__penalty=l2, clf__max_iter=7000, clf__loss=hinge, clf__C=100, score=0.7485928705440901, total=   1.4s\n",
      "[CV] clf__penalty=l2, clf__max_iter=11000, clf__loss=hinge, clf__C=10 \n",
      "[CV]  clf__penalty=l2, clf__max_iter=11000, clf__loss=hinge, clf__C=10, score=0.759899958315965, total=   1.7s\n",
      "[CV] clf__penalty=l2, clf__max_iter=11000, clf__loss=hinge, clf__C=10 \n",
      "[CV]  clf__penalty=l2, clf__max_iter=11000, clf__loss=hinge, clf__C=10, score=0.7485928705440901, total=   1.5s\n",
      "[CV] clf__penalty=l2, clf__max_iter=5000, clf__loss=hinge, clf__C=1000 \n",
      "[CV]  clf__penalty=l2, clf__max_iter=5000, clf__loss=hinge, clf__C=1000, score=0.759899958315965, total=   1.5s\n",
      "[CV] clf__penalty=l2, clf__max_iter=5000, clf__loss=hinge, clf__C=1000 \n",
      "[CV]  clf__penalty=l2, clf__max_iter=5000, clf__loss=hinge, clf__C=1000, score=0.7485928705440901, total=   1.3s\n",
      "[CV] clf__penalty=l2, clf__max_iter=10000, clf__loss=hinge, clf__C=100 \n",
      "[CV]  clf__penalty=l2, clf__max_iter=10000, clf__loss=hinge, clf__C=100, score=0.759899958315965, total=   1.2s\n",
      "[CV] clf__penalty=l2, clf__max_iter=10000, clf__loss=hinge, clf__C=100 \n",
      "[CV]  clf__penalty=l2, clf__max_iter=10000, clf__loss=hinge, clf__C=100, score=0.7485928705440901, total=   1.4s\n",
      "[CV] clf__penalty=l2, clf__max_iter=4000, clf__loss=hinge, clf__C=1 ..\n",
      "[CV]  clf__penalty=l2, clf__max_iter=4000, clf__loss=hinge, clf__C=1, score=0.7611504793664027, total=   1.2s\n",
      "[CV] clf__penalty=l2, clf__max_iter=4000, clf__loss=hinge, clf__C=1 ..\n",
      "[CV]  clf__penalty=l2, clf__max_iter=4000, clf__loss=hinge, clf__C=1, score=0.7440066708359391, total=   1.2s\n",
      "[CV] clf__penalty=l2, clf__max_iter=3500, clf__loss=hinge, clf__C=100 \n",
      "[CV]  clf__penalty=l2, clf__max_iter=3500, clf__loss=hinge, clf__C=100, score=0.759899958315965, total=   1.5s\n",
      "[CV] clf__penalty=l2, clf__max_iter=3500, clf__loss=hinge, clf__C=100 \n",
      "[CV]  clf__penalty=l2, clf__max_iter=3500, clf__loss=hinge, clf__C=100, score=0.7485928705440901, total=   1.3s\n",
      "[CV] clf__penalty=l2, clf__max_iter=9000, clf__loss=hinge, clf__C=1 ..\n",
      "[CV]  clf__penalty=l2, clf__max_iter=9000, clf__loss=hinge, clf__C=1, score=0.7611504793664027, total=   1.3s\n",
      "[CV] clf__penalty=l2, clf__max_iter=9000, clf__loss=hinge, clf__C=1 ..\n",
      "[CV]  clf__penalty=l2, clf__max_iter=9000, clf__loss=hinge, clf__C=1, score=0.7440066708359391, total=   1.2s\n",
      "[CV] clf__penalty=l2, clf__max_iter=4000, clf__loss=squared_hinge, clf__C=10 \n",
      "[CV]  clf__penalty=l2, clf__max_iter=4000, clf__loss=squared_hinge, clf__C=10, score=0.760108378491038, total=   1.5s\n",
      "[CV] clf__penalty=l2, clf__max_iter=4000, clf__loss=squared_hinge, clf__C=10 \n",
      "[CV]  clf__penalty=l2, clf__max_iter=4000, clf__loss=squared_hinge, clf__C=10, score=0.7502605795288723, total=   1.4s\n",
      "[CV] clf__penalty=l2, clf__max_iter=6000, clf__loss=squared_hinge, clf__C=100 \n",
      "[CV]  clf__penalty=l2, clf__max_iter=6000, clf__loss=squared_hinge, clf__C=100, score=0.7603167986661109, total=   3.7s\n",
      "[CV] clf__penalty=l2, clf__max_iter=6000, clf__loss=squared_hinge, clf__C=100 \n",
      "[CV]  clf__penalty=l2, clf__max_iter=6000, clf__loss=squared_hinge, clf__C=100, score=0.7483844069209923, total=   1.4s\n",
      "[CV] clf__penalty=l2, clf__max_iter=7000, clf__loss=squared_hinge, clf__C=100 \n",
      "[CV]  clf__penalty=l2, clf__max_iter=7000, clf__loss=squared_hinge, clf__C=100, score=0.7603167986661109, total=   3.9s\n",
      "[CV] clf__penalty=l2, clf__max_iter=7000, clf__loss=squared_hinge, clf__C=100 \n",
      "[CV]  clf__penalty=l2, clf__max_iter=7000, clf__loss=squared_hinge, clf__C=100, score=0.7483844069209923, total=   1.4s\n",
      "[CV] clf__penalty=l2, clf__max_iter=3500, clf__loss=squared_hinge, clf__C=100 \n",
      "[CV]  clf__penalty=l2, clf__max_iter=3500, clf__loss=squared_hinge, clf__C=100, score=0.7603167986661109, total=   4.1s\n",
      "[CV] clf__penalty=l2, clf__max_iter=3500, clf__loss=squared_hinge, clf__C=100 \n",
      "[CV]  clf__penalty=l2, clf__max_iter=3500, clf__loss=squared_hinge, clf__C=100, score=0.7483844069209923, total=   1.4s\n",
      "[CV] clf__penalty=l2, clf__max_iter=7000, clf__loss=hinge, clf__C=10 .\n",
      "[CV]  clf__penalty=l2, clf__max_iter=7000, clf__loss=hinge, clf__C=10, score=0.759899958315965, total=   1.6s\n",
      "[CV] clf__penalty=l2, clf__max_iter=7000, clf__loss=hinge, clf__C=10 .\n"
     ]
    },
    {
     "name": "stdout",
     "output_type": "stream",
     "text": [
      "[CV]  clf__penalty=l2, clf__max_iter=7000, clf__loss=hinge, clf__C=10, score=0.7485928705440901, total=   1.8s\n",
      "[CV] clf__penalty=l2, clf__max_iter=9000, clf__loss=squared_hinge, clf__C=1000 \n",
      "[CV]  clf__penalty=l2, clf__max_iter=9000, clf__loss=squared_hinge, clf__C=1000, score=0.760108378491038, total=  10.6s\n",
      "[CV] clf__penalty=l2, clf__max_iter=9000, clf__loss=squared_hinge, clf__C=1000 \n",
      "[CV]  clf__penalty=l2, clf__max_iter=9000, clf__loss=squared_hinge, clf__C=1000, score=0.7485928705440901, total=   1.2s\n",
      "[CV] clf__penalty=l2, clf__max_iter=4000, clf__loss=squared_hinge, clf__C=1 \n",
      "[CV]  clf__penalty=l2, clf__max_iter=4000, clf__loss=squared_hinge, clf__C=1, score=0.7586494372655272, total=   1.2s\n",
      "[CV] clf__penalty=l2, clf__max_iter=4000, clf__loss=squared_hinge, clf__C=1 \n",
      "[CV]  clf__penalty=l2, clf__max_iter=4000, clf__loss=squared_hinge, clf__C=1, score=0.747759016051699, total=   1.2s\n",
      "[CV] clf__penalty=l2, clf__max_iter=11000, clf__loss=squared_hinge, clf__C=10 \n",
      "[CV]  clf__penalty=l2, clf__max_iter=11000, clf__loss=squared_hinge, clf__C=10, score=0.760108378491038, total=   1.8s\n",
      "[CV] clf__penalty=l2, clf__max_iter=11000, clf__loss=squared_hinge, clf__C=10 \n",
      "[CV]  clf__penalty=l2, clf__max_iter=11000, clf__loss=squared_hinge, clf__C=10, score=0.7502605795288723, total=   1.2s\n",
      "[CV] clf__penalty=l2, clf__max_iter=11000, clf__loss=hinge, clf__C=1000 \n",
      "[CV]  clf__penalty=l2, clf__max_iter=11000, clf__loss=hinge, clf__C=1000, score=0.759899958315965, total=   1.2s\n",
      "[CV] clf__penalty=l2, clf__max_iter=11000, clf__loss=hinge, clf__C=1000 \n",
      "[CV]  clf__penalty=l2, clf__max_iter=11000, clf__loss=hinge, clf__C=1000, score=0.7485928705440901, total=   1.4s\n",
      "[CV] clf__penalty=l2, clf__max_iter=11000, clf__loss=squared_hinge, clf__C=100 \n",
      "[CV]  clf__penalty=l2, clf__max_iter=11000, clf__loss=squared_hinge, clf__C=100, score=0.7603167986661109, total=   3.1s\n",
      "[CV] clf__penalty=l2, clf__max_iter=11000, clf__loss=squared_hinge, clf__C=100 \n",
      "[CV]  clf__penalty=l2, clf__max_iter=11000, clf__loss=squared_hinge, clf__C=100, score=0.7483844069209923, total=   1.2s\n"
     ]
    },
    {
     "name": "stderr",
     "output_type": "stream",
     "text": [
      "[Parallel(n_jobs=1)]: Done 100 out of 100 | elapsed:  4.7min finished\n"
     ]
    },
    {
     "data": {
      "text/plain": [
       "RandomizedSearchCV(cv=2, error_score='raise-deprecating',\n",
       "          estimator=Pipeline(memory=None,\n",
       "     steps=[('vect', CountVectorizer(analyzer='word', binary=False, decode_error='strict',\n",
       "        dtype=<class 'numpy.int64'>, encoding='utf-8', input='content',\n",
       "        lowercase=True, max_df=1.0, max_features=None, min_df=1,\n",
       "        ngram_range=(1, 2), preprocessor=None,\n",
       "        stop_words=['', ' ', '...ax_iter=1000,\n",
       "     multi_class='ovr', penalty='l2', random_state=None, tol=0.0001,\n",
       "     verbose=0))]),\n",
       "          fit_params=None, iid='warn', n_iter=50, n_jobs=None,\n",
       "          param_distributions={'clf__C': [1000, 100, 10, 1], 'clf__max_iter': [5000, 4000, 6000, 7000, 3500, 10000, 9000, 11000], 'clf__loss': ['hinge', 'squared_hinge'], 'clf__penalty': ['l2']},\n",
       "          pre_dispatch='2*n_jobs', random_state=50, refit=True,\n",
       "          return_train_score='warn', scoring=None, verbose=10)"
      ]
     },
     "execution_count": 25,
     "metadata": {},
     "output_type": "execute_result"
    }
   ],
   "source": [
    "pclf.fit(X_train, y_train)"
   ]
  },
  {
   "cell_type": "code",
   "execution_count": 26,
   "metadata": {},
   "outputs": [
    {
     "name": "stdout",
     "output_type": "stream",
     "text": [
      "              precision    recall  f1-score   support\n",
      "\n",
      "         neg       0.81      0.80      0.81       518\n",
      "         pos       0.81      0.82      0.82       549\n",
      "\n",
      "   micro avg       0.81      0.81      0.81      1067\n",
      "   macro avg       0.81      0.81      0.81      1067\n",
      "weighted avg       0.81      0.81      0.81      1067\n",
      "\n"
     ]
    }
   ],
   "source": [
    "from sklearn import metrics\n",
    "y_pred_val = pclf.predict(X_test)\n",
    "print(metrics.classification_report(y_test, y_pred_val))\n",
    "accuracy = np.mean(y_pred_val == y_test)"
   ]
  },
  {
   "cell_type": "code",
   "execution_count": 27,
   "metadata": {
    "scrolled": true
   },
   "outputs": [
    {
     "name": "stdout",
     "output_type": "stream",
     "text": [
      "Accuracy of model =  0.8116213683223993\n"
     ]
    }
   ],
   "source": [
    "print(\"Accuracy of model = \", accuracy)"
   ]
  },
  {
   "cell_type": "markdown",
   "metadata": {},
   "source": [
    "## CR Dataset LinearSVC"
   ]
  },
  {
   "cell_type": "code",
   "execution_count": 28,
   "metadata": {},
   "outputs": [],
   "source": [
    "x_text, y = load_reviews_dataset()\n",
    "x_text = clean_input_text(x_text)\n",
    "X_train, X_test, y_train, y_test = train_test_split(x_text, y, test_size=0.1, random_state=42)"
   ]
  },
  {
   "cell_type": "code",
   "execution_count": 29,
   "metadata": {},
   "outputs": [
    {
     "name": "stdout",
     "output_type": "stream",
     "text": [
      "Fitting 2 folds for each of 50 candidates, totalling 100 fits\n",
      "[CV] clf__penalty=l2, clf__max_iter=4000, clf__loss=hinge, clf__C=1000 \n"
     ]
    },
    {
     "name": "stderr",
     "output_type": "stream",
     "text": [
      "[Parallel(n_jobs=1)]: Using backend SequentialBackend with 1 concurrent workers.\n"
     ]
    },
    {
     "name": "stdout",
     "output_type": "stream",
     "text": [
      "[CV]  clf__penalty=l2, clf__max_iter=4000, clf__loss=hinge, clf__C=1000, score=0.7701408450704226, total=   0.9s\n",
      "[CV] clf__penalty=l2, clf__max_iter=4000, clf__loss=hinge, clf__C=1000 \n"
     ]
    },
    {
     "name": "stderr",
     "output_type": "stream",
     "text": [
      "[Parallel(n_jobs=1)]: Done   1 out of   1 | elapsed:    1.0s remaining:    0.0s\n"
     ]
    },
    {
     "name": "stdout",
     "output_type": "stream",
     "text": [
      "[CV]  clf__penalty=l2, clf__max_iter=4000, clf__loss=hinge, clf__C=1000, score=0.7423900789177001, total=   0.3s\n",
      "[CV] clf__penalty=l2, clf__max_iter=9000, clf__loss=hinge, clf__C=10 .\n"
     ]
    },
    {
     "name": "stderr",
     "output_type": "stream",
     "text": [
      "[Parallel(n_jobs=1)]: Done   2 out of   2 | elapsed:    1.5s remaining:    0.0s\n"
     ]
    },
    {
     "name": "stdout",
     "output_type": "stream",
     "text": [
      "[CV]  clf__penalty=l2, clf__max_iter=9000, clf__loss=hinge, clf__C=10, score=0.7774647887323943, total=   0.2s\n",
      "[CV] clf__penalty=l2, clf__max_iter=9000, clf__loss=hinge, clf__C=10 .\n"
     ]
    },
    {
     "name": "stderr",
     "output_type": "stream",
     "text": [
      "[Parallel(n_jobs=1)]: Done   3 out of   3 | elapsed:    1.9s remaining:    0.0s\n"
     ]
    },
    {
     "name": "stdout",
     "output_type": "stream",
     "text": [
      "[CV]  clf__penalty=l2, clf__max_iter=9000, clf__loss=hinge, clf__C=10, score=0.7564825253664036, total=   0.2s\n",
      "[CV] clf__penalty=l2, clf__max_iter=11000, clf__loss=hinge, clf__C=100 \n"
     ]
    },
    {
     "name": "stderr",
     "output_type": "stream",
     "text": [
      "[Parallel(n_jobs=1)]: Done   4 out of   4 | elapsed:    2.4s remaining:    0.0s\n"
     ]
    },
    {
     "name": "stdout",
     "output_type": "stream",
     "text": [
      "[CV]  clf__penalty=l2, clf__max_iter=11000, clf__loss=hinge, clf__C=100, score=0.7701408450704226, total=   0.5s\n",
      "[CV] clf__penalty=l2, clf__max_iter=11000, clf__loss=hinge, clf__C=100 \n"
     ]
    },
    {
     "name": "stderr",
     "output_type": "stream",
     "text": [
      "[Parallel(n_jobs=1)]: Done   5 out of   5 | elapsed:    3.1s remaining:    0.0s\n"
     ]
    },
    {
     "name": "stdout",
     "output_type": "stream",
     "text": [
      "[CV]  clf__penalty=l2, clf__max_iter=11000, clf__loss=hinge, clf__C=100, score=0.7423900789177001, total=   0.4s\n",
      "[CV] clf__penalty=l2, clf__max_iter=4000, clf__loss=hinge, clf__C=100 \n"
     ]
    },
    {
     "name": "stderr",
     "output_type": "stream",
     "text": [
      "[Parallel(n_jobs=1)]: Done   6 out of   6 | elapsed:    3.7s remaining:    0.0s\n"
     ]
    },
    {
     "name": "stdout",
     "output_type": "stream",
     "text": [
      "[CV]  clf__penalty=l2, clf__max_iter=4000, clf__loss=hinge, clf__C=100, score=0.7701408450704226, total=   0.5s\n",
      "[CV] clf__penalty=l2, clf__max_iter=4000, clf__loss=hinge, clf__C=100 \n"
     ]
    },
    {
     "name": "stderr",
     "output_type": "stream",
     "text": [
      "[Parallel(n_jobs=1)]: Done   7 out of   7 | elapsed:    4.3s remaining:    0.0s\n"
     ]
    },
    {
     "name": "stdout",
     "output_type": "stream",
     "text": [
      "[CV]  clf__penalty=l2, clf__max_iter=4000, clf__loss=hinge, clf__C=100, score=0.7423900789177001, total=   0.4s\n",
      "[CV] clf__penalty=l2, clf__max_iter=9000, clf__loss=squared_hinge, clf__C=10 \n"
     ]
    },
    {
     "name": "stderr",
     "output_type": "stream",
     "text": [
      "[Parallel(n_jobs=1)]: Done   8 out of   8 | elapsed:    4.9s remaining:    0.0s\n"
     ]
    },
    {
     "name": "stdout",
     "output_type": "stream",
     "text": [
      "[CV]  clf__penalty=l2, clf__max_iter=9000, clf__loss=squared_hinge, clf__C=10, score=0.7791549295774648, total=   0.3s\n",
      "[CV] clf__penalty=l2, clf__max_iter=9000, clf__loss=squared_hinge, clf__C=10 \n"
     ]
    },
    {
     "name": "stderr",
     "output_type": "stream",
     "text": [
      "[Parallel(n_jobs=1)]: Done   9 out of   9 | elapsed:    5.5s remaining:    0.0s\n"
     ]
    },
    {
     "name": "stdout",
     "output_type": "stream",
     "text": [
      "[CV]  clf__penalty=l2, clf__max_iter=9000, clf__loss=squared_hinge, clf__C=10, score=0.7604284103720406, total=   0.3s\n",
      "[CV] clf__penalty=l2, clf__max_iter=7000, clf__loss=hinge, clf__C=1 ..\n",
      "[CV]  clf__penalty=l2, clf__max_iter=7000, clf__loss=hinge, clf__C=1, score=0.8005633802816902, total=   0.3s\n",
      "[CV] clf__penalty=l2, clf__max_iter=7000, clf__loss=hinge, clf__C=1 ..\n",
      "[CV]  clf__penalty=l2, clf__max_iter=7000, clf__loss=hinge, clf__C=1, score=0.7897406989853438, total=   0.1s\n",
      "[CV] clf__penalty=l2, clf__max_iter=6000, clf__loss=hinge, clf__C=10 .\n",
      "[CV]  clf__penalty=l2, clf__max_iter=6000, clf__loss=hinge, clf__C=10, score=0.7774647887323943, total=   0.3s\n",
      "[CV] clf__penalty=l2, clf__max_iter=6000, clf__loss=hinge, clf__C=10 .\n",
      "[CV]  clf__penalty=l2, clf__max_iter=6000, clf__loss=hinge, clf__C=10, score=0.7564825253664036, total=   0.2s\n",
      "[CV] clf__penalty=l2, clf__max_iter=10000, clf__loss=squared_hinge, clf__C=100 \n",
      "[CV]  clf__penalty=l2, clf__max_iter=10000, clf__loss=squared_hinge, clf__C=100, score=0.7712676056338028, total=   1.3s\n",
      "[CV] clf__penalty=l2, clf__max_iter=10000, clf__loss=squared_hinge, clf__C=100 \n",
      "[CV]  clf__penalty=l2, clf__max_iter=10000, clf__loss=squared_hinge, clf__C=100, score=0.7480270574971815, total=   0.5s\n",
      "[CV] clf__penalty=l2, clf__max_iter=5000, clf__loss=squared_hinge, clf__C=1000 \n"
     ]
    },
    {
     "name": "stderr",
     "output_type": "stream",
     "text": [
      "C:\\Users\\Sam Cleland\\Anaconda3\\lib\\site-packages\\sklearn\\svm\\base.py:931: ConvergenceWarning: Liblinear failed to converge, increase the number of iterations.\n",
      "  \"the number of iterations.\", ConvergenceWarning)\n"
     ]
    },
    {
     "name": "stdout",
     "output_type": "stream",
     "text": [
      "[CV]  clf__penalty=l2, clf__max_iter=5000, clf__loss=squared_hinge, clf__C=1000, score=0.767887323943662, total=   1.8s\n",
      "[CV] clf__penalty=l2, clf__max_iter=5000, clf__loss=squared_hinge, clf__C=1000 \n",
      "[CV]  clf__penalty=l2, clf__max_iter=5000, clf__loss=squared_hinge, clf__C=1000, score=0.7429537767756482, total=   1.6s\n",
      "[CV] clf__penalty=l2, clf__max_iter=3500, clf__loss=hinge, clf__C=10 .\n",
      "[CV]  clf__penalty=l2, clf__max_iter=3500, clf__loss=hinge, clf__C=10, score=0.7774647887323943, total=   0.3s\n",
      "[CV] clf__penalty=l2, clf__max_iter=3500, clf__loss=hinge, clf__C=10 .\n",
      "[CV]  clf__penalty=l2, clf__max_iter=3500, clf__loss=hinge, clf__C=10, score=0.7564825253664036, total=   0.2s\n",
      "[CV] clf__penalty=l2, clf__max_iter=11000, clf__loss=squared_hinge, clf__C=1 \n",
      "[CV]  clf__penalty=l2, clf__max_iter=11000, clf__loss=squared_hinge, clf__C=1, score=0.7977464788732395, total=   0.1s\n",
      "[CV] clf__penalty=l2, clf__max_iter=11000, clf__loss=squared_hinge, clf__C=1 \n",
      "[CV]  clf__penalty=l2, clf__max_iter=11000, clf__loss=squared_hinge, clf__C=1, score=0.7818489289740699, total=   0.1s\n",
      "[CV] clf__penalty=l2, clf__max_iter=4000, clf__loss=squared_hinge, clf__C=100 \n",
      "[CV]  clf__penalty=l2, clf__max_iter=4000, clf__loss=squared_hinge, clf__C=100, score=0.7712676056338028, total=   1.1s\n",
      "[CV] clf__penalty=l2, clf__max_iter=4000, clf__loss=squared_hinge, clf__C=100 \n",
      "[CV]  clf__penalty=l2, clf__max_iter=4000, clf__loss=squared_hinge, clf__C=100, score=0.7480270574971815, total=   0.6s\n",
      "[CV] clf__penalty=l2, clf__max_iter=10000, clf__loss=squared_hinge, clf__C=1 \n",
      "[CV]  clf__penalty=l2, clf__max_iter=10000, clf__loss=squared_hinge, clf__C=1, score=0.7977464788732395, total=   0.1s\n",
      "[CV] clf__penalty=l2, clf__max_iter=10000, clf__loss=squared_hinge, clf__C=1 \n",
      "[CV]  clf__penalty=l2, clf__max_iter=10000, clf__loss=squared_hinge, clf__C=1, score=0.7818489289740699, total=   0.2s\n",
      "[CV] clf__penalty=l2, clf__max_iter=6000, clf__loss=hinge, clf__C=100 \n",
      "[CV]  clf__penalty=l2, clf__max_iter=6000, clf__loss=hinge, clf__C=100, score=0.7701408450704226, total=   0.4s\n",
      "[CV] clf__penalty=l2, clf__max_iter=6000, clf__loss=hinge, clf__C=100 \n",
      "[CV]  clf__penalty=l2, clf__max_iter=6000, clf__loss=hinge, clf__C=100, score=0.7423900789177001, total=   0.3s\n",
      "[CV] clf__penalty=l2, clf__max_iter=11000, clf__loss=hinge, clf__C=1 .\n",
      "[CV]  clf__penalty=l2, clf__max_iter=11000, clf__loss=hinge, clf__C=1, score=0.8005633802816902, total=   0.2s\n",
      "[CV] clf__penalty=l2, clf__max_iter=11000, clf__loss=hinge, clf__C=1 .\n",
      "[CV]  clf__penalty=l2, clf__max_iter=11000, clf__loss=hinge, clf__C=1, score=0.7897406989853438, total=   0.2s\n",
      "[CV] clf__penalty=l2, clf__max_iter=10000, clf__loss=squared_hinge, clf__C=1000 \n",
      "[CV]  clf__penalty=l2, clf__max_iter=10000, clf__loss=squared_hinge, clf__C=1000, score=0.767887323943662, total=   3.1s\n",
      "[CV] clf__penalty=l2, clf__max_iter=10000, clf__loss=squared_hinge, clf__C=1000 \n",
      "[CV]  clf__penalty=l2, clf__max_iter=10000, clf__loss=squared_hinge, clf__C=1000, score=0.7429537767756482, total=   1.7s\n",
      "[CV] clf__penalty=l2, clf__max_iter=10000, clf__loss=hinge, clf__C=1 .\n",
      "[CV]  clf__penalty=l2, clf__max_iter=10000, clf__loss=hinge, clf__C=1, score=0.8005633802816902, total=   0.3s\n",
      "[CV] clf__penalty=l2, clf__max_iter=10000, clf__loss=hinge, clf__C=1 .\n",
      "[CV]  clf__penalty=l2, clf__max_iter=10000, clf__loss=hinge, clf__C=1, score=0.7897406989853438, total=   0.2s\n",
      "[CV] clf__penalty=l2, clf__max_iter=3500, clf__loss=hinge, clf__C=1 ..\n",
      "[CV]  clf__penalty=l2, clf__max_iter=3500, clf__loss=hinge, clf__C=1, score=0.8005633802816902, total=   0.2s\n",
      "[CV] clf__penalty=l2, clf__max_iter=3500, clf__loss=hinge, clf__C=1 ..\n",
      "[CV]  clf__penalty=l2, clf__max_iter=3500, clf__loss=hinge, clf__C=1, score=0.7897406989853438, total=   0.2s\n",
      "[CV] clf__penalty=l2, clf__max_iter=5000, clf__loss=hinge, clf__C=100 \n",
      "[CV]  clf__penalty=l2, clf__max_iter=5000, clf__loss=hinge, clf__C=100, score=0.7701408450704226, total=   0.4s\n",
      "[CV] clf__penalty=l2, clf__max_iter=5000, clf__loss=hinge, clf__C=100 \n",
      "[CV]  clf__penalty=l2, clf__max_iter=5000, clf__loss=hinge, clf__C=100, score=0.7423900789177001, total=   0.3s\n",
      "[CV] clf__penalty=l2, clf__max_iter=6000, clf__loss=squared_hinge, clf__C=1000 \n",
      "[CV]  clf__penalty=l2, clf__max_iter=6000, clf__loss=squared_hinge, clf__C=1000, score=0.7684507042253521, total=   2.1s\n",
      "[CV] clf__penalty=l2, clf__max_iter=6000, clf__loss=squared_hinge, clf__C=1000 \n",
      "[CV]  clf__penalty=l2, clf__max_iter=6000, clf__loss=squared_hinge, clf__C=1000, score=0.7429537767756482, total=   2.2s\n",
      "[CV] clf__penalty=l2, clf__max_iter=5000, clf__loss=squared_hinge, clf__C=100 \n",
      "[CV]  clf__penalty=l2, clf__max_iter=5000, clf__loss=squared_hinge, clf__C=100, score=0.7712676056338028, total=   1.2s\n",
      "[CV] clf__penalty=l2, clf__max_iter=5000, clf__loss=squared_hinge, clf__C=100 \n",
      "[CV]  clf__penalty=l2, clf__max_iter=5000, clf__loss=squared_hinge, clf__C=100, score=0.7480270574971815, total=   0.5s\n",
      "[CV] clf__penalty=l2, clf__max_iter=7000, clf__loss=squared_hinge, clf__C=10 \n",
      "[CV]  clf__penalty=l2, clf__max_iter=7000, clf__loss=squared_hinge, clf__C=10, score=0.7791549295774648, total=   0.3s\n",
      "[CV] clf__penalty=l2, clf__max_iter=7000, clf__loss=squared_hinge, clf__C=10 \n",
      "[CV]  clf__penalty=l2, clf__max_iter=7000, clf__loss=squared_hinge, clf__C=10, score=0.7604284103720406, total=   0.3s\n",
      "[CV] clf__penalty=l2, clf__max_iter=3500, clf__loss=squared_hinge, clf__C=10 \n",
      "[CV]  clf__penalty=l2, clf__max_iter=3500, clf__loss=squared_hinge, clf__C=10, score=0.7791549295774648, total=   0.3s\n",
      "[CV] clf__penalty=l2, clf__max_iter=3500, clf__loss=squared_hinge, clf__C=10 \n",
      "[CV]  clf__penalty=l2, clf__max_iter=3500, clf__loss=squared_hinge, clf__C=10, score=0.7604284103720406, total=   0.3s\n",
      "[CV] clf__penalty=l2, clf__max_iter=3500, clf__loss=squared_hinge, clf__C=1000 \n",
      "[CV]  clf__penalty=l2, clf__max_iter=3500, clf__loss=squared_hinge, clf__C=1000, score=0.7684507042253521, total=   1.4s\n",
      "[CV] clf__penalty=l2, clf__max_iter=3500, clf__loss=squared_hinge, clf__C=1000 \n",
      "[CV]  clf__penalty=l2, clf__max_iter=3500, clf__loss=squared_hinge, clf__C=1000, score=0.7423900789177001, total=   1.3s\n",
      "[CV] clf__penalty=l2, clf__max_iter=9000, clf__loss=squared_hinge, clf__C=1 \n",
      "[CV]  clf__penalty=l2, clf__max_iter=9000, clf__loss=squared_hinge, clf__C=1, score=0.7977464788732395, total=   0.1s\n",
      "[CV] clf__penalty=l2, clf__max_iter=9000, clf__loss=squared_hinge, clf__C=1 \n",
      "[CV]  clf__penalty=l2, clf__max_iter=9000, clf__loss=squared_hinge, clf__C=1, score=0.7818489289740699, total=   0.2s\n",
      "[CV] clf__penalty=l2, clf__max_iter=6000, clf__loss=squared_hinge, clf__C=10 \n",
      "[CV]  clf__penalty=l2, clf__max_iter=6000, clf__loss=squared_hinge, clf__C=10, score=0.7791549295774648, total=   0.3s\n",
      "[CV] clf__penalty=l2, clf__max_iter=6000, clf__loss=squared_hinge, clf__C=10 \n",
      "[CV]  clf__penalty=l2, clf__max_iter=6000, clf__loss=squared_hinge, clf__C=10, score=0.7604284103720406, total=   0.2s\n",
      "[CV] clf__penalty=l2, clf__max_iter=5000, clf__loss=squared_hinge, clf__C=10 \n",
      "[CV]  clf__penalty=l2, clf__max_iter=5000, clf__loss=squared_hinge, clf__C=10, score=0.7791549295774648, total=   0.2s\n",
      "[CV] clf__penalty=l2, clf__max_iter=5000, clf__loss=squared_hinge, clf__C=10 \n",
      "[CV]  clf__penalty=l2, clf__max_iter=5000, clf__loss=squared_hinge, clf__C=10, score=0.7604284103720406, total=   0.2s\n",
      "[CV] clf__penalty=l2, clf__max_iter=7000, clf__loss=squared_hinge, clf__C=1 \n",
      "[CV]  clf__penalty=l2, clf__max_iter=7000, clf__loss=squared_hinge, clf__C=1, score=0.7977464788732395, total=   0.1s\n",
      "[CV] clf__penalty=l2, clf__max_iter=7000, clf__loss=squared_hinge, clf__C=1 \n",
      "[CV]  clf__penalty=l2, clf__max_iter=7000, clf__loss=squared_hinge, clf__C=1, score=0.7818489289740699, total=   0.1s\n",
      "[CV] clf__penalty=l2, clf__max_iter=7000, clf__loss=hinge, clf__C=1000 \n",
      "[CV]  clf__penalty=l2, clf__max_iter=7000, clf__loss=hinge, clf__C=1000, score=0.7701408450704226, total=   0.7s\n",
      "[CV] clf__penalty=l2, clf__max_iter=7000, clf__loss=hinge, clf__C=1000 \n",
      "[CV]  clf__penalty=l2, clf__max_iter=7000, clf__loss=hinge, clf__C=1000, score=0.7423900789177001, total=   0.3s\n",
      "[CV] clf__penalty=l2, clf__max_iter=4000, clf__loss=squared_hinge, clf__C=1000 \n",
      "[CV]  clf__penalty=l2, clf__max_iter=4000, clf__loss=squared_hinge, clf__C=1000, score=0.767887323943662, total=   1.4s\n",
      "[CV] clf__penalty=l2, clf__max_iter=4000, clf__loss=squared_hinge, clf__C=1000 \n"
     ]
    },
    {
     "name": "stdout",
     "output_type": "stream",
     "text": [
      "[CV]  clf__penalty=l2, clf__max_iter=4000, clf__loss=squared_hinge, clf__C=1000, score=0.7429537767756482, total=   1.3s\n",
      "[CV] clf__penalty=l2, clf__max_iter=6000, clf__loss=squared_hinge, clf__C=1 \n",
      "[CV]  clf__penalty=l2, clf__max_iter=6000, clf__loss=squared_hinge, clf__C=1, score=0.7977464788732395, total=   0.1s\n",
      "[CV] clf__penalty=l2, clf__max_iter=6000, clf__loss=squared_hinge, clf__C=1 \n",
      "[CV]  clf__penalty=l2, clf__max_iter=6000, clf__loss=squared_hinge, clf__C=1, score=0.7818489289740699, total=   0.1s\n",
      "[CV] clf__penalty=l2, clf__max_iter=11000, clf__loss=squared_hinge, clf__C=1000 \n",
      "[CV]  clf__penalty=l2, clf__max_iter=11000, clf__loss=squared_hinge, clf__C=1000, score=0.7684507042253521, total=   3.9s\n",
      "[CV] clf__penalty=l2, clf__max_iter=11000, clf__loss=squared_hinge, clf__C=1000 \n",
      "[CV]  clf__penalty=l2, clf__max_iter=11000, clf__loss=squared_hinge, clf__C=1000, score=0.7429537767756482, total=   2.9s\n",
      "[CV] clf__penalty=l2, clf__max_iter=6000, clf__loss=hinge, clf__C=1 ..\n",
      "[CV]  clf__penalty=l2, clf__max_iter=6000, clf__loss=hinge, clf__C=1, score=0.8005633802816902, total=   0.2s\n",
      "[CV] clf__penalty=l2, clf__max_iter=6000, clf__loss=hinge, clf__C=1 ..\n",
      "[CV]  clf__penalty=l2, clf__max_iter=6000, clf__loss=hinge, clf__C=1, score=0.7897406989853438, total=   0.2s\n",
      "[CV] clf__penalty=l2, clf__max_iter=7000, clf__loss=hinge, clf__C=100 \n",
      "[CV]  clf__penalty=l2, clf__max_iter=7000, clf__loss=hinge, clf__C=100, score=0.7701408450704226, total=   0.4s\n",
      "[CV] clf__penalty=l2, clf__max_iter=7000, clf__loss=hinge, clf__C=100 \n",
      "[CV]  clf__penalty=l2, clf__max_iter=7000, clf__loss=hinge, clf__C=100, score=0.7423900789177001, total=   0.3s\n",
      "[CV] clf__penalty=l2, clf__max_iter=11000, clf__loss=hinge, clf__C=10 \n",
      "[CV]  clf__penalty=l2, clf__max_iter=11000, clf__loss=hinge, clf__C=10, score=0.7774647887323943, total=   0.2s\n",
      "[CV] clf__penalty=l2, clf__max_iter=11000, clf__loss=hinge, clf__C=10 \n",
      "[CV]  clf__penalty=l2, clf__max_iter=11000, clf__loss=hinge, clf__C=10, score=0.7564825253664036, total=   0.2s\n",
      "[CV] clf__penalty=l2, clf__max_iter=5000, clf__loss=hinge, clf__C=1000 \n",
      "[CV]  clf__penalty=l2, clf__max_iter=5000, clf__loss=hinge, clf__C=1000, score=0.7701408450704226, total=   0.9s\n",
      "[CV] clf__penalty=l2, clf__max_iter=5000, clf__loss=hinge, clf__C=1000 \n",
      "[CV]  clf__penalty=l2, clf__max_iter=5000, clf__loss=hinge, clf__C=1000, score=0.7423900789177001, total=   0.3s\n",
      "[CV] clf__penalty=l2, clf__max_iter=10000, clf__loss=hinge, clf__C=100 \n",
      "[CV]  clf__penalty=l2, clf__max_iter=10000, clf__loss=hinge, clf__C=100, score=0.7701408450704226, total=   0.4s\n",
      "[CV] clf__penalty=l2, clf__max_iter=10000, clf__loss=hinge, clf__C=100 \n",
      "[CV]  clf__penalty=l2, clf__max_iter=10000, clf__loss=hinge, clf__C=100, score=0.7423900789177001, total=   0.3s\n",
      "[CV] clf__penalty=l2, clf__max_iter=4000, clf__loss=hinge, clf__C=1 ..\n",
      "[CV]  clf__penalty=l2, clf__max_iter=4000, clf__loss=hinge, clf__C=1, score=0.8005633802816902, total=   0.2s\n",
      "[CV] clf__penalty=l2, clf__max_iter=4000, clf__loss=hinge, clf__C=1 ..\n",
      "[CV]  clf__penalty=l2, clf__max_iter=4000, clf__loss=hinge, clf__C=1, score=0.7897406989853438, total=   0.1s\n",
      "[CV] clf__penalty=l2, clf__max_iter=3500, clf__loss=hinge, clf__C=100 \n",
      "[CV]  clf__penalty=l2, clf__max_iter=3500, clf__loss=hinge, clf__C=100, score=0.7701408450704226, total=   0.4s\n",
      "[CV] clf__penalty=l2, clf__max_iter=3500, clf__loss=hinge, clf__C=100 \n",
      "[CV]  clf__penalty=l2, clf__max_iter=3500, clf__loss=hinge, clf__C=100, score=0.7423900789177001, total=   0.3s\n",
      "[CV] clf__penalty=l2, clf__max_iter=9000, clf__loss=hinge, clf__C=1 ..\n",
      "[CV]  clf__penalty=l2, clf__max_iter=9000, clf__loss=hinge, clf__C=1, score=0.8005633802816902, total=   0.1s\n",
      "[CV] clf__penalty=l2, clf__max_iter=9000, clf__loss=hinge, clf__C=1 ..\n",
      "[CV]  clf__penalty=l2, clf__max_iter=9000, clf__loss=hinge, clf__C=1, score=0.7897406989853438, total=   0.1s\n",
      "[CV] clf__penalty=l2, clf__max_iter=4000, clf__loss=squared_hinge, clf__C=10 \n",
      "[CV]  clf__penalty=l2, clf__max_iter=4000, clf__loss=squared_hinge, clf__C=10, score=0.7791549295774648, total=   0.2s\n",
      "[CV] clf__penalty=l2, clf__max_iter=4000, clf__loss=squared_hinge, clf__C=10 \n",
      "[CV]  clf__penalty=l2, clf__max_iter=4000, clf__loss=squared_hinge, clf__C=10, score=0.7604284103720406, total=   0.2s\n",
      "[CV] clf__penalty=l2, clf__max_iter=6000, clf__loss=squared_hinge, clf__C=100 \n",
      "[CV]  clf__penalty=l2, clf__max_iter=6000, clf__loss=squared_hinge, clf__C=100, score=0.7712676056338028, total=   1.3s\n",
      "[CV] clf__penalty=l2, clf__max_iter=6000, clf__loss=squared_hinge, clf__C=100 \n",
      "[CV]  clf__penalty=l2, clf__max_iter=6000, clf__loss=squared_hinge, clf__C=100, score=0.7480270574971815, total=   0.6s\n",
      "[CV] clf__penalty=l2, clf__max_iter=7000, clf__loss=squared_hinge, clf__C=100 \n",
      "[CV]  clf__penalty=l2, clf__max_iter=7000, clf__loss=squared_hinge, clf__C=100, score=0.7712676056338028, total=   1.3s\n",
      "[CV] clf__penalty=l2, clf__max_iter=7000, clf__loss=squared_hinge, clf__C=100 \n",
      "[CV]  clf__penalty=l2, clf__max_iter=7000, clf__loss=squared_hinge, clf__C=100, score=0.7480270574971815, total=   0.6s\n",
      "[CV] clf__penalty=l2, clf__max_iter=3500, clf__loss=squared_hinge, clf__C=100 \n",
      "[CV]  clf__penalty=l2, clf__max_iter=3500, clf__loss=squared_hinge, clf__C=100, score=0.7712676056338028, total=   1.2s\n",
      "[CV] clf__penalty=l2, clf__max_iter=3500, clf__loss=squared_hinge, clf__C=100 \n",
      "[CV]  clf__penalty=l2, clf__max_iter=3500, clf__loss=squared_hinge, clf__C=100, score=0.7480270574971815, total=   0.5s\n",
      "[CV] clf__penalty=l2, clf__max_iter=7000, clf__loss=hinge, clf__C=10 .\n",
      "[CV]  clf__penalty=l2, clf__max_iter=7000, clf__loss=hinge, clf__C=10, score=0.7774647887323943, total=   0.1s\n",
      "[CV] clf__penalty=l2, clf__max_iter=7000, clf__loss=hinge, clf__C=10 .\n",
      "[CV]  clf__penalty=l2, clf__max_iter=7000, clf__loss=hinge, clf__C=10, score=0.7564825253664036, total=   0.2s\n",
      "[CV] clf__penalty=l2, clf__max_iter=9000, clf__loss=squared_hinge, clf__C=1000 \n",
      "[CV]  clf__penalty=l2, clf__max_iter=9000, clf__loss=squared_hinge, clf__C=1000, score=0.767887323943662, total=   2.9s\n",
      "[CV] clf__penalty=l2, clf__max_iter=9000, clf__loss=squared_hinge, clf__C=1000 \n",
      "[CV]  clf__penalty=l2, clf__max_iter=9000, clf__loss=squared_hinge, clf__C=1000, score=0.7429537767756482, total=   1.8s\n",
      "[CV] clf__penalty=l2, clf__max_iter=4000, clf__loss=squared_hinge, clf__C=1 \n",
      "[CV]  clf__penalty=l2, clf__max_iter=4000, clf__loss=squared_hinge, clf__C=1, score=0.7977464788732395, total=   0.2s\n",
      "[CV] clf__penalty=l2, clf__max_iter=4000, clf__loss=squared_hinge, clf__C=1 \n",
      "[CV]  clf__penalty=l2, clf__max_iter=4000, clf__loss=squared_hinge, clf__C=1, score=0.7818489289740699, total=   0.1s\n",
      "[CV] clf__penalty=l2, clf__max_iter=11000, clf__loss=squared_hinge, clf__C=10 \n",
      "[CV]  clf__penalty=l2, clf__max_iter=11000, clf__loss=squared_hinge, clf__C=10, score=0.7791549295774648, total=   0.2s\n",
      "[CV] clf__penalty=l2, clf__max_iter=11000, clf__loss=squared_hinge, clf__C=10 \n",
      "[CV]  clf__penalty=l2, clf__max_iter=11000, clf__loss=squared_hinge, clf__C=10, score=0.7604284103720406, total=   0.2s\n",
      "[CV] clf__penalty=l2, clf__max_iter=11000, clf__loss=hinge, clf__C=1000 \n",
      "[CV]  clf__penalty=l2, clf__max_iter=11000, clf__loss=hinge, clf__C=1000, score=0.7701408450704226, total=   0.8s\n",
      "[CV] clf__penalty=l2, clf__max_iter=11000, clf__loss=hinge, clf__C=1000 \n",
      "[CV]  clf__penalty=l2, clf__max_iter=11000, clf__loss=hinge, clf__C=1000, score=0.7423900789177001, total=   0.3s\n",
      "[CV] clf__penalty=l2, clf__max_iter=11000, clf__loss=squared_hinge, clf__C=100 \n",
      "[CV]  clf__penalty=l2, clf__max_iter=11000, clf__loss=squared_hinge, clf__C=100, score=0.7712676056338028, total=   1.1s\n",
      "[CV] clf__penalty=l2, clf__max_iter=11000, clf__loss=squared_hinge, clf__C=100 \n",
      "[CV]  clf__penalty=l2, clf__max_iter=11000, clf__loss=squared_hinge, clf__C=100, score=0.7480270574971815, total=   0.5s\n"
     ]
    },
    {
     "name": "stderr",
     "output_type": "stream",
     "text": [
      "[Parallel(n_jobs=1)]: Done 100 out of 100 | elapsed:  1.4min finished\n"
     ]
    },
    {
     "data": {
      "text/plain": [
       "RandomizedSearchCV(cv=2, error_score='raise-deprecating',\n",
       "          estimator=Pipeline(memory=None,\n",
       "     steps=[('vect', CountVectorizer(analyzer='word', binary=False, decode_error='strict',\n",
       "        dtype=<class 'numpy.int64'>, encoding='utf-8', input='content',\n",
       "        lowercase=True, max_df=1.0, max_features=None, min_df=1,\n",
       "        ngram_range=(1, 2), preprocessor=None,\n",
       "        stop_words=['', ' ', '...ax_iter=1000,\n",
       "     multi_class='ovr', penalty='l2', random_state=None, tol=0.0001,\n",
       "     verbose=0))]),\n",
       "          fit_params=None, iid='warn', n_iter=50, n_jobs=None,\n",
       "          param_distributions={'clf__C': [1000, 100, 10, 1], 'clf__max_iter': [5000, 4000, 6000, 7000, 3500, 10000, 9000, 11000], 'clf__loss': ['hinge', 'squared_hinge'], 'clf__penalty': ['l2']},\n",
       "          pre_dispatch='2*n_jobs', random_state=50, refit=True,\n",
       "          return_train_score='warn', scoring=None, verbose=10)"
      ]
     },
     "execution_count": 29,
     "metadata": {},
     "output_type": "execute_result"
    }
   ],
   "source": [
    "pclf.fit(X_train, y_train)"
   ]
  },
  {
   "cell_type": "code",
   "execution_count": 30,
   "metadata": {},
   "outputs": [
    {
     "name": "stdout",
     "output_type": "stream",
     "text": [
      "              precision    recall  f1-score   support\n",
      "\n",
      "           0       0.83      0.94      0.88       292\n",
      "           1       0.73      0.47      0.57       103\n",
      "\n",
      "   micro avg       0.82      0.82      0.82       395\n",
      "   macro avg       0.78      0.70      0.73       395\n",
      "weighted avg       0.81      0.82      0.80       395\n",
      "\n"
     ]
    }
   ],
   "source": [
    "from sklearn import metrics\n",
    "y_pred_val = pclf.predict(X_test)\n",
    "print(metrics.classification_report(y_test, y_pred_val))\n",
    "accuracy = np.mean(y_pred_val == y_test)"
   ]
  },
  {
   "cell_type": "code",
   "execution_count": 31,
   "metadata": {},
   "outputs": [
    {
     "name": "stdout",
     "output_type": "stream",
     "text": [
      "Accuracy of model =  0.8151898734177215\n"
     ]
    }
   ],
   "source": [
    "print(\"Accuracy of model = \", accuracy)"
   ]
  },
  {
   "cell_type": "markdown",
   "metadata": {},
   "source": [
    "## SST2 with LinearSVC"
   ]
  },
  {
   "cell_type": "code",
   "execution_count": 36,
   "metadata": {},
   "outputs": [
    {
     "name": "stdout",
     "output_type": "stream",
     "text": [
      "Fitting 2 folds for each of 50 candidates, totalling 100 fits\n",
      "[CV] clf__penalty=l2, clf__max_iter=4000, clf__loss=hinge, clf__C=1000 \n"
     ]
    },
    {
     "name": "stderr",
     "output_type": "stream",
     "text": [
      "[Parallel(n_jobs=1)]: Using backend SequentialBackend with 1 concurrent workers.\n"
     ]
    },
    {
     "name": "stdout",
     "output_type": "stream",
     "text": [
      "[CV]  clf__penalty=l2, clf__max_iter=4000, clf__loss=hinge, clf__C=1000, score=0.7841040462427745, total=   1.0s\n",
      "[CV] clf__penalty=l2, clf__max_iter=4000, clf__loss=hinge, clf__C=1000 \n"
     ]
    },
    {
     "name": "stderr",
     "output_type": "stream",
     "text": [
      "[Parallel(n_jobs=1)]: Done   1 out of   1 | elapsed:    1.5s remaining:    0.0s\n"
     ]
    },
    {
     "name": "stdout",
     "output_type": "stream",
     "text": [
      "[CV]  clf__penalty=l2, clf__max_iter=4000, clf__loss=hinge, clf__C=1000, score=0.7754335260115607, total=   1.3s\n",
      "[CV] clf__penalty=l2, clf__max_iter=9000, clf__loss=hinge, clf__C=10 .\n"
     ]
    },
    {
     "name": "stderr",
     "output_type": "stream",
     "text": [
      "[Parallel(n_jobs=1)]: Done   2 out of   2 | elapsed:    3.3s remaining:    0.0s\n"
     ]
    },
    {
     "name": "stdout",
     "output_type": "stream",
     "text": [
      "[CV]  clf__penalty=l2, clf__max_iter=9000, clf__loss=hinge, clf__C=10, score=0.7841040462427745, total=   0.9s\n",
      "[CV] clf__penalty=l2, clf__max_iter=9000, clf__loss=hinge, clf__C=10 .\n"
     ]
    },
    {
     "name": "stderr",
     "output_type": "stream",
     "text": [
      "[Parallel(n_jobs=1)]: Done   3 out of   3 | elapsed:    4.7s remaining:    0.0s\n"
     ]
    },
    {
     "name": "stdout",
     "output_type": "stream",
     "text": [
      "[CV]  clf__penalty=l2, clf__max_iter=9000, clf__loss=hinge, clf__C=10, score=0.7754335260115607, total=   1.0s\n",
      "[CV] clf__penalty=l2, clf__max_iter=11000, clf__loss=hinge, clf__C=100 \n"
     ]
    },
    {
     "name": "stderr",
     "output_type": "stream",
     "text": [
      "[Parallel(n_jobs=1)]: Done   4 out of   4 | elapsed:    6.2s remaining:    0.0s\n"
     ]
    },
    {
     "name": "stdout",
     "output_type": "stream",
     "text": [
      "[CV]  clf__penalty=l2, clf__max_iter=11000, clf__loss=hinge, clf__C=100, score=0.7841040462427745, total=   0.9s\n",
      "[CV] clf__penalty=l2, clf__max_iter=11000, clf__loss=hinge, clf__C=100 \n"
     ]
    },
    {
     "name": "stderr",
     "output_type": "stream",
     "text": [
      "[Parallel(n_jobs=1)]: Done   5 out of   5 | elapsed:    7.5s remaining:    0.0s\n"
     ]
    },
    {
     "name": "stdout",
     "output_type": "stream",
     "text": [
      "[CV]  clf__penalty=l2, clf__max_iter=11000, clf__loss=hinge, clf__C=100, score=0.7754335260115607, total=   0.9s\n",
      "[CV] clf__penalty=l2, clf__max_iter=4000, clf__loss=hinge, clf__C=100 \n"
     ]
    },
    {
     "name": "stderr",
     "output_type": "stream",
     "text": [
      "[Parallel(n_jobs=1)]: Done   6 out of   6 | elapsed:    8.9s remaining:    0.0s\n"
     ]
    },
    {
     "name": "stdout",
     "output_type": "stream",
     "text": [
      "[CV]  clf__penalty=l2, clf__max_iter=4000, clf__loss=hinge, clf__C=100, score=0.7841040462427745, total=   1.0s\n",
      "[CV] clf__penalty=l2, clf__max_iter=4000, clf__loss=hinge, clf__C=100 \n"
     ]
    },
    {
     "name": "stderr",
     "output_type": "stream",
     "text": [
      "[Parallel(n_jobs=1)]: Done   7 out of   7 | elapsed:   10.5s remaining:    0.0s\n"
     ]
    },
    {
     "name": "stdout",
     "output_type": "stream",
     "text": [
      "[CV]  clf__penalty=l2, clf__max_iter=4000, clf__loss=hinge, clf__C=100, score=0.7754335260115607, total=   1.1s\n",
      "[CV] clf__penalty=l2, clf__max_iter=9000, clf__loss=squared_hinge, clf__C=10 \n"
     ]
    },
    {
     "name": "stderr",
     "output_type": "stream",
     "text": [
      "[Parallel(n_jobs=1)]: Done   8 out of   8 | elapsed:   11.9s remaining:    0.0s\n"
     ]
    },
    {
     "name": "stdout",
     "output_type": "stream",
     "text": [
      "[CV]  clf__penalty=l2, clf__max_iter=9000, clf__loss=squared_hinge, clf__C=10, score=0.7829479768786127, total=   1.1s\n",
      "[CV] clf__penalty=l2, clf__max_iter=9000, clf__loss=squared_hinge, clf__C=10 \n"
     ]
    },
    {
     "name": "stderr",
     "output_type": "stream",
     "text": [
      "[Parallel(n_jobs=1)]: Done   9 out of   9 | elapsed:   13.4s remaining:    0.0s\n"
     ]
    },
    {
     "name": "stdout",
     "output_type": "stream",
     "text": [
      "[CV]  clf__penalty=l2, clf__max_iter=9000, clf__loss=squared_hinge, clf__C=10, score=0.7754335260115607, total=   1.1s\n",
      "[CV] clf__penalty=l2, clf__max_iter=7000, clf__loss=hinge, clf__C=1 ..\n",
      "[CV]  clf__penalty=l2, clf__max_iter=7000, clf__loss=hinge, clf__C=1, score=0.7841040462427745, total=   0.9s\n",
      "[CV] clf__penalty=l2, clf__max_iter=7000, clf__loss=hinge, clf__C=1 ..\n",
      "[CV]  clf__penalty=l2, clf__max_iter=7000, clf__loss=hinge, clf__C=1, score=0.780635838150289, total=   1.0s\n",
      "[CV] clf__penalty=l2, clf__max_iter=6000, clf__loss=hinge, clf__C=10 .\n",
      "[CV]  clf__penalty=l2, clf__max_iter=6000, clf__loss=hinge, clf__C=10, score=0.7841040462427745, total=   0.9s\n",
      "[CV] clf__penalty=l2, clf__max_iter=6000, clf__loss=hinge, clf__C=10 .\n",
      "[CV]  clf__penalty=l2, clf__max_iter=6000, clf__loss=hinge, clf__C=10, score=0.7754335260115607, total=   1.0s\n",
      "[CV] clf__penalty=l2, clf__max_iter=10000, clf__loss=squared_hinge, clf__C=100 \n",
      "[CV]  clf__penalty=l2, clf__max_iter=10000, clf__loss=squared_hinge, clf__C=100, score=0.7835260115606937, total=   1.6s\n",
      "[CV] clf__penalty=l2, clf__max_iter=10000, clf__loss=squared_hinge, clf__C=100 \n",
      "[CV]  clf__penalty=l2, clf__max_iter=10000, clf__loss=squared_hinge, clf__C=100, score=0.7757225433526012, total=   2.2s\n",
      "[CV] clf__penalty=l2, clf__max_iter=5000, clf__loss=squared_hinge, clf__C=1000 \n",
      "[CV]  clf__penalty=l2, clf__max_iter=5000, clf__loss=squared_hinge, clf__C=1000, score=0.7841040462427745, total=   2.0s\n",
      "[CV] clf__penalty=l2, clf__max_iter=5000, clf__loss=squared_hinge, clf__C=1000 \n",
      "[CV]  clf__penalty=l2, clf__max_iter=5000, clf__loss=squared_hinge, clf__C=1000, score=0.7754335260115607, total=   1.8s\n",
      "[CV] clf__penalty=l2, clf__max_iter=3500, clf__loss=hinge, clf__C=10 .\n",
      "[CV]  clf__penalty=l2, clf__max_iter=3500, clf__loss=hinge, clf__C=10, score=0.7841040462427745, total=   0.9s\n",
      "[CV] clf__penalty=l2, clf__max_iter=3500, clf__loss=hinge, clf__C=10 .\n",
      "[CV]  clf__penalty=l2, clf__max_iter=3500, clf__loss=hinge, clf__C=10, score=0.7754335260115607, total=   1.0s\n",
      "[CV] clf__penalty=l2, clf__max_iter=11000, clf__loss=squared_hinge, clf__C=1 \n",
      "[CV]  clf__penalty=l2, clf__max_iter=11000, clf__loss=squared_hinge, clf__C=1, score=0.7867052023121387, total=   0.8s\n",
      "[CV] clf__penalty=l2, clf__max_iter=11000, clf__loss=squared_hinge, clf__C=1 \n",
      "[CV]  clf__penalty=l2, clf__max_iter=11000, clf__loss=squared_hinge, clf__C=1, score=0.7791907514450868, total=   0.7s\n",
      "[CV] clf__penalty=l2, clf__max_iter=4000, clf__loss=squared_hinge, clf__C=100 \n",
      "[CV]  clf__penalty=l2, clf__max_iter=4000, clf__loss=squared_hinge, clf__C=100, score=0.7835260115606937, total=   2.1s\n",
      "[CV] clf__penalty=l2, clf__max_iter=4000, clf__loss=squared_hinge, clf__C=100 \n",
      "[CV]  clf__penalty=l2, clf__max_iter=4000, clf__loss=squared_hinge, clf__C=100, score=0.7757225433526012, total=   1.7s\n",
      "[CV] clf__penalty=l2, clf__max_iter=10000, clf__loss=squared_hinge, clf__C=1 \n",
      "[CV]  clf__penalty=l2, clf__max_iter=10000, clf__loss=squared_hinge, clf__C=1, score=0.7867052023121387, total=   0.8s\n",
      "[CV] clf__penalty=l2, clf__max_iter=10000, clf__loss=squared_hinge, clf__C=1 \n",
      "[CV]  clf__penalty=l2, clf__max_iter=10000, clf__loss=squared_hinge, clf__C=1, score=0.7791907514450868, total=   1.2s\n",
      "[CV] clf__penalty=l2, clf__max_iter=6000, clf__loss=hinge, clf__C=100 \n",
      "[CV]  clf__penalty=l2, clf__max_iter=6000, clf__loss=hinge, clf__C=100, score=0.7841040462427745, total=   1.2s\n",
      "[CV] clf__penalty=l2, clf__max_iter=6000, clf__loss=hinge, clf__C=100 \n",
      "[CV]  clf__penalty=l2, clf__max_iter=6000, clf__loss=hinge, clf__C=100, score=0.7754335260115607, total=   1.1s\n",
      "[CV] clf__penalty=l2, clf__max_iter=11000, clf__loss=hinge, clf__C=1 .\n",
      "[CV]  clf__penalty=l2, clf__max_iter=11000, clf__loss=hinge, clf__C=1, score=0.7841040462427745, total=   1.1s\n",
      "[CV] clf__penalty=l2, clf__max_iter=11000, clf__loss=hinge, clf__C=1 .\n",
      "[CV]  clf__penalty=l2, clf__max_iter=11000, clf__loss=hinge, clf__C=1, score=0.780635838150289, total=   1.0s\n",
      "[CV] clf__penalty=l2, clf__max_iter=10000, clf__loss=squared_hinge, clf__C=1000 \n",
      "[CV]  clf__penalty=l2, clf__max_iter=10000, clf__loss=squared_hinge, clf__C=1000, score=0.7841040462427745, total=   4.2s\n",
      "[CV] clf__penalty=l2, clf__max_iter=10000, clf__loss=squared_hinge, clf__C=1000 \n",
      "[CV]  clf__penalty=l2, clf__max_iter=10000, clf__loss=squared_hinge, clf__C=1000, score=0.7754335260115607, total=   1.0s\n",
      "[CV] clf__penalty=l2, clf__max_iter=10000, clf__loss=hinge, clf__C=1 .\n",
      "[CV]  clf__penalty=l2, clf__max_iter=10000, clf__loss=hinge, clf__C=1, score=0.7841040462427745, total=   0.8s\n",
      "[CV] clf__penalty=l2, clf__max_iter=10000, clf__loss=hinge, clf__C=1 .\n",
      "[CV]  clf__penalty=l2, clf__max_iter=10000, clf__loss=hinge, clf__C=1, score=0.780635838150289, total=   0.7s\n",
      "[CV] clf__penalty=l2, clf__max_iter=3500, clf__loss=hinge, clf__C=1 ..\n",
      "[CV]  clf__penalty=l2, clf__max_iter=3500, clf__loss=hinge, clf__C=1, score=0.7841040462427745, total=   0.9s\n",
      "[CV] clf__penalty=l2, clf__max_iter=3500, clf__loss=hinge, clf__C=1 ..\n",
      "[CV]  clf__penalty=l2, clf__max_iter=3500, clf__loss=hinge, clf__C=1, score=0.780635838150289, total=   0.8s\n",
      "[CV] clf__penalty=l2, clf__max_iter=5000, clf__loss=hinge, clf__C=100 \n",
      "[CV]  clf__penalty=l2, clf__max_iter=5000, clf__loss=hinge, clf__C=100, score=0.7841040462427745, total=   1.1s\n",
      "[CV] clf__penalty=l2, clf__max_iter=5000, clf__loss=hinge, clf__C=100 \n",
      "[CV]  clf__penalty=l2, clf__max_iter=5000, clf__loss=hinge, clf__C=100, score=0.7754335260115607, total=   0.8s\n",
      "[CV] clf__penalty=l2, clf__max_iter=6000, clf__loss=squared_hinge, clf__C=1000 \n",
      "[CV]  clf__penalty=l2, clf__max_iter=6000, clf__loss=squared_hinge, clf__C=1000, score=0.7841040462427745, total=   5.8s\n",
      "[CV] clf__penalty=l2, clf__max_iter=6000, clf__loss=squared_hinge, clf__C=1000 \n",
      "[CV]  clf__penalty=l2, clf__max_iter=6000, clf__loss=squared_hinge, clf__C=1000, score=0.7754335260115607, total=   1.8s\n",
      "[CV] clf__penalty=l2, clf__max_iter=5000, clf__loss=squared_hinge, clf__C=100 \n",
      "[CV]  clf__penalty=l2, clf__max_iter=5000, clf__loss=squared_hinge, clf__C=100, score=0.7835260115606937, total=   2.0s\n",
      "[CV] clf__penalty=l2, clf__max_iter=5000, clf__loss=squared_hinge, clf__C=100 \n",
      "[CV]  clf__penalty=l2, clf__max_iter=5000, clf__loss=squared_hinge, clf__C=100, score=0.7757225433526012, total=   2.2s\n",
      "[CV] clf__penalty=l2, clf__max_iter=7000, clf__loss=squared_hinge, clf__C=10 \n",
      "[CV]  clf__penalty=l2, clf__max_iter=7000, clf__loss=squared_hinge, clf__C=10, score=0.7829479768786127, total=   0.9s\n",
      "[CV] clf__penalty=l2, clf__max_iter=7000, clf__loss=squared_hinge, clf__C=10 \n",
      "[CV]  clf__penalty=l2, clf__max_iter=7000, clf__loss=squared_hinge, clf__C=10, score=0.7754335260115607, total=   1.0s\n",
      "[CV] clf__penalty=l2, clf__max_iter=3500, clf__loss=squared_hinge, clf__C=10 \n",
      "[CV]  clf__penalty=l2, clf__max_iter=3500, clf__loss=squared_hinge, clf__C=10, score=0.7829479768786127, total=   1.3s\n",
      "[CV] clf__penalty=l2, clf__max_iter=3500, clf__loss=squared_hinge, clf__C=10 \n",
      "[CV]  clf__penalty=l2, clf__max_iter=3500, clf__loss=squared_hinge, clf__C=10, score=0.7754335260115607, total=   1.1s\n",
      "[CV] clf__penalty=l2, clf__max_iter=3500, clf__loss=squared_hinge, clf__C=1000 \n",
      "[CV]  clf__penalty=l2, clf__max_iter=3500, clf__loss=squared_hinge, clf__C=1000, score=0.7841040462427745, total=   3.0s\n",
      "[CV] clf__penalty=l2, clf__max_iter=3500, clf__loss=squared_hinge, clf__C=1000 \n",
      "[CV]  clf__penalty=l2, clf__max_iter=3500, clf__loss=squared_hinge, clf__C=1000, score=0.7754335260115607, total=   1.5s\n",
      "[CV] clf__penalty=l2, clf__max_iter=9000, clf__loss=squared_hinge, clf__C=1 \n",
      "[CV]  clf__penalty=l2, clf__max_iter=9000, clf__loss=squared_hinge, clf__C=1, score=0.7867052023121387, total=   0.7s\n",
      "[CV] clf__penalty=l2, clf__max_iter=9000, clf__loss=squared_hinge, clf__C=1 \n",
      "[CV]  clf__penalty=l2, clf__max_iter=9000, clf__loss=squared_hinge, clf__C=1, score=0.7791907514450868, total=   0.9s\n",
      "[CV] clf__penalty=l2, clf__max_iter=6000, clf__loss=squared_hinge, clf__C=10 \n",
      "[CV]  clf__penalty=l2, clf__max_iter=6000, clf__loss=squared_hinge, clf__C=10, score=0.7829479768786127, total=   1.0s\n",
      "[CV] clf__penalty=l2, clf__max_iter=6000, clf__loss=squared_hinge, clf__C=10 \n",
      "[CV]  clf__penalty=l2, clf__max_iter=6000, clf__loss=squared_hinge, clf__C=10, score=0.7754335260115607, total=   1.3s\n",
      "[CV] clf__penalty=l2, clf__max_iter=5000, clf__loss=squared_hinge, clf__C=10 \n"
     ]
    },
    {
     "name": "stdout",
     "output_type": "stream",
     "text": [
      "[CV]  clf__penalty=l2, clf__max_iter=5000, clf__loss=squared_hinge, clf__C=10, score=0.7829479768786127, total=   1.1s\n",
      "[CV] clf__penalty=l2, clf__max_iter=5000, clf__loss=squared_hinge, clf__C=10 \n",
      "[CV]  clf__penalty=l2, clf__max_iter=5000, clf__loss=squared_hinge, clf__C=10, score=0.7754335260115607, total=   1.3s\n",
      "[CV] clf__penalty=l2, clf__max_iter=7000, clf__loss=squared_hinge, clf__C=1 \n",
      "[CV]  clf__penalty=l2, clf__max_iter=7000, clf__loss=squared_hinge, clf__C=1, score=0.7867052023121387, total=   1.1s\n",
      "[CV] clf__penalty=l2, clf__max_iter=7000, clf__loss=squared_hinge, clf__C=1 \n",
      "[CV]  clf__penalty=l2, clf__max_iter=7000, clf__loss=squared_hinge, clf__C=1, score=0.7791907514450868, total=   0.9s\n",
      "[CV] clf__penalty=l2, clf__max_iter=7000, clf__loss=hinge, clf__C=1000 \n",
      "[CV]  clf__penalty=l2, clf__max_iter=7000, clf__loss=hinge, clf__C=1000, score=0.7841040462427745, total=   1.1s\n",
      "[CV] clf__penalty=l2, clf__max_iter=7000, clf__loss=hinge, clf__C=1000 \n",
      "[CV]  clf__penalty=l2, clf__max_iter=7000, clf__loss=hinge, clf__C=1000, score=0.7754335260115607, total=   1.0s\n",
      "[CV] clf__penalty=l2, clf__max_iter=4000, clf__loss=squared_hinge, clf__C=1000 \n"
     ]
    },
    {
     "name": "stderr",
     "output_type": "stream",
     "text": [
      "C:\\Users\\Sam Cleland\\Anaconda3\\lib\\site-packages\\sklearn\\svm\\base.py:931: ConvergenceWarning: Liblinear failed to converge, increase the number of iterations.\n",
      "  \"the number of iterations.\", ConvergenceWarning)\n"
     ]
    },
    {
     "name": "stdout",
     "output_type": "stream",
     "text": [
      "[CV]  clf__penalty=l2, clf__max_iter=4000, clf__loss=squared_hinge, clf__C=1000, score=0.7841040462427745, total=   6.3s\n",
      "[CV] clf__penalty=l2, clf__max_iter=4000, clf__loss=squared_hinge, clf__C=1000 \n",
      "[CV]  clf__penalty=l2, clf__max_iter=4000, clf__loss=squared_hinge, clf__C=1000, score=0.7754335260115607, total=   2.0s\n",
      "[CV] clf__penalty=l2, clf__max_iter=6000, clf__loss=squared_hinge, clf__C=1 \n",
      "[CV]  clf__penalty=l2, clf__max_iter=6000, clf__loss=squared_hinge, clf__C=1, score=0.7867052023121387, total=   1.0s\n",
      "[CV] clf__penalty=l2, clf__max_iter=6000, clf__loss=squared_hinge, clf__C=1 \n",
      "[CV]  clf__penalty=l2, clf__max_iter=6000, clf__loss=squared_hinge, clf__C=1, score=0.7791907514450868, total=   1.0s\n",
      "[CV] clf__penalty=l2, clf__max_iter=11000, clf__loss=squared_hinge, clf__C=1000 \n",
      "[CV]  clf__penalty=l2, clf__max_iter=11000, clf__loss=squared_hinge, clf__C=1000, score=0.7841040462427745, total=  10.0s\n",
      "[CV] clf__penalty=l2, clf__max_iter=11000, clf__loss=squared_hinge, clf__C=1000 \n",
      "[CV]  clf__penalty=l2, clf__max_iter=11000, clf__loss=squared_hinge, clf__C=1000, score=0.7754335260115607, total=   1.6s\n",
      "[CV] clf__penalty=l2, clf__max_iter=6000, clf__loss=hinge, clf__C=1 ..\n",
      "[CV]  clf__penalty=l2, clf__max_iter=6000, clf__loss=hinge, clf__C=1, score=0.7841040462427745, total=   0.8s\n",
      "[CV] clf__penalty=l2, clf__max_iter=6000, clf__loss=hinge, clf__C=1 ..\n",
      "[CV]  clf__penalty=l2, clf__max_iter=6000, clf__loss=hinge, clf__C=1, score=0.780635838150289, total=   0.8s\n",
      "[CV] clf__penalty=l2, clf__max_iter=7000, clf__loss=hinge, clf__C=100 \n",
      "[CV]  clf__penalty=l2, clf__max_iter=7000, clf__loss=hinge, clf__C=100, score=0.7841040462427745, total=   0.9s\n",
      "[CV] clf__penalty=l2, clf__max_iter=7000, clf__loss=hinge, clf__C=100 \n",
      "[CV]  clf__penalty=l2, clf__max_iter=7000, clf__loss=hinge, clf__C=100, score=0.7754335260115607, total=   1.0s\n",
      "[CV] clf__penalty=l2, clf__max_iter=11000, clf__loss=hinge, clf__C=10 \n",
      "[CV]  clf__penalty=l2, clf__max_iter=11000, clf__loss=hinge, clf__C=10, score=0.7841040462427745, total=   1.2s\n",
      "[CV] clf__penalty=l2, clf__max_iter=11000, clf__loss=hinge, clf__C=10 \n",
      "[CV]  clf__penalty=l2, clf__max_iter=11000, clf__loss=hinge, clf__C=10, score=0.7754335260115607, total=   1.0s\n",
      "[CV] clf__penalty=l2, clf__max_iter=5000, clf__loss=hinge, clf__C=1000 \n",
      "[CV]  clf__penalty=l2, clf__max_iter=5000, clf__loss=hinge, clf__C=1000, score=0.7841040462427745, total=   0.9s\n",
      "[CV] clf__penalty=l2, clf__max_iter=5000, clf__loss=hinge, clf__C=1000 \n",
      "[CV]  clf__penalty=l2, clf__max_iter=5000, clf__loss=hinge, clf__C=1000, score=0.7754335260115607, total=   1.1s\n",
      "[CV] clf__penalty=l2, clf__max_iter=10000, clf__loss=hinge, clf__C=100 \n",
      "[CV]  clf__penalty=l2, clf__max_iter=10000, clf__loss=hinge, clf__C=100, score=0.7841040462427745, total=   0.8s\n",
      "[CV] clf__penalty=l2, clf__max_iter=10000, clf__loss=hinge, clf__C=100 \n",
      "[CV]  clf__penalty=l2, clf__max_iter=10000, clf__loss=hinge, clf__C=100, score=0.7754335260115607, total=   0.9s\n",
      "[CV] clf__penalty=l2, clf__max_iter=4000, clf__loss=hinge, clf__C=1 ..\n",
      "[CV]  clf__penalty=l2, clf__max_iter=4000, clf__loss=hinge, clf__C=1, score=0.7841040462427745, total=   0.8s\n",
      "[CV] clf__penalty=l2, clf__max_iter=4000, clf__loss=hinge, clf__C=1 ..\n",
      "[CV]  clf__penalty=l2, clf__max_iter=4000, clf__loss=hinge, clf__C=1, score=0.780635838150289, total=   0.8s\n",
      "[CV] clf__penalty=l2, clf__max_iter=3500, clf__loss=hinge, clf__C=100 \n",
      "[CV]  clf__penalty=l2, clf__max_iter=3500, clf__loss=hinge, clf__C=100, score=0.7841040462427745, total=   0.8s\n",
      "[CV] clf__penalty=l2, clf__max_iter=3500, clf__loss=hinge, clf__C=100 \n",
      "[CV]  clf__penalty=l2, clf__max_iter=3500, clf__loss=hinge, clf__C=100, score=0.7754335260115607, total=   1.0s\n",
      "[CV] clf__penalty=l2, clf__max_iter=9000, clf__loss=hinge, clf__C=1 ..\n",
      "[CV]  clf__penalty=l2, clf__max_iter=9000, clf__loss=hinge, clf__C=1, score=0.7841040462427745, total=   0.8s\n",
      "[CV] clf__penalty=l2, clf__max_iter=9000, clf__loss=hinge, clf__C=1 ..\n",
      "[CV]  clf__penalty=l2, clf__max_iter=9000, clf__loss=hinge, clf__C=1, score=0.780635838150289, total=   0.8s\n",
      "[CV] clf__penalty=l2, clf__max_iter=4000, clf__loss=squared_hinge, clf__C=10 \n",
      "[CV]  clf__penalty=l2, clf__max_iter=4000, clf__loss=squared_hinge, clf__C=10, score=0.7829479768786127, total=   0.9s\n",
      "[CV] clf__penalty=l2, clf__max_iter=4000, clf__loss=squared_hinge, clf__C=10 \n",
      "[CV]  clf__penalty=l2, clf__max_iter=4000, clf__loss=squared_hinge, clf__C=10, score=0.7754335260115607, total=   0.8s\n",
      "[CV] clf__penalty=l2, clf__max_iter=6000, clf__loss=squared_hinge, clf__C=100 \n",
      "[CV]  clf__penalty=l2, clf__max_iter=6000, clf__loss=squared_hinge, clf__C=100, score=0.7835260115606937, total=   1.8s\n",
      "[CV] clf__penalty=l2, clf__max_iter=6000, clf__loss=squared_hinge, clf__C=100 \n",
      "[CV]  clf__penalty=l2, clf__max_iter=6000, clf__loss=squared_hinge, clf__C=100, score=0.7757225433526012, total=   1.9s\n",
      "[CV] clf__penalty=l2, clf__max_iter=7000, clf__loss=squared_hinge, clf__C=100 \n",
      "[CV]  clf__penalty=l2, clf__max_iter=7000, clf__loss=squared_hinge, clf__C=100, score=0.7835260115606937, total=   1.8s\n",
      "[CV] clf__penalty=l2, clf__max_iter=7000, clf__loss=squared_hinge, clf__C=100 \n",
      "[CV]  clf__penalty=l2, clf__max_iter=7000, clf__loss=squared_hinge, clf__C=100, score=0.7757225433526012, total=   1.4s\n",
      "[CV] clf__penalty=l2, clf__max_iter=3500, clf__loss=squared_hinge, clf__C=100 \n",
      "[CV]  clf__penalty=l2, clf__max_iter=3500, clf__loss=squared_hinge, clf__C=100, score=0.7835260115606937, total=   1.8s\n",
      "[CV] clf__penalty=l2, clf__max_iter=3500, clf__loss=squared_hinge, clf__C=100 \n",
      "[CV]  clf__penalty=l2, clf__max_iter=3500, clf__loss=squared_hinge, clf__C=100, score=0.7757225433526012, total=   1.7s\n",
      "[CV] clf__penalty=l2, clf__max_iter=7000, clf__loss=hinge, clf__C=10 .\n",
      "[CV]  clf__penalty=l2, clf__max_iter=7000, clf__loss=hinge, clf__C=10, score=0.7841040462427745, total=   0.8s\n",
      "[CV] clf__penalty=l2, clf__max_iter=7000, clf__loss=hinge, clf__C=10 .\n",
      "[CV]  clf__penalty=l2, clf__max_iter=7000, clf__loss=hinge, clf__C=10, score=0.7754335260115607, total=   0.9s\n",
      "[CV] clf__penalty=l2, clf__max_iter=9000, clf__loss=squared_hinge, clf__C=1000 \n",
      "[CV]  clf__penalty=l2, clf__max_iter=9000, clf__loss=squared_hinge, clf__C=1000, score=0.7841040462427745, total=   0.8s\n",
      "[CV] clf__penalty=l2, clf__max_iter=9000, clf__loss=squared_hinge, clf__C=1000 \n",
      "[CV]  clf__penalty=l2, clf__max_iter=9000, clf__loss=squared_hinge, clf__C=1000, score=0.7754335260115607, total=   1.7s\n",
      "[CV] clf__penalty=l2, clf__max_iter=4000, clf__loss=squared_hinge, clf__C=1 \n",
      "[CV]  clf__penalty=l2, clf__max_iter=4000, clf__loss=squared_hinge, clf__C=1, score=0.7867052023121387, total=   0.9s\n",
      "[CV] clf__penalty=l2, clf__max_iter=4000, clf__loss=squared_hinge, clf__C=1 \n",
      "[CV]  clf__penalty=l2, clf__max_iter=4000, clf__loss=squared_hinge, clf__C=1, score=0.7791907514450868, total=   0.8s\n",
      "[CV] clf__penalty=l2, clf__max_iter=11000, clf__loss=squared_hinge, clf__C=10 \n",
      "[CV]  clf__penalty=l2, clf__max_iter=11000, clf__loss=squared_hinge, clf__C=10, score=0.7829479768786127, total=   0.9s\n",
      "[CV] clf__penalty=l2, clf__max_iter=11000, clf__loss=squared_hinge, clf__C=10 \n",
      "[CV]  clf__penalty=l2, clf__max_iter=11000, clf__loss=squared_hinge, clf__C=10, score=0.7754335260115607, total=   0.9s\n",
      "[CV] clf__penalty=l2, clf__max_iter=11000, clf__loss=hinge, clf__C=1000 \n",
      "[CV]  clf__penalty=l2, clf__max_iter=11000, clf__loss=hinge, clf__C=1000, score=0.7841040462427745, total=   0.9s\n",
      "[CV] clf__penalty=l2, clf__max_iter=11000, clf__loss=hinge, clf__C=1000 \n",
      "[CV]  clf__penalty=l2, clf__max_iter=11000, clf__loss=hinge, clf__C=1000, score=0.7754335260115607, total=   0.9s\n",
      "[CV] clf__penalty=l2, clf__max_iter=11000, clf__loss=squared_hinge, clf__C=100 \n",
      "[CV]  clf__penalty=l2, clf__max_iter=11000, clf__loss=squared_hinge, clf__C=100, score=0.7835260115606937, total=   2.0s\n",
      "[CV] clf__penalty=l2, clf__max_iter=11000, clf__loss=squared_hinge, clf__C=100 \n",
      "[CV]  clf__penalty=l2, clf__max_iter=11000, clf__loss=squared_hinge, clf__C=100, score=0.7757225433526012, total=   1.7s\n"
     ]
    },
    {
     "name": "stderr",
     "output_type": "stream",
     "text": [
      "[Parallel(n_jobs=1)]: Done 100 out of 100 | elapsed:  3.0min finished\n"
     ]
    },
    {
     "data": {
      "text/plain": [
       "RandomizedSearchCV(cv=2, error_score='raise-deprecating',\n",
       "          estimator=Pipeline(memory=None,\n",
       "     steps=[('vect', CountVectorizer(analyzer='word', binary=False, decode_error='strict',\n",
       "        dtype=<class 'numpy.int64'>, encoding='utf-8', input='content',\n",
       "        lowercase=True, max_df=1.0, max_features=None, min_df=1,\n",
       "        ngram_range=(1, 2), preprocessor=None,\n",
       "        stop_words=['', ' ', '...ax_iter=1000,\n",
       "     multi_class='ovr', penalty='l2', random_state=None, tol=0.0001,\n",
       "     verbose=0))]),\n",
       "          fit_params=None, iid='warn', n_iter=50, n_jobs=None,\n",
       "          param_distributions={'clf__C': [1000, 100, 10, 1], 'clf__max_iter': [5000, 4000, 6000, 7000, 3500, 10000, 9000, 11000], 'clf__loss': ['hinge', 'squared_hinge'], 'clf__penalty': ['l2']},\n",
       "          pre_dispatch='2*n_jobs', random_state=50, refit=True,\n",
       "          return_train_score='warn', scoring=None, verbose=10)"
      ]
     },
     "execution_count": 36,
     "metadata": {},
     "output_type": "execute_result"
    }
   ],
   "source": [
    "f = Features()\n",
    "pclf = f.pipelined_features(with_nb_features = False)\n",
    "data = {}\n",
    "train = get_data_sst2('stanfordSentimentTreeBank/stsa.binary.train')\n",
    "test = get_data_sst2('stanfordSentimentTreeBank/stsa.binary.test')\n",
    "pclf.fit(train[0], train[1])"
   ]
  },
  {
   "cell_type": "code",
   "execution_count": 37,
   "metadata": {},
   "outputs": [
    {
     "name": "stdout",
     "output_type": "stream",
     "text": [
      "              precision    recall  f1-score   support\n",
      "\n",
      "         neg       0.83      0.79      0.81       912\n",
      "         pos       0.80      0.83      0.82       909\n",
      "\n",
      "   micro avg       0.81      0.81      0.81      1821\n",
      "   macro avg       0.81      0.81      0.81      1821\n",
      "weighted avg       0.81      0.81      0.81      1821\n",
      "\n",
      "Accuracy of model =  0.8127402526084568\n"
     ]
    }
   ],
   "source": [
    "from sklearn import metrics\n",
    "y_pred_val = pclf.predict(test[0])\n",
    "print(metrics.classification_report(test[1], y_pred_val))\n",
    "accuracy = np.mean(y_pred_val == test[1])\n",
    "print(\"Accuracy of model = \", accuracy)\n"
   ]
  },
  {
   "cell_type": "code",
   "execution_count": null,
   "metadata": {},
   "outputs": [],
   "source": []
  }
 ],
 "metadata": {
  "kernelspec": {
   "display_name": "Python 3",
   "language": "python",
   "name": "python3"
  },
  "language_info": {
   "codemirror_mode": {
    "name": "ipython",
    "version": 3
   },
   "file_extension": ".py",
   "mimetype": "text/x-python",
   "name": "python",
   "nbconvert_exporter": "python",
   "pygments_lexer": "ipython3",
   "version": "3.6.5"
  }
 },
 "nbformat": 4,
 "nbformat_minor": 2
}
