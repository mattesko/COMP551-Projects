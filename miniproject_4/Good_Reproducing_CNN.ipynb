{
 "cells": [
  {
   "cell_type": "markdown",
   "metadata": {
    "colab_type": "text",
    "id": "cA0bFIMu2j0y"
   },
   "source": [
    "# Loading Dependencies"
   ]
  },
  {
   "cell_type": "code",
   "execution_count": 0,
   "metadata": {
    "colab": {
     "base_uri": "https://localhost:8080/",
     "height": 156
    },
    "colab_type": "code",
    "id": "gwGmtsea2fv6",
    "outputId": "75fa2c7b-68a9-4aab-9603-e2e9541d243f"
   },
   "outputs": [
    {
     "name": "stderr",
     "output_type": "stream",
     "text": [
      "paramiko missing, opening SSH/SCP/SFTP paths will be disabled.  `pip install paramiko` to suppress\n",
      "Using TensorFlow backend.\n"
     ]
    },
    {
     "name": "stdout",
     "output_type": "stream",
     "text": [
      "Go to this URL in a browser: https://accounts.google.com/o/oauth2/auth?client_id=947318989803-6bn6qk8qdgf4n4g3pfee6491hc0brc4i.apps.googleusercontent.com&redirect_uri=urn%3Aietf%3Awg%3Aoauth%3A2.0%3Aoob&scope=email%20https%3A%2F%2Fwww.googleapis.com%2Fauth%2Fdocs.test%20https%3A%2F%2Fwww.googleapis.com%2Fauth%2Fdrive%20https%3A%2F%2Fwww.googleapis.com%2Fauth%2Fdrive.photos.readonly%20https%3A%2F%2Fwww.googleapis.com%2Fauth%2Fpeopleapi.readonly&response_type=code\n",
      "\n",
      "Enter your authorization code:\n",
      "··········\n",
      "Mounted at /content/gdrive\n"
     ]
    }
   ],
   "source": [
    "import os\n",
    "import numpy as np\n",
    "\n",
    "from gensim.models import Word2Vec\n",
    "from gensim.utils import simple_preprocess\n",
    "from gensim.models.keyedvectors import KeyedVectors\n",
    "\n",
    "from keras.activations import relu\n",
    "from keras.models import Sequential, Model\n",
    "from keras.layers import Input, Dense, Embedding, Flatten, Conv1D, MaxPooling1D, GlobalMaxPooling1D\n",
    "from keras.layers import Dropout, concatenate\n",
    "from keras.utils.vis_utils import model_to_dot\n",
    "\n",
    "from sklearn.metrics import classification_report\n",
    "\n",
    "from IPython.display import SVG"
   ]
  },
  {
   "cell_type": "markdown",
   "metadata": {
    "colab_type": "text",
    "id": "FVPqryYE3b2R"
   },
   "source": [
    "# Helper Functions"
   ]
  },
  {
   "cell_type": "code",
   "execution_count": 0,
   "metadata": {
    "colab": {},
    "colab_type": "code",
    "id": "1yYaNHGw2DuB"
   },
   "outputs": [],
   "source": [
    "def compute_metrics(raw_predictions, label_encoder):\n",
    "    # convert raw predictions to class indexes\n",
    "    threshold = 0.5\n",
    "    class_predictions = [(x > threshold).astype(int) for x in model.predict(x_test)]\n",
    "\n",
    "    # convert raw predictions to class indexes\n",
    "    threshold = 0.5\n",
    "    class_predictions = [(x > threshold).astype(int) for x in model.predict(x_test)]\n",
    "\n",
    "    # select only one class (i.e., the dim in the vector with 1.0 all other are at 0.0)\n",
    "    class_index = ([np.argmax(x) for x in class_predictions])\n",
    "\n",
    "    # convert back to original class names\n",
    "    pred_classes = label_encoder.inverse_transform(class_index)\n",
    "\n",
    "    # print precision, recall, f1-score report\n",
    "    print(classification_report(y_test, pred_classes))\n",
    "    \n",
    "def load_fasttext_embeddings():\n",
    "    glove_dir = './data'\n",
    "    embeddings_index = {}\n",
    "    f = open(os.path.join(glove_dir, 'glove.6B.300d.txt')) # word2vec vectors that were trained on 100 billion words from Google News.\n",
    "    for line in f:\n",
    "        values = line.split()\n",
    "        word = values[0]\n",
    "        coefs = np.asarray(values[1:], dtype='float32')\n",
    "        embeddings_index[word] = coefs\n",
    "    f.close()\n",
    "    print('Found %s word vectors.' % len(embeddings_index))\n",
    "    return embeddings_index\n",
    "  \n",
    "def create_embeddings_matrix(embeddings_index, vocabulary, embedding_dim=100):\n",
    "    embeddings_matrix = np.random.rand(len(vocabulary)+1, embedding_dim)\n",
    "    for i, word in enumerate(vocabulary):\n",
    "        embedding_vector = embeddings_index.get(word)\n",
    "        if embedding_vector is not None:\n",
    "            embeddings_matrix[i] = embedding_vector\n",
    "    print('Matrix shape: {}'.format(embeddings_matrix.shape))\n",
    "    return embeddings_matrix\n",
    "  \n",
    "def get_embeddings_layer(embeddings_matrix, name, max_len, trainable=False):\n",
    "    embedding_layer = Embedding(\n",
    "        input_dim=embeddings_matrix.shape[0],\n",
    "        output_dim=embeddings_matrix.shape[1],\n",
    "        input_length=max_len,\n",
    "        weights=[embeddings_matrix],\n",
    "        trainable=trainable,\n",
    "        name=name)\n",
    "    return embedding_layer\n",
    "  \n",
    "def get_conv_pool(x_input, sufix, n_grams=[3,4,5], feature_maps=100):\n",
    "    branches = []\n",
    "    for n in n_grams:\n",
    "        branch = Conv1D(filters=feature_maps, kernel_size=n, activation=relu, name='Conv_'+sufix+'_'+str(n))(x_input)\n",
    "        #branch = MaxPooling1D(pool_size=2, strides=None, padding='valid', name='MaxPooling_'+sufix+'_'+str(n))(branch)\n",
    "        branch = GlobalMaxPooling1D(name='MaxPooling_'+sufix+'_'+str(n))(branch)\n",
    "        #branch = Flatten(name='Flatten_'+sufix+'_'+str(n))(branch)\n",
    "        branches.append(branch)\n",
    "    return branches"
   ]
  },
  {
   "cell_type": "markdown",
   "metadata": {
    "colab_type": "text",
    "id": "IbuN2_zf5gg6"
   },
   "source": [
    "# Models"
   ]
  },
  {
   "cell_type": "markdown",
   "metadata": {
    "colab_type": "text",
    "id": "gh8hXtok5miK"
   },
   "source": [
    "## 1) CNN-rand: all words are randomly initialized (the ones not present in the set of pre-trained words) and then modified during training"
   ]
  },
  {
   "cell_type": "code",
   "execution_count": 0,
   "metadata": {
    "colab": {},
    "colab_type": "code",
    "id": "9rgj13nP4byR"
   },
   "outputs": [],
   "source": [
    "def get_cnn_rand(embedding_dim=100, vocab_size=1000, max_len=50):\n",
    "    # create the embedding layer\n",
    "    embedding_matrix = np.random.rand(vocab_size, embedding_dim)\n",
    "    embedding_layer = get_embeddings_layer(embedding_matrix, 'embedding_layer_dynamic', max_len, trainable=True)\n",
    "\n",
    "    # connect the input with the embedding layer\n",
    "    i = Input(shape=(max_len,), dtype='int32', name='main_input')\n",
    "    x = embedding_layer(i)\n",
    "\n",
    "    # generate several branches in the network, each for a different convolution+pooling operation,\n",
    "    # and concatenate the result of each branch into a single vector\n",
    "    branches = get_conv_pool(x, 'dynamic')\n",
    "    z = concatenate(branches, axis=-1)\n",
    "    z = Dropout(0.8)(z)\n",
    "\n",
    "    # pass the concatenated vector to the predition layer\n",
    "    o = Dense(2, activation='sigmoid', name='output')(z)\n",
    "\n",
    "    model = Model(inputs=i, outputs=o)\n",
    "    model.compile(loss={'output': 'binary_crossentropy'}, optimizer='adam', metrics=['acc'])\n",
    "\n",
    "    return model"
   ]
  },
  {
   "cell_type": "code",
   "execution_count": 0,
   "metadata": {
    "colab": {},
    "colab_type": "code",
    "id": "q0ZYLtTA5zOJ"
   },
   "outputs": [],
   "source": [
    "model_1 = get_cnn_rand(vocab_size=100000, max_len=100)"
   ]
  },
  {
   "cell_type": "code",
   "execution_count": 0,
   "metadata": {
    "colab": {
     "base_uri": "https://localhost:8080/",
     "height": 778
    },
    "colab_type": "code",
    "id": "Fr9w_HpN50dS",
    "outputId": "96e68fcd-c1f5-4944-ed36-af2848cf6d2c"
   },
   "outputs": [
    {
     "data": {
      "image/svg+xml": [
       "<svg height=\"553pt\" viewBox=\"0.00 0.00 1439.00 553.00\" width=\"1439pt\" xmlns=\"http://www.w3.org/2000/svg\" xmlns:xlink=\"http://www.w3.org/1999/xlink\">\n",
       "<g class=\"graph\" id=\"graph0\" transform=\"scale(1 1) rotate(0) translate(4 549)\">\n",
       "<title>G</title>\n",
       "<polygon fill=\"#ffffff\" points=\"-4,4 -4,-549 1435,-549 1435,4 -4,4\" stroke=\"transparent\"/>\n",
       "<!-- 139734841402088 -->\n",
       "<g class=\"node\" id=\"node1\">\n",
       "<title>139734841402088</title>\n",
       "<polygon fill=\"none\" points=\"569.5,-498.5 569.5,-544.5 861.5,-544.5 861.5,-498.5 569.5,-498.5\" stroke=\"#000000\"/>\n",
       "<text fill=\"#000000\" font-family=\"Times,serif\" font-size=\"14.00\" text-anchor=\"middle\" x=\"646.5\" y=\"-517.8\">main_input: InputLayer</text>\n",
       "<polyline fill=\"none\" points=\"723.5,-498.5 723.5,-544.5 \" stroke=\"#000000\"/>\n",
       "<text fill=\"#000000\" font-family=\"Times,serif\" font-size=\"14.00\" text-anchor=\"middle\" x=\"752.5\" y=\"-529.3\">input:</text>\n",
       "<polyline fill=\"none\" points=\"723.5,-521.5 781.5,-521.5 \" stroke=\"#000000\"/>\n",
       "<text fill=\"#000000\" font-family=\"Times,serif\" font-size=\"14.00\" text-anchor=\"middle\" x=\"752.5\" y=\"-506.3\">output:</text>\n",
       "<polyline fill=\"none\" points=\"781.5,-498.5 781.5,-544.5 \" stroke=\"#000000\"/>\n",
       "<text fill=\"#000000\" font-family=\"Times,serif\" font-size=\"14.00\" text-anchor=\"middle\" x=\"821.5\" y=\"-529.3\">(None, 50)</text>\n",
       "<polyline fill=\"none\" points=\"781.5,-521.5 861.5,-521.5 \" stroke=\"#000000\"/>\n",
       "<text fill=\"#000000\" font-family=\"Times,serif\" font-size=\"14.00\" text-anchor=\"middle\" x=\"821.5\" y=\"-506.3\">(None, 50)</text>\n",
       "</g>\n",
       "<!-- 139736546945344 -->\n",
       "<g class=\"node\" id=\"node2\">\n",
       "<title>139736546945344</title>\n",
       "<polygon fill=\"none\" points=\"507.5,-415.5 507.5,-461.5 923.5,-461.5 923.5,-415.5 507.5,-415.5\" stroke=\"#000000\"/>\n",
       "<text fill=\"#000000\" font-family=\"Times,serif\" font-size=\"14.00\" text-anchor=\"middle\" x=\"631.5\" y=\"-434.8\">embedding_layer_dynamic: Embedding</text>\n",
       "<polyline fill=\"none\" points=\"755.5,-415.5 755.5,-461.5 \" stroke=\"#000000\"/>\n",
       "<text fill=\"#000000\" font-family=\"Times,serif\" font-size=\"14.00\" text-anchor=\"middle\" x=\"784.5\" y=\"-446.3\">input:</text>\n",
       "<polyline fill=\"none\" points=\"755.5,-438.5 813.5,-438.5 \" stroke=\"#000000\"/>\n",
       "<text fill=\"#000000\" font-family=\"Times,serif\" font-size=\"14.00\" text-anchor=\"middle\" x=\"784.5\" y=\"-423.3\">output:</text>\n",
       "<polyline fill=\"none\" points=\"813.5,-415.5 813.5,-461.5 \" stroke=\"#000000\"/>\n",
       "<text fill=\"#000000\" font-family=\"Times,serif\" font-size=\"14.00\" text-anchor=\"middle\" x=\"868.5\" y=\"-446.3\">(None, 50)</text>\n",
       "<polyline fill=\"none\" points=\"813.5,-438.5 923.5,-438.5 \" stroke=\"#000000\"/>\n",
       "<text fill=\"#000000\" font-family=\"Times,serif\" font-size=\"14.00\" text-anchor=\"middle\" x=\"868.5\" y=\"-423.3\">(None, 50, 100)</text>\n",
       "</g>\n",
       "<!-- 139734841402088&#45;&gt;139736546945344 -->\n",
       "<g class=\"edge\" id=\"edge1\">\n",
       "<title>139734841402088-&gt;139736546945344</title>\n",
       "<path d=\"M715.5,-498.3799C715.5,-490.1745 715.5,-480.7679 715.5,-471.8786\" fill=\"none\" stroke=\"#000000\"/>\n",
       "<polygon fill=\"#000000\" points=\"719.0001,-471.784 715.5,-461.784 712.0001,-471.784 719.0001,-471.784\" stroke=\"#000000\"/>\n",
       "</g>\n",
       "<!-- 139736165054672 -->\n",
       "<g class=\"node\" id=\"node3\">\n",
       "<title>139736165054672</title>\n",
       "<polygon fill=\"none\" points=\"118,-332.5 118,-378.5 465,-378.5 465,-332.5 118,-332.5\" stroke=\"#000000\"/>\n",
       "<text fill=\"#000000\" font-family=\"Times,serif\" font-size=\"14.00\" text-anchor=\"middle\" x=\"207.5\" y=\"-351.8\">Conv_dynamic_3: Conv1D</text>\n",
       "<polyline fill=\"none\" points=\"297,-332.5 297,-378.5 \" stroke=\"#000000\"/>\n",
       "<text fill=\"#000000\" font-family=\"Times,serif\" font-size=\"14.00\" text-anchor=\"middle\" x=\"326\" y=\"-363.3\">input:</text>\n",
       "<polyline fill=\"none\" points=\"297,-355.5 355,-355.5 \" stroke=\"#000000\"/>\n",
       "<text fill=\"#000000\" font-family=\"Times,serif\" font-size=\"14.00\" text-anchor=\"middle\" x=\"326\" y=\"-340.3\">output:</text>\n",
       "<polyline fill=\"none\" points=\"355,-332.5 355,-378.5 \" stroke=\"#000000\"/>\n",
       "<text fill=\"#000000\" font-family=\"Times,serif\" font-size=\"14.00\" text-anchor=\"middle\" x=\"410\" y=\"-363.3\">(None, 50, 100)</text>\n",
       "<polyline fill=\"none\" points=\"355,-355.5 465,-355.5 \" stroke=\"#000000\"/>\n",
       "<text fill=\"#000000\" font-family=\"Times,serif\" font-size=\"14.00\" text-anchor=\"middle\" x=\"410\" y=\"-340.3\">(None, 48, 100)</text>\n",
       "</g>\n",
       "<!-- 139736546945344&#45;&gt;139736165054672 -->\n",
       "<g class=\"edge\" id=\"edge2\">\n",
       "<title>139736546945344-&gt;139736165054672</title>\n",
       "<path d=\"M597.9554,-415.4901C542.4679,-404.6282 476.1291,-391.642 419.3859,-380.5343\" fill=\"none\" stroke=\"#000000\"/>\n",
       "<polygon fill=\"#000000\" points=\"419.7594,-377.041 409.2732,-378.5547 418.4146,-383.9106 419.7594,-377.041\" stroke=\"#000000\"/>\n",
       "</g>\n",
       "<!-- 139734834382384 -->\n",
       "<g class=\"node\" id=\"node4\">\n",
       "<title>139734834382384</title>\n",
       "<polygon fill=\"none\" points=\"542,-332.5 542,-378.5 889,-378.5 889,-332.5 542,-332.5\" stroke=\"#000000\"/>\n",
       "<text fill=\"#000000\" font-family=\"Times,serif\" font-size=\"14.00\" text-anchor=\"middle\" x=\"631.5\" y=\"-351.8\">Conv_dynamic_4: Conv1D</text>\n",
       "<polyline fill=\"none\" points=\"721,-332.5 721,-378.5 \" stroke=\"#000000\"/>\n",
       "<text fill=\"#000000\" font-family=\"Times,serif\" font-size=\"14.00\" text-anchor=\"middle\" x=\"750\" y=\"-363.3\">input:</text>\n",
       "<polyline fill=\"none\" points=\"721,-355.5 779,-355.5 \" stroke=\"#000000\"/>\n",
       "<text fill=\"#000000\" font-family=\"Times,serif\" font-size=\"14.00\" text-anchor=\"middle\" x=\"750\" y=\"-340.3\">output:</text>\n",
       "<polyline fill=\"none\" points=\"779,-332.5 779,-378.5 \" stroke=\"#000000\"/>\n",
       "<text fill=\"#000000\" font-family=\"Times,serif\" font-size=\"14.00\" text-anchor=\"middle\" x=\"834\" y=\"-363.3\">(None, 50, 100)</text>\n",
       "<polyline fill=\"none\" points=\"779,-355.5 889,-355.5 \" stroke=\"#000000\"/>\n",
       "<text fill=\"#000000\" font-family=\"Times,serif\" font-size=\"14.00\" text-anchor=\"middle\" x=\"834\" y=\"-340.3\">(None, 47, 100)</text>\n",
       "</g>\n",
       "<!-- 139736546945344&#45;&gt;139734834382384 -->\n",
       "<g class=\"edge\" id=\"edge3\">\n",
       "<title>139736546945344-&gt;139734834382384</title>\n",
       "<path d=\"M715.5,-415.3799C715.5,-407.1745 715.5,-397.7679 715.5,-388.8786\" fill=\"none\" stroke=\"#000000\"/>\n",
       "<polygon fill=\"#000000\" points=\"719.0001,-388.784 715.5,-378.784 712.0001,-388.784 719.0001,-388.784\" stroke=\"#000000\"/>\n",
       "</g>\n",
       "<!-- 139734699620896 -->\n",
       "<g class=\"node\" id=\"node5\">\n",
       "<title>139734699620896</title>\n",
       "<polygon fill=\"none\" points=\"966,-332.5 966,-378.5 1313,-378.5 1313,-332.5 966,-332.5\" stroke=\"#000000\"/>\n",
       "<text fill=\"#000000\" font-family=\"Times,serif\" font-size=\"14.00\" text-anchor=\"middle\" x=\"1055.5\" y=\"-351.8\">Conv_dynamic_5: Conv1D</text>\n",
       "<polyline fill=\"none\" points=\"1145,-332.5 1145,-378.5 \" stroke=\"#000000\"/>\n",
       "<text fill=\"#000000\" font-family=\"Times,serif\" font-size=\"14.00\" text-anchor=\"middle\" x=\"1174\" y=\"-363.3\">input:</text>\n",
       "<polyline fill=\"none\" points=\"1145,-355.5 1203,-355.5 \" stroke=\"#000000\"/>\n",
       "<text fill=\"#000000\" font-family=\"Times,serif\" font-size=\"14.00\" text-anchor=\"middle\" x=\"1174\" y=\"-340.3\">output:</text>\n",
       "<polyline fill=\"none\" points=\"1203,-332.5 1203,-378.5 \" stroke=\"#000000\"/>\n",
       "<text fill=\"#000000\" font-family=\"Times,serif\" font-size=\"14.00\" text-anchor=\"middle\" x=\"1258\" y=\"-363.3\">(None, 50, 100)</text>\n",
       "<polyline fill=\"none\" points=\"1203,-355.5 1313,-355.5 \" stroke=\"#000000\"/>\n",
       "<text fill=\"#000000\" font-family=\"Times,serif\" font-size=\"14.00\" text-anchor=\"middle\" x=\"1258\" y=\"-340.3\">(None, 46, 100)</text>\n",
       "</g>\n",
       "<!-- 139736546945344&#45;&gt;139734699620896 -->\n",
       "<g class=\"edge\" id=\"edge4\">\n",
       "<title>139736546945344-&gt;139734699620896</title>\n",
       "<path d=\"M833.0446,-415.4901C888.5321,-404.6282 954.8709,-391.642 1011.6141,-380.5343\" fill=\"none\" stroke=\"#000000\"/>\n",
       "<polygon fill=\"#000000\" points=\"1012.5854,-383.9106 1021.7268,-378.5547 1011.2406,-377.041 1012.5854,-383.9106\" stroke=\"#000000\"/>\n",
       "</g>\n",
       "<!-- 139734834380984 -->\n",
       "<g class=\"node\" id=\"node6\">\n",
       "<title>139734834380984</title>\n",
       "<polygon fill=\"none\" points=\"0,-249.5 0,-295.5 465,-295.5 465,-249.5 0,-249.5\" stroke=\"#000000\"/>\n",
       "<text fill=\"#000000\" font-family=\"Times,serif\" font-size=\"14.00\" text-anchor=\"middle\" x=\"148.5\" y=\"-268.8\">MaxPooling_dynamic_3: GlobalMaxPooling1D</text>\n",
       "<polyline fill=\"none\" points=\"297,-249.5 297,-295.5 \" stroke=\"#000000\"/>\n",
       "<text fill=\"#000000\" font-family=\"Times,serif\" font-size=\"14.00\" text-anchor=\"middle\" x=\"326\" y=\"-280.3\">input:</text>\n",
       "<polyline fill=\"none\" points=\"297,-272.5 355,-272.5 \" stroke=\"#000000\"/>\n",
       "<text fill=\"#000000\" font-family=\"Times,serif\" font-size=\"14.00\" text-anchor=\"middle\" x=\"326\" y=\"-257.3\">output:</text>\n",
       "<polyline fill=\"none\" points=\"355,-249.5 355,-295.5 \" stroke=\"#000000\"/>\n",
       "<text fill=\"#000000\" font-family=\"Times,serif\" font-size=\"14.00\" text-anchor=\"middle\" x=\"410\" y=\"-280.3\">(None, 48, 100)</text>\n",
       "<polyline fill=\"none\" points=\"355,-272.5 465,-272.5 \" stroke=\"#000000\"/>\n",
       "<text fill=\"#000000\" font-family=\"Times,serif\" font-size=\"14.00\" text-anchor=\"middle\" x=\"410\" y=\"-257.3\">(None, 100)</text>\n",
       "</g>\n",
       "<!-- 139736165054672&#45;&gt;139734834380984 -->\n",
       "<g class=\"edge\" id=\"edge5\">\n",
       "<title>139736165054672-&gt;139734834380984</title>\n",
       "<path d=\"M275.0652,-332.3799C268.8521,-323.6394 261.6701,-313.5358 254.9957,-304.1465\" fill=\"none\" stroke=\"#000000\"/>\n",
       "<polygon fill=\"#000000\" points=\"257.6978,-301.9068 249.0513,-295.784 251.9924,-305.9624 257.6978,-301.9068\" stroke=\"#000000\"/>\n",
       "</g>\n",
       "<!-- 139734699544760 -->\n",
       "<g class=\"node\" id=\"node7\">\n",
       "<title>139734699544760</title>\n",
       "<polygon fill=\"none\" points=\"483,-249.5 483,-295.5 948,-295.5 948,-249.5 483,-249.5\" stroke=\"#000000\"/>\n",
       "<text fill=\"#000000\" font-family=\"Times,serif\" font-size=\"14.00\" text-anchor=\"middle\" x=\"631.5\" y=\"-268.8\">MaxPooling_dynamic_4: GlobalMaxPooling1D</text>\n",
       "<polyline fill=\"none\" points=\"780,-249.5 780,-295.5 \" stroke=\"#000000\"/>\n",
       "<text fill=\"#000000\" font-family=\"Times,serif\" font-size=\"14.00\" text-anchor=\"middle\" x=\"809\" y=\"-280.3\">input:</text>\n",
       "<polyline fill=\"none\" points=\"780,-272.5 838,-272.5 \" stroke=\"#000000\"/>\n",
       "<text fill=\"#000000\" font-family=\"Times,serif\" font-size=\"14.00\" text-anchor=\"middle\" x=\"809\" y=\"-257.3\">output:</text>\n",
       "<polyline fill=\"none\" points=\"838,-249.5 838,-295.5 \" stroke=\"#000000\"/>\n",
       "<text fill=\"#000000\" font-family=\"Times,serif\" font-size=\"14.00\" text-anchor=\"middle\" x=\"893\" y=\"-280.3\">(None, 47, 100)</text>\n",
       "<polyline fill=\"none\" points=\"838,-272.5 948,-272.5 \" stroke=\"#000000\"/>\n",
       "<text fill=\"#000000\" font-family=\"Times,serif\" font-size=\"14.00\" text-anchor=\"middle\" x=\"893\" y=\"-257.3\">(None, 100)</text>\n",
       "</g>\n",
       "<!-- 139734834382384&#45;&gt;139734699544760 -->\n",
       "<g class=\"edge\" id=\"edge6\">\n",
       "<title>139734834382384-&gt;139734699544760</title>\n",
       "<path d=\"M715.5,-332.3799C715.5,-324.1745 715.5,-314.7679 715.5,-305.8786\" fill=\"none\" stroke=\"#000000\"/>\n",
       "<polygon fill=\"#000000\" points=\"719.0001,-305.784 715.5,-295.784 712.0001,-305.784 719.0001,-305.784\" stroke=\"#000000\"/>\n",
       "</g>\n",
       "<!-- 139734699729416 -->\n",
       "<g class=\"node\" id=\"node8\">\n",
       "<title>139734699729416</title>\n",
       "<polygon fill=\"none\" points=\"966,-249.5 966,-295.5 1431,-295.5 1431,-249.5 966,-249.5\" stroke=\"#000000\"/>\n",
       "<text fill=\"#000000\" font-family=\"Times,serif\" font-size=\"14.00\" text-anchor=\"middle\" x=\"1114.5\" y=\"-268.8\">MaxPooling_dynamic_5: GlobalMaxPooling1D</text>\n",
       "<polyline fill=\"none\" points=\"1263,-249.5 1263,-295.5 \" stroke=\"#000000\"/>\n",
       "<text fill=\"#000000\" font-family=\"Times,serif\" font-size=\"14.00\" text-anchor=\"middle\" x=\"1292\" y=\"-280.3\">input:</text>\n",
       "<polyline fill=\"none\" points=\"1263,-272.5 1321,-272.5 \" stroke=\"#000000\"/>\n",
       "<text fill=\"#000000\" font-family=\"Times,serif\" font-size=\"14.00\" text-anchor=\"middle\" x=\"1292\" y=\"-257.3\">output:</text>\n",
       "<polyline fill=\"none\" points=\"1321,-249.5 1321,-295.5 \" stroke=\"#000000\"/>\n",
       "<text fill=\"#000000\" font-family=\"Times,serif\" font-size=\"14.00\" text-anchor=\"middle\" x=\"1376\" y=\"-280.3\">(None, 46, 100)</text>\n",
       "<polyline fill=\"none\" points=\"1321,-272.5 1431,-272.5 \" stroke=\"#000000\"/>\n",
       "<text fill=\"#000000\" font-family=\"Times,serif\" font-size=\"14.00\" text-anchor=\"middle\" x=\"1376\" y=\"-257.3\">(None, 100)</text>\n",
       "</g>\n",
       "<!-- 139734699620896&#45;&gt;139734699729416 -->\n",
       "<g class=\"edge\" id=\"edge7\">\n",
       "<title>139734699620896-&gt;139734699729416</title>\n",
       "<path d=\"M1155.9348,-332.3799C1162.1479,-323.6394 1169.3299,-313.5358 1176.0043,-304.1465\" fill=\"none\" stroke=\"#000000\"/>\n",
       "<polygon fill=\"#000000\" points=\"1179.0076,-305.9624 1181.9487,-295.784 1173.3022,-301.9068 1179.0076,-305.9624\" stroke=\"#000000\"/>\n",
       "</g>\n",
       "<!-- 139736526922024 -->\n",
       "<g class=\"node\" id=\"node9\">\n",
       "<title>139736526922024</title>\n",
       "<polygon fill=\"none\" points=\"473,-166.5 473,-212.5 958,-212.5 958,-166.5 473,-166.5\" stroke=\"#000000\"/>\n",
       "<text fill=\"#000000\" font-family=\"Times,serif\" font-size=\"14.00\" text-anchor=\"middle\" x=\"560.5\" y=\"-185.8\">concatenate_1: Concatenate</text>\n",
       "<polyline fill=\"none\" points=\"648,-166.5 648,-212.5 \" stroke=\"#000000\"/>\n",
       "<text fill=\"#000000\" font-family=\"Times,serif\" font-size=\"14.00\" text-anchor=\"middle\" x=\"677\" y=\"-197.3\">input:</text>\n",
       "<polyline fill=\"none\" points=\"648,-189.5 706,-189.5 \" stroke=\"#000000\"/>\n",
       "<text fill=\"#000000\" font-family=\"Times,serif\" font-size=\"14.00\" text-anchor=\"middle\" x=\"677\" y=\"-174.3\">output:</text>\n",
       "<polyline fill=\"none\" points=\"706,-166.5 706,-212.5 \" stroke=\"#000000\"/>\n",
       "<text fill=\"#000000\" font-family=\"Times,serif\" font-size=\"14.00\" text-anchor=\"middle\" x=\"832\" y=\"-197.3\">[(None, 100), (None, 100), (None, 100)]</text>\n",
       "<polyline fill=\"none\" points=\"706,-189.5 958,-189.5 \" stroke=\"#000000\"/>\n",
       "<text fill=\"#000000\" font-family=\"Times,serif\" font-size=\"14.00\" text-anchor=\"middle\" x=\"832\" y=\"-174.3\">(None, 300)</text>\n",
       "</g>\n",
       "<!-- 139734834380984&#45;&gt;139736526922024 -->\n",
       "<g class=\"edge\" id=\"edge8\">\n",
       "<title>139734834380984-&gt;139736526922024</title>\n",
       "<path d=\"M366.401,-249.4901C430.1331,-238.5382 506.4321,-225.4268 571.4224,-214.2587\" fill=\"none\" stroke=\"#000000\"/>\n",
       "<polygon fill=\"#000000\" points=\"572.0758,-217.6978 581.3385,-212.5547 570.8902,-210.7989 572.0758,-217.6978\" stroke=\"#000000\"/>\n",
       "</g>\n",
       "<!-- 139734699544760&#45;&gt;139736526922024 -->\n",
       "<g class=\"edge\" id=\"edge9\">\n",
       "<title>139734699544760-&gt;139736526922024</title>\n",
       "<path d=\"M715.5,-249.3799C715.5,-241.1745 715.5,-231.7679 715.5,-222.8786\" fill=\"none\" stroke=\"#000000\"/>\n",
       "<polygon fill=\"#000000\" points=\"719.0001,-222.784 715.5,-212.784 712.0001,-222.784 719.0001,-222.784\" stroke=\"#000000\"/>\n",
       "</g>\n",
       "<!-- 139734699729416&#45;&gt;139736526922024 -->\n",
       "<g class=\"edge\" id=\"edge10\">\n",
       "<title>139734699729416-&gt;139736526922024</title>\n",
       "<path d=\"M1064.599,-249.4901C1000.8669,-238.5382 924.5679,-225.4268 859.5776,-214.2587\" fill=\"none\" stroke=\"#000000\"/>\n",
       "<polygon fill=\"#000000\" points=\"860.1098,-210.7989 849.6615,-212.5547 858.9242,-217.6978 860.1098,-210.7989\" stroke=\"#000000\"/>\n",
       "</g>\n",
       "<!-- 139734699729584 -->\n",
       "<g class=\"node\" id=\"node10\">\n",
       "<title>139734699729584</title>\n",
       "<polygon fill=\"none\" points=\"576,-83.5 576,-129.5 855,-129.5 855,-83.5 576,-83.5\" stroke=\"#000000\"/>\n",
       "<text fill=\"#000000\" font-family=\"Times,serif\" font-size=\"14.00\" text-anchor=\"middle\" x=\"643\" y=\"-102.8\">dropout_1: Dropout</text>\n",
       "<polyline fill=\"none\" points=\"710,-83.5 710,-129.5 \" stroke=\"#000000\"/>\n",
       "<text fill=\"#000000\" font-family=\"Times,serif\" font-size=\"14.00\" text-anchor=\"middle\" x=\"739\" y=\"-114.3\">input:</text>\n",
       "<polyline fill=\"none\" points=\"710,-106.5 768,-106.5 \" stroke=\"#000000\"/>\n",
       "<text fill=\"#000000\" font-family=\"Times,serif\" font-size=\"14.00\" text-anchor=\"middle\" x=\"739\" y=\"-91.3\">output:</text>\n",
       "<polyline fill=\"none\" points=\"768,-83.5 768,-129.5 \" stroke=\"#000000\"/>\n",
       "<text fill=\"#000000\" font-family=\"Times,serif\" font-size=\"14.00\" text-anchor=\"middle\" x=\"811.5\" y=\"-114.3\">(None, 300)</text>\n",
       "<polyline fill=\"none\" points=\"768,-106.5 855,-106.5 \" stroke=\"#000000\"/>\n",
       "<text fill=\"#000000\" font-family=\"Times,serif\" font-size=\"14.00\" text-anchor=\"middle\" x=\"811.5\" y=\"-91.3\">(None, 300)</text>\n",
       "</g>\n",
       "<!-- 139736526922024&#45;&gt;139734699729584 -->\n",
       "<g class=\"edge\" id=\"edge11\">\n",
       "<title>139736526922024-&gt;139734699729584</title>\n",
       "<path d=\"M715.5,-166.3799C715.5,-158.1745 715.5,-148.7679 715.5,-139.8786\" fill=\"none\" stroke=\"#000000\"/>\n",
       "<polygon fill=\"#000000\" points=\"719.0001,-139.784 715.5,-129.784 712.0001,-139.784 719.0001,-139.784\" stroke=\"#000000\"/>\n",
       "</g>\n",
       "<!-- 139734699729696 -->\n",
       "<g class=\"node\" id=\"node11\">\n",
       "<title>139734699729696</title>\n",
       "<polygon fill=\"none\" points=\"594.5,-.5 594.5,-46.5 836.5,-46.5 836.5,-.5 594.5,-.5\" stroke=\"#000000\"/>\n",
       "<text fill=\"#000000\" font-family=\"Times,serif\" font-size=\"14.00\" text-anchor=\"middle\" x=\"643\" y=\"-19.8\">output: Dense</text>\n",
       "<polyline fill=\"none\" points=\"691.5,-.5 691.5,-46.5 \" stroke=\"#000000\"/>\n",
       "<text fill=\"#000000\" font-family=\"Times,serif\" font-size=\"14.00\" text-anchor=\"middle\" x=\"720.5\" y=\"-31.3\">input:</text>\n",
       "<polyline fill=\"none\" points=\"691.5,-23.5 749.5,-23.5 \" stroke=\"#000000\"/>\n",
       "<text fill=\"#000000\" font-family=\"Times,serif\" font-size=\"14.00\" text-anchor=\"middle\" x=\"720.5\" y=\"-8.3\">output:</text>\n",
       "<polyline fill=\"none\" points=\"749.5,-.5 749.5,-46.5 \" stroke=\"#000000\"/>\n",
       "<text fill=\"#000000\" font-family=\"Times,serif\" font-size=\"14.00\" text-anchor=\"middle\" x=\"793\" y=\"-31.3\">(None, 300)</text>\n",
       "<polyline fill=\"none\" points=\"749.5,-23.5 836.5,-23.5 \" stroke=\"#000000\"/>\n",
       "<text fill=\"#000000\" font-family=\"Times,serif\" font-size=\"14.00\" text-anchor=\"middle\" x=\"793\" y=\"-8.3\">(None, 2)</text>\n",
       "</g>\n",
       "<!-- 139734699729584&#45;&gt;139734699729696 -->\n",
       "<g class=\"edge\" id=\"edge12\">\n",
       "<title>139734699729584-&gt;139734699729696</title>\n",
       "<path d=\"M715.5,-83.3799C715.5,-75.1745 715.5,-65.7679 715.5,-56.8786\" fill=\"none\" stroke=\"#000000\"/>\n",
       "<polygon fill=\"#000000\" points=\"719.0001,-56.784 715.5,-46.784 712.0001,-56.784 719.0001,-56.784\" stroke=\"#000000\"/>\n",
       "</g>\n",
       "</g>\n",
       "</svg>"
      ],
      "text/plain": [
       "<IPython.core.display.SVG object>"
      ]
     },
     "execution_count": 7,
     "metadata": {
      "tags": []
     },
     "output_type": "execute_result"
    }
   ],
   "source": [
    "SVG(model_to_dot(model_1, show_layer_names=True, show_shapes=True).create(prog='dot', format='svg'))"
   ]
  },
  {
   "cell_type": "markdown",
   "metadata": {
    "colab_type": "text",
    "id": "lYN19TNz7PUL"
   },
   "source": [
    "## 2) CNN-static: pre-trained vectors with all the words— including the unknown ones that are randomly initialized—kept static and only the other parameters of the model are learned"
   ]
  },
  {
   "cell_type": "code",
   "execution_count": 0,
   "metadata": {
    "colab": {
     "base_uri": "https://localhost:8080/",
     "height": 34
    },
    "colab_type": "code",
    "id": "46Syv0026JCq",
    "outputId": "c4f3b93e-4aee-4097-c486-0904e7e67e3a"
   },
   "outputs": [
    {
     "name": "stdout",
     "output_type": "stream",
     "text": [
      "Found 400000 word vectors.\n"
     ]
    }
   ],
   "source": [
    "embeddings_index = load_fasttext_embeddings()"
   ]
  },
  {
   "cell_type": "code",
   "execution_count": 0,
   "metadata": {
    "colab": {
     "base_uri": "https://localhost:8080/",
     "height": 34
    },
    "colab_type": "code",
    "id": "yBy5MmHK7XfJ",
    "outputId": "c91aab7c-e5a3-462d-ff85-ca087f32268c"
   },
   "outputs": [
    {
     "name": "stdout",
     "output_type": "stream",
     "text": [
      "Matrix shape: (400001, 300)\n"
     ]
    }
   ],
   "source": [
    "vocabulary = embeddings_index.keys() # replace this by the vocabulary of the dataset you want to train\n",
    "embeddings_matrix = create_embeddings_matrix(embeddings_index, vocabulary, 300)"
   ]
  },
  {
   "cell_type": "code",
   "execution_count": 0,
   "metadata": {
    "colab": {},
    "colab_type": "code",
    "id": "iTQBbHH67YGR"
   },
   "outputs": [],
   "source": [
    "embedding_layer = get_embeddings_layer(embeddings_matrix, 'embedding_layer_static', 55, trainable=False)"
   ]
  },
  {
   "cell_type": "code",
   "execution_count": 0,
   "metadata": {
    "colab": {},
    "colab_type": "code",
    "id": "JC6P4dp97ZW6"
   },
   "outputs": [],
   "source": [
    "def get_cnn_pre_trained_embeddings(embedding_layer, max_len):\n",
    "    # connect the input with the embedding layer\n",
    "    i = Input(shape=(max_len,), dtype='int32', name='main_input')\n",
    "    x = embedding_layer(i)\n",
    "\n",
    "    # generate several branches in the network, each for a different convolution+pooling operation,\n",
    "    # and concatenate the result of each branch into a single vector\n",
    "    branches = get_conv_pool(x, 'static')\n",
    "    z = concatenate(branches, axis=-1)\n",
    "\n",
    "    # pass the concatenated vector to the predition layer\n",
    "    o = Dense(2, activation='sigmoid', name='output')(z)\n",
    "\n",
    "    model = Model(inputs=i, outputs=o)\n",
    "    model.compile(loss={'output': 'binary_crossentropy'}, optimizer='adam', metrics=['acc'])\n",
    "\n",
    "    return model"
   ]
  },
  {
   "cell_type": "code",
   "execution_count": 0,
   "metadata": {
    "colab": {},
    "colab_type": "code",
    "id": "iDDY8qYM7a15"
   },
   "outputs": [],
   "source": [
    "model_2 = get_cnn_pre_trained_embeddings(embedding_layer, 55)"
   ]
  },
  {
   "cell_type": "code",
   "execution_count": 0,
   "metadata": {
    "colab": {
     "base_uri": "https://localhost:8080/",
     "height": 668
    },
    "colab_type": "code",
    "id": "FGjnQioC7cgB",
    "outputId": "ef7efe83-3f5b-45e4-eedf-8d5ae5d82f49"
   },
   "outputs": [
    {
     "data": {
      "image/svg+xml": [
       "<svg height=\"470pt\" viewBox=\"0.00 0.00 1376.00 470.00\" width=\"1376pt\" xmlns=\"http://www.w3.org/2000/svg\" xmlns:xlink=\"http://www.w3.org/1999/xlink\">\n",
       "<g class=\"graph\" id=\"graph0\" transform=\"scale(1 1) rotate(0) translate(4 466)\">\n",
       "<title>G</title>\n",
       "<polygon fill=\"#ffffff\" points=\"-4,4 -4,-466 1372,-466 1372,4 -4,4\" stroke=\"transparent\"/>\n",
       "<!-- 140656801812432 -->\n",
       "<g class=\"node\" id=\"node1\">\n",
       "<title>140656801812432</title>\n",
       "<polygon fill=\"none\" points=\"538,-415.5 538,-461.5 830,-461.5 830,-415.5 538,-415.5\" stroke=\"#000000\"/>\n",
       "<text fill=\"#000000\" font-family=\"Times,serif\" font-size=\"14.00\" text-anchor=\"middle\" x=\"615\" y=\"-434.8\">main_input: InputLayer</text>\n",
       "<polyline fill=\"none\" points=\"692,-415.5 692,-461.5 \" stroke=\"#000000\"/>\n",
       "<text fill=\"#000000\" font-family=\"Times,serif\" font-size=\"14.00\" text-anchor=\"middle\" x=\"721\" y=\"-446.3\">input:</text>\n",
       "<polyline fill=\"none\" points=\"692,-438.5 750,-438.5 \" stroke=\"#000000\"/>\n",
       "<text fill=\"#000000\" font-family=\"Times,serif\" font-size=\"14.00\" text-anchor=\"middle\" x=\"721\" y=\"-423.3\">output:</text>\n",
       "<polyline fill=\"none\" points=\"750,-415.5 750,-461.5 \" stroke=\"#000000\"/>\n",
       "<text fill=\"#000000\" font-family=\"Times,serif\" font-size=\"14.00\" text-anchor=\"middle\" x=\"790\" y=\"-446.3\">(None, 55)</text>\n",
       "<polyline fill=\"none\" points=\"750,-438.5 830,-438.5 \" stroke=\"#000000\"/>\n",
       "<text fill=\"#000000\" font-family=\"Times,serif\" font-size=\"14.00\" text-anchor=\"middle\" x=\"790\" y=\"-423.3\">(None, 55)</text>\n",
       "</g>\n",
       "<!-- 140656751956544 -->\n",
       "<g class=\"node\" id=\"node2\">\n",
       "<title>140656751956544</title>\n",
       "<polygon fill=\"none\" points=\"486.5,-332.5 486.5,-378.5 881.5,-378.5 881.5,-332.5 486.5,-332.5\" stroke=\"#000000\"/>\n",
       "<text fill=\"#000000\" font-family=\"Times,serif\" font-size=\"14.00\" text-anchor=\"middle\" x=\"600\" y=\"-351.8\">embedding_layer_static: Embedding</text>\n",
       "<polyline fill=\"none\" points=\"713.5,-332.5 713.5,-378.5 \" stroke=\"#000000\"/>\n",
       "<text fill=\"#000000\" font-family=\"Times,serif\" font-size=\"14.00\" text-anchor=\"middle\" x=\"742.5\" y=\"-363.3\">input:</text>\n",
       "<polyline fill=\"none\" points=\"713.5,-355.5 771.5,-355.5 \" stroke=\"#000000\"/>\n",
       "<text fill=\"#000000\" font-family=\"Times,serif\" font-size=\"14.00\" text-anchor=\"middle\" x=\"742.5\" y=\"-340.3\">output:</text>\n",
       "<polyline fill=\"none\" points=\"771.5,-332.5 771.5,-378.5 \" stroke=\"#000000\"/>\n",
       "<text fill=\"#000000\" font-family=\"Times,serif\" font-size=\"14.00\" text-anchor=\"middle\" x=\"826.5\" y=\"-363.3\">(None, 55)</text>\n",
       "<polyline fill=\"none\" points=\"771.5,-355.5 881.5,-355.5 \" stroke=\"#000000\"/>\n",
       "<text fill=\"#000000\" font-family=\"Times,serif\" font-size=\"14.00\" text-anchor=\"middle\" x=\"826.5\" y=\"-340.3\">(None, 55, 300)</text>\n",
       "</g>\n",
       "<!-- 140656801812432&#45;&gt;140656751956544 -->\n",
       "<g class=\"edge\" id=\"edge1\">\n",
       "<title>140656801812432-&gt;140656751956544</title>\n",
       "<path d=\"M684,-415.3799C684,-407.1745 684,-397.7679 684,-388.8786\" fill=\"none\" stroke=\"#000000\"/>\n",
       "<polygon fill=\"#000000\" points=\"687.5001,-388.784 684,-378.784 680.5001,-388.784 687.5001,-388.784\" stroke=\"#000000\"/>\n",
       "</g>\n",
       "<!-- 140656801808456 -->\n",
       "<g class=\"node\" id=\"node3\">\n",
       "<title>140656801808456</title>\n",
       "<polygon fill=\"none\" points=\"118,-249.5 118,-295.5 444,-295.5 444,-249.5 118,-249.5\" stroke=\"#000000\"/>\n",
       "<text fill=\"#000000\" font-family=\"Times,serif\" font-size=\"14.00\" text-anchor=\"middle\" x=\"197\" y=\"-268.8\">Conv_static_3: Conv1D</text>\n",
       "<polyline fill=\"none\" points=\"276,-249.5 276,-295.5 \" stroke=\"#000000\"/>\n",
       "<text fill=\"#000000\" font-family=\"Times,serif\" font-size=\"14.00\" text-anchor=\"middle\" x=\"305\" y=\"-280.3\">input:</text>\n",
       "<polyline fill=\"none\" points=\"276,-272.5 334,-272.5 \" stroke=\"#000000\"/>\n",
       "<text fill=\"#000000\" font-family=\"Times,serif\" font-size=\"14.00\" text-anchor=\"middle\" x=\"305\" y=\"-257.3\">output:</text>\n",
       "<polyline fill=\"none\" points=\"334,-249.5 334,-295.5 \" stroke=\"#000000\"/>\n",
       "<text fill=\"#000000\" font-family=\"Times,serif\" font-size=\"14.00\" text-anchor=\"middle\" x=\"389\" y=\"-280.3\">(None, 55, 300)</text>\n",
       "<polyline fill=\"none\" points=\"334,-272.5 444,-272.5 \" stroke=\"#000000\"/>\n",
       "<text fill=\"#000000\" font-family=\"Times,serif\" font-size=\"14.00\" text-anchor=\"middle\" x=\"389\" y=\"-257.3\">(None, 53, 100)</text>\n",
       "</g>\n",
       "<!-- 140656751956544&#45;&gt;140656801808456 -->\n",
       "<g class=\"edge\" id=\"edge2\">\n",
       "<title>140656751956544-&gt;140656801808456</title>\n",
       "<path d=\"M572.2772,-332.4901C519.6471,-321.6506 456.7458,-308.6958 402.887,-297.6033\" fill=\"none\" stroke=\"#000000\"/>\n",
       "<polygon fill=\"#000000\" points=\"403.4406,-294.1439 392.9401,-295.5547 402.0285,-301 403.4406,-294.1439\" stroke=\"#000000\"/>\n",
       "</g>\n",
       "<!-- 140656802120816 -->\n",
       "<g class=\"node\" id=\"node4\">\n",
       "<title>140656802120816</title>\n",
       "<polygon fill=\"none\" points=\"521,-249.5 521,-295.5 847,-295.5 847,-249.5 521,-249.5\" stroke=\"#000000\"/>\n",
       "<text fill=\"#000000\" font-family=\"Times,serif\" font-size=\"14.00\" text-anchor=\"middle\" x=\"600\" y=\"-268.8\">Conv_static_4: Conv1D</text>\n",
       "<polyline fill=\"none\" points=\"679,-249.5 679,-295.5 \" stroke=\"#000000\"/>\n",
       "<text fill=\"#000000\" font-family=\"Times,serif\" font-size=\"14.00\" text-anchor=\"middle\" x=\"708\" y=\"-280.3\">input:</text>\n",
       "<polyline fill=\"none\" points=\"679,-272.5 737,-272.5 \" stroke=\"#000000\"/>\n",
       "<text fill=\"#000000\" font-family=\"Times,serif\" font-size=\"14.00\" text-anchor=\"middle\" x=\"708\" y=\"-257.3\">output:</text>\n",
       "<polyline fill=\"none\" points=\"737,-249.5 737,-295.5 \" stroke=\"#000000\"/>\n",
       "<text fill=\"#000000\" font-family=\"Times,serif\" font-size=\"14.00\" text-anchor=\"middle\" x=\"792\" y=\"-280.3\">(None, 55, 300)</text>\n",
       "<polyline fill=\"none\" points=\"737,-272.5 847,-272.5 \" stroke=\"#000000\"/>\n",
       "<text fill=\"#000000\" font-family=\"Times,serif\" font-size=\"14.00\" text-anchor=\"middle\" x=\"792\" y=\"-257.3\">(None, 52, 100)</text>\n",
       "</g>\n",
       "<!-- 140656751956544&#45;&gt;140656802120816 -->\n",
       "<g class=\"edge\" id=\"edge3\">\n",
       "<title>140656751956544-&gt;140656802120816</title>\n",
       "<path d=\"M684,-332.3799C684,-324.1745 684,-314.7679 684,-305.8786\" fill=\"none\" stroke=\"#000000\"/>\n",
       "<polygon fill=\"#000000\" points=\"687.5001,-305.784 684,-295.784 680.5001,-305.784 687.5001,-305.784\" stroke=\"#000000\"/>\n",
       "</g>\n",
       "<!-- 140656801409624 -->\n",
       "<g class=\"node\" id=\"node5\">\n",
       "<title>140656801409624</title>\n",
       "<polygon fill=\"none\" points=\"924,-249.5 924,-295.5 1250,-295.5 1250,-249.5 924,-249.5\" stroke=\"#000000\"/>\n",
       "<text fill=\"#000000\" font-family=\"Times,serif\" font-size=\"14.00\" text-anchor=\"middle\" x=\"1003\" y=\"-268.8\">Conv_static_5: Conv1D</text>\n",
       "<polyline fill=\"none\" points=\"1082,-249.5 1082,-295.5 \" stroke=\"#000000\"/>\n",
       "<text fill=\"#000000\" font-family=\"Times,serif\" font-size=\"14.00\" text-anchor=\"middle\" x=\"1111\" y=\"-280.3\">input:</text>\n",
       "<polyline fill=\"none\" points=\"1082,-272.5 1140,-272.5 \" stroke=\"#000000\"/>\n",
       "<text fill=\"#000000\" font-family=\"Times,serif\" font-size=\"14.00\" text-anchor=\"middle\" x=\"1111\" y=\"-257.3\">output:</text>\n",
       "<polyline fill=\"none\" points=\"1140,-249.5 1140,-295.5 \" stroke=\"#000000\"/>\n",
       "<text fill=\"#000000\" font-family=\"Times,serif\" font-size=\"14.00\" text-anchor=\"middle\" x=\"1195\" y=\"-280.3\">(None, 55, 300)</text>\n",
       "<polyline fill=\"none\" points=\"1140,-272.5 1250,-272.5 \" stroke=\"#000000\"/>\n",
       "<text fill=\"#000000\" font-family=\"Times,serif\" font-size=\"14.00\" text-anchor=\"middle\" x=\"1195\" y=\"-257.3\">(None, 51, 100)</text>\n",
       "</g>\n",
       "<!-- 140656751956544&#45;&gt;140656801409624 -->\n",
       "<g class=\"edge\" id=\"edge4\">\n",
       "<title>140656751956544-&gt;140656801409624</title>\n",
       "<path d=\"M795.7228,-332.4901C848.3529,-321.6506 911.2542,-308.6958 965.113,-297.6033\" fill=\"none\" stroke=\"#000000\"/>\n",
       "<polygon fill=\"#000000\" points=\"965.9715,-301 975.0599,-295.5547 964.5594,-294.1439 965.9715,-301\" stroke=\"#000000\"/>\n",
       "</g>\n",
       "<!-- 140656802015552 -->\n",
       "<g class=\"node\" id=\"node6\">\n",
       "<title>140656802015552</title>\n",
       "<polygon fill=\"none\" points=\"0,-166.5 0,-212.5 444,-212.5 444,-166.5 0,-166.5\" stroke=\"#000000\"/>\n",
       "<text fill=\"#000000\" font-family=\"Times,serif\" font-size=\"14.00\" text-anchor=\"middle\" x=\"138\" y=\"-185.8\">MaxPooling_static_3: GlobalMaxPooling1D</text>\n",
       "<polyline fill=\"none\" points=\"276,-166.5 276,-212.5 \" stroke=\"#000000\"/>\n",
       "<text fill=\"#000000\" font-family=\"Times,serif\" font-size=\"14.00\" text-anchor=\"middle\" x=\"305\" y=\"-197.3\">input:</text>\n",
       "<polyline fill=\"none\" points=\"276,-189.5 334,-189.5 \" stroke=\"#000000\"/>\n",
       "<text fill=\"#000000\" font-family=\"Times,serif\" font-size=\"14.00\" text-anchor=\"middle\" x=\"305\" y=\"-174.3\">output:</text>\n",
       "<polyline fill=\"none\" points=\"334,-166.5 334,-212.5 \" stroke=\"#000000\"/>\n",
       "<text fill=\"#000000\" font-family=\"Times,serif\" font-size=\"14.00\" text-anchor=\"middle\" x=\"389\" y=\"-197.3\">(None, 53, 100)</text>\n",
       "<polyline fill=\"none\" points=\"334,-189.5 444,-189.5 \" stroke=\"#000000\"/>\n",
       "<text fill=\"#000000\" font-family=\"Times,serif\" font-size=\"14.00\" text-anchor=\"middle\" x=\"389\" y=\"-174.3\">(None, 100)</text>\n",
       "</g>\n",
       "<!-- 140656801808456&#45;&gt;140656802015552 -->\n",
       "<g class=\"edge\" id=\"edge5\">\n",
       "<title>140656801808456-&gt;140656802015552</title>\n",
       "<path d=\"M264.5652,-249.3799C258.3521,-240.6394 251.1701,-230.5358 244.4957,-221.1465\" fill=\"none\" stroke=\"#000000\"/>\n",
       "<polygon fill=\"#000000\" points=\"247.1978,-218.9068 238.5513,-212.784 241.4924,-222.9624 247.1978,-218.9068\" stroke=\"#000000\"/>\n",
       "</g>\n",
       "<!-- 140656801408392 -->\n",
       "<g class=\"node\" id=\"node7\">\n",
       "<title>140656801408392</title>\n",
       "<polygon fill=\"none\" points=\"462,-166.5 462,-212.5 906,-212.5 906,-166.5 462,-166.5\" stroke=\"#000000\"/>\n",
       "<text fill=\"#000000\" font-family=\"Times,serif\" font-size=\"14.00\" text-anchor=\"middle\" x=\"600\" y=\"-185.8\">MaxPooling_static_4: GlobalMaxPooling1D</text>\n",
       "<polyline fill=\"none\" points=\"738,-166.5 738,-212.5 \" stroke=\"#000000\"/>\n",
       "<text fill=\"#000000\" font-family=\"Times,serif\" font-size=\"14.00\" text-anchor=\"middle\" x=\"767\" y=\"-197.3\">input:</text>\n",
       "<polyline fill=\"none\" points=\"738,-189.5 796,-189.5 \" stroke=\"#000000\"/>\n",
       "<text fill=\"#000000\" font-family=\"Times,serif\" font-size=\"14.00\" text-anchor=\"middle\" x=\"767\" y=\"-174.3\">output:</text>\n",
       "<polyline fill=\"none\" points=\"796,-166.5 796,-212.5 \" stroke=\"#000000\"/>\n",
       "<text fill=\"#000000\" font-family=\"Times,serif\" font-size=\"14.00\" text-anchor=\"middle\" x=\"851\" y=\"-197.3\">(None, 52, 100)</text>\n",
       "<polyline fill=\"none\" points=\"796,-189.5 906,-189.5 \" stroke=\"#000000\"/>\n",
       "<text fill=\"#000000\" font-family=\"Times,serif\" font-size=\"14.00\" text-anchor=\"middle\" x=\"851\" y=\"-174.3\">(None, 100)</text>\n",
       "</g>\n",
       "<!-- 140656802120816&#45;&gt;140656801408392 -->\n",
       "<g class=\"edge\" id=\"edge6\">\n",
       "<title>140656802120816-&gt;140656801408392</title>\n",
       "<path d=\"M684,-249.3799C684,-241.1745 684,-231.7679 684,-222.8786\" fill=\"none\" stroke=\"#000000\"/>\n",
       "<polygon fill=\"#000000\" points=\"687.5001,-222.784 684,-212.784 680.5001,-222.784 687.5001,-222.784\" stroke=\"#000000\"/>\n",
       "</g>\n",
       "<!-- 140656801147368 -->\n",
       "<g class=\"node\" id=\"node8\">\n",
       "<title>140656801147368</title>\n",
       "<polygon fill=\"none\" points=\"924,-166.5 924,-212.5 1368,-212.5 1368,-166.5 924,-166.5\" stroke=\"#000000\"/>\n",
       "<text fill=\"#000000\" font-family=\"Times,serif\" font-size=\"14.00\" text-anchor=\"middle\" x=\"1062\" y=\"-185.8\">MaxPooling_static_5: GlobalMaxPooling1D</text>\n",
       "<polyline fill=\"none\" points=\"1200,-166.5 1200,-212.5 \" stroke=\"#000000\"/>\n",
       "<text fill=\"#000000\" font-family=\"Times,serif\" font-size=\"14.00\" text-anchor=\"middle\" x=\"1229\" y=\"-197.3\">input:</text>\n",
       "<polyline fill=\"none\" points=\"1200,-189.5 1258,-189.5 \" stroke=\"#000000\"/>\n",
       "<text fill=\"#000000\" font-family=\"Times,serif\" font-size=\"14.00\" text-anchor=\"middle\" x=\"1229\" y=\"-174.3\">output:</text>\n",
       "<polyline fill=\"none\" points=\"1258,-166.5 1258,-212.5 \" stroke=\"#000000\"/>\n",
       "<text fill=\"#000000\" font-family=\"Times,serif\" font-size=\"14.00\" text-anchor=\"middle\" x=\"1313\" y=\"-197.3\">(None, 51, 100)</text>\n",
       "<polyline fill=\"none\" points=\"1258,-189.5 1368,-189.5 \" stroke=\"#000000\"/>\n",
       "<text fill=\"#000000\" font-family=\"Times,serif\" font-size=\"14.00\" text-anchor=\"middle\" x=\"1313\" y=\"-174.3\">(None, 100)</text>\n",
       "</g>\n",
       "<!-- 140656801409624&#45;&gt;140656801147368 -->\n",
       "<g class=\"edge\" id=\"edge7\">\n",
       "<title>140656801409624-&gt;140656801147368</title>\n",
       "<path d=\"M1103.4348,-249.3799C1109.6479,-240.6394 1116.8299,-230.5358 1123.5043,-221.1465\" fill=\"none\" stroke=\"#000000\"/>\n",
       "<polygon fill=\"#000000\" points=\"1126.5076,-222.9624 1129.4487,-212.784 1120.8022,-218.9068 1126.5076,-222.9624\" stroke=\"#000000\"/>\n",
       "</g>\n",
       "<!-- 140656801810080 -->\n",
       "<g class=\"node\" id=\"node9\">\n",
       "<title>140656801810080</title>\n",
       "<polygon fill=\"none\" points=\"441.5,-83.5 441.5,-129.5 926.5,-129.5 926.5,-83.5 441.5,-83.5\" stroke=\"#000000\"/>\n",
       "<text fill=\"#000000\" font-family=\"Times,serif\" font-size=\"14.00\" text-anchor=\"middle\" x=\"529\" y=\"-102.8\">concatenate_4: Concatenate</text>\n",
       "<polyline fill=\"none\" points=\"616.5,-83.5 616.5,-129.5 \" stroke=\"#000000\"/>\n",
       "<text fill=\"#000000\" font-family=\"Times,serif\" font-size=\"14.00\" text-anchor=\"middle\" x=\"645.5\" y=\"-114.3\">input:</text>\n",
       "<polyline fill=\"none\" points=\"616.5,-106.5 674.5,-106.5 \" stroke=\"#000000\"/>\n",
       "<text fill=\"#000000\" font-family=\"Times,serif\" font-size=\"14.00\" text-anchor=\"middle\" x=\"645.5\" y=\"-91.3\">output:</text>\n",
       "<polyline fill=\"none\" points=\"674.5,-83.5 674.5,-129.5 \" stroke=\"#000000\"/>\n",
       "<text fill=\"#000000\" font-family=\"Times,serif\" font-size=\"14.00\" text-anchor=\"middle\" x=\"800.5\" y=\"-114.3\">[(None, 100), (None, 100), (None, 100)]</text>\n",
       "<polyline fill=\"none\" points=\"674.5,-106.5 926.5,-106.5 \" stroke=\"#000000\"/>\n",
       "<text fill=\"#000000\" font-family=\"Times,serif\" font-size=\"14.00\" text-anchor=\"middle\" x=\"800.5\" y=\"-91.3\">(None, 300)</text>\n",
       "</g>\n",
       "<!-- 140656802015552&#45;&gt;140656801810080 -->\n",
       "<g class=\"edge\" id=\"edge8\">\n",
       "<title>140656802015552-&gt;140656801810080</title>\n",
       "<path d=\"M350.0792,-166.4901C410.9152,-155.5607 483.7224,-142.4806 545.8035,-131.3275\" fill=\"none\" stroke=\"#000000\"/>\n",
       "<polygon fill=\"#000000\" points=\"546.4481,-134.7678 555.6716,-129.5547 545.2103,-127.8781 546.4481,-134.7678\" stroke=\"#000000\"/>\n",
       "</g>\n",
       "<!-- 140656801408392&#45;&gt;140656801810080 -->\n",
       "<g class=\"edge\" id=\"edge9\">\n",
       "<title>140656801408392-&gt;140656801810080</title>\n",
       "<path d=\"M684,-166.3799C684,-158.1745 684,-148.7679 684,-139.8786\" fill=\"none\" stroke=\"#000000\"/>\n",
       "<polygon fill=\"#000000\" points=\"687.5001,-139.784 684,-129.784 680.5001,-139.784 687.5001,-139.784\" stroke=\"#000000\"/>\n",
       "</g>\n",
       "<!-- 140656801147368&#45;&gt;140656801810080 -->\n",
       "<g class=\"edge\" id=\"edge10\">\n",
       "<title>140656801147368-&gt;140656801810080</title>\n",
       "<path d=\"M1017.9208,-166.4901C957.0848,-155.5607 884.2776,-142.4806 822.1965,-131.3275\" fill=\"none\" stroke=\"#000000\"/>\n",
       "<polygon fill=\"#000000\" points=\"822.7897,-127.8781 812.3284,-129.5547 821.5519,-134.7678 822.7897,-127.8781\" stroke=\"#000000\"/>\n",
       "</g>\n",
       "<!-- 140656801147592 -->\n",
       "<g class=\"node\" id=\"node10\">\n",
       "<title>140656801147592</title>\n",
       "<polygon fill=\"none\" points=\"563,-.5 563,-46.5 805,-46.5 805,-.5 563,-.5\" stroke=\"#000000\"/>\n",
       "<text fill=\"#000000\" font-family=\"Times,serif\" font-size=\"14.00\" text-anchor=\"middle\" x=\"611.5\" y=\"-19.8\">output: Dense</text>\n",
       "<polyline fill=\"none\" points=\"660,-.5 660,-46.5 \" stroke=\"#000000\"/>\n",
       "<text fill=\"#000000\" font-family=\"Times,serif\" font-size=\"14.00\" text-anchor=\"middle\" x=\"689\" y=\"-31.3\">input:</text>\n",
       "<polyline fill=\"none\" points=\"660,-23.5 718,-23.5 \" stroke=\"#000000\"/>\n",
       "<text fill=\"#000000\" font-family=\"Times,serif\" font-size=\"14.00\" text-anchor=\"middle\" x=\"689\" y=\"-8.3\">output:</text>\n",
       "<polyline fill=\"none\" points=\"718,-.5 718,-46.5 \" stroke=\"#000000\"/>\n",
       "<text fill=\"#000000\" font-family=\"Times,serif\" font-size=\"14.00\" text-anchor=\"middle\" x=\"761.5\" y=\"-31.3\">(None, 300)</text>\n",
       "<polyline fill=\"none\" points=\"718,-23.5 805,-23.5 \" stroke=\"#000000\"/>\n",
       "<text fill=\"#000000\" font-family=\"Times,serif\" font-size=\"14.00\" text-anchor=\"middle\" x=\"761.5\" y=\"-8.3\">(None, 1)</text>\n",
       "</g>\n",
       "<!-- 140656801810080&#45;&gt;140656801147592 -->\n",
       "<g class=\"edge\" id=\"edge11\">\n",
       "<title>140656801810080-&gt;140656801147592</title>\n",
       "<path d=\"M684,-83.3799C684,-75.1745 684,-65.7679 684,-56.8786\" fill=\"none\" stroke=\"#000000\"/>\n",
       "<polygon fill=\"#000000\" points=\"687.5001,-56.784 684,-46.784 680.5001,-56.784 687.5001,-56.784\" stroke=\"#000000\"/>\n",
       "</g>\n",
       "</g>\n",
       "</svg>"
      ],
      "text/plain": [
       "<IPython.core.display.SVG object>"
      ]
     },
     "execution_count": 31,
     "metadata": {
      "tags": []
     },
     "output_type": "execute_result"
    }
   ],
   "source": [
    "SVG(model_to_dot(model_2, show_layer_names=True, show_shapes=True).create(prog='dot', format='svg'))"
   ]
  },
  {
   "cell_type": "markdown",
   "metadata": {
    "colab_type": "text",
    "id": "U9yuarWv7xJU"
   },
   "source": [
    "# Loading Data"
   ]
  },
  {
   "cell_type": "markdown",
   "metadata": {
    "colab_type": "text",
    "id": "5X8ZOU5GE_07"
   },
   "source": [
    "## Movie Review"
   ]
  },
  {
   "cell_type": "code",
   "execution_count": 0,
   "metadata": {
    "colab": {},
    "colab_type": "code",
    "id": "Fus2DiKhiKhb"
   },
   "outputs": [],
   "source": [
    "def clean_str(string):\n",
    "    \"\"\"\n",
    "    Tokenization/string cleaning for all datasets except for SST.\n",
    "    Original taken from https://github.com/yoonkim/CNN_sentence/blob/master/process_data.py\n",
    "    \"\"\"\n",
    "    string = re.sub(r\"[^A-Za-z0-9(),!?\\'\\`]\", \" \", string)\n",
    "    string = re.sub(r\"\\'s\", \" \\'s\", string)\n",
    "    string = re.sub(r\"\\'ve\", \" \\'ve\", string)\n",
    "    string = re.sub(r\"n\\'t\", \" n\\'t\", string)\n",
    "    string = re.sub(r\"\\'re\", \" \\'re\", string)\n",
    "    string = re.sub(r\"\\'d\", \" \\'d\", string)\n",
    "    string = re.sub(r\"\\'ll\", \" \\'ll\", string)\n",
    "    string = re.sub(r\",\", \" , \", string)\n",
    "    string = re.sub(r\"!\", \" ! \", string)\n",
    "    string = re.sub(r\"\\(\", \" \\( \", string)\n",
    "    string = re.sub(r\"\\)\", \" \\) \", string)\n",
    "    string = re.sub(r\"\\?\", \" \\? \", string)\n",
    "    string = re.sub(r\"\\s{2,}\", \" \", string)\n",
    "    return string.strip().lower()"
   ]
  },
  {
   "cell_type": "code",
   "execution_count": 0,
   "metadata": {
    "colab": {
     "base_uri": "https://localhost:8080/",
     "height": 187
    },
    "colab_type": "code",
    "id": "hWesVluN7uEC",
    "outputId": "21361d29-254d-405a-8a18-7fb02f3b1cee"
   },
   "outputs": [
    {
     "name": "stdout",
     "output_type": "stream",
     "text": [
      "[nltk_data] Downloading package stopwords to /root/nltk_data...\n",
      "[nltk_data]   Package stopwords is already up-to-date!\n",
      "[nltk_data] Downloading package punkt to /root/nltk_data...\n",
      "[nltk_data]   Package punkt is already up-to-date!\n",
      "[nltk_data] Downloading package wordnet to /root/nltk_data...\n",
      "[nltk_data]   Package wordnet is already up-to-date!\n",
      "[1815, 1447, 1448, 1449, 39, 273, 287]\n",
      "4573\n",
      "Shape of data tensor: (3944, 55)\n",
      "Shape of label tensor: (3944, 2)\n"
     ]
    }
   ],
   "source": [
    "import nltk\n",
    "from nltk.corpus import stopwords\n",
    "from nltk.stem import WordNetLemmatizer\n",
    "from nltk import word_tokenize\n",
    "import re\n",
    "\n",
    "from tensorflow.keras.preprocessing.text import Tokenizer\n",
    "from tensorflow.keras.preprocessing.sequence import pad_sequences\n",
    "from tensorflow.keras.utils import to_categorical\n",
    "\n",
    "from sklearn.model_selection import train_test_split\n",
    "\n",
    "nltk.download('stopwords')\n",
    "nltk.download('punkt')\n",
    "nltk.download('wordnet');\n",
    "\n",
    "# use nltk to remove stopwords and lemmatize\n",
    "# you might need to run: nltk.download() to fetch the stopword package in \"all packages\"\n",
    "# you might also need to run ntlk.download(\"punkt\")\n",
    "english_stopwords = set(stopwords.words(\"english\"))\n",
    "wordnet_lemmatizer = WordNetLemmatizer()\n",
    "\n",
    "MAX_NUM_WORDS = 20000\n",
    "MAX_SEQUENCE_LENGTH = 55\n",
    "TEST_SPLIT = 0.2\n",
    "\n",
    "def clean_input_text(text):\n",
    "    clean_text = []\n",
    "    for sent in text:\n",
    "        clean_sent = \"\"\n",
    "        sent_tokens = word_tokenize(sent)\n",
    "        for token in sent_tokens:\n",
    "            clean_sent += wordnet_lemmatizer.lemmatize(token) + \" \" if token not in english_stopwords else \"\"\n",
    "        clean_text.append(clean_sent)\n",
    "    return clean_text\n",
    "  \n",
    "  # Movie Review\n",
    "  \n",
    "# def retrieve_examples_and_labels(dataset_name):\n",
    "#     labels, x_text = [],[]\n",
    "#     directory = 'gdrive/My Drive/COMP 551 - Mini Project 4 - Final Project/rt-polaritydata'\n",
    "#     with open(os.path.join(directory,dataset_name), encoding=\"utf-8\") as f:\n",
    "#       for line in f:\n",
    "#         if dataset_name == 'rt-polarity.neg':\n",
    "#           label = 0\n",
    "#         elif dataset_name == 'rt-polarity.pos':\n",
    "#           label = 1\n",
    "#         text = line\n",
    "#         labels.append(label)\n",
    "#         x_text.append(text)\n",
    "#     return x_text, labels\n",
    "\n",
    "# x_text1, y_train1 = retrieve_examples_and_labels(\"rt-polarity.neg\")\n",
    "# x_text2, y_train2 = retrieve_examples_and_labels(\"rt-polarity.pos\")\n",
    "# x_text = clean_input_text(x_text1 + x_text2)\n",
    "# y = y_train1 + y_train2\n",
    "\n",
    "# SST2\n",
    "\n",
    "#retrieve all sentences and their labels from the sst dataset\n",
    "\n",
    "# def retrieve_examples_and_labels(dataset_name):\n",
    "#     labels, x_text = [],[]\n",
    "#     with open(dataset_name, encoding=\"utf-8\") as f:\n",
    "#       for line in f:\n",
    "#         values = line.split()\n",
    "#         label = values[0]\n",
    "#         text = \" \".join(values[1:])\n",
    "#         labels.append(label)\n",
    "#         x_text.append(text)\n",
    "#     return x_text, labels\n",
    "\n",
    "# x_text1, y_train1 = retrieve_examples_and_labels(\"train.txt\")\n",
    "# x_text2, y_train2 = retrieve_examples_and_labels(\"test.txt\")\n",
    "# x_text = clean_input_text(x_text1 + x_text2)\n",
    "# y = y_train1 + y_train2\n",
    "\n",
    "# CR\n",
    "\n",
    "def load_reviews_dataset():\n",
    "\n",
    "    products = [\"Apex AD2600 Progressive-scan DVD player.txt\"\n",
    "    ,\"Canon G3.txt\"\n",
    "    ,\"Creative Labs Nomad Jukebox Zen Xtra 40GB.txt\"\n",
    "    ,\"Nikon coolpix 4300.txt\"\n",
    "    ,\"Nokia 6610.txt\"]\n",
    "    examples = []\n",
    "    for product in products:\n",
    "        examples += list(open('./data/customer_reviews/' + product, \"r\", encoding=\"utf-8\").readlines())\n",
    "    \n",
    "    # for every examples, keep the one starting with a ranking\n",
    "    x_text, y = [],[]\n",
    "    for example in examples:\n",
    "        final_label = 0\n",
    "        temp_split = example.split(\"##\")\n",
    "        # don't consider unlabeled sentences\n",
    "        if len(temp_split) <= 1:\n",
    "            continue\n",
    "        temp_label, temp_sentence = temp_split\n",
    "        # parse the temp_label to find positive or negative\n",
    "        positive_label = temp_label.split(\"+\")\n",
    "        #print(\"len positive label: {}\".format(len(positive_label)))\n",
    "        if len(positive_label) > 1:\n",
    "            final_label = 1\n",
    "        \n",
    "        # so the final_label is either 0 or 1, 0 if negative, 1 if positive\n",
    "        final_sentence = clean_str(temp_sentence.strip())\n",
    "        x_text.append(final_sentence)\n",
    "        y.append(final_label)\n",
    "    return x_text, y\n",
    "        \n",
    "        \n",
    "x_text, y = load_reviews_dataset()\n",
    "x_text = clean_input_text(x_text)\n",
    "\n",
    "# vectorize the input text (both negative and positive )\n",
    "tokenizer = Tokenizer(num_words=MAX_NUM_WORDS)\n",
    "tokenizer.fit_on_texts(x_text)\n",
    "sequences = tokenizer.texts_to_sequences(x_text)\n",
    "print(sequences[0])\n",
    "word_index = tokenizer.word_index\n",
    "print(len(word_index))\n",
    "\n",
    "data = pad_sequences(sequences, maxlen=MAX_SEQUENCE_LENGTH)\n",
    "labels = to_categorical(np.asarray(y),num_classes=None)\n",
    "print('Shape of data tensor:', data.shape)\n",
    "print('Shape of label tensor:', labels.shape)\n",
    " \n",
    "\n",
    "# split the data into a training set and a validation set\n",
    "indices = np.arange(data.shape[0])\n",
    "np.random.shuffle(indices)\n",
    "data = data[indices]\n",
    "labels = labels[indices]\n",
    "\n",
    "x_all, x_test, y_all, y_test = train_test_split(data, labels, test_size=TEST_SPLIT, random_state=42)\n",
    "x_train, x_val, y_train, y_val = train_test_split(x_all, y_all, test_size=TEST_SPLIT, random_state=42)\n",
    "\n"
   ]
  },
  {
   "cell_type": "markdown",
   "metadata": {
    "colab_type": "text",
    "id": "SCAdHWBuHioG"
   },
   "source": [
    "# Running Models"
   ]
  },
  {
   "cell_type": "code",
   "execution_count": 0,
   "metadata": {
    "colab": {},
    "colab_type": "code",
    "id": "7IyPoYo8FAOB"
   },
   "outputs": [],
   "source": [
    "model_1.compile(loss='categorical_crossentropy',\n",
    "              optimizer='rmsprop',\n",
    "              metrics=['acc'])\n",
    "\n",
    "model_1.summary()"
   ]
  },
  {
   "cell_type": "markdown",
   "metadata": {
    "colab_type": "text",
    "id": "Py3_kIjQHoTj"
   },
   "source": [
    "## Movie Review"
   ]
  },
  {
   "cell_type": "code",
   "execution_count": 0,
   "metadata": {
    "colab": {
     "base_uri": "https://localhost:8080/",
     "height": 1890
    },
    "colab_type": "code",
    "id": "v8ONKWGXIUaL",
    "outputId": "1ef24ca8-64c9-4e58-9e3f-fd405d78136d"
   },
   "outputs": [
    {
     "name": "stdout",
     "output_type": "stream",
     "text": [
      "Train on 6823 samples, validate on 1706 samples\n",
      "Epoch 1/50\n",
      "6823/6823 [==============================] - 2s 241us/step - loss: 0.7381 - acc: 0.6327 - val_loss: 0.5144 - val_acc: 0.8159\n",
      "Epoch 2/50\n",
      "6823/6823 [==============================] - 2s 230us/step - loss: 0.5934 - acc: 0.6624 - val_loss: 0.4928 - val_acc: 0.8244\n",
      "Epoch 3/50\n",
      "6823/6823 [==============================] - 2s 230us/step - loss: 0.5495 - acc: 0.7115 - val_loss: 0.4390 - val_acc: 0.8508\n",
      "Epoch 4/50\n",
      "6823/6823 [==============================] - 2s 232us/step - loss: 0.4901 - acc: 0.7564 - val_loss: 0.3966 - val_acc: 0.8658\n",
      "Epoch 5/50\n",
      "6823/6823 [==============================] - 2s 230us/step - loss: 0.4340 - acc: 0.7966 - val_loss: 0.3987 - val_acc: 0.8666\n",
      "Epoch 6/50\n",
      "6823/6823 [==============================] - 2s 232us/step - loss: 0.3902 - acc: 0.8127 - val_loss: 0.3908 - val_acc: 0.8669\n",
      "Epoch 7/50\n",
      "6823/6823 [==============================] - 2s 231us/step - loss: 0.3648 - acc: 0.8338 - val_loss: 0.3880 - val_acc: 0.8702\n",
      "Epoch 8/50\n",
      "6823/6823 [==============================] - 2s 231us/step - loss: 0.3248 - acc: 0.8479 - val_loss: 0.3843 - val_acc: 0.8690\n",
      "Epoch 9/50\n",
      "6823/6823 [==============================] - 2s 231us/step - loss: 0.2988 - acc: 0.8602 - val_loss: 0.3992 - val_acc: 0.8687\n",
      "Epoch 10/50\n",
      "6823/6823 [==============================] - 2s 230us/step - loss: 0.2754 - acc: 0.8703 - val_loss: 0.3917 - val_acc: 0.8787\n",
      "Epoch 11/50\n",
      "6823/6823 [==============================] - 2s 232us/step - loss: 0.2559 - acc: 0.8762 - val_loss: 0.4200 - val_acc: 0.8669\n",
      "Epoch 12/50\n",
      "6823/6823 [==============================] - 2s 232us/step - loss: 0.2330 - acc: 0.8831 - val_loss: 0.4131 - val_acc: 0.8754\n",
      "Epoch 13/50\n",
      "6823/6823 [==============================] - 2s 232us/step - loss: 0.2200 - acc: 0.8938 - val_loss: 0.4112 - val_acc: 0.8757\n",
      "Epoch 14/50\n",
      "6823/6823 [==============================] - 2s 230us/step - loss: 0.2046 - acc: 0.9011 - val_loss: 0.4252 - val_acc: 0.8725\n",
      "Epoch 15/50\n",
      "6823/6823 [==============================] - 2s 231us/step - loss: 0.1987 - acc: 0.9009 - val_loss: 0.4353 - val_acc: 0.8746\n",
      "Epoch 16/50\n",
      "6823/6823 [==============================] - 2s 229us/step - loss: 0.1825 - acc: 0.9137 - val_loss: 0.4266 - val_acc: 0.8763\n",
      "Epoch 17/50\n",
      "6823/6823 [==============================] - 2s 232us/step - loss: 0.1731 - acc: 0.9102 - val_loss: 0.4645 - val_acc: 0.8751\n",
      "Epoch 18/50\n",
      "6823/6823 [==============================] - 2s 233us/step - loss: 0.1617 - acc: 0.9168 - val_loss: 0.4693 - val_acc: 0.8734\n",
      "Epoch 19/50\n",
      "6823/6823 [==============================] - 2s 229us/step - loss: 0.1720 - acc: 0.9093 - val_loss: 0.4649 - val_acc: 0.8763\n",
      "Epoch 20/50\n",
      "6823/6823 [==============================] - 2s 233us/step - loss: 0.1584 - acc: 0.9188 - val_loss: 0.4744 - val_acc: 0.8763\n",
      "Epoch 21/50\n",
      "6823/6823 [==============================] - 2s 231us/step - loss: 0.1588 - acc: 0.9128 - val_loss: 0.4635 - val_acc: 0.8719\n",
      "Epoch 22/50\n",
      "6823/6823 [==============================] - 2s 230us/step - loss: 0.1424 - acc: 0.9256 - val_loss: 0.4820 - val_acc: 0.8734\n",
      "Epoch 23/50\n",
      "6823/6823 [==============================] - 2s 232us/step - loss: 0.1413 - acc: 0.9269 - val_loss: 0.4784 - val_acc: 0.8775\n",
      "Epoch 24/50\n",
      "6823/6823 [==============================] - 2s 231us/step - loss: 0.1373 - acc: 0.9250 - val_loss: 0.4777 - val_acc: 0.8734\n",
      "Epoch 25/50\n",
      "6823/6823 [==============================] - 2s 231us/step - loss: 0.1311 - acc: 0.9323 - val_loss: 0.5165 - val_acc: 0.8751\n",
      "Epoch 26/50\n",
      "6823/6823 [==============================] - 2s 232us/step - loss: 0.1278 - acc: 0.9299 - val_loss: 0.5103 - val_acc: 0.8710\n",
      "Epoch 27/50\n",
      "6823/6823 [==============================] - 2s 234us/step - loss: 0.1240 - acc: 0.9363 - val_loss: 0.5115 - val_acc: 0.8719\n",
      "Epoch 28/50\n",
      "6823/6823 [==============================] - 2s 231us/step - loss: 0.1220 - acc: 0.9339 - val_loss: 0.5108 - val_acc: 0.8769\n",
      "Epoch 29/50\n",
      "6823/6823 [==============================] - 2s 232us/step - loss: 0.1207 - acc: 0.9347 - val_loss: 0.5133 - val_acc: 0.8792\n",
      "Epoch 30/50\n",
      "6823/6823 [==============================] - 2s 233us/step - loss: 0.1149 - acc: 0.9354 - val_loss: 0.5373 - val_acc: 0.8746\n",
      "Epoch 31/50\n",
      "6823/6823 [==============================] - 2s 230us/step - loss: 0.1185 - acc: 0.9361 - val_loss: 0.5263 - val_acc: 0.8746\n",
      "Epoch 32/50\n",
      "6823/6823 [==============================] - 2s 232us/step - loss: 0.1081 - acc: 0.9377 - val_loss: 0.5276 - val_acc: 0.8775\n",
      "Epoch 33/50\n",
      "6823/6823 [==============================] - 2s 232us/step - loss: 0.1110 - acc: 0.9364 - val_loss: 0.5293 - val_acc: 0.8754\n",
      "Epoch 34/50\n",
      "6823/6823 [==============================] - 2s 231us/step - loss: 0.0969 - acc: 0.9495 - val_loss: 0.5382 - val_acc: 0.8749\n",
      "Epoch 35/50\n",
      "6823/6823 [==============================] - 2s 231us/step - loss: 0.0954 - acc: 0.9483 - val_loss: 0.5614 - val_acc: 0.8734\n",
      "Epoch 36/50\n",
      "6823/6823 [==============================] - 2s 232us/step - loss: 0.0946 - acc: 0.9493 - val_loss: 0.5401 - val_acc: 0.8787\n",
      "Epoch 37/50\n",
      "6823/6823 [==============================] - 2s 232us/step - loss: 0.1030 - acc: 0.9427 - val_loss: 0.5785 - val_acc: 0.8716\n",
      "Epoch 38/50\n",
      "6823/6823 [==============================] - 2s 229us/step - loss: 0.0936 - acc: 0.9478 - val_loss: 0.5475 - val_acc: 0.8734\n",
      "Epoch 39/50\n",
      "6823/6823 [==============================] - 2s 231us/step - loss: 0.0883 - acc: 0.9516 - val_loss: 0.5625 - val_acc: 0.8781\n",
      "Epoch 40/50\n",
      "6823/6823 [==============================] - 2s 230us/step - loss: 0.0931 - acc: 0.9494 - val_loss: 0.5461 - val_acc: 0.8769\n",
      "Epoch 41/50\n",
      "6823/6823 [==============================] - 2s 231us/step - loss: 0.0869 - acc: 0.9519 - val_loss: 0.5713 - val_acc: 0.8781\n",
      "Epoch 42/50\n",
      "6823/6823 [==============================] - 2s 231us/step - loss: 0.0837 - acc: 0.9560 - val_loss: 0.5759 - val_acc: 0.8749\n",
      "Epoch 43/50\n",
      "6823/6823 [==============================] - 2s 231us/step - loss: 0.0800 - acc: 0.9564 - val_loss: 0.5861 - val_acc: 0.8775\n",
      "Epoch 44/50\n",
      "6823/6823 [==============================] - 2s 231us/step - loss: 0.0849 - acc: 0.9516 - val_loss: 0.5998 - val_acc: 0.8751\n",
      "Epoch 45/50\n",
      "6823/6823 [==============================] - 2s 232us/step - loss: 0.0734 - acc: 0.9584 - val_loss: 0.6329 - val_acc: 0.8740\n",
      "Epoch 46/50\n",
      "6823/6823 [==============================] - 2s 230us/step - loss: 0.0806 - acc: 0.9566 - val_loss: 0.6508 - val_acc: 0.8728\n",
      "Epoch 47/50\n",
      "6823/6823 [==============================] - 2s 231us/step - loss: 0.0754 - acc: 0.9588 - val_loss: 0.6115 - val_acc: 0.8763\n",
      "Epoch 48/50\n",
      "6823/6823 [==============================] - 2s 232us/step - loss: 0.0720 - acc: 0.9607 - val_loss: 0.6243 - val_acc: 0.8787\n",
      "Epoch 49/50\n",
      "6823/6823 [==============================] - 2s 233us/step - loss: 0.0730 - acc: 0.9613 - val_loss: 0.6494 - val_acc: 0.8775\n",
      "Epoch 50/50\n",
      "6823/6823 [==============================] - 2s 233us/step - loss: 0.0704 - acc: 0.9641 - val_loss: 0.6199 - val_acc: 0.8740\n",
      "Test loss: 0.894719461739706\n",
      "Test accuracy: 0.8373183310730492\n"
     ]
    }
   ],
   "source": [
    "model_1.fit(x_train, y_train,\n",
    "          batch_size=128,\n",
    "          epochs=50,\n",
    "          validation_data=(x_val, y_val))\n",
    "score = model_1.evaluate(x_test, y_test, verbose=0)\n",
    "print('Test loss:',score[0])\n",
    "print('Test accuracy:', score[1])"
   ]
  },
  {
   "cell_type": "markdown",
   "metadata": {
    "colab_type": "text",
    "id": "sjM7nJWH4tfe"
   },
   "source": [
    "## SST 2"
   ]
  },
  {
   "cell_type": "code",
   "execution_count": 0,
   "metadata": {
    "colab": {
     "base_uri": "https://localhost:8080/",
     "height": 1890
    },
    "colab_type": "code",
    "id": "5HZMcBMvk07J",
    "outputId": "6ff33a94-5217-4b11-d9d2-f4d7d065f510"
   },
   "outputs": [
    {
     "name": "stdout",
     "output_type": "stream",
     "text": [
      "Train on 5593 samples, validate on 1399 samples\n",
      "Epoch 1/50\n",
      "5593/5593 [==============================] - 1s 248us/step - loss: 0.8833 - acc: 0.5712 - val_loss: 0.5498 - val_acc: 0.8306\n",
      "Epoch 2/50\n",
      "5593/5593 [==============================] - 1s 229us/step - loss: 0.6186 - acc: 0.6148 - val_loss: 0.4650 - val_acc: 0.8603\n",
      "Epoch 3/50\n",
      "5593/5593 [==============================] - 1s 229us/step - loss: 0.5822 - acc: 0.6476 - val_loss: 0.4686 - val_acc: 0.8567\n",
      "Epoch 4/50\n",
      "5593/5593 [==============================] - 1s 232us/step - loss: 0.5742 - acc: 0.6520 - val_loss: 0.4482 - val_acc: 0.8695\n",
      "Epoch 5/50\n",
      "5593/5593 [==============================] - 1s 228us/step - loss: 0.5517 - acc: 0.6696 - val_loss: 0.4401 - val_acc: 0.8603\n",
      "Epoch 6/50\n",
      "5593/5593 [==============================] - 1s 229us/step - loss: 0.5280 - acc: 0.6827 - val_loss: 0.4312 - val_acc: 0.8628\n",
      "Epoch 7/50\n",
      "5593/5593 [==============================] - 1s 230us/step - loss: 0.5043 - acc: 0.7083 - val_loss: 0.4242 - val_acc: 0.8670\n",
      "Epoch 8/50\n",
      "5593/5593 [==============================] - 1s 228us/step - loss: 0.4929 - acc: 0.7163 - val_loss: 0.4265 - val_acc: 0.8635\n",
      "Epoch 9/50\n",
      "5593/5593 [==============================] - 1s 230us/step - loss: 0.4698 - acc: 0.7313 - val_loss: 0.4174 - val_acc: 0.8656\n",
      "Epoch 10/50\n",
      "5593/5593 [==============================] - 1s 229us/step - loss: 0.4611 - acc: 0.7332 - val_loss: 0.4375 - val_acc: 0.8513\n",
      "Epoch 11/50\n",
      "5593/5593 [==============================] - 1s 231us/step - loss: 0.4479 - acc: 0.7441 - val_loss: 0.4362 - val_acc: 0.8606\n",
      "Epoch 12/50\n",
      "5593/5593 [==============================] - 1s 229us/step - loss: 0.4325 - acc: 0.7549 - val_loss: 0.4547 - val_acc: 0.8499\n",
      "Epoch 13/50\n",
      "5593/5593 [==============================] - 1s 231us/step - loss: 0.4342 - acc: 0.7478 - val_loss: 0.4609 - val_acc: 0.8535\n",
      "Epoch 14/50\n",
      "5593/5593 [==============================] - 1s 232us/step - loss: 0.4098 - acc: 0.7597 - val_loss: 0.4665 - val_acc: 0.8613\n",
      "Epoch 15/50\n",
      "5593/5593 [==============================] - 1s 230us/step - loss: 0.4113 - acc: 0.7588 - val_loss: 0.4714 - val_acc: 0.8528\n",
      "Epoch 16/50\n",
      "5593/5593 [==============================] - 1s 230us/step - loss: 0.4106 - acc: 0.7597 - val_loss: 0.4822 - val_acc: 0.8517\n",
      "Epoch 17/50\n",
      "5593/5593 [==============================] - 1s 231us/step - loss: 0.3892 - acc: 0.7694 - val_loss: 0.5014 - val_acc: 0.8520\n",
      "Epoch 18/50\n",
      "5593/5593 [==============================] - 1s 230us/step - loss: 0.3862 - acc: 0.7669 - val_loss: 0.4998 - val_acc: 0.8477\n",
      "Epoch 19/50\n",
      "5593/5593 [==============================] - 1s 232us/step - loss: 0.3748 - acc: 0.7801 - val_loss: 0.5341 - val_acc: 0.8402\n",
      "Epoch 20/50\n",
      "5593/5593 [==============================] - 1s 228us/step - loss: 0.3579 - acc: 0.7918 - val_loss: 0.5460 - val_acc: 0.8431\n",
      "Epoch 21/50\n",
      "5593/5593 [==============================] - 1s 232us/step - loss: 0.3497 - acc: 0.8008 - val_loss: 0.5371 - val_acc: 0.8442\n",
      "Epoch 22/50\n",
      "5593/5593 [==============================] - 1s 230us/step - loss: 0.3324 - acc: 0.8107 - val_loss: 0.5412 - val_acc: 0.8463\n",
      "Epoch 23/50\n",
      "5593/5593 [==============================] - 1s 232us/step - loss: 0.3303 - acc: 0.8217 - val_loss: 0.5438 - val_acc: 0.8470\n",
      "Epoch 24/50\n",
      "5593/5593 [==============================] - 1s 229us/step - loss: 0.3229 - acc: 0.8232 - val_loss: 0.5541 - val_acc: 0.8385\n",
      "Epoch 25/50\n",
      "5593/5593 [==============================] - 1s 229us/step - loss: 0.3061 - acc: 0.8354 - val_loss: 0.5588 - val_acc: 0.8463\n",
      "Epoch 26/50\n",
      "5593/5593 [==============================] - 1s 227us/step - loss: 0.3012 - acc: 0.8398 - val_loss: 0.5962 - val_acc: 0.8399\n",
      "Epoch 27/50\n",
      "5593/5593 [==============================] - 1s 229us/step - loss: 0.3065 - acc: 0.8360 - val_loss: 0.5624 - val_acc: 0.8385\n",
      "Epoch 28/50\n",
      "5593/5593 [==============================] - 1s 228us/step - loss: 0.2944 - acc: 0.8468 - val_loss: 0.6070 - val_acc: 0.8420\n",
      "Epoch 29/50\n",
      "5593/5593 [==============================] - 1s 231us/step - loss: 0.2915 - acc: 0.8475 - val_loss: 0.6011 - val_acc: 0.8370\n",
      "Epoch 30/50\n",
      "5593/5593 [==============================] - 1s 232us/step - loss: 0.2829 - acc: 0.8557 - val_loss: 0.5860 - val_acc: 0.8342\n",
      "Epoch 31/50\n",
      "5593/5593 [==============================] - 1s 228us/step - loss: 0.2791 - acc: 0.8534 - val_loss: 0.6296 - val_acc: 0.8435\n",
      "Epoch 32/50\n",
      "5593/5593 [==============================] - 1s 229us/step - loss: 0.2735 - acc: 0.8605 - val_loss: 0.6450 - val_acc: 0.8335\n",
      "Epoch 33/50\n",
      "5593/5593 [==============================] - 1s 233us/step - loss: 0.2627 - acc: 0.8682 - val_loss: 0.6391 - val_acc: 0.8377\n",
      "Epoch 34/50\n",
      "5593/5593 [==============================] - 1s 230us/step - loss: 0.2525 - acc: 0.8763 - val_loss: 0.6538 - val_acc: 0.8338\n",
      "Epoch 35/50\n",
      "5593/5593 [==============================] - 1s 229us/step - loss: 0.2393 - acc: 0.8891 - val_loss: 0.7112 - val_acc: 0.8327\n",
      "Epoch 36/50\n",
      "5593/5593 [==============================] - 1s 228us/step - loss: 0.2439 - acc: 0.8858 - val_loss: 0.7197 - val_acc: 0.8327\n",
      "Epoch 37/50\n",
      "5593/5593 [==============================] - 1s 231us/step - loss: 0.2378 - acc: 0.8899 - val_loss: 0.7168 - val_acc: 0.8299\n",
      "Epoch 38/50\n",
      "5593/5593 [==============================] - 1s 227us/step - loss: 0.2288 - acc: 0.8961 - val_loss: 0.7259 - val_acc: 0.8327\n",
      "Epoch 39/50\n",
      "5593/5593 [==============================] - 1s 231us/step - loss: 0.2202 - acc: 0.9006 - val_loss: 0.7666 - val_acc: 0.8349\n",
      "Epoch 40/50\n",
      "5593/5593 [==============================] - 1s 231us/step - loss: 0.2287 - acc: 0.8952 - val_loss: 0.7242 - val_acc: 0.8335\n",
      "Epoch 41/50\n",
      "5593/5593 [==============================] - 1s 230us/step - loss: 0.2191 - acc: 0.9024 - val_loss: 0.7467 - val_acc: 0.8292\n",
      "Epoch 42/50\n",
      "5593/5593 [==============================] - 1s 230us/step - loss: 0.2109 - acc: 0.9079 - val_loss: 0.7523 - val_acc: 0.8292\n",
      "Epoch 43/50\n",
      "5593/5593 [==============================] - 1s 230us/step - loss: 0.2129 - acc: 0.9049 - val_loss: 0.7537 - val_acc: 0.8284\n",
      "Epoch 44/50\n",
      "5593/5593 [==============================] - 1s 232us/step - loss: 0.2102 - acc: 0.9061 - val_loss: 0.7647 - val_acc: 0.8349\n",
      "Epoch 45/50\n",
      "5593/5593 [==============================] - 1s 230us/step - loss: 0.2063 - acc: 0.9108 - val_loss: 0.7376 - val_acc: 0.8320\n",
      "Epoch 46/50\n",
      "5593/5593 [==============================] - 1s 230us/step - loss: 0.1991 - acc: 0.9120 - val_loss: 0.7708 - val_acc: 0.8335\n",
      "Epoch 47/50\n",
      "5593/5593 [==============================] - 1s 227us/step - loss: 0.1920 - acc: 0.9153 - val_loss: 0.7921 - val_acc: 0.8335\n",
      "Epoch 48/50\n",
      "5593/5593 [==============================] - 1s 230us/step - loss: 0.2026 - acc: 0.9105 - val_loss: 0.7646 - val_acc: 0.8349\n",
      "Epoch 49/50\n",
      "5593/5593 [==============================] - 1s 229us/step - loss: 0.1895 - acc: 0.9186 - val_loss: 0.8557 - val_acc: 0.8249\n",
      "Epoch 50/50\n",
      "5593/5593 [==============================] - 1s 228us/step - loss: 0.1826 - acc: 0.9237 - val_loss: 0.8503 - val_acc: 0.8284\n",
      "Test loss: 0.8772478670546366\n",
      "Test accuracy: 0.822755860559868\n"
     ]
    }
   ],
   "source": [
    "model_1.fit(x_train, y_train,\n",
    "          batch_size=128,\n",
    "          epochs=50,\n",
    "          validation_data=(x_val, y_val))\n",
    "score = model_1.evaluate(x_test, y_test, verbose=0)\n",
    "print('Test loss:',score[0])\n",
    "print('Test accuracy:', score[1])"
   ]
  },
  {
   "cell_type": "markdown",
   "metadata": {
    "colab_type": "text",
    "id": "-zbSkNrL4_bu"
   },
   "source": [
    "## Customer Review"
   ]
  },
  {
   "cell_type": "code",
   "execution_count": 0,
   "metadata": {
    "colab": {
     "base_uri": "https://localhost:8080/",
     "height": 1890
    },
    "colab_type": "code",
    "id": "Ku9W1d-A4xVk",
    "outputId": "c1eded04-9fe3-4ed2-ceb3-6eb4f3045005"
   },
   "outputs": [
    {
     "name": "stdout",
     "output_type": "stream",
     "text": [
      "Train on 2524 samples, validate on 631 samples\n",
      "Epoch 1/50\n",
      "2524/2524 [==============================] - 1s 275us/step - loss: 1.4129 - acc: 0.6605 - val_loss: 0.6394 - val_acc: 0.7227\n",
      "Epoch 2/50\n",
      "2524/2524 [==============================] - 1s 233us/step - loss: 0.6188 - acc: 0.7199 - val_loss: 0.5891 - val_acc: 0.7227\n",
      "Epoch 3/50\n",
      "2524/2524 [==============================] - 1s 234us/step - loss: 0.5987 - acc: 0.7189 - val_loss: 0.5888 - val_acc: 0.7227\n",
      "Epoch 4/50\n",
      "2524/2524 [==============================] - 1s 228us/step - loss: 0.5983 - acc: 0.7191 - val_loss: 0.5896 - val_acc: 0.7227\n",
      "Epoch 5/50\n",
      "2524/2524 [==============================] - 1s 230us/step - loss: 0.5910 - acc: 0.7203 - val_loss: 0.5901 - val_acc: 0.7227\n",
      "Epoch 6/50\n",
      "2524/2524 [==============================] - 1s 228us/step - loss: 0.5928 - acc: 0.7195 - val_loss: 0.5906 - val_acc: 0.7227\n",
      "Epoch 7/50\n",
      "2524/2524 [==============================] - 1s 231us/step - loss: 0.5913 - acc: 0.7203 - val_loss: 0.5909 - val_acc: 0.7227\n",
      "Epoch 8/50\n",
      "2524/2524 [==============================] - 1s 229us/step - loss: 0.5943 - acc: 0.7211 - val_loss: 0.5912 - val_acc: 0.7227\n",
      "Epoch 9/50\n",
      "2524/2524 [==============================] - 1s 235us/step - loss: 0.5903 - acc: 0.7207 - val_loss: 0.5915 - val_acc: 0.7227\n",
      "Epoch 10/50\n",
      "2524/2524 [==============================] - 1s 230us/step - loss: 0.5932 - acc: 0.7203 - val_loss: 0.5923 - val_acc: 0.7227\n",
      "Epoch 11/50\n",
      "2524/2524 [==============================] - 1s 233us/step - loss: 0.5924 - acc: 0.7191 - val_loss: 0.5916 - val_acc: 0.7227\n",
      "Epoch 12/50\n",
      "2524/2524 [==============================] - 1s 232us/step - loss: 0.5904 - acc: 0.7207 - val_loss: 0.5919 - val_acc: 0.7227\n",
      "Epoch 13/50\n",
      "2524/2524 [==============================] - 1s 235us/step - loss: 0.5902 - acc: 0.7207 - val_loss: 0.5924 - val_acc: 0.7227\n",
      "Epoch 14/50\n",
      "2524/2524 [==============================] - 1s 230us/step - loss: 0.5897 - acc: 0.7207 - val_loss: 0.5926 - val_acc: 0.7227\n",
      "Epoch 15/50\n",
      "2524/2524 [==============================] - 1s 231us/step - loss: 0.5908 - acc: 0.7203 - val_loss: 0.5927 - val_acc: 0.7227\n",
      "Epoch 16/50\n",
      "2524/2524 [==============================] - 1s 233us/step - loss: 0.5898 - acc: 0.7211 - val_loss: 0.5928 - val_acc: 0.7227\n",
      "Epoch 17/50\n",
      "2524/2524 [==============================] - 1s 233us/step - loss: 0.5894 - acc: 0.7211 - val_loss: 0.5931 - val_acc: 0.7227\n",
      "Epoch 18/50\n",
      "2524/2524 [==============================] - 1s 227us/step - loss: 0.5898 - acc: 0.7207 - val_loss: 0.5932 - val_acc: 0.7227\n",
      "Epoch 19/50\n",
      "2524/2524 [==============================] - 1s 231us/step - loss: 0.5896 - acc: 0.7207 - val_loss: 0.5934 - val_acc: 0.7227\n",
      "Epoch 20/50\n",
      "2524/2524 [==============================] - 1s 230us/step - loss: 0.5888 - acc: 0.7211 - val_loss: 0.5937 - val_acc: 0.7227\n",
      "Epoch 21/50\n",
      "2524/2524 [==============================] - 1s 229us/step - loss: 0.5887 - acc: 0.7211 - val_loss: 0.5940 - val_acc: 0.7227\n",
      "Epoch 22/50\n",
      "2524/2524 [==============================] - 1s 229us/step - loss: 0.5890 - acc: 0.7211 - val_loss: 0.5944 - val_acc: 0.7227\n",
      "Epoch 23/50\n",
      "2524/2524 [==============================] - 1s 229us/step - loss: 0.5899 - acc: 0.7203 - val_loss: 0.5946 - val_acc: 0.7227\n",
      "Epoch 24/50\n",
      "2524/2524 [==============================] - 1s 231us/step - loss: 0.5891 - acc: 0.7211 - val_loss: 0.5946 - val_acc: 0.7227\n",
      "Epoch 25/50\n",
      "2524/2524 [==============================] - 1s 230us/step - loss: 0.5888 - acc: 0.7211 - val_loss: 0.5955 - val_acc: 0.7227\n",
      "Epoch 26/50\n",
      "2524/2524 [==============================] - 1s 232us/step - loss: 0.5887 - acc: 0.7211 - val_loss: 0.5956 - val_acc: 0.7227\n",
      "Epoch 27/50\n",
      "2524/2524 [==============================] - 1s 230us/step - loss: 0.5887 - acc: 0.7207 - val_loss: 0.5967 - val_acc: 0.7227\n",
      "Epoch 28/50\n",
      "2524/2524 [==============================] - 1s 231us/step - loss: 0.5875 - acc: 0.7215 - val_loss: 0.5983 - val_acc: 0.7227\n",
      "Epoch 29/50\n",
      "2524/2524 [==============================] - 1s 230us/step - loss: 0.5872 - acc: 0.7219 - val_loss: 0.5993 - val_acc: 0.7227\n",
      "Epoch 30/50\n",
      "2524/2524 [==============================] - 1s 235us/step - loss: 0.5872 - acc: 0.7215 - val_loss: 0.6003 - val_acc: 0.7227\n",
      "Epoch 31/50\n",
      "2524/2524 [==============================] - 1s 231us/step - loss: 0.5876 - acc: 0.7215 - val_loss: 0.6011 - val_acc: 0.7227\n",
      "Epoch 32/50\n",
      "2524/2524 [==============================] - 1s 232us/step - loss: 0.5883 - acc: 0.7207 - val_loss: 0.6012 - val_acc: 0.7227\n",
      "Epoch 33/50\n",
      "2524/2524 [==============================] - 1s 227us/step - loss: 0.5864 - acc: 0.7223 - val_loss: 0.6038 - val_acc: 0.7227\n",
      "Epoch 34/50\n",
      "2524/2524 [==============================] - 1s 231us/step - loss: 0.5876 - acc: 0.7211 - val_loss: 0.6048 - val_acc: 0.7227\n",
      "Epoch 35/50\n",
      "2524/2524 [==============================] - 1s 234us/step - loss: 0.5870 - acc: 0.7215 - val_loss: 0.6055 - val_acc: 0.7227\n",
      "Epoch 36/50\n",
      "2524/2524 [==============================] - 1s 233us/step - loss: 0.5874 - acc: 0.7219 - val_loss: 0.6090 - val_acc: 0.7227\n",
      "Epoch 37/50\n",
      "2524/2524 [==============================] - 1s 228us/step - loss: 0.5853 - acc: 0.7215 - val_loss: 0.6100 - val_acc: 0.7227\n",
      "Epoch 38/50\n",
      "2524/2524 [==============================] - 1s 227us/step - loss: 0.5846 - acc: 0.7227 - val_loss: 0.6111 - val_acc: 0.7227\n",
      "Epoch 39/50\n",
      "2524/2524 [==============================] - 1s 233us/step - loss: 0.5832 - acc: 0.7227 - val_loss: 0.6119 - val_acc: 0.7227\n",
      "Epoch 40/50\n",
      "2524/2524 [==============================] - 1s 236us/step - loss: 0.5856 - acc: 0.7223 - val_loss: 0.6115 - val_acc: 0.7227\n",
      "Epoch 41/50\n",
      "2524/2524 [==============================] - 1s 229us/step - loss: 0.5845 - acc: 0.7219 - val_loss: 0.6116 - val_acc: 0.7227\n",
      "Epoch 42/50\n",
      "2524/2524 [==============================] - 1s 228us/step - loss: 0.5842 - acc: 0.7219 - val_loss: 0.6120 - val_acc: 0.7227\n",
      "Epoch 43/50\n",
      "2524/2524 [==============================] - 1s 226us/step - loss: 0.5842 - acc: 0.7223 - val_loss: 0.6111 - val_acc: 0.7227\n",
      "Epoch 44/50\n",
      "2524/2524 [==============================] - 1s 233us/step - loss: 0.5822 - acc: 0.7231 - val_loss: 0.6102 - val_acc: 0.7227\n",
      "Epoch 45/50\n",
      "2524/2524 [==============================] - 1s 227us/step - loss: 0.5821 - acc: 0.7227 - val_loss: 0.6125 - val_acc: 0.7227\n",
      "Epoch 46/50\n",
      "2524/2524 [==============================] - 1s 229us/step - loss: 0.5838 - acc: 0.7227 - val_loss: 0.6143 - val_acc: 0.7227\n",
      "Epoch 47/50\n",
      "2524/2524 [==============================] - 1s 231us/step - loss: 0.5816 - acc: 0.7231 - val_loss: 0.6164 - val_acc: 0.7227\n",
      "Epoch 48/50\n",
      "2524/2524 [==============================] - 1s 228us/step - loss: 0.5819 - acc: 0.7223 - val_loss: 0.6135 - val_acc: 0.7195\n",
      "Epoch 49/50\n",
      "2524/2524 [==============================] - 1s 229us/step - loss: 0.5822 - acc: 0.7223 - val_loss: 0.6111 - val_acc: 0.7211\n",
      "Epoch 50/50\n",
      "2524/2524 [==============================] - 1s 230us/step - loss: 0.5827 - acc: 0.7215 - val_loss: 0.6110 - val_acc: 0.7227\n",
      "Test loss: 0.6090577248535833\n",
      "Test accuracy: 0.7300380230403218\n"
     ]
    }
   ],
   "source": [
    "model_1.fit(x_train, y_train,\n",
    "          batch_size=128,\n",
    "          epochs=50,\n",
    "          validation_data=(x_val, y_val))\n",
    "score = model_1.evaluate(x_test, y_test, verbose=0)\n",
    "print('Test loss:',score[0])\n",
    "print('Test accuracy:', score[1])"
   ]
  },
  {
   "cell_type": "code",
   "execution_count": 0,
   "metadata": {
    "colab": {},
    "colab_type": "code",
    "id": "J-dlHC_V5HWs"
   },
   "outputs": [],
   "source": []
  },
  {
   "cell_type": "markdown",
   "metadata": {
    "colab_type": "text",
    "id": "HcZHzG0HUw5J"
   },
   "source": [
    "## CNN-Static"
   ]
  },
  {
   "cell_type": "markdown",
   "metadata": {
    "colab_type": "text",
    "id": "xRN2TtzuZlRa"
   },
   "source": [
    "### MR"
   ]
  },
  {
   "cell_type": "code",
   "execution_count": 0,
   "metadata": {
    "colab": {
     "base_uri": "https://localhost:8080/",
     "height": 510
    },
    "colab_type": "code",
    "id": "DuZKn7QoUzOV",
    "outputId": "e04db42a-3cb1-491c-a545-8daf8896052b"
   },
   "outputs": [
    {
     "name": "stdout",
     "output_type": "stream",
     "text": [
      "__________________________________________________________________________________________________\n",
      "Layer (type)                    Output Shape         Param #     Connected to                     \n",
      "==================================================================================================\n",
      "main_input (InputLayer)         (None, 55)           0                                            \n",
      "__________________________________________________________________________________________________\n",
      "embedding_layer_static (Embeddi (None, 55, 300)      120000300   main_input[0][0]                 \n",
      "__________________________________________________________________________________________________\n",
      "Conv_static_3 (Conv1D)          (None, 53, 100)      90100       embedding_layer_static[1][0]     \n",
      "__________________________________________________________________________________________________\n",
      "Conv_static_4 (Conv1D)          (None, 52, 100)      120100      embedding_layer_static[1][0]     \n",
      "__________________________________________________________________________________________________\n",
      "Conv_static_5 (Conv1D)          (None, 51, 100)      150100      embedding_layer_static[1][0]     \n",
      "__________________________________________________________________________________________________\n",
      "MaxPooling_static_3 (GlobalMaxP (None, 100)          0           Conv_static_3[0][0]              \n",
      "__________________________________________________________________________________________________\n",
      "MaxPooling_static_4 (GlobalMaxP (None, 100)          0           Conv_static_4[0][0]              \n",
      "__________________________________________________________________________________________________\n",
      "MaxPooling_static_5 (GlobalMaxP (None, 100)          0           Conv_static_5[0][0]              \n",
      "__________________________________________________________________________________________________\n",
      "concatenate_4 (Concatenate)     (None, 300)          0           MaxPooling_static_3[0][0]        \n",
      "                                                                 MaxPooling_static_4[0][0]        \n",
      "                                                                 MaxPooling_static_5[0][0]        \n",
      "__________________________________________________________________________________________________\n",
      "output (Dense)                  (None, 1)            301         concatenate_4[0][0]              \n",
      "==================================================================================================\n",
      "Total params: 120,360,901\n",
      "Trainable params: 360,601\n",
      "Non-trainable params: 120,000,300\n",
      "__________________________________________________________________________________________________\n"
     ]
    }
   ],
   "source": [
    "model_2.summary()"
   ]
  },
  {
   "cell_type": "code",
   "execution_count": 0,
   "metadata": {
    "colab": {
     "base_uri": "https://localhost:8080/",
     "height": 408
    },
    "colab_type": "code",
    "id": "m57--krWU2BJ",
    "outputId": "ce6a4e7b-2d3c-4a6e-f1d3-18a72b221e66"
   },
   "outputs": [
    {
     "name": "stdout",
     "output_type": "stream",
     "text": [
      "Train on 6823 samples, validate on 1706 samples\n",
      "Epoch 1/10\n",
      "6823/6823 [==============================] - 1s 143us/step - loss: 0.7078 - acc: 0.7454 - val_loss: 0.5904 - val_acc: 0.7740\n",
      "Epoch 2/10\n",
      "6823/6823 [==============================] - 1s 123us/step - loss: 0.0967 - acc: 0.9696 - val_loss: 0.4609 - val_acc: 0.8157\n",
      "Epoch 3/10\n",
      "6823/6823 [==============================] - 1s 123us/step - loss: 0.0284 - acc: 0.9980 - val_loss: 0.4484 - val_acc: 0.8253\n",
      "Epoch 4/10\n",
      "6823/6823 [==============================] - 1s 122us/step - loss: 0.0179 - acc: 0.9993 - val_loss: 0.4494 - val_acc: 0.8291\n",
      "Epoch 5/10\n",
      "6823/6823 [==============================] - 1s 122us/step - loss: 0.0139 - acc: 0.9999 - val_loss: 0.4485 - val_acc: 0.8288\n",
      "Epoch 6/10\n",
      "6823/6823 [==============================] - 1s 123us/step - loss: 0.0114 - acc: 0.9999 - val_loss: 0.4505 - val_acc: 0.8315\n",
      "Epoch 7/10\n",
      "6823/6823 [==============================] - 1s 124us/step - loss: 0.0098 - acc: 0.9999 - val_loss: 0.4541 - val_acc: 0.8288\n",
      "Epoch 8/10\n",
      "6823/6823 [==============================] - 1s 124us/step - loss: 0.0087 - acc: 0.9999 - val_loss: 0.4525 - val_acc: 0.8309\n",
      "Epoch 9/10\n",
      "6823/6823 [==============================] - 1s 123us/step - loss: 0.0075 - acc: 1.0000 - val_loss: 0.4566 - val_acc: 0.8288\n",
      "Epoch 10/10\n",
      "6823/6823 [==============================] - 1s 124us/step - loss: 0.0068 - acc: 1.0000 - val_loss: 0.4546 - val_acc: 0.8324\n",
      "Test loss: 0.5649417569756899\n",
      "Test accuracy: 0.790670417392416\n"
     ]
    }
   ],
   "source": [
    "model_2.fit(x_train, y_train,\n",
    "          batch_size=128,\n",
    "          epochs=10,\n",
    "          validation_data=(x_val, y_val))\n",
    "score = model_2.evaluate(x_test, y_test, verbose=0)\n",
    "print('Test loss:',score[0])\n",
    "print('Test accuracy:', score[1])"
   ]
  },
  {
   "cell_type": "code",
   "execution_count": 0,
   "metadata": {
    "colab": {
     "base_uri": "https://localhost:8080/",
     "height": 34
    },
    "colab_type": "code",
    "id": "YoUXyXlKWyun",
    "outputId": "1301453f-0151-4890-de11-31171ea4fce1"
   },
   "outputs": [
    {
     "name": "stdout",
     "output_type": "stream",
     "text": [
      "[0. 1.]\n"
     ]
    }
   ],
   "source": [
    "print(y_test[0])"
   ]
  },
  {
   "cell_type": "code",
   "execution_count": 0,
   "metadata": {
    "colab": {},
    "colab_type": "code",
    "id": "U6Tuh4wxXOax"
   },
   "outputs": [],
   "source": []
  },
  {
   "cell_type": "markdown",
   "metadata": {
    "colab_type": "text",
    "id": "I5wZoip9Zm8X"
   },
   "source": [
    "### SST2"
   ]
  },
  {
   "cell_type": "code",
   "execution_count": 0,
   "metadata": {
    "colab": {
     "base_uri": "https://localhost:8080/",
     "height": 408
    },
    "colab_type": "code",
    "id": "H9M14ThqZosg",
    "outputId": "58b4b0c2-2d1e-4232-d1fb-c597e2041f92"
   },
   "outputs": [
    {
     "name": "stdout",
     "output_type": "stream",
     "text": [
      "Train on 5593 samples, validate on 1399 samples\n",
      "Epoch 1/10\n",
      "5593/5593 [==============================] - 1s 147us/step - loss: 0.7282 - acc: 0.7828 - val_loss: 0.5161 - val_acc: 0.8199\n",
      "Epoch 2/10\n",
      "5593/5593 [==============================] - 1s 123us/step - loss: 0.1069 - acc: 0.9628 - val_loss: 0.4380 - val_acc: 0.8420\n",
      "Epoch 3/10\n",
      "5593/5593 [==============================] - 1s 123us/step - loss: 0.0292 - acc: 0.9966 - val_loss: 0.4225 - val_acc: 0.8510\n",
      "Epoch 4/10\n",
      "5593/5593 [==============================] - 1s 121us/step - loss: 0.0172 - acc: 0.9986 - val_loss: 0.4236 - val_acc: 0.8520\n",
      "Epoch 5/10\n",
      "5593/5593 [==============================] - 1s 122us/step - loss: 0.0137 - acc: 0.9992 - val_loss: 0.4234 - val_acc: 0.8538\n",
      "Epoch 6/10\n",
      "5593/5593 [==============================] - 1s 122us/step - loss: 0.0115 - acc: 0.9994 - val_loss: 0.4260 - val_acc: 0.8545\n",
      "Epoch 7/10\n",
      "5593/5593 [==============================] - 1s 122us/step - loss: 0.0101 - acc: 0.9993 - val_loss: 0.4242 - val_acc: 0.8560\n",
      "Epoch 8/10\n",
      "5593/5593 [==============================] - 1s 122us/step - loss: 0.0089 - acc: 0.9996 - val_loss: 0.4280 - val_acc: 0.8567\n",
      "Epoch 9/10\n",
      "5593/5593 [==============================] - 1s 123us/step - loss: 0.0080 - acc: 0.9996 - val_loss: 0.4281 - val_acc: 0.8560\n",
      "Epoch 10/10\n",
      "5593/5593 [==============================] - 1s 124us/step - loss: 0.0074 - acc: 0.9996 - val_loss: 0.4328 - val_acc: 0.8553\n",
      "Test loss: 0.4808858305709985\n",
      "Test accuracy: 0.8499142367748481\n"
     ]
    }
   ],
   "source": [
    "model_2.fit(x_train, y_train,\n",
    "          batch_size=128,\n",
    "          epochs=10,\n",
    "          validation_data=(x_val, y_val))\n",
    "score = model_2.evaluate(x_test, y_test, verbose=0)\n",
    "print('Test loss:',score[0])\n",
    "print('Test accuracy:', score[1])"
   ]
  },
  {
   "cell_type": "markdown",
   "metadata": {
    "colab_type": "text",
    "id": "y971wI_Tahzx"
   },
   "source": [
    "### CR"
   ]
  },
  {
   "cell_type": "code",
   "execution_count": 0,
   "metadata": {
    "colab": {
     "base_uri": "https://localhost:8080/",
     "height": 408
    },
    "colab_type": "code",
    "id": "om0lNVNqZqzz",
    "outputId": "4f8c68d8-8dd3-4e77-a2e5-46a1f02c8b88"
   },
   "outputs": [
    {
     "name": "stdout",
     "output_type": "stream",
     "text": [
      "Train on 2524 samples, validate on 631 samples\n",
      "Epoch 1/10\n",
      "2524/2524 [==============================] - 0s 127us/step - loss: 0.0037 - acc: 0.9988 - val_loss: 0.3294 - val_acc: 0.8930\n",
      "Epoch 2/10\n",
      "2524/2524 [==============================] - 0s 125us/step - loss: 0.0036 - acc: 0.9986 - val_loss: 0.3333 - val_acc: 0.8914\n",
      "Epoch 3/10\n",
      "2524/2524 [==============================] - 0s 122us/step - loss: 0.0034 - acc: 0.9992 - val_loss: 0.3429 - val_acc: 0.8899\n",
      "Epoch 4/10\n",
      "2524/2524 [==============================] - 0s 123us/step - loss: 0.0035 - acc: 0.9984 - val_loss: 0.3300 - val_acc: 0.8938\n",
      "Epoch 5/10\n",
      "2524/2524 [==============================] - 0s 123us/step - loss: 0.0034 - acc: 0.9990 - val_loss: 0.3335 - val_acc: 0.8914\n",
      "Epoch 6/10\n",
      "2524/2524 [==============================] - 0s 125us/step - loss: 0.0034 - acc: 0.9992 - val_loss: 0.3385 - val_acc: 0.8899\n",
      "Epoch 7/10\n",
      "2524/2524 [==============================] - 0s 124us/step - loss: 0.0032 - acc: 0.9988 - val_loss: 0.3376 - val_acc: 0.8906\n",
      "Epoch 8/10\n",
      "2524/2524 [==============================] - 0s 124us/step - loss: 0.0032 - acc: 0.9984 - val_loss: 0.3437 - val_acc: 0.8899\n",
      "Epoch 9/10\n",
      "2524/2524 [==============================] - 0s 123us/step - loss: 0.0033 - acc: 0.9984 - val_loss: 0.3429 - val_acc: 0.8891\n",
      "Epoch 10/10\n",
      "2524/2524 [==============================] - 0s 126us/step - loss: 0.0032 - acc: 0.9988 - val_loss: 0.3364 - val_acc: 0.8899\n",
      "Test loss: 0.4675492662440688\n",
      "Test accuracy: 0.8593155889003449\n"
     ]
    }
   ],
   "source": [
    "model_2.fit(x_train, y_train,\n",
    "          batch_size=128,\n",
    "          epochs=10,\n",
    "          validation_data=(x_val, y_val))\n",
    "score = model_2.evaluate(x_test, y_test, verbose=0)\n",
    "print('Test loss:',score[0])\n",
    "print('Test accuracy:', score[1])"
   ]
  },
  {
   "cell_type": "code",
   "execution_count": 0,
   "metadata": {
    "colab": {},
    "colab_type": "code",
    "id": "9rRPWiJkahR1"
   },
   "outputs": [],
   "source": []
  }
 ],
 "metadata": {
  "accelerator": "GPU",
  "colab": {
   "collapsed_sections": [
    "lYN19TNz7PUL",
    "Ub_qCZ3N7iVU",
    "J3_FXFyR7ndz",
    "paOPjutyTN9V"
   ],
   "name": "Good - Reproducing CNN.ipynb",
   "provenance": [],
   "toc_visible": true,
   "version": "0.3.2"
  },
  "kernelspec": {
   "display_name": "Python 3",
   "language": "python",
   "name": "python3"
  },
  "language_info": {
   "codemirror_mode": {
    "name": "ipython",
    "version": 3
   },
   "file_extension": ".py",
   "mimetype": "text/x-python",
   "name": "python",
   "nbconvert_exporter": "python",
   "pygments_lexer": "ipython3",
   "version": "3.7.1"
  }
 },
 "nbformat": 4,
 "nbformat_minor": 1
}
