{
 "cells": [
  {
   "cell_type": "code",
   "execution_count": 1,
   "metadata": {},
   "outputs": [],
   "source": [
    "# imports\n",
    "import re\n",
    "import tensorflow as tf\n",
    "import numpy as np\n",
    "import os\n",
    "import time\n",
    "import datetime\n",
    "import data_helpers\n",
    "from collections import defaultdict\n",
    "from tensorflow.keras.preprocessing.text import Tokenizer\n",
    "from tensorflow.keras.preprocessing.sequence import pad_sequences\n",
    "from tensorflow.keras.utils import to_categorical\n",
    "from tensorflow.keras.layers import Dense, Input, GlobalMaxPooling1D, Conv1D, MaxPooling1D, Embedding\n",
    "from tensorflow.keras.models import Model\n",
    "from tensorflow.keras.initializers import Constant\n",
    "\n",
    "from nltk.corpus import stopwords\n",
    "from nltk.stem import WordNetLemmatizer\n",
    "from nltk import word_tokenize\n",
    "\n",
    "\n",
    "from sklearn.model_selection import train_test_split"
   ]
  },
  {
   "cell_type": "code",
   "execution_count": 2,
   "metadata": {},
   "outputs": [],
   "source": [
    "# use nltk to remove stopwords and lemmatize\n",
    "# you might need to run: nltk.download() to fetch the stopword package in \"all packages\"\n",
    "# you might also need to run ntlk.download(\"punkt\")\n",
    "english_stopwords = set(stopwords.words(\"english\"))\n",
    "wordnet_lemmatizer = WordNetLemmatizer()"
   ]
  },
  {
   "cell_type": "code",
   "execution_count": 62,
   "metadata": {},
   "outputs": [],
   "source": [
    "def clean_str(string):\n",
    "    \"\"\"\n",
    "    Tokenization/string cleaning for all datasets except for SST.\n",
    "    Original taken from https://github.com/yoonkim/CNN_sentence/blob/master/process_data.py\n",
    "    \"\"\"\n",
    "    string = re.sub(r\"[^A-Za-z0-9(),!?\\'\\`]\", \" \", string)\n",
    "    string = re.sub(r\"\\'s\", \" \\'s\", string)\n",
    "    string = re.sub(r\"\\'ve\", \" \\'ve\", string)\n",
    "    string = re.sub(r\"n\\'t\", \" n\\'t\", string)\n",
    "    string = re.sub(r\"\\'re\", \" \\'re\", string)\n",
    "    string = re.sub(r\"\\'d\", \" \\'d\", string)\n",
    "    string = re.sub(r\"\\'ll\", \" \\'ll\", string)\n",
    "    string = re.sub(r\",\", \" , \", string)\n",
    "    string = re.sub(r\"!\", \" ! \", string)\n",
    "    string = re.sub(r\"\\(\", \" \\( \", string)\n",
    "    string = re.sub(r\"\\)\", \" \\) \", string)\n",
    "    string = re.sub(r\"\\?\", \" \\? \", string)\n",
    "    string = re.sub(r\"\\s{2,}\", \" \", string)\n",
    "    return string.strip().lower()"
   ]
  },
  {
   "cell_type": "code",
   "execution_count": 3,
   "metadata": {},
   "outputs": [],
   "source": [
    "def clean_input_text(text):\n",
    "    clean_text = []\n",
    "    for sent in text:\n",
    "        clean_sent = \"\"\n",
    "        sent_tokens = word_tokenize(sent)\n",
    "        for token in sent_tokens:\n",
    "            clean_sent += wordnet_lemmatizer.lemmatize(token) + \" \" if token not in english_stopwords else \"\"\n",
    "        clean_text.append(clean_sent)\n",
    "    return clean_text"
   ]
  },
  {
   "cell_type": "code",
   "execution_count": 5,
   "metadata": {},
   "outputs": [],
   "source": [
    "#  convert the labels to vectors of binary data\n",
    "dic_labels = {\n",
    "    \"NUM\": 0,\n",
    "    \"LOC\": 1,\n",
    "    \"HUM\": 2,\n",
    "    \"DESC\": 3,\n",
    "    \"ENTY\": 4,\n",
    "    \"ABBR\": 5,\n",
    "    \"NUM\": 6\n",
    "}"
   ]
  },
  {
   "cell_type": "code",
   "execution_count": 12,
   "metadata": {},
   "outputs": [],
   "source": [
    "def load_data_questions_dataset(filename):\n",
    "    examples = list(open(filename, \"r\", encoding=\"utf-8\").readlines())\n",
    "    examples = [s.strip() for s in examples]\n",
    "    # the label is the first part of the string before the semicolon\n",
    "    xs, labels = [], []\n",
    "    for example in examples:\n",
    "        split = example.split(\":\")\n",
    "        labels.append(dic_labels[split[0]])\n",
    "        xs.append(split[1])\n",
    "    return xs, labels\n",
    "\n",
    "test_filename = \"./data/questions/questions_test.txt\"\n",
    "train_filename = \"./data/questions/questions_train.txt\"\n",
    "x1, y1 = load_data_questions_dataset(test_filename)\n",
    "size_test = len(x1)\n",
    "x2, y2 = load_data_questions_dataset(train_filename)\n",
    "x_text = clean_input_text(x1 + x2)\n",
    "y = y1 + y2"
   ]
  },
  {
   "cell_type": "code",
   "execution_count": 8,
   "metadata": {},
   "outputs": [],
   "source": [
    "# hyperparameters for the cnn dealing with the movie dataset\n",
    "MAX_SEQUENCE_LENGTH = 1000\n",
    "MAX_NUM_WORDS = 20000\n",
    "EMBEDDING_DIM = 300\n",
    "VALIDATION_SPLIT = 0.2\n",
    "TEST_SPLIT = 0.2\n",
    "NUMBER_DIFFERENT_OUTPUTS = 7"
   ]
  },
  {
   "cell_type": "code",
   "execution_count": 9,
   "metadata": {},
   "outputs": [
    {
     "name": "stdout",
     "output_type": "stream",
     "text": [
      "Indexing word vectors.\n",
      "Found 400000 word vectors.\n"
     ]
    }
   ],
   "source": [
    "# load pretrain glove word2vec instance for preprocessing\n",
    "filename = './data/glove.6B.300d.txt'\n",
    "\n",
    "print('Indexing word vectors.')\n",
    "\n",
    "embeddings_index = {}\n",
    "with open(filename, encoding=\"utf-8\") as f:\n",
    "    for line in f:\n",
    "        values = line.split()\n",
    "        word = values[0]\n",
    "        coefs = np.asarray(values[1:], dtype='float32')\n",
    "        embeddings_index[word] = coefs\n",
    "\n",
    "print('Found %s word vectors.' % len(embeddings_index))"
   ]
  },
  {
   "cell_type": "code",
   "execution_count": 10,
   "metadata": {},
   "outputs": [
    {
     "name": "stdout",
     "output_type": "stream",
     "text": [
      "8076\n",
      "Shape of data tensor: (5952, 1000)\n",
      "Shape of label tensor: (5952, 7)\n"
     ]
    },
    {
     "data": {
      "text/plain": [
       "array([0., 0., 0., 0., 0., 0., 1.], dtype=float32)"
      ]
     },
     "execution_count": 10,
     "metadata": {},
     "output_type": "execute_result"
    }
   ],
   "source": [
    "# vectorize the input text (both negative and positive )\n",
    "tokenizer = Tokenizer(num_words=MAX_NUM_WORDS)\n",
    "tokenizer.fit_on_texts(x_text)\n",
    "sequences = tokenizer.texts_to_sequences(x_text)\n",
    "word_index = tokenizer.word_index\n",
    "print(len(word_index))\n",
    "\n",
    "data = pad_sequences(sequences, maxlen=MAX_SEQUENCE_LENGTH)\n",
    "\n",
    "labels = to_categorical(np.asarray(y))\n",
    "print('Shape of data tensor:', data.shape)\n",
    "print('Shape of label tensor:', labels.shape)\n",
    "labels[0]"
   ]
  },
  {
   "cell_type": "code",
   "execution_count": 13,
   "metadata": {},
   "outputs": [],
   "source": [
    "x_val = data[:size_test]\n",
    "y_val = labels[:size_test]\n",
    "\n",
    "x_train = data[size_test:]\n",
    "y_train = labels[size_test:] "
   ]
  },
  {
   "cell_type": "code",
   "execution_count": 14,
   "metadata": {},
   "outputs": [],
   "source": [
    "# prepare embedding matrix\n",
    "num_words = min(MAX_NUM_WORDS, len(word_index)) + 1\n",
    "embedding_matrix = np.zeros((num_words, EMBEDDING_DIM))\n",
    "for word, i in word_index.items():\n",
    "    if i > MAX_NUM_WORDS:\n",
    "        continue\n",
    "    embedding_vector = embeddings_index.get(word)\n",
    "    if embedding_vector is not None:\n",
    "        # words not found in embedding index will be all-zeros.\n",
    "        embedding_matrix[i] = embedding_vector"
   ]
  },
  {
   "cell_type": "code",
   "execution_count": 15,
   "metadata": {},
   "outputs": [],
   "source": [
    "# load pre-trained word embeddings into an Embedding layer\n",
    "# note that we set trainable = False so as to keep the embeddings fixed\n",
    "embedding_layer = Embedding(num_words,\n",
    "                            EMBEDDING_DIM,\n",
    "                            embeddings_initializer=Constant(embedding_matrix),\n",
    "                            input_length=MAX_SEQUENCE_LENGTH,\n",
    "                            trainable=False)"
   ]
  },
  {
   "cell_type": "code",
   "execution_count": 17,
   "metadata": {},
   "outputs": [
    {
     "name": "stdout",
     "output_type": "stream",
     "text": [
      "Train on 5452 samples, validate on 500 samples\n",
      "Epoch 1/10\n",
      "5452/5452 [==============================] - 5s 916us/step - loss: 0.5499 - acc: 0.8063 - val_loss: 0.1486 - val_acc: 0.9540\n",
      "Epoch 2/10\n",
      "5452/5452 [==============================] - 3s 478us/step - loss: 0.0944 - acc: 0.9707 - val_loss: 0.1159 - val_acc: 0.9500\n",
      "Epoch 3/10\n",
      "5452/5452 [==============================] - 3s 477us/step - loss: 0.0378 - acc: 0.9884 - val_loss: 0.1433 - val_acc: 0.9540\n",
      "Epoch 4/10\n",
      "5452/5452 [==============================] - 3s 480us/step - loss: 0.0297 - acc: 0.9916 - val_loss: 0.0767 - val_acc: 0.9760\n",
      "Epoch 5/10\n",
      "5452/5452 [==============================] - 3s 479us/step - loss: 0.0141 - acc: 0.9947 - val_loss: 0.0963 - val_acc: 0.9740\n",
      "Epoch 6/10\n",
      "5452/5452 [==============================] - 3s 480us/step - loss: 0.0091 - acc: 0.9976 - val_loss: 0.0777 - val_acc: 0.9760\n",
      "Epoch 7/10\n",
      "5452/5452 [==============================] - 3s 477us/step - loss: 0.0101 - acc: 0.9972 - val_loss: 0.0713 - val_acc: 0.9780\n",
      "Epoch 8/10\n",
      "5452/5452 [==============================] - 3s 481us/step - loss: 0.0043 - acc: 0.9987 - val_loss: 0.1069 - val_acc: 0.9740\n",
      "Epoch 9/10\n",
      "5452/5452 [==============================] - 3s 484us/step - loss: 0.0075 - acc: 0.9974 - val_loss: 0.1620 - val_acc: 0.9640\n",
      "Epoch 10/10\n",
      "5452/5452 [==============================] - 3s 482us/step - loss: 0.0036 - acc: 0.9991 - val_loss: 0.0998 - val_acc: 0.9800\n"
     ]
    },
    {
     "data": {
      "text/plain": [
       "<tensorflow.python.keras.callbacks.History at 0x2b11a925e10>"
      ]
     },
     "execution_count": 17,
     "metadata": {},
     "output_type": "execute_result"
    }
   ],
   "source": [
    "# train a 1D convnet with global maxpooling\n",
    "sequence_input = Input(shape=(MAX_SEQUENCE_LENGTH,), dtype='int32')\n",
    "embedded_sequences = embedding_layer(sequence_input)\n",
    "x = Conv1D(128, 5, activation='relu')(embedded_sequences)\n",
    "x = MaxPooling1D(5)(x)\n",
    "x = Conv1D(128, 5, activation='relu')(x)\n",
    "x = MaxPooling1D(5)(x)\n",
    "x = Conv1D(128, 5, activation='relu')(x)\n",
    "x = GlobalMaxPooling1D()(x)\n",
    "x = Dense(128, activation='relu')(x)\n",
    "preds = Dense(NUMBER_DIFFERENT_OUTPUTS, activation='softmax')(x)\n",
    "\n",
    "model = Model(sequence_input, preds)\n",
    "model.compile(loss='categorical_crossentropy',\n",
    "              optimizer='rmsprop',\n",
    "              metrics=['acc'])\n",
    "\n",
    "model.fit(x_train, y_train,\n",
    "          batch_size=128,\n",
    "          epochs=10,\n",
    "          validation_data=(x_val, y_val))"
   ]
  },
  {
   "cell_type": "code",
   "execution_count": null,
   "metadata": {},
   "outputs": [],
   "source": []
  }
 ],
 "metadata": {
  "kernelspec": {
   "display_name": "Python 3",
   "language": "python",
   "name": "python3"
  },
  "language_info": {
   "codemirror_mode": {
    "name": "ipython",
    "version": 3
   },
   "file_extension": ".py",
   "mimetype": "text/x-python",
   "name": "python",
   "nbconvert_exporter": "python",
   "pygments_lexer": "ipython3",
   "version": "3.7.1"
  }
 },
 "nbformat": 4,
 "nbformat_minor": 2
}
