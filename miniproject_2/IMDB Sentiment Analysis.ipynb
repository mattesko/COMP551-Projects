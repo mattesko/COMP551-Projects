{
 "cells": [
  {
   "cell_type": "code",
   "execution_count": 1,
   "metadata": {},
   "outputs": [],
   "source": [
    "import numpy as np\n",
    "import pandas as pd\n",
    "from sklearn import model_selection, feature_extraction, preprocessing, svm, pipeline, metrics, tree, linear_model\n",
    "from project_utilities import import_train_data, import_test_data"
   ]
  },
  {
   "cell_type": "markdown",
   "metadata": {},
   "source": [
    "# Raw Data"
   ]
  },
  {
   "cell_type": "code",
   "execution_count": 2,
   "metadata": {},
   "outputs": [],
   "source": [
    "train_data = pd.DataFrame(import_train_data())\n",
    "test_data = pd.DataFrame(import_test_data())"
   ]
  },
  {
   "cell_type": "markdown",
   "metadata": {},
   "source": [
    "It's good to use 80% and 20% of the dataset for training and testing respectively."
   ]
  },
  {
   "cell_type": "code",
   "execution_count": 3,
   "metadata": {},
   "outputs": [],
   "source": [
    "X_train, X_validation, y_train, y_validation = model_selection.train_test_split(\n",
    "    train_data.drop(columns=['category']), \n",
    "    train_data.drop(columns=['text']), \n",
    "    test_size=0.2)"
   ]
  },
  {
   "cell_type": "markdown",
   "metadata": {},
   "source": [
    "# Experimenting with Different Classifiers"
   ]
  },
  {
   "cell_type": "markdown",
   "metadata": {},
   "source": [
    "The following experiments are already using pipelining. The pipeline structures the raw data. It also extracts and selects features from the structured data."
   ]
  },
  {
   "cell_type": "markdown",
   "metadata": {},
   "source": [
    "## Logistic Regression"
   ]
  },
  {
   "cell_type": "code",
   "execution_count": 4,
   "metadata": {},
   "outputs": [
    {
     "name": "stderr",
     "output_type": "stream",
     "text": [
      "C:\\Users\\matth\\Anaconda3\\lib\\site-packages\\sklearn\\linear_model\\logistic.py:433: FutureWarning: Default solver will be changed to 'lbfgs' in 0.22. Specify a solver to silence this warning.\n",
      "  FutureWarning)\n",
      "C:\\Users\\matth\\Anaconda3\\lib\\site-packages\\sklearn\\utils\\validation.py:761: DataConversionWarning: A column-vector y was passed when a 1d array was expected. Please change the shape of y to (n_samples, ), for example using ravel().\n",
      "  y = column_or_1d(y, warn=True)\n"
     ]
    }
   ],
   "source": [
    "clf_pipeline_logistic_reg = pipeline.Pipeline([\n",
    "    ('vect', feature_extraction.text.CountVectorizer()),\n",
    "    ('norm', preprocessing.Normalizer()),\n",
    "    ('clf', linear_model.LogisticRegression())])\n",
    "\n",
    "clf_pipeline_logistic_reg.fit(X_train['text'], y_train);"
   ]
  },
  {
   "cell_type": "markdown",
   "metadata": {},
   "source": [
    "### Prediction on Validation Set"
   ]
  },
  {
   "cell_type": "code",
   "execution_count": 5,
   "metadata": {},
   "outputs": [
    {
     "name": "stdout",
     "output_type": "stream",
     "text": [
      "              precision    recall  f1-score   support\n",
      "\n",
      "           0       0.87      0.85      0.86      2452\n",
      "           1       0.86      0.87      0.86      2548\n",
      "\n",
      "   micro avg       0.86      0.86      0.86      5000\n",
      "   macro avg       0.86      0.86      0.86      5000\n",
      "weighted avg       0.86      0.86      0.86      5000\n",
      "\n"
     ]
    }
   ],
   "source": [
    "logistic_reg_predictions = clf_pipeline_logistic_reg.predict(X_validation['text'])\n",
    "\n",
    "print(metrics.classification_report(y_validation, logistic_reg_predictions))"
   ]
  },
  {
   "cell_type": "markdown",
   "metadata": {},
   "source": [
    "## Decision Tree"
   ]
  },
  {
   "cell_type": "code",
   "execution_count": 6,
   "metadata": {},
   "outputs": [],
   "source": [
    "clf_pipeline_tree = pipeline.Pipeline([\n",
    "    ('vect', feature_extraction.text.CountVectorizer()),\n",
    "    ('norm', preprocessing.Normalizer()),\n",
    "    ('clf', tree.DecisionTreeClassifier())])\n",
    "\n",
    "clf_pipeline_tree.fit(X_train['text'], y_train);"
   ]
  },
  {
   "cell_type": "markdown",
   "metadata": {},
   "source": [
    "### Prediction on Validation Set"
   ]
  },
  {
   "cell_type": "code",
   "execution_count": 7,
   "metadata": {},
   "outputs": [
    {
     "name": "stdout",
     "output_type": "stream",
     "text": [
      "              precision    recall  f1-score   support\n",
      "\n",
      "           0       0.71      0.71      0.71      2452\n",
      "           1       0.72      0.72      0.72      2548\n",
      "\n",
      "   micro avg       0.72      0.72      0.72      5000\n",
      "   macro avg       0.72      0.72      0.72      5000\n",
      "weighted avg       0.72      0.72      0.72      5000\n",
      "\n"
     ]
    }
   ],
   "source": [
    "tree_predictions = clf_pipeline_tree.predict(X_validation['text'])\n",
    "\n",
    "print(metrics.classification_report(y_validation, tree_predictions))"
   ]
  },
  {
   "cell_type": "markdown",
   "metadata": {},
   "source": [
    "## Linear SVM"
   ]
  },
  {
   "cell_type": "code",
   "execution_count": 8,
   "metadata": {},
   "outputs": [
    {
     "name": "stderr",
     "output_type": "stream",
     "text": [
      "C:\\Users\\matth\\Anaconda3\\lib\\site-packages\\sklearn\\utils\\validation.py:761: DataConversionWarning: A column-vector y was passed when a 1d array was expected. Please change the shape of y to (n_samples, ), for example using ravel().\n",
      "  y = column_or_1d(y, warn=True)\n"
     ]
    }
   ],
   "source": [
    "clf_pipeline_svm = pipeline.Pipeline([\n",
    "    ('vect', feature_extraction.text.CountVectorizer()),\n",
    "    ('norm', preprocessing.Normalizer()),\n",
    "    ('clf', svm.LinearSVC())])\n",
    "\n",
    "clf_pipeline_svm.fit(X_train['text'], y_train);"
   ]
  },
  {
   "cell_type": "markdown",
   "metadata": {},
   "source": [
    "### Prediction on Validation Set"
   ]
  },
  {
   "cell_type": "code",
   "execution_count": 9,
   "metadata": {},
   "outputs": [
    {
     "name": "stdout",
     "output_type": "stream",
     "text": [
      "              precision    recall  f1-score   support\n",
      "\n",
      "           0       0.90      0.88      0.89      2452\n",
      "           1       0.89      0.91      0.90      2548\n",
      "\n",
      "   micro avg       0.89      0.89      0.89      5000\n",
      "   macro avg       0.89      0.89      0.89      5000\n",
      "weighted avg       0.89      0.89      0.89      5000\n",
      "\n"
     ]
    }
   ],
   "source": [
    "svm_predictions = clf_pipeline_svm.predict(X_validation['text'])\n",
    "\n",
    "print(metrics.classification_report(y_validation, svm_predictions))"
   ]
  },
  {
   "cell_type": "markdown",
   "metadata": {},
   "source": [
    "# Experimenting with Different Feature Extraction Pipelines"
   ]
  },
  {
   "cell_type": "markdown",
   "metadata": {},
   "source": [
    "## Binary Occurences"
   ]
  },
  {
   "cell_type": "code",
   "execution_count": 10,
   "metadata": {},
   "outputs": [],
   "source": [
    "clf_pipeline_svm_bin = pipeline.Pipeline([\n",
    "    ('vect', feature_extraction.text.HashingVectorizer()),\n",
    "    ('norm', preprocessing.Normalizer()),\n",
    "    ('clf', svm.LinearSVC())])\n",
    "\n",
    "clf_pipeline_svm_bin.fit(X_train['text'], y_train);"
   ]
  },
  {
   "cell_type": "markdown",
   "metadata": {},
   "source": [
    "### Prediction on Validation Set"
   ]
  },
  {
   "cell_type": "code",
   "execution_count": 11,
   "metadata": {},
   "outputs": [
    {
     "name": "stdout",
     "output_type": "stream",
     "text": [
      "              precision    recall  f1-score   support\n",
      "\n",
      "           0       0.90      0.88      0.89      2452\n",
      "           1       0.89      0.90      0.90      2548\n",
      "\n",
      "   micro avg       0.89      0.89      0.89      5000\n",
      "   macro avg       0.89      0.89      0.89      5000\n",
      "weighted avg       0.89      0.89      0.89      5000\n",
      "\n"
     ]
    }
   ],
   "source": [
    "svm_bin_predictions = clf_pipeline_svm_bin.predict(X_validation['text'])\n",
    "\n",
    "print(metrics.classification_report(y_validation, svm_bin_predictions))"
   ]
  },
  {
   "cell_type": "markdown",
   "metadata": {},
   "source": [
    "## TF-IDF Weighting"
   ]
  },
  {
   "cell_type": "code",
   "execution_count": 12,
   "metadata": {},
   "outputs": [],
   "source": [
    "clf_pipeline_svm_tfidf = pipeline.Pipeline([\n",
    "    ('vect', feature_extraction.text.CountVectorizer()),\n",
    "    ('tfidf', feature_extraction.text.TfidfTransformer()),\n",
    "    ('norm', preprocessing.Normalizer()),\n",
    "    ('clf', svm.LinearSVC())])\n",
    "\n",
    "clf_pipeline_svm_tfidf.fit(X_train['text'], y_train);"
   ]
  },
  {
   "cell_type": "markdown",
   "metadata": {},
   "source": [
    "### Prediction on Validation Set"
   ]
  },
  {
   "cell_type": "code",
   "execution_count": 13,
   "metadata": {},
   "outputs": [
    {
     "name": "stdout",
     "output_type": "stream",
     "text": [
      "              precision    recall  f1-score   support\n",
      "\n",
      "           0       0.91      0.89      0.90      2452\n",
      "           1       0.90      0.91      0.90      2548\n",
      "\n",
      "   micro avg       0.90      0.90      0.90      5000\n",
      "   macro avg       0.90      0.90      0.90      5000\n",
      "weighted avg       0.90      0.90      0.90      5000\n",
      "\n"
     ]
    }
   ],
   "source": [
    "svm_tfidf_predictions = clf_pipeline_svm_tfidf.predict(X_validation['text'])\n",
    "\n",
    "print(metrics.classification_report(y_validation, svm_tfidf_predictions))"
   ]
  },
  {
   "cell_type": "markdown",
   "metadata": {},
   "source": [
    "## Using TF-IDF and Linear SVM with GridSearch Cross Validation"
   ]
  },
  {
   "cell_type": "markdown",
   "metadata": {},
   "source": [
    "This is our best classifier so far!"
   ]
  },
  {
   "cell_type": "code",
   "execution_count": 14,
   "metadata": {},
   "outputs": [],
   "source": [
    "clf_pipeline_svm = pipeline.Pipeline([\n",
    "    ('vect', feature_extraction.text.CountVectorizer()),\n",
    "    ('tfidf', feature_extraction.text.TfidfTransformer()),\n",
    "    ('norm', preprocessing.Normalizer()),\n",
    "    ('clf', svm.LinearSVC())])"
   ]
  },
  {
   "cell_type": "code",
   "execution_count": 15,
   "metadata": {},
   "outputs": [
    {
     "name": "stdout",
     "output_type": "stream",
     "text": [
      "Fitting 2 folds for each of 6 candidates, totalling 12 fits\n"
     ]
    },
    {
     "name": "stderr",
     "output_type": "stream",
     "text": [
      "[Parallel(n_jobs=6)]: Using backend LokyBackend with 6 concurrent workers.\n",
      "[Parallel(n_jobs=6)]: Done   1 tasks      | elapsed:   13.4s\n",
      "[Parallel(n_jobs=6)]: Done   3 out of  12 | elapsed:   26.0s remaining:  1.3min\n",
      "[Parallel(n_jobs=6)]: Done   5 out of  12 | elapsed:   27.8s remaining:   39.0s\n",
      "[Parallel(n_jobs=6)]: Done   7 out of  12 | elapsed:   36.1s remaining:   25.8s\n",
      "[Parallel(n_jobs=6)]: Done   9 out of  12 | elapsed:   53.9s remaining:   17.9s\n",
      "[Parallel(n_jobs=6)]: Done  12 out of  12 | elapsed:   58.8s finished\n",
      "C:\\Users\\matth\\Anaconda3\\lib\\site-packages\\sklearn\\utils\\validation.py:761: DataConversionWarning: A column-vector y was passed when a 1d array was expected. Please change the shape of y to (n_samples, ), for example using ravel().\n",
      "  y = column_or_1d(y, warn=True)\n"
     ]
    },
    {
     "name": "stdout",
     "output_type": "stream",
     "text": [
      "Best Parameters: {'clf__C': 10, 'clf__random_state': 551, 'tfidf__use_idf': True, 'vect__ngram_range': (1, 2)}\n"
     ]
    }
   ],
   "source": [
    "random_state = 551\n",
    "parameters = {'vect__ngram_range': [(1,1), (1,2), (2,2)],\n",
    "              'tfidf__use_idf': [True],\n",
    "              'clf__C': [1, 10],\n",
    "              'clf__random_state': [551]}\n",
    "\n",
    "grid_search_cv = model_selection.GridSearchCV(clf_pipeline_svm, parameters, cv=2, n_jobs=6, verbose=10)\n",
    "grid_search_cv.fit(X_train['text'], y_train)\n",
    "\n",
    "print('Best Parameters:', grid_search_cv.best_params_);"
   ]
  },
  {
   "cell_type": "markdown",
   "metadata": {},
   "source": [
    "### Prediction on Validation Set"
   ]
  },
  {
   "cell_type": "code",
   "execution_count": 16,
   "metadata": {},
   "outputs": [
    {
     "name": "stdout",
     "output_type": "stream",
     "text": [
      "              precision    recall  f1-score   support\n",
      "\n",
      "           0       0.92      0.90      0.91      2452\n",
      "           1       0.91      0.93      0.92      2548\n",
      "\n",
      "   micro avg       0.91      0.91      0.91      5000\n",
      "   macro avg       0.92      0.91      0.91      5000\n",
      "weighted avg       0.92      0.91      0.91      5000\n",
      "\n"
     ]
    }
   ],
   "source": [
    "predictions = grid_search_cv.predict(X_validation['text'])\n",
    "\n",
    "print(metrics.classification.classification_report(y_validation, predictions))"
   ]
  },
  {
   "cell_type": "markdown",
   "metadata": {},
   "source": [
    "# Prediction on Test Set"
   ]
  },
  {
   "cell_type": "code",
   "execution_count": 16,
   "metadata": {},
   "outputs": [],
   "source": [
    "predictions_test_set = grid_search_cv.predict(test_data['text'])\n",
    "\n",
    "d = {'Id' : test_data['id'], 'Category': predictions_test_set}\n",
    "submission = pd.DataFrame(data=d).sort_values(by=['Id'])"
   ]
  },
  {
   "cell_type": "code",
   "execution_count": 25,
   "metadata": {},
   "outputs": [],
   "source": [
    "submission.to_csv('submission.csv', encoding='utf-8', index=False)"
   ]
  }
 ],
 "metadata": {
  "kernelspec": {
   "display_name": "Python 3",
   "language": "python",
   "name": "python3"
  },
  "language_info": {
   "codemirror_mode": {
    "name": "ipython",
    "version": 3
   },
   "file_extension": ".py",
   "mimetype": "text/x-python",
   "name": "python",
   "nbconvert_exporter": "python",
   "pygments_lexer": "ipython3",
   "version": "3.7.1"
  }
 },
 "nbformat": 4,
 "nbformat_minor": 2
}
