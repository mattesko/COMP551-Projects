{
 "cells": [
  {
   "cell_type": "markdown",
   "metadata": {},
   "source": [
    "# Data Exploration"
   ]
  },
  {
   "cell_type": "code",
   "execution_count": 1,
   "metadata": {},
   "outputs": [],
   "source": [
    "import datetime\n",
    "start = datetime.datetime.now()  # counting time\n",
    "import json\n",
    "import project_utilities_closed_form as utils\n",
    "from project_utilities import pd, np\n",
    "\n",
    "import seaborn as sns\n",
    "import matplotlib.pyplot as plt\n",
    "\n",
    "file_name_data = 'proj1_data.json'\n",
    "\n",
    "with open(file_name_data) as fp:\n",
    "    data = json.load(fp)"
   ]
  },
  {
   "cell_type": "markdown",
   "metadata": {},
   "source": [
    "## Pre-processing Data"
   ]
  },
  {
   "cell_type": "code",
   "execution_count": 2,
   "metadata": {
    "scrolled": true
   },
   "outputs": [],
   "source": [
    "X = utils.add_marks_feature(data)  #add feature question mark and exclamation\n",
    "X = utils.process_data(X)\n",
    "\n",
    "#X = utils.process_data(data)"
   ]
  },
  {
   "cell_type": "markdown",
   "metadata": {},
   "source": [
    "# Creat and insert a new feature: children^power\n",
    "If you don't want to add this feature, plese do not run"
   ]
  },
  {
   "cell_type": "code",
   "execution_count": 3,
   "metadata": {},
   "outputs": [],
   "source": [
    "#X = utils.add_new_children_feature(X,2.5)"
   ]
  },
  {
   "cell_type": "markdown",
   "metadata": {},
   "source": [
    "## Split Data into Training, Validation, and Test Sets"
   ]
  },
  {
   "cell_type": "code",
   "execution_count": 4,
   "metadata": {},
   "outputs": [],
   "source": [
    "X_train = X[0:10000]\n",
    "X_validation = X[10000:11000]\n",
    "X_test = X[11000:]\n",
    "\n",
    "assert len(X_train) == 10000 , 'Expected 10000. Got %d' % len(X_train)\n",
    "assert len(X_validation) == 1000 , 'Expected 1000. Got %d' % len(X_validation)\n",
    "assert len(X_test) == 1000 , 'Expected 1000. Got %d' % len(X_test)"
   ]
  },
  {
   "cell_type": "markdown",
   "metadata": {},
   "source": [
    "## Word Count Features"
   ]
  },
  {
   "cell_type": "code",
   "execution_count": 5,
   "metadata": {},
   "outputs": [],
   "source": [
    "top_words_train = utils.get_top_words(X_train,0)\n",
    "#top_words_validation = utils.get_top_words(X_validation,160)\n",
    "#top_words_test = utils.get_top_words(X_test,160)\n",
    "\n",
    "X_train = utils.insert_top_words_count(X_train, top_words_train)\n",
    "X_validation = utils.insert_top_words_count(X_validation, top_words_train)\n",
    "#X_test = utils.insert_top_words_count(X_test, top_words_test)"
   ]
  },
  {
   "cell_type": "markdown",
   "metadata": {},
   "source": [
    "## Linear Regression"
   ]
  },
  {
   "cell_type": "markdown",
   "metadata": {},
   "source": [
    "### Prepare Data by Converting to Pandas Dataframe"
   ]
  },
  {
   "cell_type": "code",
   "execution_count": 6,
   "metadata": {},
   "outputs": [],
   "source": [
    "X_train = pd.DataFrame(X_train)\n",
    "X_validation = pd.DataFrame(X_validation)"
   ]
  },
  {
   "cell_type": "code",
   "execution_count": 7,
   "metadata": {
    "scrolled": true
   },
   "outputs": [],
   "source": [
    "# nb_top_corr = 10\n",
    "# cols = X_train.corr().nlargest(nb_top_corr, 'popularity_score')['popularity_score'].index\n",
    "# print(cols)\n",
    "# cm = np.corrcoef(X_train[cols].values.T)\n",
    "# sns.set(font_scale=1.25)\n",
    "# hm = sns.heatmap(cm, cbar=True, annot=True, square=True, fmt='.2f', annot_kws={'size': 10}, yticklabels=cols.values, xticklabels=cols.values)\n",
    "# plt.show();"
   ]
  },
  {
   "cell_type": "markdown",
   "metadata": {},
   "source": [
    "### Train Closed form Linear Regression Model"
   ]
  },
  {
   "cell_type": "code",
   "execution_count": 8,
   "metadata": {},
   "outputs": [],
   "source": [
    "X_train['bias'] = pd.Series(np.ones(X_train.shape[0]), index=X_train.index)\n",
    "y_train = X_train['popularity_score']\n",
    "X_train.drop(columns=['text', 'popularity_score'], inplace=True)"
   ]
  },
  {
   "cell_type": "markdown",
   "metadata": {},
   "source": [
    "### Make Predictions"
   ]
  },
  {
   "cell_type": "code",
   "execution_count": 9,
   "metadata": {
    "scrolled": true
   },
   "outputs": [],
   "source": [
    "X_validation['bias'] = pd.Series(np.ones(X_validation.shape[0]), index=X_validation.index)\n",
    "y_validation = X_validation['popularity_score'].values\n",
    "X_validation.drop(columns=['text', 'popularity_score'], inplace=True)"
   ]
  },
  {
   "cell_type": "code",
   "execution_count": 10,
   "metadata": {},
   "outputs": [
    {
     "name": "stdout",
     "output_type": "stream",
     "text": [
      "0:00:13.110141\n"
     ]
    }
   ],
   "source": [
    "validation_weighting_coefficient = utils.closedformLinearRegression(X_train,y_train)\n",
    "end = datetime.datetime.now()\n",
    "print(end-start) # get the runing time\n",
    "\n",
    "y_validation_preds = utils.making_prediction(X_validation,validation_weighting_coefficient)\n",
    "\n",
    "#y_train_preds = utils.closedformLinearRegression(X_train,y_train,X_train)"
   ]
  },
  {
   "cell_type": "code",
   "execution_count": 11,
   "metadata": {
    "scrolled": true
   },
   "outputs": [
    {
     "name": "stdout",
     "output_type": "stream",
     "text": [
      "MES of validation set is:  1.02032668484\n"
     ]
    }
   ],
   "source": [
    "MSE_validation = utils.mse(y_validation, y_validation_preds)\n",
    "#MSE_train = utils.mse(y_train, y_train_preds)\n",
    "print('MES of validation set is: ',MSE_validation)\n",
    "#print('MES of train set is: ',MSE_train)"
   ]
  },
  {
   "cell_type": "code",
   "execution_count": 12,
   "metadata": {},
   "outputs": [
    {
     "data": {
      "image/png": "[encoded data removed]",
      "text/plain": [
       "<Figure size 432x288 with 1 Axes>"
      ]
     },
     "metadata": {
      "needs_background": "light"
     },
     "output_type": "display_data"
    }
   ],
   "source": [
    "plt.plot(y_validation,\"bo\", y_validation_preds, 'ro')\n",
    "plt.show()"
   ]
  },
  {
   "cell_type": "markdown",
   "metadata": {},
   "source": [
    "# stability test"
   ]
  },
  {
   "cell_type": "code",
   "execution_count": 15,
   "metadata": {},
   "outputs": [],
   "source": [
    "X_validation1 = X_validation[0:400]\n",
    "X_validation2 = X_validation[400:700]\n",
    "X_validation3 = X_validation[700:900]\n",
    "X_validation4 = X_validation[900:]\n",
    "\n",
    "y_validation1 = y_validation[0:400]\n",
    "y_validation2 = y_validation[400:700]\n",
    "y_validation3 = y_validation[700:900]\n",
    "y_validation4 = y_validation[900:]\n",
    "\n",
    "y_validation_preds1 = utils.making_prediction(X_validation1,validation_weighting_coefficient)\n",
    "y_validation_preds2 = utils.making_prediction(X_validation2,validation_weighting_coefficient)\n",
    "y_validation_preds3 = utils.making_prediction(X_validation3,validation_weighting_coefficient)\n",
    "y_validation_preds4 = utils.making_prediction(X_validation4,validation_weighting_coefficient)\n",
    "\n",
    "MSE_validation1 = utils.mse(y_validation1, y_validation_preds1)\n",
    "MSE_validation2 = utils.mse(y_validation2, y_validation_preds2)\n",
    "MSE_validation3 = utils.mse(y_validation3, y_validation_preds3)\n",
    "MSE_validation4 = utils.mse(y_validation4, y_validation_preds4)"
   ]
  },
  {
   "cell_type": "code",
   "execution_count": 16,
   "metadata": {},
   "outputs": [
    {
     "name": "stdout",
     "output_type": "stream",
     "text": [
      "0.963105003041\n",
      "1.04482715917\n",
      "1.07516794756\n",
      "1.06602946365\n"
     ]
    }
   ],
   "source": [
    "print(MSE_validation1)\n",
    "print(MSE_validation2)\n",
    "print(MSE_validation3)\n",
    "print(MSE_validation4)"
   ]
  },
  {
   "cell_type": "code",
   "execution_count": null,
   "metadata": {},
   "outputs": [],
   "source": []
  }
 ],
 "metadata": {
  "kernelspec": {
   "display_name": "Python 3",
   "language": "python",
   "name": "python3"
  },
  "language_info": {
   "codemirror_mode": {
    "name": "ipython",
    "version": 3
   },
   "file_extension": ".py",
   "mimetype": "text/x-python",
   "name": "python",
   "nbconvert_exporter": "python",
   "pygments_lexer": "ipython3",
   "version": "3.6.8"
  }
 },
 "nbformat": 4,
 "nbformat_minor": 2
}
